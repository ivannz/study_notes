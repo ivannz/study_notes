{
 "cells": [
  {
   "cell_type": "code",
   "execution_count": null,
   "metadata": {
    "collapsed": false
   },
   "outputs": [],
   "source": [
    "## As usual, attach the numpy and the netwrokx modules\n",
    "import networkx as nx\n",
    "import numpy as np\n",
    "import numpy.random as rnd\n",
    "\n",
    "import matplotlib.pyplot as plt\n",
    "\n",
    "%matplotlib inline"
   ]
  },
  {
   "cell_type": "code",
   "execution_count": null,
   "metadata": {
    "collapsed": false
   },
   "outputs": [],
   "source": [
    "## Determine the group sizes\n",
    "n = 1000\n",
    "s1 = 4 * n / 10\n",
    "s2 = n - s1\n",
    "\n",
    "## Fix the probabilities\n",
    "p1 = .8\n",
    "p2 = .5\n",
    "pb = .1\n",
    "\n",
    "## Initialize the permutation\n",
    "perm = np.random.permutation( n )\n",
    "g1 = perm[:s1] ; g2 = perm[s1:]\n",
    "\n",
    "## Compute the similarity matrix\n",
    "A = np.zeros( (n,n), dtype = np.int )\n",
    "A[np.ix_(g1,g1)] = np.random.uniform( size = s1*s1 ).reshape( s1, s1 ) < p1\n",
    "A[np.ix_(g2,g2)] = np.random.uniform( size = s2*s2 ).reshape( s2, s2 ) < p2\n",
    "A[np.ix_(g2,g1)] = np.random.uniform( size = s2*s1 ).reshape( s2, s1 ) < pb\n",
    "A = np.triu(A) + np.triu(A).T"
   ]
  },
  {
   "cell_type": "code",
   "execution_count": null,
   "metadata": {
    "collapsed": false
   },
   "outputs": [],
   "source": [
    "## Do the clustering\n",
    "## First the laplace matrix\n",
    "D = np.diag(np.sum(A, axis=0))\n",
    "L = D - A\n",
    "\n",
    "## Compute the SVD of $L$: L = U s V\n",
    "U, s, V  = np.linalg.svd( L )\n",
    "\n",
    "\n",
    "print np.max(np.abs( L.dot(V.T) - U.dot(np.diag(s)) ))\n",
    "\n",
    "\n",
    "\n",
    "# plt.plot(s, \"^k\")\n",
    "\n",
    "i = np.argsort(U[:,n-2])\n",
    "\n",
    "plt.figure(figsize=(10,10,))"
   ]
  },
  {
   "cell_type": "code",
   "execution_count": null,
   "metadata": {
    "collapsed": false
   },
   "outputs": [],
   "source": [
    "plt.imshow(A[np.ix_(i,i)])"
   ]
  },
  {
   "cell_type": "code",
   "execution_count": null,
   "metadata": {
    "collapsed": false
   },
   "outputs": [],
   "source": [
    "plt.imshow(A)"
   ]
  },
  {
   "cell_type": "code",
   "execution_count": null,
   "metadata": {
    "collapsed": false
   },
   "outputs": [],
   "source": [
    "A"
   ]
  },
  {
   "cell_type": "code",
   "execution_count": null,
   "metadata": {
    "collapsed": false
   },
   "outputs": [],
   "source": []
  }
 ],
 "metadata": {
  "kernelspec": {
   "display_name": "Python 2",
   "language": "python",
   "name": "python2"
  },
  "language_info": {
   "codemirror_mode": {
    "name": "ipython",
    "version": 2
   },
   "file_extension": ".py",
   "mimetype": "text/x-python",
   "name": "python",
   "nbconvert_exporter": "python",
   "pygments_lexer": "ipython2",
   "version": "2.7.10"
  }
 },
 "nbformat": 4,
 "nbformat_minor": 0
}
