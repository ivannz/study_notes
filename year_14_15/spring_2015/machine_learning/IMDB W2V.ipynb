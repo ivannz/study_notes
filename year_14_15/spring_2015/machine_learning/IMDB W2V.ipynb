{
 "cells": [
  {
   "cell_type": "code",
   "execution_count": null,
   "metadata": {
    "collapsed": false
   },
   "outputs": [],
   "source": [
    "import numpy as np, sklearn as sk, pandas as pd\n",
    "from bs4 import BeautifulSoup as bs\n",
    "import matplotlib.pyplot as plt\n",
    "import time as tm, os, re\n",
    "\n",
    "%matplotlib inline"
   ]
  },
  {
   "cell_type": "markdown",
   "metadata": {},
   "source": [
    "This is a preprocessing procedure that strips review of HTML tags and punctuation."
   ]
  },
  {
   "cell_type": "code",
   "execution_count": null,
   "metadata": {
    "collapsed": true
   },
   "outputs": [],
   "source": [
    "def __wordlist( text, stops = None ) :\n",
    "    letters_only = re.sub(\"[^a-zA-Z]\", \" \", bs( text ).get_text( ) )\n",
    "    words = letters_only.lower( ).split()\n",
    "    if stops is not None :\n",
    "        return [ w for w in words if not w in stops ]\n",
    "    return words"
   ]
  },
  {
   "cell_type": "markdown",
   "metadata": {},
   "source": [
    "Convert the review text into a list of sentences, represented by lists of words."
   ]
  },
  {
   "cell_type": "code",
   "execution_count": null,
   "metadata": {
    "collapsed": false
   },
   "outputs": [],
   "source": [
    "def __sentences( text, tokenizer = None, stops = None ):\n",
    "    raw_sentences = tokenizer.tokenize( text.strip( ) )\n",
    "    return [ __wordlist( s, stops = stops )\n",
    "         for s in raw_sentences if len( s ) > 0 ]"
   ]
  },
  {
   "cell_type": "markdown",
   "metadata": {},
   "source": [
    "Strip the review of all HTML tags and punctuation to get just a sequence of words."
   ]
  },
  {
   "cell_type": "code",
   "execution_count": null,
   "metadata": {
    "collapsed": true
   },
   "outputs": [],
   "source": [
    "def clean_text( text, stops = None ) :\n",
    "    words = __wordlist( text, stops = stops )\n",
    "    return( \" \".join( [ w for w in words ] ) )"
   ]
  },
  {
   "cell_type": "markdown",
   "metadata": {},
   "source": [
    "Load NL data, necessary for preprocessing."
   ]
  },
  {
   "cell_type": "code",
   "execution_count": null,
   "metadata": {
    "collapsed": false
   },
   "outputs": [],
   "source": [
    "from nltk.corpus import stopwords as nl_sw\n",
    "import nltk.data\n",
    "\n",
    "english_stopwords = set( nl_sw.words( \"english\" ) )\n",
    "english_tokenizer = nltk.data.load( \"tokenizers/punkt/english.pickle\" )"
   ]
  },
  {
   "cell_type": "markdown",
   "metadata": {},
   "source": [
    "Load the training data."
   ]
  },
  {
   "cell_type": "code",
   "execution_count": null,
   "metadata": {
    "collapsed": true
   },
   "outputs": [],
   "source": [
    "train_data = pd.read_csv( './data/imdb/labeledTrainData.tsv',\n",
    "    sep = \"\\t\", header = 0, quoting = 3, encoding=\"utf-8\" )"
   ]
  },
  {
   "cell_type": "markdown",
   "metadata": {},
   "source": [
    "Clean the reviews."
   ]
  },
  {
   "cell_type": "code",
   "execution_count": null,
   "metadata": {
    "collapsed": false
   },
   "outputs": [],
   "source": [
    "clean_train_reviews = [ clean_text( r, english_stopwords ) for r in train_data.review ]"
   ]
  },
  {
   "cell_type": "markdown",
   "metadata": {},
   "source": [
    "Construct document features unsing the bag-of-words model."
   ]
  },
  {
   "cell_type": "code",
   "execution_count": null,
   "metadata": {
    "collapsed": false
   },
   "outputs": [],
   "source": [
    "## Use the Bag of Words model to extract features.\n",
    "from sklearn.feature_extraction.text import CountVectorizer\n",
    "\n",
    "## SciKit vectorizer does exactly that: it constructs the set of most\n",
    "##  frequently used words in the entire collection (fit), and then it\n",
    "##  transforms each document into a frequency vector.\n",
    "vectorizer = CountVectorizer( analyzer = \"word\", tokenizer = None,\n",
    "    preprocessor = None, stop_words = None, max_features = 5000 )\n",
    "\n",
    "## The returned feature matrix is sparse. \n",
    "train_data_features = vectorizer.fit_transform( clean_train_reviews )"
   ]
  },
  {
   "cell_type": "markdown",
   "metadata": {},
   "source": [
    "Train a RandomForest ensemble classifier."
   ]
  },
  {
   "cell_type": "code",
   "execution_count": null,
   "metadata": {
    "collapsed": false
   },
   "outputs": [],
   "source": [
    "from sklearn.ensemble import RandomForestClassifier\n",
    "## Random forest constructs a tree classifiers on random (smaller) samples\n",
    "##  of the data. This create a sort of bootstrapped distributio of trees\n",
    "##  which are then used in ensemble, to make a classifier with less variance.\n",
    "forest = RandomForestClassifier( n_estimators = 10, verbose = 0, max_depth = None )\n",
    "forest = forest.fit( train_data_features, train_data.sentiment )"
   ]
  },
  {
   "cell_type": "code",
   "execution_count": null,
   "metadata": {
    "collapsed": false,
    "scrolled": true
   },
   "outputs": [],
   "source": [
    "predicted_train_sentiment = forest.predict( train_data_features )\n",
    "\n",
    "np.where( predicted_train_sentiment != train_data.sentiment )"
   ]
  },
  {
   "cell_type": "markdown",
   "metadata": {},
   "source": [
    "Test the classifier on the left-out unlabelled test sample."
   ]
  },
  {
   "cell_type": "code",
   "execution_count": null,
   "metadata": {
    "collapsed": true
   },
   "outputs": [],
   "source": [
    "test_data = pd.read_csv( './data/imdb/testData.tsv',\n",
    "    sep = \"\\t\", header = 0, quoting = 3, encoding=\"utf-8\" )"
   ]
  },
  {
   "cell_type": "markdown",
   "metadata": {},
   "source": [
    "Clean the reviews, convert them to features and apply the random forest."
   ]
  },
  {
   "cell_type": "code",
   "execution_count": null,
   "metadata": {
    "collapsed": false
   },
   "outputs": [],
   "source": [
    "clean_test_reviews = [ clean_text( r, english_stopwords ) for r in test_data.review ]\n",
    "test_data_features = vectorizer.transform( clean_test_reviews )\n",
    "predicted_test_sentiment = forest.predict( test_data_features )"
   ]
  },
  {
   "cell_type": "markdown",
   "metadata": {},
   "source": [
    "Examine the results"
   ]
  },
  {
   "cell_type": "code",
   "execution_count": null,
   "metadata": {
    "collapsed": true
   },
   "outputs": [],
   "source": [
    "test_output = pd.DataFrame( data={ \"id\": test_data.id,\n",
    "    \"sentiment\": predicted_test_sentiment, \"review\": test_data.review } )"
   ]
  },
  {
   "cell_type": "code",
   "execution_count": null,
   "metadata": {
    "collapsed": false
   },
   "outputs": [],
   "source": [
    "test_output"
   ]
  },
  {
   "cell_type": "markdown",
   "metadata": {},
   "source": [
    "# Word 2 Vec"
   ]
  },
  {
   "cell_type": "code",
   "execution_count": null,
   "metadata": {
    "collapsed": false
   },
   "outputs": [],
   "source": [
    "import numpy as np, sklearn as sk, pandas as pd\n",
    "from bs4 import BeautifulSoup as bs\n",
    "import matplotlib.pyplot as plt\n",
    "import time as tm, os, regex as re\n",
    "\n",
    "%matplotlib inline\n",
    "\n",
    "import warnings\n",
    "warnings.filterwarnings(\"ignore\")\n",
    "\n",
    "DATAPATH = os.path.realpath( os.path.join( \".\", \"data\", \"imdb\" ) )"
   ]
  },
  {
   "cell_type": "markdown",
   "metadata": {},
   "source": [
    "Install necessary NL modules."
   ]
  },
  {
   "cell_type": "code",
   "execution_count": null,
   "metadata": {
    "collapsed": false
   },
   "outputs": [],
   "source": [
    "import nltk\n",
    "assert( nltk.download( [ \"stopwords\", \"wordnet\", \"wordnet_ic\", \"punkt\" ] ) )"
   ]
  },
  {
   "cell_type": "markdown",
   "metadata": {},
   "source": [
    "Load data for Natural Language processing."
   ]
  },
  {
   "cell_type": "code",
   "execution_count": null,
   "metadata": {
    "collapsed": true
   },
   "outputs": [],
   "source": [
    "from nltk.corpus import stopwords as nl_sw\n",
    "import nltk.data\n",
    "\n",
    "english_stopwords = set( nl_sw.words( \"english\" ) )\n",
    "english_tokenizer = nltk.data.load( \"tokenizers/punkt/english.pickle\" )"
   ]
  },
  {
   "cell_type": "markdown",
   "metadata": {},
   "source": [
    "Load both labelled and unlabelled train datasets."
   ]
  },
  {
   "cell_type": "code",
   "execution_count": null,
   "metadata": {
    "collapsed": false
   },
   "outputs": [],
   "source": [
    "# Read data from files \n",
    "unlabelled_train_data = pd.read_csv( os.path.join( DATAPATH, 'unlabeledTrainData.tsv' ),\n",
    "                                        sep = \"\\t\", header = 0, quoting = 3, encoding=\"utf-8\" )\n",
    "labelled_train_data = pd.read_csv( os.path.join( DATAPATH, 'labeledTrainData.tsv' ),\n",
    "                                        sep = \"\\t\", header = 0, quoting = 3, encoding=\"utf-8\" )"
   ]
  },
  {
   "cell_type": "markdown",
   "metadata": {},
   "source": [
    "Define preprocessors"
   ]
  },
  {
   "cell_type": "code",
   "execution_count": null,
   "metadata": {
    "collapsed": true
   },
   "outputs": [],
   "source": [
    "def __wordlist( text, stops = None ) :\n",
    "    letters_only = re.sub(\"[^a-zA-Z]\", \" \", bs( text ).get_text( ) )\n",
    "    words = letters_only.lower( ).split()\n",
    "    if stops is not None :\n",
    "        return [ w for w in words if not w in stops ]\n",
    "    return words"
   ]
  },
  {
   "cell_type": "markdown",
   "metadata": {},
   "source": [
    "Cut reviews into sentences."
   ]
  },
  {
   "cell_type": "code",
   "execution_count": null,
   "metadata": {
    "collapsed": true
   },
   "outputs": [],
   "source": [
    "def __sentences( text, tokenizer = None, stops = None ):\n",
    "    raw_sentences = tokenizer.tokenize( text.strip( ) )\n",
    "    return [ __wordlist( s, stops = stops )\n",
    "         for s in raw_sentences if len( s ) > 0 ]"
   ]
  },
  {
   "cell_type": "markdown",
   "metadata": {},
   "source": [
    "Cut each review into sentences."
   ]
  },
  {
   "cell_type": "code",
   "execution_count": null,
   "metadata": {
    "collapsed": false
   },
   "outputs": [],
   "source": [
    "train_sentences = list( )\n",
    "if not os.path.exists( os.path.join( DATAPATH, 'imdb_review_train_sentences.txt' ) ) :\n",
    "    print \"Cutting reviews into sentences.\"\n",
    "## Begin time\n",
    "    tock = tm.time( )\n",
    "## Convert reviews into sentences\n",
    "    print \"Labelled train dataset...\"\n",
    "    for r in labelled_train_data.review :\n",
    "        train_sentences.extend( __sentences( r, english_tokenizer, stops = None ) )\n",
    "    print \"Unabelled train dataset...\"\n",
    "    for r in unlabelled_train_data.review :\n",
    "        train_sentences.extend( __sentences( r, english_tokenizer, stops = None ) )\n",
    "## End time\n",
    "    tick = tm.time( )\n",
    "## Report\n",
    "    print \"Preprocessing took %.1f sec.\" % ( tick - tock, )\n",
    "    print \"Caching...\"\n",
    "## Store the processed sentences in a UTF-8 text file\n",
    "    with open( os.path.join( DATAPATH, 'imdb_review_train_sentences.txt' ), 'wb' ) as cache :\n",
    "        cache.writelines( \"\\t\".join( s ).encode( 'utf8' ) + \"\\n\" for s in train_sentences )\n",
    "## Final time\n",
    "    tock = tm.time( )\n",
    "else :\n",
    "    print \"Loading cached sentences...\"\n",
    "## Begin time\n",
    "    tick = tm.time( )\n",
    "    with open( os.path.join( DATAPATH, 'imdb_review_train_sentences.txt' ), 'rb' ) as cache :\n",
    "        train_sentences.extend( l.decode( 'utf8' ).strip( ).split( '\\t' ) for l in cache.readlines( ) )\n",
    "## End time\n",
    "    tock = tm.time( )\n",
    "## Report\n",
    "print \"Loaded sentences in %.1f sec.\" % ( tock - tick, )"
   ]
  },
  {
   "cell_type": "markdown",
   "metadata": {},
   "source": [
    "Get the vector representation of words using word2vec in gensim module."
   ]
  },
  {
   "cell_type": "code",
   "execution_count": null,
   "metadata": {
    "collapsed": false
   },
   "outputs": [],
   "source": [
    "import gensim.models, time as tm\n",
    "# Initialize the model\n",
    "model = gensim.models.Word2Vec(\n",
    "    workers = 7,           # Number of threads to run in parallel\n",
    "    size = 300,            # Word vector dimensionality\n",
    "    min_count = 40,        # Minimum word count for pruning the internal dictionary\n",
    "    window = 10,           # Context sindow size\n",
    "    sample = 1e-3 )        # Downsample setting for frequent words\n",
    "\n",
    "model_cache_name = \"W2V_%d-%d-%d.mdl\" % ( model.layer1_size, model.min_count, model.window , )\n",
    "if not os.path.exists( os.path.join( DATAPATH, model_cache_name ) ) :\n",
    "## Begin time\n",
    "    tock = tm.time( )\n",
    "## First pass -- building the vocabulary\n",
    "    model.build_vocab( train_sentences )\n",
    "## Second pass --  training the neural net\n",
    "    model.train( train_sentences )\n",
    "## End time\n",
    "    tick = tm.time( )\n",
    "## Report\n",
    "    print \"Training word2vec took %.1f sec.\" % ( tick - tock, )\n",
    "# If you don't plan to train the model any further, calling \n",
    "# init_sims will make the model much more memory-efficient.\n",
    "    model.init_sims( replace = True )\n",
    "# It can be helpful to create a meaningful model name and \n",
    "# save the model for later use. You can load it later using Word2Vec.load()\n",
    "    model.save( os.path.join( DATAPATH, model_cache_name ) )\n",
    "## End time\n",
    "    tock = tm.time( )\n",
    "else :\n",
    "## Begin time\n",
    "    tick = tm.time( )\n",
    "## Load the model from the blob\n",
    "    model = gensim.models.Word2Vec.load( os.path.join( DATAPATH, model_cache_name ) )\n",
    "## End time\n",
    "    tock = tm.time( )\n",
    "## Report\n",
    "print \"Model loaded in %.1f sec.\" % ( tock - tick, )"
   ]
  },
  {
   "cell_type": "markdown",
   "metadata": {},
   "source": [
    "Let's see how well the trained model performs over the google analogical proportions dataset."
   ]
  },
  {
   "cell_type": "code",
   "execution_count": null,
   "metadata": {
    "collapsed": false
   },
   "outputs": [],
   "source": [
    "print \"Testing Google's analogical proportions...\"\n",
    "tick = tm.time( )\n",
    "## test model accuracy against the Google dataset\n",
    "google_dataset_accuracy = model.accuracy( os.path.join( DATAPATH, 'questions-words.txt' ) )\n",
    "tock = tm.time( )\n",
    "print \"Completed in %.1f sec.\" % ( tock - tick, )"
   ]
  },
  {
   "cell_type": "code",
   "execution_count": null,
   "metadata": {
    "collapsed": false,
    "scrolled": false
   },
   "outputs": [],
   "source": [
    "print \"####\\tCORRECT\\tTOTAL\\tSECTION\"\n",
    "for i, s in enumerate( google_dataset_accuracy, 0 ) :\n",
    "    total = len( s['correct'] ) + len( s['incorrect'] )\n",
    "    print \"%4d\\t%4d\\t%5d\\t%s.\" % ( i, len( s['correct'] ), total, s['section'], )"
   ]
  },
  {
   "cell_type": "markdown",
   "metadata": {},
   "source": [
    "The reason why thiese results are so poor is that the reviews database is not a language corpus, it is does not provide enough coverage of the natural language variety (English), it is topically biased, and, since it is mainly user generated content, it is stylistically more colloquial."
   ]
  },
  {
   "cell_type": "markdown",
   "metadata": {},
   "source": [
    "Let's see how exactly the IMDB reviews fails as a corpus for the Google's analogical proportion test :\n",
    "word **A** is to **B** as **C** is to **D** <!-- B / A = C / D -->"
   ]
  },
  {
   "cell_type": "code",
   "execution_count": null,
   "metadata": {
    "collapsed": false,
    "scrolled": false
   },
   "outputs": [],
   "source": [
    "for A, B, C, expected in google_dataset_accuracy[1][\"incorrect\"][:10] :\n",
    "    predictions = [ p for p, s in model.most_similar( positive=[ B, C ], negative=[ A ], topn = 5 ) ]\n",
    "    if expected not in predictions :\n",
    "        print \"%s - %s : %s - %s \" % ( A,B,C, expected, ) , predictions\n",
    "    else :\n",
    "        pass"
   ]
  },
  {
   "cell_type": "markdown",
   "metadata": {},
   "source": [
    "Not unexpectedly, the reviews do not cover geographical terms relations well enough."
   ]
  },
  {
   "cell_type": "code",
   "execution_count": null,
   "metadata": {
    "collapsed": false
   },
   "outputs": [],
   "source": [
    "model.most_similar( \"king\" )"
   ]
  },
  {
   "cell_type": "markdown",
   "metadata": {},
   "source": [
    "The most similar terms to \"king\" are the name of the Dinsey animation \"Lion King\", a fictional beast \"King Kong\" and the author of many a horror and supertnatural fiction novel \"Stephen King\". This document set is no good for general language semantics testing. Aladdin is no king."
   ]
  },
  {
   "cell_type": "code",
   "execution_count": null,
   "metadata": {
    "collapsed": false
   },
   "outputs": [],
   "source": [
    "model.most_similar( \"gothic\" )"
   ]
  },
  {
   "cell_type": "markdown",
   "metadata": {},
   "source": [
    "One would expect to see at let one reference to architecutre style, but the reviews are mostly focused on genres and movies."
   ]
  },
  {
   "cell_type": "code",
   "execution_count": null,
   "metadata": {
    "collapsed": false
   },
   "outputs": [],
   "source": [
    "print \"west\\t - \", [ d for d, s in model.most_similar( [ \"south\", \"west\" ], [ \"north\" ], topn = 5 ) ]\n",
    "print \"east\\t - \", [ d for d, s in model.most_similar( [ \"south\", \"east\" ], [ \"north\" ], topn = 5 ) ]\n",
    "print \"north\\t - \", [ d for d, s in model.most_similar( [ \"west\", \"north\" ], [ \"east\" ], topn = 5 ) ]\n",
    "print \"south\\t - \", [ d for d, s in model.most_similar( [ \"west\", \"south\" ], [ \"east\" ], topn = 5 ) ]"
   ]
  },
  {
   "cell_type": "markdown",
   "metadata": {},
   "source": [
    "Model, trained on IMDB reviews cannot correctly identify one cardinal direction out of 4."
   ]
  },
  {
   "cell_type": "code",
   "execution_count": null,
   "metadata": {
    "collapsed": false
   },
   "outputs": [],
   "source": [
    "print model.doesnt_match(\"hunger games olympics tournament\".split())"
   ]
  },
  {
   "cell_type": "code",
   "execution_count": null,
   "metadata": {
    "collapsed": false
   },
   "outputs": [],
   "source": [
    "print model.doesnt_match( \"good bad ugly horrible\".split( ) )"
   ]
  },
  {
   "cell_type": "code",
   "execution_count": null,
   "metadata": {
    "collapsed": false
   },
   "outputs": [],
   "source": [
    "print model.most_similar( positive=['woman', 'king'], negative=['man'], topn=1)\n",
    "print model.doesnt_match(\"breakfast cereal dinner lunch\".split())\n",
    "print model.similarity('woman', 'man')"
   ]
  },
  {
   "cell_type": "code",
   "execution_count": null,
   "metadata": {
    "collapsed": false
   },
   "outputs": [],
   "source": [
    "vocab = np.asarray( model.vocab.keys(), dtype = np.str)\n",
    "# vocab[ np.argmax( np.abs(model.syn0), axis = 0 ) ]"
   ]
  },
  {
   "cell_type": "code",
   "execution_count": null,
   "metadata": {
    "collapsed": false
   },
   "outputs": [],
   "source": [
    "vocab"
   ]
  },
  {
   "cell_type": "code",
   "execution_count": null,
   "metadata": {
    "collapsed": true
   },
   "outputs": [],
   "source": [
    "wnl = nltk.WordNetLemmatizer( )\n",
    "def __lemmatize( text, lemmatizer, tokenizer ) :\n",
    "    processed_text = re.sub( \"\\\"\", \"\", bs( text ).get_text( ) )\n",
    "    raw_sentences = tokenizer.tokenize( processed_text.strip( ).lower( ) )\n",
    "    return [ lemmatizer.lemmatize( w )\n",
    "        for s in raw_sentences for w in re.sub( r\"\\p{Punctuation}\", \"***\", s ).split( ) ]"
   ]
  },
  {
   "cell_type": "code",
   "execution_count": null,
   "metadata": {
    "collapsed": true
   },
   "outputs": [],
   "source": [
    "processed_text = re.sub( \"\\\"\", \"\", bs( labelled_train_data.review[0] ).get_text( ) )\n",
    "raw_sentences = english_tokenizer.tokenize( processed_text.strip( ).lower( ) )"
   ]
  },
  {
   "cell_type": "code",
   "execution_count": null,
   "metadata": {
    "collapsed": false
   },
   "outputs": [],
   "source": [
    "import regex as re"
   ]
  },
  {
   "cell_type": "code",
   "execution_count": null,
   "metadata": {
    "collapsed": false
   },
   "outputs": [],
   "source": [
    "[re.sub( r\"\\P{P}\", \"***\", s ) for s in raw_sentences]"
   ]
  },
  {
   "cell_type": "code",
   "execution_count": null,
   "metadata": {
    "collapsed": false,
    "scrolled": false
   },
   "outputs": [],
   "source": [
    "print __lemmatize( labelled_train_data.review[0], wnl, english_tokenizer )"
   ]
  },
  {
   "cell_type": "code",
   "execution_count": null,
   "metadata": {
    "collapsed": true
   },
   "outputs": [],
   "source": [
    "from gensim import corpora, models, similarities\n"
   ]
  },
  {
   "cell_type": "code",
   "execution_count": null,
   "metadata": {
    "collapsed": true
   },
   "outputs": [],
   "source": [
    "lemmatized_reviews = list( )\n",
    "print \"Cutting reviews into sentences.\"\n",
    "## Begin time\n",
    "tock = tm.time( )\n",
    "## Convert reviews into sentences\n",
    "print \"Labelled train dataset...\"\n",
    "for r in labelled_train_data.review :\n",
    "    lemmatized_reviews.append( __lemmatize( r, wnl ) )\n",
    "print \"Unabelled train dataset...\"\n",
    "for r in unlabelled_train_data.review :\n",
    "    lemmatized_reviews.append( __lemmatize( r, wnl ) )\n",
    "## End time\n",
    "tick = tm.time( )\n",
    "## Report\n",
    "print \"Preprocessing took %.1f sec.\" % ( tick - tock, )"
   ]
  }
 ],
 "metadata": {
  "kernelspec": {
   "display_name": "Python 2",
   "language": "python",
   "name": "python2"
  },
  "language_info": {
   "codemirror_mode": {
    "name": "ipython",
    "version": 2
   },
   "file_extension": ".py",
   "mimetype": "text/x-python",
   "name": "python",
   "nbconvert_exporter": "python",
   "pygments_lexer": "ipython2",
   "version": "2.7.9"
  }
 },
 "nbformat": 4,
 "nbformat_minor": 0
}
