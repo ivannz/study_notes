{
 "cells": [
  {
   "cell_type": "markdown",
   "metadata": {},
   "source": [
    "# <center>Structural Analysis and Visualization of Networks</center>"
   ]
  },
  {
   "cell_type": "markdown",
   "metadata": {},
   "source": [
    "## <center>Home Assignment #3: Centralities and Assortativity</center>"
   ]
  },
  {
   "cell_type": "markdown",
   "metadata": {},
   "source": [
    "### <center>Student: *Nazarov Ivan*</center>"
   ]
  },
  {
   "cell_type": "markdown",
   "metadata": {},
   "source": [
    "#### <hr /> General Information"
   ]
  },
  {
   "cell_type": "markdown",
   "metadata": {},
   "source": [
    "**Due Date:** 09.03.2015 23:59 <br \\>\n",
    "**Late submission policy:** -0.2 points per day <br \\>\n",
    "\n",
    "\n",
    "Please send your reports to <mailto:leonid.e.zhukov@gmail.com> and <mailto:shestakoffandrey@gmail.com> with message subject of the following structure:<br \\> **[HSE Networks 2015] *Nazarov* *Ivan* HA*3* **\n",
    "\n",
    "Support your computations with figures and comments. <br \\>\n",
    "If you are using IPython Notebook you may use this file as a starting point of your report.<br \\>\n",
    "<br \\>\n",
    "<hr \\>"
   ]
  },
  {
   "cell_type": "markdown",
   "metadata": {},
   "source": [
    "## Preamble\n",
    "Import the usual toolbox"
   ]
  },
  {
   "cell_type": "code",
   "execution_count": null,
   "metadata": {
    "collapsed": false
   },
   "outputs": [],
   "source": [
    "## Comupte the page rank on the row sparse matrix M with the teleportation probability \\beta\n",
    "import numpy as np\n",
    "import numpy.random as rnd\n",
    "import scipy.sparse as spma\n",
    "import scipy.sparse.linalg as spla\n",
    "\n",
    "\n",
    "import matplotlib.pyplot as plt\n",
    "%matplotlib inline"
   ]
  },
  {
   "cell_type": "markdown",
   "metadata": {},
   "source": [
    "## Problems"
   ]
  },
  {
   "cell_type": "markdown",
   "metadata": {},
   "source": [
    "### Task 1"
   ]
  },
  {
   "cell_type": "markdown",
   "metadata": {},
   "source": [
    "In order to compute nontrivial cenrtality measures it is useful to represent a sparse connectivity matrix in an adjacency list format."
   ]
  },
  {
   "cell_type": "code",
   "execution_count": null,
   "metadata": {
    "collapsed": false
   },
   "outputs": [],
   "source": [
    "from collections import defaultdict\n",
    "def sparse_adjacency( A, symmetrize = False ) :\n",
    "    \"\"\"Requires A to be in either csr, csc or lil format.\"\"\"\n",
    "## Construct the adjacency list: get all nonzero indices\n",
    "    if symmetrize :\n",
    "        S = A.transpose(copy = True)\n",
    "        A = S + A\n",
    "        del S\n",
    "    r, c = A.nonzero( )\n",
    "    i, j = np.unique( r, return_index = True )\n",
    "## Initialize the dictionary and the index\n",
    "    J = dict( ) ; i0 = 0\n",
    "## Exploit the fact that the output of nonzero() is sorted lexicographically \n",
    "##  and that the np.unique() returns the index of the furst occurrence of a value\n",
    "    for x, y in zip( i[:-1], j[1:] ) :\n",
    "## the indices returned by np.unique() are shifted forward to make it\n",
    "##  easier to capture complete ranges of colunm indices of A\n",
    "        J[ x ] = c[ i0 : y ]\n",
    "        i0 = y\n",
    "## Finalize by capturing the last row\n",
    "    J[i[-1]] = c[i0:]\n",
    "## The default value is an empty adjacancy list\n",
    "    return defaultdict( lambda: np.empty( 0, np.int ), J )\n"
   ]
  },
  {
   "cell_type": "markdown",
   "metadata": {},
   "source": [
    "## Centrality measures\n",
    "#### Degree\n",
    "The degree centrality measure of a node $v\\in V$ in graph $G=\\big(V, E\\big)$ is the sum of all edges incident on it:\n",
    "\n",
    "$$C_v = \\sum_{u\\in V} 1_{(v,u)\\in E} = \\sum_{u\\in V} A_{vu} = \\delta_v$$\n",
    "\n",
    "In other words the more 1st-tier (nearest, reachable in one hop) negihbours a vertex has the higher its centrality is. This is a local metric. In order to perform intergraph comparisons, normalised degreee centrality is used:\n",
    "\n",
    "$$\\bar{C}_v = \\frac{C_v}{|V|-1}$$\n",
    "\n",
    "As usual high centrality -- a node in direct contact with many other nodes, low centrality -- a periphrial vertex."
   ]
  },
  {
   "cell_type": "code",
   "execution_count": null,
   "metadata": {
    "collapsed": false
   },
   "outputs": [],
   "source": [
    "def degree_centrality( A, norm = False ) :\n",
    "    delta = np.array( A.sum( axis = 1 ) ).flatten()\n",
    "    return delta if not norm else delta / ( A.shape[ 1 ] - 1 )\n",
    "# c_degree( A, True )"
   ]
  },
  {
   "cell_type": "markdown",
   "metadata": {},
   "source": [
    "#### Betweenness\n",
    "This measure assesses how important a node is in terms of the global graph connectivity:\n",
    "\n",
    "$$C_B(v) = \\sum_{s\\neq v\\neq t\\in V} \\frac{\\sigma_{st}(v)}{\\sigma_{st}}$$\n",
    "\n",
    "where $\\sigma_{st}(v)$ is the number of **shortest** paths from $s$ to $t$ passing through $v$, while $\\sigma_{st}$ is the total number of paths of least legnth connecting $s$ and $t$. \n",
    "\n",
    "In hte case of unweighted graphs,  this measure can be computed in $O(|V||E|)$ time with a modified breadth-first-search algorithm, which while calculating all-pairs shortest paths computes the centrality using some clever arithmetic tricks (See Brandes (2001))."
   ]
  },
  {
   "cell_type": "markdown",
   "metadata": {},
   "source": [
    "##### References\n",
    "Brandes, Ulrik (2001). \"A faster algorithm for betweenness centrality\" (PDF). Journal of Mathematical Sociology 25: 163–177. doi:10.1080/0022250x.2001.9990249"
   ]
  },
  {
   "cell_type": "markdown",
   "metadata": {},
   "source": [
    "A generic breadth-first-search is given below:"
   ]
  },
  {
   "cell_type": "code",
   "execution_count": null,
   "metadata": {
    "collapsed": false
   },
   "outputs": [],
   "source": [
    "def bfs_shortest_path( A, s = 0, pi = None, J = None ) :\n",
    "## Cache deque operations for faster access (Python won't have to make lookups)\n",
    "\tdeq = deque.popleft ; enq = deque.extend\n",
    "## Get the sparse adjacency list\n",
    "\tif J is None :\n",
    "\t\tJ = sparse_adjacency( A, symmetrize = True )\n",
    "## Initalize the array of shortest paths\n",
    "\tif pi is None :\n",
    "\t\tpi = np.full( A.shape[ 0 ], np.inf, np.float )\n",
    "## Initialize with the source vertex\n",
    "\tQ = deque( [ s ] ) ; pi[ s ] = 0\n",
    "## While the (de)queue is not empty\n",
    "\twhile Q :\n",
    "## get the virst vertes to have been added\n",
    "\t\tv = deq( Q )\n",
    "## For each neighbour...\n",
    "\t\tn = J[ v ]\n",
    "## Check if it has not been visited before\n",
    "\t\tn = n[ pi[ n ] == np.inf ]\n",
    "## Add it to the queue and update its distance from the source\n",
    "\t\tif len( n ) :\n",
    "\t\t\tenq( Q, n )\n",
    "\t\t\tpi[ n ] = 1 + pi[ v ]\n",
    "\treturn pi"
   ]
  },
  {
   "cell_type": "markdown",
   "metadata": {},
   "source": [
    "While the Brandes's algorithm is just the extended version, which incementally counts the betweenness centrality. As stated in the paper, in counting other centrality measure could be easily incorporated in it. "
   ]
  },
  {
   "cell_type": "code",
   "execution_count": null,
   "metadata": {
    "collapsed": false
   },
   "outputs": [],
   "source": [
    "from collections import deque\n",
    "def betweenness_centrality( A, J = None, verbose = False ) :\n",
    "## Cache deque operations for faster access (Python won't have to make lookups)\n",
    "\tdeq = deque.popleft ; enq = deque.extend\n",
    "\tpop = deque.pop ; push = deque.append\n",
    "\tappend = list.append\n",
    "## Get the sparse adjacency list\n",
    "\tif J is None :\n",
    "\t\tJ = sparse_adjacency( A, symmetrize = True )\n",
    "## Initialize the betweenness array\n",
    "\tcb = np.zeros( A.shape[ 0 ], np.float )\n",
    "\tfor s in xrange( A.shape[ 0 ] ) :\n",
    "\t\tif (s%20)==0 : print s\n",
    "## Initalize the array of shortest paths\n",
    "\t\tpi = np.full( A.shape[ 0 ], np.inf, np.float ) ; pi[ s ] = 0\n",
    "## The array which holds the number of shortest paths through a parciular vertex\n",
    "\t\tsigma = np.zeros( A.shape[ 0 ], np.float ) ; sigma[ s ] = 1\n",
    "## Initialize queue with the source vertex, stack and predecessors -- empty.\n",
    "\t\tQ = deque( [ s ] ) ; S = deque( ) ; pred = defaultdict( list )\n",
    "## While the (de)queue is not empty\n",
    "\t\twhile Q :\n",
    "## get the first vertex to have been added\n",
    "\t\t\tv = deq( Q )\n",
    "\t\t\tpush( S, v )\n",
    "## For each neighbour...\n",
    "\t\t\tn = J[ v ]\n",
    "## Check if it has not been visited before\n",
    "\t\t\tw = n[ pi[ n ] == np.inf ]\n",
    "## Add it to the queue and update its distance from the source\n",
    "\t\t\tif len( w ) :\n",
    "## This is the first time the vertex has been seen\n",
    "\t\t\t\tenq( Q, w )\n",
    "## Initalize its shortest path through s~v-w edge\n",
    "\t\t\t\tpi[ w ] = 1 + pi[ v ]\n",
    "## Find neighbours with the shortest path having the current vertex v \n",
    "\t\t\tu = n[ pi[ n ] == 1 + pi[ v ] ]\n",
    "## For all nodes that already have a shortest path through v\n",
    "\t\t\tif len( u ) :\n",
    "##  update their path count and predecessor lists\n",
    "## The extra number of shortest paths in this case is equal to\n",
    "##  the number of shortest paths s~v.\n",
    "\t\t\t\tsigma[ u ] += sigma[ v ]\n",
    "\t\t\t\tfor i in u :\n",
    "\t\t\t\t\tappend( pred[ i ], v )\n",
    "## Initalize the pair dependency array\n",
    "\t\tdelta = np.zeros( A.shape[ 0 ], np.float )\n",
    "## The stack contains vertices in non-increasing order\n",
    "\t\twhile S :\n",
    "\t\t\tw = pop( S )\n",
    "## Update dependency of each predecessor\n",
    "\t\t\tv = pred[ w ]\n",
    "\t\t\tif len( v ) :\n",
    "\t\t\t\tdelta[ v ] += sigma[ v ] * ( 1.0 + delta[ w ] ) / sigma[ w ]\n",
    "\t\t\tif w != s :\n",
    "\t\t\t\tcb[ w ] += delta[ w ]\n",
    "\treturn cb\n",
    "# T = spma.csc_matrix( [ [ 0,1,1,0,0], [0,0,1,0,0], [0,0,0,1,0], [0,0,0,0,1], [1,0,0,0,0] ] )\n",
    "# T = spma.csc_matrix( [ [ 0,0,1,0,0 ], [ 0,0,1,0,0 ], [1,1,0,1,1], [ 0,0,1,0,0 ], [ 0,0,1,0,0 ] ] )\n",
    "# T = spma.csc_matrix( [ [ 0,0,1,0,0 ], [ 0,0,1,0,0 ], [0,0,0,1,1], [ 0,0,0,0,0 ], [ 0,0,0,0,0 ] ] )\n",
    "# %lprun -f betweenness_centrality betweenness_centrality( A )\n",
    "# betweenness_centrality( T )"
   ]
  },
  {
   "cell_type": "markdown",
   "metadata": {},
   "source": [
    "## Page Rank\n",
    "The basic idea of Page Rank, though recursive, is to assign each vertex some importance score based on the aggregate importance score of the node connected to in via incoming edges.\n",
    "\n",
    "The PageRank score has the following interpretation: the more likely it is to find a random surfer in a node, the higher is the pagerank of that node. A random surfer is an agent who follows outgoing links randomly. In terms of the random walk process it is the share of time spent at any particular node in the network.\n",
    "\n",
    "Immediately two issues become apparent:\n",
    " * _Dangling vertices_: the vertices with incoming edges only.  \n",
    "   Since the network is finte, the pure random walk process would end up in such a sink node with probility one in finite number of steps; To avoid this, the walker is forced to restart at any node in the graph chosen uniformly at random.\n",
    " * _Clique traps_. This is a generalization of sink vertices:  \n",
    "   once in a completely connected subgraph, the random surfer is unable to leave the subgraph. In this case at any given node the process is allowed with some probability to make a jump to an arbitrary vertex in $G$ chosen uniformly at random.\n",
    "\n",
    "Let $G=(V,E)$ be a directed graph and its incidence matrix be given by $\\big(A_{vu}\\big)_{u,v\\in V}$ where $A_{uv} = 1_{u\\leadsto v}$,  ie. the $u,v$-th element indicates the weight in general, or the existence in particular, of an edge $u\\leadsto v$ between vertices $u,v\\in V$. Let the out degree be defiend as $\\delta^+_i = \\sum_{j\\in V} a_{ij}$.\n",
    "\n",
    "Consider a $1$-order markov chain with trasnition kernel defined as the stochastic version $P$ of the incidence matrix $A$, defiend as\n",
    "$$q_{ij} = \\frac{ a_{ij} }{\\delta^+_i} 1_{\\delta^+_i\\neq 0} +\\frac{1}{|V|} 1_{\\delta^+_i = 0}$$\n",
    "which denotes the probability of a $i\\to j$. This transition kernel already incorporates the uniform correction for the dangilng nodes.\n",
    "\n",
    "Further adjustnet is due. In orther to escape from the clique traps, the trasition distribtuion at each vertex is further smoothed: having selected a particualt edge $i\\to j$ to follow, the process actually moves to the destination node $j$ with probability $\\beta$ and to any vertex in the graph picked at random (including $j$) with probability $1-\\beta$.  \n",
    "\n",
    "Thus the funal Pagerank process transition kernel is given by the following fomrula for the probability of ending up in one step at node $j$ having started at $i$\n",
    "$$p_{ij} = \\beta q_{ij} + (1-\\beta) \\frac{1}{|V|}$$\n",
    "\n",
    "The matrix $p_{ij}$ is in fact row-stochastic, meanin that on each row the values in the columns sum to one. For example if a column vector $(\\pi_i)_{i\\in V}$ is a prior probability distribution of being in vertex $i$, then the posterior probability is $P'\\pi$.\n",
    "\n",
    "Due to Perron-Frobenius theorem for a well behaved stochastic matrix there necessarily exists a stationary probability distribution. The PageRank is this stationary distribution: $P'\\pi = \\pi$ with $\\pi'\\mathbf{1} = 1$. Furhtermore the the largest eigenvalue of $P'$ is exactly $1$, which menas that iterating $\\pi_k = P'\\pi_{k-1}$ would yield a convergent sequence of probability vectors.\n",
    "\n",
    "In general the incidence matrices are quite large in terms of dimensions which actually requires some modification of how exactly the next refinenemt should be constructed:\n",
    "$$\\pi_{k+1}' = \\beta \\pi_k' D^{-1} A + \\big( \\beta \\pi_k'd + 1-\\beta\\big) \\frac{1'}{|V|}$$\n",
    "where $D_{ii} = \\delta^+_i$ is a diagonal matrix. This expression does not require the transpose of the incidence matrix and \n",
    "\n",
    "The relative tolerance convergence criterion is\n",
    "$$\\max_{i\\in V} \\big\\lvert \\pi_{k+1} - \\pi_k\\big\\rvert \\leq \\epsilon|\\pi_k| + \\epsilon^2$$\n",
    "this permits relative error of approximately $\\epsilon$ tolerance for non-zero values of $\\pi_k$, and yet requires higher precision if the value on hte previous step was zero. "
   ]
  },
  {
   "cell_type": "markdown",
   "metadata": {},
   "source": [
    "#### The iterative procedure\n",
    "As have been mentioned eralier the PageRank score is the egienvector of a stochastic matrix corresponding to the unit eigenvalue. "
   ]
  },
  {
   "cell_type": "code",
   "execution_count": null,
   "metadata": {
    "collapsed": false
   },
   "outputs": [],
   "source": [
    "def PageRank_iter( A, beta = 0.85, x0 = None, rel_eps = 1.0E-8, niter = 10000 ) :\n",
    "## Create a teleporation vector\n",
    "    E = np.full( A.shape[ 0 ], 1.0 / A.shape[ 0 ], np.float )\n",
    "## If the initial ranking is not provided us the uniform distribution over the nodes\n",
    "    x0 = np.copy( E ) if x0 is None else x0\n",
    "## Find the normalising constants for each row\n",
    "    out = np.array( A.sum( axis = 1 ), np.int ).flatten( )\n",
    "## Locate the dangling vertices\n",
    "    dan = np.array( out == 0 )\n",
    "##  ... and reset their normalising constant to avoid NANs\n",
    "    out[ dan ] = 1.0\n",
    "## The resulting status of the convergence procedure:\n",
    "##  0 -- convergence within the set relative tolerance\n",
    "##  1 -- exceeded the number of iterations.\n",
    "    status = 1 ; i = 0\n",
    "## First stopping rule: within the specified number of iterations\n",
    "    while i < niter :\n",
    "## The main computational step\n",
    "        x1 = beta * ( x0 / out ) * A + ( beta * np.sum( x0 * dan ) + 1 - beta ) * E\n",
    "## Second stopping rule: within the required tolerance. Correction for \n",
    "##  possible machine zeros in the denominator.\n",
    "        if np.sum( np.abs( x1 - x0 ) / ( np.abs( x0 ) + rel_eps ) ) < rel_eps :\n",
    "            status = 0\n",
    "            break\n",
    "## Proceed to the next iteration\n",
    "        x0 = x1 ; i += 1\n",
    "## return the stationary distribution and the convergence information\n",
    "    return ( x1, { 'convergence': status, 'iterations' : i } )\n",
    "## Some small test cases\n",
    "# T = spma.csc_matrix( [ [ 0,1,1,0], [0,0,1,0], [1,0,0,1], [0,0,0,0] ] )\n",
    "# T = spma.csc_matrix( [ [ 0,1,1,0,0], [0,0,1,0,0], [0,0,0,1,0], [0,0,0,0,1], [1,0,0,0,0] ] )\n",
    "# print PageRank_iter( T, .9, rel_eps = 1e-10 )"
   ]
  },
  {
   "cell_type": "markdown",
   "metadata": {},
   "source": [
    "## Hubs and Authorities index\n",
    "\n",
    "The basic idea of this ranking is ...\n",
    "\n",
    "The HITS algorithm preforms the following steps in succession until the convergence criteria are met:\n",
    " * the current authority and hub scores are given by $a_i$ and $h_i$ respectively;\n",
    " * Based on the current scores calculate the next iteration:\n",
    "    * $a_{i+1} = \\alpha A' h_i$\n",
    "    * $h_{i+1} = \\beta A a_{i+1}$\n",
    "\n",
    "This implies that $h_{i+1} = \\alpha \\beta AA' h_i$ which, when re-normalised by its $l_2$-norm, is known to converge to the egienvector of $AA'$ with the largest eigenvalue.\n",
    "Simalrly, $a_{i+1} = \\alpha \\beta A'A a_i$ is the main iterative core, which converges to the eigenvector of $A'A$.\n",
    "\n",
    "The SVD of an $n\\times m$ matrix $A$ of rank $k$ is a decomposition of it into the product $U\\Sigma V'$ with $U$ -- an $n\\times k$ matrix of orthogonal columns, $V$ -- an $m\\times k$ matrix again of orthogonal columns, and a diagonal $k\\times k$ matrix of positive singular values.\n",
    "It is easy to see, that $A'A = V\\Sigma'\\Sigma V'$ and $AA'=U\\Sigma\\Sigma' U'$, whence $A'A V = V\\Sigma'\\Sigma$ and $AA'U = U\\Sigma\\Sigma'$. Therefore the left and the right singular vector are given by the columns of $U$ and $V$ respectively.\n",
    "\n",
    "The HITS algorithm essentially performs power iterations on the pair of matrices $A'A$ and $AA'$ simultaneously. That is why \n",
    ":\n",
    " 1. the authority and the hub scores are the right and the left signular vectors respectively;\n",
    " 2. the algorithm converges to a pair of singular vectors corresponding to the largest singular value.\n"
   ]
  },
  {
   "cell_type": "code",
   "execution_count": null,
   "metadata": {
    "collapsed": false
   },
   "outputs": [],
   "source": [
    "def HITS_iter( A, xy0 = None, rel_eps = 1.0E-8, niter = 10000 ) :\n",
    "## Initialise to the uniform hub-authority vector\n",
    "    if xy0 is None:\n",
    "        xy0 = np.full( ( 2, A.shape[0] ), 1.0 / np.sqrt( A.shape[0] ), np.float )\n",
    "## A_{ij} is whether there is an edge i\\to j\n",
    "    status = 1 ; i = 0\n",
    "    while i < niter :\n",
    "        xy = xy0.copy( )\n",
    "## Compute the authorities (a' = \\alpha h' A)\n",
    "        xy[1] = xy[0] * A\n",
    "        xy[1] /= np.linalg.norm( xy[1] )\n",
    "## and the hubs score (h = \\beta A a)\n",
    "        xy[0] = A * xy[1]\n",
    "        xy[0] /= np.linalg.norm( xy[0] )\n",
    "        if np.sum( np.abs( xy - xy0 ) / ( np.abs( xy0 ) + rel_eps ) ) < rel_eps :\n",
    "            status = 0\n",
    "            break\n",
    "        xy0 = xy ; i += 1\n",
    "    return ( xy, { 'convergence': status, 'iterations' : i } )\n",
    "# A = spma.csc_matrix( [ [ 0,1,1,0,0], [0,0,1,0,0], [0,0,0,1,0], [0,0,0,0,1], [1,0,0,0,0] ], dtype = np.float )\n",
    "# ha, _ = HITS_iter( A )\n",
    "# h, _, a = spma.linalg.svds( A, 1 )\n",
    "# h = np.abs( np.array( h ).flatten( ) )\n",
    "# a = np.abs( np.array( a ).flatten( ) )\n",
    "# print np.sum( np.abs(ha[0]-h)/( np.abs( h ) + 1e-8) )\n",
    "# print np.sum( np.abs(ha[1]-a)/( np.abs( a ) + 1e-8) )"
   ]
  },
  {
   "cell_type": "markdown",
   "metadata": {},
   "source": [
    "<hr/>"
   ]
  },
  {
   "cell_type": "markdown",
   "metadata": {},
   "source": [
    "You can load .mat files with the following commands:"
   ]
  },
  {
   "cell_type": "code",
   "execution_count": null,
   "metadata": {
    "collapsed": false
   },
   "outputs": [],
   "source": [
    "import scipy.io\n",
    "data = scipy.io.loadmat('./data/flickr.mat')\n",
    "\n",
    "A = spma.csc_matrix( data[ 'A' ] )\n",
    "names = data[ 'names' ]"
   ]
  },
  {
   "cell_type": "markdown",
   "metadata": {},
   "source": [
    "Data contains sparse matrix A and list of user names.\n",
    "This is a “denser” part of the Flickr photo sharing site friendship graph from 2006. Edge direction corresponds to friendship requests (following). Some of the links are reciprocal,others not.  "
   ]
  },
  {
   "cell_type": "markdown",
   "metadata": {},
   "source": [
    "Compute degree centrality, Pagerank and  HubAuthorities scores for the [flickr](https://www.dropbox.com/s/6c4ybirvffrm2tu/flickr.zip?dl=0) network. \n",
    "Provide top 50 names in each ranking, compare results"
   ]
  },
  {
   "cell_type": "code",
   "execution_count": null,
   "metadata": {
    "collapsed": false
   },
   "outputs": [],
   "source": [
    "T = 100"
   ]
  },
  {
   "cell_type": "markdown",
   "metadata": {},
   "source": [
    "#### Solution\n",
    "Compute the page rank for different restart-teleport probabilities"
   ]
  },
  {
   "cell_type": "code",
   "execution_count": null,
   "metadata": {
    "collapsed": false
   },
   "outputs": [],
   "source": [
    "beta = np.arange(0, 1, 0.01 ) ##[ 0.01, .15, .25, .50, .75, .85, .99 ]\n",
    "pr = [ ( PageRank_iter( A, beta = b ), b ) for b in beta ]"
   ]
  },
  {
   "cell_type": "markdown",
   "metadata": {},
   "source": [
    "Get the 50 top ranking vertices for each value in the $1\\times 100$ $\\beta$-grid."
   ]
  },
  {
   "cell_type": "code",
   "execution_count": null,
   "metadata": {
    "collapsed": false
   },
   "outputs": [],
   "source": [
    "top_pr_test = [ np.argsort( r )[:-T-1:-1] for (r,_), b in pr ]"
   ]
  },
  {
   "cell_type": "markdown",
   "metadata": {},
   "source": [
    "The nature of the rankings suggests that the similarity beetween them is calculated in a discrete manner -- using Jaccard's similarity measure."
   ]
  },
  {
   "cell_type": "code",
   "execution_count": null,
   "metadata": {
    "collapsed": false
   },
   "outputs": [],
   "source": [
    "def jaccard( a, b ) :\n",
    "    x,  y = set( a ), set( b )\n",
    "    return ( len( x & y ) + 0.0 ) / len( x | y )"
   ]
  },
  {
   "cell_type": "markdown",
   "metadata": {},
   "source": [
    "Use the scipy's spatial module to easily compute the pairwise similarity."
   ]
  },
  {
   "cell_type": "code",
   "execution_count": null,
   "metadata": {
    "collapsed": false
   },
   "outputs": [],
   "source": [
    "from scipy.spatial.distance import pdist, squareform\n",
    "D = squareform(pdist(top_pr_test, jaccard))"
   ]
  },
  {
   "cell_type": "markdown",
   "metadata": {},
   "source": [
    "Disaplay the similarity of 50 top ranking node in Flickr network between PageRank for ach pair of $\\beta$."
   ]
  },
  {
   "cell_type": "code",
   "execution_count": null,
   "metadata": {
    "collapsed": false
   },
   "outputs": [],
   "source": [
    "plt.figure( figsize=(8,6) )\n",
    "plt.title(\"\"\"Jaccard similarity between PageRank rankings\"\"\")\n",
    "plt.imshow( D )\n",
    "plt.colorbar()\n",
    "plt.show()"
   ]
  },
  {
   "cell_type": "markdown",
   "metadata": {},
   "source": [
    "In general close settings of $\\beta$ tend to produce close rankings. This plot clearly shows that, the pageranks for $\\beta\\in \\big[0.375 0.625\\big]$ produce constitute the largest spectral cluster of similar rankings. Now display the top"
   ]
  },
  {
   "cell_type": "code",
   "execution_count": null,
   "metadata": {
    "collapsed": false
   },
   "outputs": [],
   "source": [
    "## Lets compute the pagerank which is more determined\n",
    "##  by the adjacency matrix rather than the teleportation,\n",
    "pr, _ = PageRank_iter( A, beta = .85, rel_eps = 1.0E-7)\n",
    "## Settle on this paramter\n",
    "top_pr = np.argsort( pr )[:-T-1:-1]"
   ]
  },
  {
   "cell_type": "code",
   "execution_count": null,
   "metadata": {
    "collapsed": false
   },
   "outputs": [],
   "source": [
    "## Compute the Hubs-Authorities scores\n",
    "ha, _ = HITS_iter( A )\n",
    "top_hs = np.argsort( ha[0] )[:-T-1:-1]\n",
    "top_as = np.argsort( ha[1] )[:-T-1:-1]"
   ]
  },
  {
   "cell_type": "code",
   "execution_count": null,
   "metadata": {
    "collapsed": false
   },
   "outputs": [],
   "source": [
    "## And finally compute the degree centrality\n",
    "cd = degree_centrality( A, norm = False )\n",
    "top_cd = np.argsort( cd )[:-T-1:-1]"
   ]
  },
  {
   "cell_type": "markdown",
   "metadata": {},
   "source": [
    "Computing the betweenness centrality has $O(n m)$ compelixty, but still this took almost 2 hours of single-threaded computation time. Therefore in order to be able to comapre the results, I decied to store the results for symmetrized Flickr network in an embedded base64-encoded CLOB (**C**haracter **L**arge **OB**ject) cache."
   ]
  },
  {
   "cell_type": "code",
   "execution_count": null,
   "metadata": {
    "collapsed": false
   },
   "outputs": [],
   "source": [
    "import base64\n",
    "import zlib\n",
    "USE_CACHED = True\n",
    "\n",
    "if not USE_CACHED :\n",
    "## Even though the algorithm is sufficiently optimal : O(|V||E|) complexity for a sparse unwweighted matrix\n",
    "##  still in this single-threaded version it took about 120 minutes to compute the whole vector.\n",
    "    cb = betweenness_centrality( A )\n",
    "## Thus after the computation has finished create a CLOB with the base64 encoded compressed computed data\n",
    "    cb_b64_clob = base64.b64encode( zlib.compress( cb ) )"
   ]
  },
  {
   "cell_type": "code",
   "execution_count": null,
   "metadata": {
    "collapsed": false
   },
   "outputs": [],
   "source": [
    "if not USE_CACHED :\n",
    "## Print the computed CLOB\n",
    "    print cb_b64_clob\n",
    "if USE_CACHED :\n",
    "## The cached result of betweennesss computation (remember 2 hours!)\n",
    "    cb_b64_clob = \"\"\"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\"\"\"\n",
    "## Reconstruct the precalculated betweenness centrailty for the Flick matrix from the cached CLOB\n",
    "    cb = np.frombuffer( zlib.decompress( base64.decodestring( cb_b64_clob ) ), dtype = np.float )\n",
    "top_cb = np.argsort( cb )[:-T-1:-1]"
   ]
  },
  {
   "cell_type": "markdown",
   "metadata": {},
   "source": [
    "It is not very informative to print large swaths of top ranked names, since there is just too much information. So in order to get quantitative characteristis of differences between top-100 rankings it might be reasonable to use Jaccard similarity coefficient, implemented above:\n",
    "\n",
    "$$\\text{J}(A,B)= \\frac{\\lvert A\\cap B\\rvert}{\\lvert A\\cup B\\rvert}$$"
   ]
  },
  {
   "cell_type": "markdown",
   "metadata": {},
   "source": [
    "It is sometimes interesting to look at a table representation of a symmetric distance matrix. The procedure below prints a matrix in a more straightforward format."
   ]
  },
  {
   "cell_type": "code",
   "execution_count": null,
   "metadata": {
    "collapsed": false
   },
   "outputs": [],
   "source": [
    "## Print the upper triangle of a symmetric matrix in reverse column order\n",
    "def show_symmetric_matrix( A, labels, diag = False ) :\n",
    "    d = 0 if diag else 1\n",
    "    c = len( labels ) - d\n",
    "    print \"\\t\", \"\\t\".join( c * [ \"%.3s\" ] ) % tuple( labels[ d: ][ ::-1 ] )\n",
    "    for i, l in enumerate( labels if diag else labels[ :-1 ] ) :\n",
    "        print ( ( \"%4s\\t\" % l ) + \"\\t\".join( ( c - i ) * [ \"%.3f\" ] ) %\n",
    "                tuple( rank_dist[ i,i+d: ][ ::-1 ] ) )"
   ]
  },
  {
   "cell_type": "markdown",
   "metadata": {},
   "source": [
    "In is interesting to note that Betweenness Centrality and the PageRank produce rankings that match each closer than other methods."
   ]
  },
  {
   "cell_type": "code",
   "execution_count": null,
   "metadata": {
    "collapsed": false
   },
   "outputs": [],
   "source": [
    "## Compute the distances\n",
    "labels = [ 'btw', 'deg', 'hub', 'aut', 'prk' ]\n",
    "rank_dist = squareform( pdist( [ top_cb, top_cd, top_hs, top_as, top_pr ], jaccard ) )\n",
    "show_symmetric_matrix( rank_dist, labels )"
   ]
  },
  {
   "cell_type": "markdown",
   "metadata": {},
   "source": [
    "Furhermore it is interesting to assess how the various raw rankings are aligned. In order to avoid issue with different normalisations of the rank vectors, one can use Spearman's rank correlation, which is invariant under monotonic transformations."
   ]
  },
  {
   "cell_type": "markdown",
   "metadata": {},
   "source": [
    "In fact Spearman's $\\rho$ is the most direct way to compare the ordering, since in its core it does exactly that: it compares the rank-transformation of one vector of observed data to another."
   ]
  },
  {
   "cell_type": "code",
   "execution_count": null,
   "metadata": {
    "collapsed": false
   },
   "outputs": [],
   "source": [
    "from scipy.stats import spearmanr as rho\n",
    "rank_dist = squareform( pdist( [ cb, cd, ha[0], ha[1], pr ], metric = lambda a, b : rho(a,b)[0] ) )\n",
    "show_symmetric_matrix( rank_dist, labels )"
   ]
  },
  {
   "cell_type": "markdown",
   "metadata": {},
   "source": [
    "The rankings produced by different methods are very close. "
   ]
  },
  {
   "cell_type": "markdown",
   "metadata": {},
   "source": [
    "### <hr /> Task 2"
   ]
  },
  {
   "cell_type": "markdown",
   "metadata": {},
   "source": [
    "Here are the [Facebook friendship graphs](https://www.dropbox.com/s/l4z8x81a9bolpw5/universities.zip?dl=0) from several US universities from 2005 (one year after fb launch).\n",
    "\n",
    "Data contains a A matrix (sparse) and a \"local_info\" variable, one row per node: \n",
    "a student/faculty status flag, gender, major, second major/minor (if applicable), dorm/house, year, and high school. \n",
    "Missing data is coded 0.\n",
    "\n",
    "Compute node degree assortativity (mixing by node degree) and assortativity coefficient (modularity) for gender, major, dormitory, year, high school for all universities and compare the results."
   ]
  },
  {
   "cell_type": "markdown",
   "metadata": {},
   "source": [
    "### Toolkit"
   ]
  },
  {
   "cell_type": "markdown",
   "metadata": {},
   "source": [
    "In order to be able to compute assortativity measures for categorical data efficiently, it would be handy to be able to partition the pertices by the value of a discrete random variable."
   ]
  },
  {
   "cell_type": "code",
   "execution_count": null,
   "metadata": {
    "collapsed": false
   },
   "outputs": [],
   "source": [
    "## Compute the inverse image of the variable trated as a generalized map\n",
    "def group_by( variable, ignore_float_nan = False ) :\n",
    "    order = np.array( np.argsort( variable ), dtype = np.int )\n",
    "## NANs, if present, would be concentrated and the end of the value-index pair\n",
    "##  and in the tail of the order index array.\n",
    "    value, index = np.unique( variable[ order ], return_index = True )\n",
    "## It turns out the searchsorted actually does find the first occurrence\n",
    "##  of a NAN, even though technically NAN != NAN. This is unexpected since\n",
    "##  for IEEE754 floats NANs force-fail every comparison. \n",
    "    first_nan = np.searchsorted( value, np.nan )\n",
    "    if first_nan < len( value ) :\n",
    "        if not ignore_float_nan :\n",
    "            value, index = value[ : first_nan+1 ], index[ : first_nan+1 ]\n",
    "        else :\n",
    "            order = order[ :index[ first_nan ] ]\n",
    "            value, index = value[ : first_nan ], index[ : first_nan ]\n",
    "    G = dict( ) ; prev = 0\n",
    "    for x, y in zip( value[:-1], index[1:] ) :\n",
    "        G[ x ] = np.sort( order[ prev : y ] )\n",
    "        prev = y\n",
    "    G[ value[ -1] ] = np.sort( order[ prev: ] )\n",
    "    return defaultdict( lambda: np.empty( 0, np.int ), G )"
   ]
  },
  {
   "cell_type": "markdown",
   "metadata": {},
   "source": [
    "Directly computing the modularity coefficient for catergorical data (as well as for scalar) is enormously time consuming. However, the sum\n",
    "\n",
    "$$\\sum_i \\sum_j \\Big( A_{ij} - \\frac{\\delta_i\\delta_j}{2m}\\Big) 1_{c_i=c_j}$$\n",
    "\n",
    "is equivalent to \n",
    "\n",
    "$$\\sum_{c\\in \\mathcal{C}} \\Big(  \\sum_{i, j\\in c^{-1}}A_{ij} - \\frac{1}{2m} \\sum_{i\\in c^{-1}} \\delta_j\\sum_{j\\in c^{-1}}\\delta_i\\Big)$$\n",
    "\n",
    "where $\\mathcal{C}$ is the set of all posssible values of a discrete (categorical) feature and $c^{-1}$ is the set of all objects $i$ such that $c_i = c$ :\n",
    "$$c^{-1} = \\big\\{\\big.i\\,\\rvert\\,c_i=c\\big.\\big\\}$$"
   ]
  },
  {
   "cell_type": "code",
   "execution_count": null,
   "metadata": {
    "collapsed": false
   },
   "outputs": [],
   "source": [
    "def modularity( A, C, J = None, G = None, assortativity = False ) :\n",
    "## A_{ij} entry corresponds to an indicator if the edge i->j exists.\n",
    "    if G is None : G = group_by( C )\n",
    "# A had better be in csr format\n",
    "    if J is None : J = sparse_adjacency( A, symmetrize = False )\n",
    "    D = np.array( A.sum( axis = 1 ), dtype = np.float ).flatten( )\n",
    "    D_sum = np.sum( D, dtype = np.float )\n",
    "    dep = dict( ) ; indep = dict( )\n",
    "    for k in G :\n",
    "        g = G[ k ]\n",
    "        sum_k = np.sum( D[ g ], dtype = np.float64 ) \n",
    "        indep[ k ] = ( sum_k / D_sum ) * sum_k\n",
    "## Append an guaranteed infinty at the end of the goup\n",
    "        bins = np.full( g.shape[0]+1, np.inf, dtype = np.float )\n",
    "        bins[:g.shape[0]] = g\n",
    "## Since the groups are force-sorted, binary search can used to infer which\n",
    "##  nodes in the group have the same category. This way a node with id beyond\n",
    "##  the group would still be found within the bins and correctly handled, as\n",
    "##  the node ids can never be infinite.\n",
    "        dep[ k ] = np.sum( [ np.sum( bins[ np.searchsorted( bins, J[ i ] ) ] == J[ i ],\n",
    "            dtype = np.float64 ) for i in g ], dtype = np.float64 )\n",
    "    if not assortativity :\n",
    "        return ( np.sum( dep.values() ) - np.sum( indep.values() ) ) / D_sum\n",
    "    return ( np.sum( dep.values() ) - np.sum( indep.values() ) ) / ( D_sum - np.sum( indep.values() ) )"
   ]
  },
  {
   "cell_type": "markdown",
   "metadata": {},
   "source": [
    "Computing assortatitivy coefficient for scalar-valued features is much easier. Indeed, the mixing coefficient for $X = \\big(x_i\\big)$ in an undirected graph $G$, with the adjacency matrix $A$, is defined as\n",
    "\n",
    "$$\\rho(x) = \\frac{\\text{cov}}{\\text{var}} = \\frac{\\sum_{ij}A_{ij}(x_i-\\bar{x})(x_j-\\bar{x})}{\\sum_{ij}A_{ij}(x_i-\\bar{x})^2}$$\n",
    "\n",
    "where $\\bar{x} = \\frac{1}{2m}\\sum_i \\delta_i x_i$ is the mean value of $X$ weighted by vertex degree. Note that $A$ is necessarily symmetric.\n",
    "\n",
    "Since $\\delta_i = \\sum_j A_{ij}$, it is possible to notice that in matrix notation $\\bar{x} = (\\mathbf{1}'A\\mathbf{1})^{-1} A\\mathbf{1}X$ where $\\mathbf{1} = \\big(1_i\\big)$ is a vector of $1$. Let $D = A\\mathbf{1}$ be the vector of vertex degrees. Now, the expression in the numerator becomes\n",
    "$$\\sum_{ij}A_{ij}(x_i-\\bar{x})(x_j-\\bar{x}) = (X-\\mathbf{1}\\bar{x})'A(X-\\mathbf{1}\\bar{x}) = X'AX - \\bar{x}\\mathbf{1}'AX - X'A\\mathbf{1}\\bar{x} + \\bar{x}\\mathbf{1}'A\\mathbf{1}\\bar{x}$$\n",
    "This expression simplifies to $X'AX - \\bar{x}\\mathbf{1}'A\\mathbf{1}\\bar{x}$, because \n",
    "* $\\bar{x}\\mathbf{1}'AX = \\bar{x}D'X = X'D(\\mathbf{1}'A\\mathbf{1})^{-1}D'X = X'D\\bar{x} = X'A\\mathbf{1}\\bar{x}$;\n",
    "* $\\bar{x}\\mathbf{1}'A\\mathbf{1}\\bar{x} = X'D(\\mathbf{1}'A\\mathbf{1})^{-1}\\mathbf{1}'A\\mathbf{1}\\bar{x} = X'D\\bar{x}$.\n",
    "\n",
    "Note that $\\mathbf{1}'A\\mathbf{1} = \\mathbf{1}'\\text{diag}(D)\\mathbf{1}$.\n",
    "\n",
    "Furthermore $\\mathbf{1}'A\\mathbf{1} = 2m$, whence the numerator take the final form of $X'AX - 2m \\bar{x}^2$. Similar matrix manipulation yields the following expression for the denominator : $X'\\text{diag}(D)X - 2m \\bar{x}^2$.\n",
    "\n",
    "To recover the the original formula, observe that $2m \\bar{x}^2 = X'D(\\mathbf{1}' A \\mathbf{1})^{-1}D'X = X'D(\\mathbf{1}' \\text{diag}(D) \\mathbf{1})^{-1}D'X$, whence:\n",
    "* $X'AX - 2m \\bar{x}^2 = X'\\big(A-D(\\mathbf{1}' A \\mathbf{1})^{-1}D'\\big)X$;\n",
    "* $X'\\text{diag}(D)X - 2m \\bar{x}^2 = X'\\big(A-D(\\mathbf{1}' \\text{diag}(D) \\mathbf{1})^{-1}D'\\big)X$.\n",
    "\n",
    "The assortativity coefficient for scalar values thus becomes:\n",
    "$$\\rho(x)= \\frac{X'AX - 2m \\bar{x}^2}{X'\\text{diag}(D)X - 2m \\bar{x}^2} = \\Big(\\sum_{ij}\\big(\\delta_i 1_{i=j} - \\frac{\\delta_i\\delta_j}{2m}\\big)x_i x_j\\Big)^{-1}\\sum_{ij}\\big(A_{ij} - \\frac{\\delta_i\\delta_j}{2m}\\big)x_i x_j $$"
   ]
  },
  {
   "cell_type": "code",
   "execution_count": null,
   "metadata": {
    "collapsed": false
   },
   "outputs": [],
   "source": [
    "def assortativity( A, x ) :\n",
    "## Compute the x'Ax part\n",
    "    xAx = np.dot( x, np.array( A.dot( x ) ).flatten( ) )\n",
    "##  and the x'\\text{diag}(D)x part. Note that left-multiplying a vector\n",
    "##  by a diagonal matrix is equivalent to element-wise multiplication.\n",
    "    D = np.array( A.sum( axis = 1 ), dtype = np.float ).flatten( )\n",
    "    xDx = np.dot( x, np.multiply( D, x ) )\n",
    "## numpy.average() actually normalizes the weights.\n",
    "    x_bar = np.average( x, weights = D )\n",
    "    D_sum = np.sum( D, dtype = np.float )\n",
    "    return ( xAx - D_sum * x_bar * x_bar ) / ( xDx - D_sum * x_bar * x_bar )\n",
    "# D = np.array( conn.sum( axis = 1 ), dtype = np.float ).flatten( )\n",
    "# print assortativity( conn, D )\n",
    "# S_e = np.dot( D, np.array( conn.dot( D ) ).flatten( ) )\n",
    "# S_3 = np.dot( D, np.multiply( D, D ) )\n",
    "# S_2 = np.dot( D, D )\n",
    "# S_1 = np.sum( D, dtype=np.float64 )\n",
    "# print (S_e*S_1-S_2*S_2)/(S_3*S_1-S_2*S_2)"
   ]
  },
  {
   "cell_type": "markdown",
   "metadata": {},
   "source": [
    "### Preliminary analysis"
   ]
  },
  {
   "cell_type": "markdown",
   "metadata": {},
   "source": [
    "First, a handy procedure for loading Facebook data an preprocessing it."
   ]
  },
  {
   "cell_type": "code",
   "execution_count": null,
   "metadata": {
    "collapsed": false
   },
   "outputs": [],
   "source": [
    "import scipy.io\n",
    "def loadmat( name, preprocess = False ) :\n",
    "    data = scipy.io.loadmat( name )\n",
    "## Read the boolean connectivity matrix and the associated data\n",
    "    A = spma.csr_matrix( data[ 'A' ], dtype = np.bool )\n",
    "## student/faculty status flag, gender, major, second major/minor (if applicable), dorm/house, year, and high school\n",
    "##  HH = { 'status':0, 'gender':1, 'major':2, 'minor':3, 'dorm':4, 'grad':5, 'school':6 }\n",
    "    info = np.array( data[ 'local_info' ], dtype = np.float)\n",
    "    if preprocess :\n",
    "        info[ info == 0 ] = np.nan\n",
    "## Preprocess graduation year. Convert occasional 1900 to NAN and\n",
    "##  pool all graduation years prior to 2002 (including) together\n",
    "##  into a single '≤2002'group.\n",
    "        info[ info[:,5] <= 1900, 5] = np.nan\n",
    "        info[ info[:,5] <= 2002, 5] = 2002\n",
    "    return A, info"
   ]
  },
  {
   "cell_type": "markdown",
   "metadata": {},
   "source": [
    "Before moving on with the analysis it is necessary to mark mising observations. In the case of the \"graduation year\" it seems logical to treat years prior to 1900 as missing as well and pool everyone, who graduated earlier that 2002 (including), into one single group."
   ]
  },
  {
   "cell_type": "code",
   "execution_count": null,
   "metadata": {
    "collapsed": false
   },
   "outputs": [],
   "source": [
    "A, I = loadmat( './data/universities/Texas80.mat' )\n",
    "g, c = np.unique( I[:, 5], return_counts = True )\n",
    "print 'Number of people, who graduated prior to 2002: ', np.sum( c[np.logical_and(g!=0, g<=2002)] )\n",
    "print 'Total number of people with nonmissing graduation year: ', np.sum( c[g!=0] )"
   ]
  },
  {
   "cell_type": "markdown",
   "metadata": {},
   "source": [
    "These obseravations justify pooling."
   ]
  },
  {
   "cell_type": "markdown",
   "metadata": {},
   "source": [
    "For each university let's compute and compare:\n",
    "* node degree assortativity;\n",
    "* modularity coefficient for gender, major, dormitory, year and high school."
   ]
  },
  {
   "cell_type": "code",
   "execution_count": null,
   "metadata": {
    "collapsed": false
   },
   "outputs": [],
   "source": [
    "datafiles = [\n",
    "\t'Berkeley13.mat', 'Harvard1.mat', 'Princeton12.mat',\n",
    "\t'Caltech36.mat', 'Oklahoma97.mat', 'Texas80.mat' ]\n",
    "abbreviations = [ 'BERK', 'HARV', 'PRIN', 'CIT', 'OU', 'UT' ]\n",
    "results = dict()\n",
    "for name, abbr in zip( datafiles, abbreviations ) :\n",
    "    A, I = loadmat( './data/universities/' + name, preprocess = True )\n",
    "    D = np.array( A.sum( axis = 1 ), dtype = np.float ).flatten( )\n",
    "    results[ name ] = ( str( name ), str( abbr ), assortativity( A, D ), ) + tuple( [\n",
    "        modularity( A, I[:,j], G = group_by( I[:,j], ignore_float_nan = True), assortativity = True )\n",
    "## { 'gender':1, 'major':2, 'dorm':4, 'grad':5, 'school':6 }\n",
    "            for j in [ 0, 1, 2, 4, 5, 6 ] ] )\n",
    "## Node degree assortativity coefficoent can also be calculated using:\n",
    "# S_e = np.dot( D, np.array( A.dot( D ) ).flatten( ) )\n",
    "# S_3 = np.dot( D, np.multiply( D, D ) )\n",
    "# S_2 = np.dot( D, D )\n",
    "# S_1 = np.sum( D, dtype=np.float64 )\n",
    "# (S_e*S_1-S_2*S_2)/(S_3*S_1-S_2*S_2)"
   ]
  },
  {
   "cell_type": "markdown",
   "metadata": {},
   "source": [
    "Print the table old-school way:"
   ]
  },
  {
   "cell_type": "code",
   "execution_count": null,
   "metadata": {
    "collapsed": false
   },
   "outputs": [],
   "source": [
    "print \"%16s\\tABBR\\tDEGREE\\tSTATUS\\tGENDER\\tMAJOR\\tDORM\\tGRAD\\tSCHOOL\"%\"file\"\n",
    "for k in results:\n",
    "    print \"%16s\\t%.5s\\t%+4.3f\\t%.3f\\t%.3f\\t%.3f\\t%.3f\\t%.3f\\t%.3f\" % results[k]"
   ]
  },
  {
   "cell_type": "markdown",
   "metadata": {},
   "source": [
    "The table clearly shows that:\n",
    "* friendship formation is poorly determined by either gender or the SAT score (MAJOR) across all university communities;\n",
    "* in all universities people tend to ignore high school when befreinding anyone. However OU and UT stand out relatively to others, maybe this can be explained by the fact that these universities are located in neighbouring southern states;\n",
    "* in CIT friends tend to live in acommodation of the same type, whereas collectives at PRIN and HARV tend do disregard this;\n",
    "* across all universities friendships are considerably more frequent within the same graduation year rather than between them. Especially strong sense of community in same-year alumni is noticable in HARV and PRIN;\n",
    "* the status is a major factor in making acquaintances in HARV and PRIN; in universities of technology (BERK and CIT) this assortativity is less prominent, but in general higher that in souther universities;\n",
    "* In HARV and UT popular people tend to facebook-friend other popular people more than at other universities, but stll this is not a major factor in making friends."
   ]
  }
 ],
 "metadata": {
  "kernelspec": {
   "display_name": "Python 2",
   "language": "python",
   "name": "python2"
  },
  "language_info": {
   "codemirror_mode": {
    "name": "ipython",
    "version": 2
   },
   "file_extension": ".py",
   "mimetype": "text/x-python",
   "name": "python",
   "nbconvert_exporter": "python",
   "pygments_lexer": "ipython2",
   "version": "2.7.9"
  }
 },
 "nbformat": 4,
 "nbformat_minor": 0
}
