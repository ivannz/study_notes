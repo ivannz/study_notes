{
 "cells": [
  {
   "cell_type": "markdown",
   "metadata": {},
   "source": [
    "# <center>Structural Analysis and Visualization of Networks</center>"
   ]
  },
  {
   "cell_type": "markdown",
   "metadata": {},
   "source": [
    "## <center/>Course Project #1"
   ]
  },
  {
   "cell_type": "markdown",
   "metadata": {},
   "source": [
    "### <center>Student: *Nazarov Ivan*</center>"
   ]
  },
  {
   "cell_type": "markdown",
   "metadata": {},
   "source": [
    "#### <hr /> General Information"
   ]
  },
  {
   "cell_type": "markdown",
   "metadata": {},
   "source": [
    "**Due Date:** 17.05.2015 23:59 <br \\>\n",
    "**Late submission policy:** -0.5 points per day <br \\>\n",
    "\n",
    "\n",
    "Please send your reports to <mailto:leonid.e.zhukov@gmail.com> and <mailto:shestakoffandrey@gmail.com> with message subject of the following structure:<br \\> **[HSE Networks 2015] *Nazarov* *Ivan* Project*1***\n",
    "\n",
    "Support your computations with figures and comments. <br \\>\n",
    "If you are using IPython Notebook you may use this file as a starting point of your report.<br \\>\n",
    "<br \\>\n",
    "<hr \\>"
   ]
  },
  {
   "cell_type": "markdown",
   "metadata": {},
   "source": [
    "## Description"
   ]
  },
  {
   "cell_type": "markdown",
   "metadata": {},
   "source": [
    "### Data"
   ]
  },
  {
   "cell_type": "markdown",
   "metadata": {},
   "source": [
    "As a dataset to analyse you can choose one option in the following list:\n",
    "1. Real Dataset (can be found [here](http://snap.stanford.edu/) or [here](http://konect.uni-koblenz.de/networks/))\n",
    "2. Generated Dataset. Use more complex structure rather than just a simple ER model. For instance, you may consider multilevel network, where on the lower level you have several Watts-Strogatz graphs and on the upper level these graphs are respesented as randomly connected nodes.\n",
    "3. Your data mined from Social Networks, Twitter, LiveJournal e.t.c.\n",
    "\n",
    "**The order of your dataset should be no less than $10^4$ nodes**"
   ]
  },
  {
   "cell_type": "markdown",
   "metadata": {},
   "source": [
    "### Models"
   ]
  },
  {
   "cell_type": "markdown",
   "metadata": {},
   "source": [
    "Consider one of the following models:\n",
    "1. SIR-based (or another with more than 3 letters) epidemic model\n",
    "2. Independent Cascade Model\n",
    "3. Linear Threshold Model"
   ]
  },
  {
   "cell_type": "markdown",
   "metadata": {},
   "source": [
    "### Tasks"
   ]
  },
  {
   "cell_type": "markdown",
   "metadata": {},
   "source": [
    "#### Network Descriptive Analysis"
   ]
  },
  {
   "cell_type": "markdown",
   "metadata": {},
   "source": [
    "Provide information on your netowork: Source, Descriptive Statistics, Visualization"
   ]
  },
  {
   "cell_type": "markdown",
   "metadata": {},
   "source": [
    "#### Main Task for model (1)"
   ]
  },
  {
   "cell_type": "markdown",
   "metadata": {},
   "source": [
    "You are in charge of leading the vaccination campaign against some outbroken nonlethal disease. You have options to vactinate or provide medical treatment to infected ones. However, everything has its costs:\n",
    "* Vaccination of a node costs $500 \\$$ and make it immune to the disease all life-long. Unfortunately, you can help this way only to no more than $10\\%$ of your population\n",
    "* Medical Treatment costs $120\\$$ per day of illness period, which in turn may take from $3$ to $7$ days\n",
    "\n",
    "Your task is to implement the simulation model, propose some vaccination strategies and compare them."
   ]
  },
  {
   "cell_type": "markdown",
   "metadata": {},
   "source": [
    "#### Main Task for models (2-3)"
   ]
  },
  {
   "cell_type": "markdown",
   "metadata": {},
   "source": [
    "You are running the marketing campaign for brand new pocket device. Initially you can sign contracts with a few people to advertize your gadget among their neigbours. The more \"famous\" person you are picking the greater price appears in the contract.\n",
    "* Contract cost can be calculated as $300 \\$ \\times \\text{NN}(i)$, where $\\text{NN}(i)$ is size of the neigbourhood of the person $i$.\n",
    "* You earn $250\\$$ per each affected person\n",
    "\n",
    "Your task is to maximize your influence and maximize profit of your campaign"
   ]
  },
  {
   "cell_type": "code",
   "execution_count": null,
   "metadata": {
    "collapsed": true
   },
   "outputs": [],
   "source": [
    "import networkx as nx\n",
    "import numpy as np\n",
    "import re as re\n",
    "import os\n",
    "\n",
    "import scipy.sparse as sp\n",
    "\n",
    "import matplotlib.pyplot as plt\n",
    "%matplotlib inline"
   ]
  },
  {
   "cell_type": "code",
   "execution_count": null,
   "metadata": {
    "collapsed": false
   },
   "outputs": [],
   "source": [
    "## Create a copy of the FB graph's adjacency matrix.\n",
    "if not os.path.exists( './data/proj01/facebook-wosn-links.npz' ) :\n",
    "    G = nx.read_edgelist( './data/proj01/facebook-wosn-links/out.facebook-wosn-links',\n",
    "        nodetype = int, data = ( ( 'flag', bool ), ( 'dttm', long ), ), comments = '%',\n",
    "        create_using = nx.Graph( ) )\n",
    "    A = nx.to_scipy_sparse_matrix( G )\n",
    "## http://stackoverflow.com/questions/8955448/save-load-scipy-sparse-csr-matrix-in-portable-data-format\n",
    "    np.savez( './data/proj01/facebook-wosn-links.npz',\n",
    "        data = A.data, indices = A.indices, indptr = A.indptr, shape = A.shape )"
   ]
  },
  {
   "cell_type": "code",
   "execution_count": null,
   "metadata": {
    "collapsed": true
   },
   "outputs": [],
   "source": [
    "## Load the cached adjacency matrix \n",
    "with np.load( './data/proj01/facebook-wosn-links.npz', 'r' ) as data :\n",
    "    A = sp.csr_matrix( ( data[ 'data' ], data[ 'indices' ], data[ 'indptr' ] ), shape = data[ 'shape' ] )\n",
    "# A[:, nz].tocsr( )[nz, :].tocsc( )"
   ]
  },
  {
   "cell_type": "code",
   "execution_count": null,
   "metadata": {
    "collapsed": false
   },
   "outputs": [],
   "source": [
    "## Personal U[0.1] threshold\n",
    "# theta = np.random.uniform( size = A.shape[ 0 ] )\n",
    "## Flat thershold\n",
    "theta = np.array( [ .35 ] * A.shape[ 0 ], dtype = np.float )"
   ]
  },
  {
   "cell_type": "code",
   "execution_count": null,
   "metadata": {
    "collapsed": false
   },
   "outputs": [],
   "source": [
    "def ltm_sparse( A, affected, theta, niter = np.inf ):\n",
    "    kiter = 0\n",
    "## The tick array contains the time in tick when the activation took place\n",
    "    tick = np.full( A.shape[ 0 ], np.inf, np.float )\n",
    "## Pre multiply the vertex degrees by the threshold\n",
    "    deg = np.array( A.sum( axis = 1 ).getA1( ), dtype = np.float )\n",
    "    theta_deg = theta * deg\n",
    "    while len( affected ) > 0 and kiter < niter :\n",
    "## Deferred activation\n",
    "        tick[ affected ] = kiter\n",
    "## Get the nodes which have not been affected so far\n",
    "        unaffected = np.isinf( tick ).nonzero( )[ 0 ]\n",
    "## Find the number of affected neighbours of every unaffected vertex\n",
    "        B = A[ np.isfinite( tick ), : ].tocsc( )[ :, unaffected ].sum( axis = 0 )\n",
    "## Activate whenver the share of affected exceeds the threshold\n",
    "        affected = unaffected[ B.getA1( ) > theta_deg[ unaffected ] ]\n",
    "## Next simulation tick\n",
    "        kiter += 1\n",
    "## Return the tick of simulation when a node was activated. If the tick\n",
    "##  is infinite, then the vertex has not been affected at all.\n",
    "    return tick, deg"
   ]
  },
  {
   "cell_type": "code",
   "execution_count": null,
   "metadata": {
    "collapsed": true
   },
   "outputs": [],
   "source": [
    "def profit( tick, deg, rate = 0.0, a = 250.0, b = 300.0 ) :\n",
    "    discount = 1.0 / ( 1.0 + rate )\n",
    "    t, n = np.unique( tick, return_counts = True )\n",
    "    return np.sum( a * n[ t > 0 ] * ( discount ** t[ t > 0 ] ) ) - b * np.sum( deg[ tick == 0 ] )"
   ]
  },
  {
   "cell_type": "code",
   "execution_count": null,
   "metadata": {
    "collapsed": false
   },
   "outputs": [],
   "source": [
    "seed = np.random.choice( G.number_of_nodes( ), size = 10000, replace = False )\n",
    "tick, deg = ltm_sparse( A.tocsr( ), seed, theta )\n",
    "print tick[ np.isfinite( tick ) ]\n",
    "print profit( tick, deg, rate = 0 )"
   ]
  },
  {
   "cell_type": "code",
   "execution_count": null,
   "metadata": {
    "collapsed": false,
    "scrolled": false
   },
   "outputs": [],
   "source": [
    "plt.plot( *np.unique( tick, return_counts = True ), color = 'black', linewidth = 2 )"
   ]
  },
  {
   "cell_type": "code",
   "execution_count": null,
   "metadata": {
    "collapsed": true
   },
   "outputs": [],
   "source": []
  },
  {
   "cell_type": "markdown",
   "metadata": {},
   "source": [
    "<hr/>"
   ]
  },
  {
   "cell_type": "code",
   "execution_count": null,
   "metadata": {
    "collapsed": false
   },
   "outputs": [],
   "source": [
    "from collections import deque\n",
    "## The graph's vertices must be numbered from zero.\n",
    "def bfs_spread( G, seed, theta = 0.5, niter = 1000 ) :\n",
    "\tdeg = np.zeros( G.number_of_nodes( ), np.int )\n",
    "## Initalize the array of states\n",
    "\ttick = np.full( G.number_of_nodes( ), np.inf, np.float )\n",
    "## Cache deque operations for faster access (Python won't have to make lookups)\n",
    "\tdeq = deque.popleft ; enq = deque.extend\n",
    "## Initialize with the initial seed\n",
    "\tQ = deque( seed ) ; tick[ np.array( seed ) ] = 0\n",
    "## While the (de)queue is not empty\n",
    "\twhile Q :\n",
    "## get the first vertex to have been added\n",
    "\t\tvertex = deq( Q )\n",
    "## For each neighbour ...\n",
    "\t\tneighbours = np.array( G[ vertex ].keys( ), np.int )\n",
    "\t\tdeg[ vertex ] = len( neighbours )\n",
    "## See which neighbours have not been affected yet...\n",
    "\t\tunaffected = neighbours[ np.isinf( tick[ neighbours ] ) ]\n",
    "\t\tif len( unaffected ) :\n",
    "##  and record the ``infection'' time.\n",
    "\t\t\ttick[ unaffected ] = tick[ vertex ] + 1\n",
    "## Add it to the queue and update its distance from the source\n",
    "\t\t\tenq( Q, unaffected )\n",
    "## Perform the actual spreading\n",
    "\ttock = { t: np.nonzero( tick == t )[ 0 ] for t in np.unique( tick ) }\n",
    "# \ttuck = np.zeros( G.number_of_nodes( ), np.bool )\n",
    "# \ttuck[ tock[ 0.0 ] ] = True\n",
    "# \tkiter = 1.0\n",
    "# \twhile kiter < niter :\n",
    "# \t\tancestors = tock[ kiter - 1.0 ]\n",
    "# \t\tkiter += 1\n",
    "# np.concatenate( [ po.get( s, np.array( 0, np.float ) ) for s in po.keys( ) if s < 2.0 ] )\n",
    "\treturn tick, tock"
   ]
  },
  {
   "cell_type": "code",
   "execution_count": null,
   "metadata": {
    "collapsed": true
   },
   "outputs": [],
   "source": [
    "import scipy.io\n",
    "data = scipy.io.loadmat( name )\n",
    "## Read the boolean connectivity matrix and the associated data\n",
    "A = spma.csr_matrix( data[ 'A' ], dtype = np.bool )"
   ]
  }
 ],
 "metadata": {
  "kernelspec": {
   "display_name": "Python 2",
   "language": "python",
   "name": "python2"
  },
  "language_info": {
   "codemirror_mode": {
    "name": "ipython",
    "version": 2
   },
   "file_extension": ".py",
   "mimetype": "text/x-python",
   "name": "python",
   "nbconvert_exporter": "python",
   "pygments_lexer": "ipython2",
   "version": "2.7.9"
  }
 },
 "nbformat": 4,
 "nbformat_minor": 0
}
