{
 "cells": [
  {
   "cell_type": "code",
   "execution_count": null,
   "metadata": {
    "collapsed": false,
    "slideshow": {
     "slide_type": "skip"
    }
   },
   "outputs": [],
   "source": [
    "import numpy as np\n",
    "import networkx as nx\n",
    "from matplotlib import pyplot as plt\n",
    "%matplotlib inline\n",
    "import warnings\n",
    "warnings.filterwarnings( 'ignore' )"
   ]
  },
  {
   "cell_type": "markdown",
   "metadata": {
    "slideshow": {
     "slide_type": "skip"
    }
   },
   "source": [
    "## ToDo"
   ]
  },
  {
   "cell_type": "markdown",
   "metadata": {
    "slideshow": {
     "slide_type": "skip"
    }
   },
   "source": [
    "1. Your Network Summary  \n",
    "    * Network source and preprocessing\n",
    "    * Node/Edge attributes\n",
    "    * Size, Order\n",
    "    * Gorgeous network layout. Try to show that your network has some structure, play with node sizes and colors, scaling parameters, tools like Gephi may be useful here\n",
    "    * Degree distribution, Diameter, Clustering Coefficient\n",
    "2. Structural Analysis  \n",
    "    * Degree/Closeness/Betweenness centralities. Top nodes interpretation\n",
    "    * Page-Rank. Comparison with centralities\n",
    "    * Assortative Mixing according to node attributes\n",
    "    * Node structural equivalence/similarity\n",
    "3. Community Detection  \n",
    "    * Clique search\n",
    "    * Best results of various community detection algorithms, both in terms of interpretation and some quality criterion. Since Networkx has no community detection algorithms, use additional modules e.g. igraph, communities, graph-tool, etc\n",
    "    * The results should be visible on the network layout or adjacency matrix picture"
   ]
  },
  {
   "cell_type": "markdown",
   "metadata": {
    "slideshow": {
     "slide_type": "slide"
    }
   },
   "source": [
    "# <center>Structural Analysis and Visualization of Networks</center>"
   ]
  },
  {
   "cell_type": "markdown",
   "metadata": {},
   "source": [
    "## <center>Analysis of facebook graph</center>"
   ]
  },
  {
   "cell_type": "markdown",
   "metadata": {},
   "source": [
    "### <center>Student: *Nazarov Ivan*</center>"
   ]
  },
  {
   "cell_type": "markdown",
   "metadata": {
    "slideshow": {
     "slide_type": "slide"
    }
   },
   "source": [
    "## Summary\n",
    "### Network source\n",
    "This graph shows friend relationships among the people in mu facebook friends list. The newtork was obtained by Netviz facebook app. A purely technical step, but prior to loading with the networkx procedure $\\text{read_gml}(\\cdot)$ the GML-file was preprocessd to convert UTF-8 encoding into special HTML entities. In fact the problem seems to be rooted in the software used to crawl the facebook network. \n",
    "\n",
    "### Attributes\n",
    "The nodes have a short list of attributes which are \n",
    "* gender;\n",
    "* number of posts on the wall;\n",
    "* locale, which represents the language setting of that nodes's facebook page.\n",
    "\n",
    "The network does not have any edge attrbiutes"
   ]
  },
  {
   "cell_type": "code",
   "execution_count": null,
   "metadata": {
    "collapsed": false,
    "slideshow": {
     "slide_type": "skip"
    }
   },
   "outputs": [],
   "source": [
    "G = nx.read_gml( path =\n",
    "\t\"./data/ha5/huge_100004196072232_2015_03_24_11_20_1d58b0ecdf7713656ebbf1a177e81fab.gml\", relabel = False )"
   ]
  },
  {
   "cell_type": "markdown",
   "metadata": {
    "slideshow": {
     "slide_type": "-"
    }
   },
   "source": [
    "The order of a network $G=(V,E)$ is $|V|$ and the size is $|E|$."
   ]
  },
  {
   "cell_type": "code",
   "execution_count": null,
   "metadata": {
    "collapsed": false,
    "slideshow": {
     "slide_type": "-"
    }
   },
   "outputs": [],
   "source": [
    "print \"The network G is of the order %d. Its size is %d.\" % ( G.number_of_nodes( ), G.number_of_edges( ) )"
   ]
  },
  {
   "cell_type": "markdown",
   "metadata": {},
   "source": [
    "### Visualisation"
   ]
  },
  {
   "cell_type": "markdown",
   "metadata": {
    "slideshow": {
     "slide_type": "slide"
    }
   },
   "source": [
    "It is always good to have a nice and attractive picture in a study. "
   ]
  },
  {
   "cell_type": "code",
   "execution_count": null,
   "metadata": {
    "collapsed": false
   },
   "outputs": [],
   "source": [
    "deg = G.degree( )\n",
    "fig = plt.figure( figsize = (12,8) )\n",
    "axs = fig.add_subplot( 1,1,1, axisbg = 'black' )\n",
    "nx.draw_networkx( G, with_labels = False, ax = axs,\n",
    "     cmap = plt.cm.Purples, node_color = deg.values( ), edge_color = \"magenta\",\n",
    "     nodelist = deg.keys( ), node_size = [ 100 * np.log( d + 1 ) for d in deg.values( ) ],\n",
    "     pos = nx.fruchterman_reingold_layout( G ), )"
   ]
  },
  {
   "cell_type": "markdown",
   "metadata": {
    "slideshow": {
     "slide_type": "slide"
    }
   },
   "source": [
    "Let's have a look at connected components, since the plot suggests, that the graph is not connected."
   ]
  },
  {
   "cell_type": "code",
   "execution_count": null,
   "metadata": {
    "collapsed": false
   },
   "outputs": [],
   "source": [
    "CC = sorted( nx.connected_components( G ), key = len, reverse = True )\n",
    "for i, c in enumerate( CC, 1 ):\n",
    "    row = \", \".join( [ G.node[ n ][ 'label' ] for n in c] )\n",
    "    print \"%#2d (%d)\\t\"%(i, len(c)), ( row )[:100].strip() + (\" ...\" if len( row ) > 100 else \"\" )"
   ]
  },
  {
   "cell_type": "markdown",
   "metadata": {},
   "source": [
    "The largest community connected component represents family, my acquaintances at shool ($\\leq 2003$) and in university ($2003-2009$) and the second largest component are people I met at Oxford Royale Summer School in 2012. The one-node are either old acquaintances, select colleagues from work, instructors et c.  "
   ]
  },
  {
   "cell_type": "markdown",
   "metadata": {
    "slideshow": {
     "slide_type": "slide"
    }
   },
   "source": [
    "Since the largest component is an order of magnitude larger than hte next biggest, I decide to focus just on it, rather than the whole network. In fact this convers almost $\\frac{91}{121}\\approx 75\\%$ of vertices, and $\\frac{1030}{1091} \\approx 94\\%$ of edges."
   ]
  },
  {
   "cell_type": "code",
   "execution_count": null,
   "metadata": {
    "collapsed": false
   },
   "outputs": [],
   "source": [
    "H = G.subgraph( CC[ 0 ] )\n",
    "print \"The largest component is of the order %d. Its size is %d.\" % ( H.number_of_nodes( ), H.number_of_edges( ) )"
   ]
  },
  {
   "cell_type": "markdown",
   "metadata": {},
   "source": [
    "Let's plot the subgraph and study the its degree distribution."
   ]
  },
  {
   "cell_type": "code",
   "execution_count": null,
   "metadata": {
    "collapsed": false,
    "slideshow": {
     "slide_type": "slide"
    }
   },
   "outputs": [],
   "source": [
    "deg = H.degree( )\n",
    "fig = plt.figure( figsize = (16, 6) )\n",
    "axs = fig.add_subplot( 1,2,1, axisbg = 'black', title = \"Master cluster\", )\n",
    "pos = nx.fruchterman_reingold_layout( H )\n",
    "nx.draw_networkx( H, with_labels = False, ax = axs,\n",
    "     cmap = plt.cm.Oranges, node_color = deg.values( ), edge_color = \"cyan\",\n",
    "     nodelist = deg.keys( ), node_size = [ d * 10 for d in deg.values( ) ],\n",
    "     pos = pos )\n",
    "## Degree distribution\n",
    "v, f = np.unique( nx.degree( H ).values( ), return_counts = True)\n",
    "axs = fig.add_subplot( 1,2,2, xlabel = \"Degree\", ylabel = \"Frequency\", title = \"Node degree frequency\" )\n",
    "axs.plot( v, f, \"ob\" )"
   ]
  },
  {
   "cell_type": "markdown",
   "metadata": {
    "slideshow": {
     "slide_type": "slide"
    }
   },
   "source": [
    "### Degree distribution\n",
    "A useful tool for exploring the tail behaviour of sample is the **M**ean **E**xcess plot, defined as the  \n",
    "\n",
    "$$M(u) = \\mathbb{E}\\Big(\\Big. X-u\\,\\big.\\big\\rvert\\,X\\geq u \\Big.\\Big)$$\n",
    "of which the emprical counterpart is  \n",
    "$$\\hat{M}(u) = {\\Big(\\sum_{i=1}^n 1_{x_i\\geq u}\\Big)^{-1}}\\sum_{i=1}^n (x_i-u) 1_{x_i\\geq u}$$\n",
    "The key properties of $M(u)$ are\n",
    " * it steadily increases for power-law tails and the steeper the slope the smaller is the exponent;\n",
    " * it levels for exponential tails (heurstically: the case when $\\alpha\\to \\infty$ is similar to an exponential tail);\n",
    " * it decays towards zero for a tail of a compactly supported distribution.\n",
    "When dealing with the empirical mean-excesses one looks for the trend in the large thresholds to discern behaviour, necessarily bearing in mind that in that region the varinace of the $\\hat{M}(u)$ grows."
   ]
  },
  {
   "cell_type": "code",
   "execution_count": null,
   "metadata": {
    "collapsed": false,
    "slideshow": {
     "slide_type": "skip"
    }
   },
   "outputs": [],
   "source": [
    "from scipy.stats import rankdata\n",
    "def mean_excess( data ) :\n",
    "    data = np.array( sorted( data, reverse = True ) )\n",
    "    ranks = rankdata( data, method = 'max' )\n",
    "    excesses = np.array( np.unique( len( data ) - ranks ), dtype = np.int )\n",
    "    thresholds = data[ excesses ]\n",
    "    mean_excess = np.cumsum( data )[ excesses ] / ( excesses + 0.0 ) - thresholds\n",
    "    return thresholds, mean_excess"
   ]
  },
  {
   "cell_type": "code",
   "execution_count": null,
   "metadata": {
    "collapsed": false,
    "slideshow": {
     "slide_type": "slide"
    }
   },
   "outputs": [],
   "source": [
    "plt.figure( figsize = ( 8, 6 ) ) \n",
    "u, m = mean_excess( H.degree().values() )\n",
    "plt.plot( u, m, lw = 2 )\n",
    "plt.title( \"Mean Excess polt of node-degree\" )\n",
    "plt.xlabel( \"Threshold\" )\n",
    "plt.ylabel( \"Expected excess over the threshold\")"
   ]
  },
  {
   "cell_type": "markdown",
   "metadata": {},
   "source": [
    "The Mean Excess plot does seems to indicate that the node degree does not follow a scale free distribution. Indeed, the plot levels off as ita approaches the value $50$. The rightmost spike is in the region where the variance of the estimate of the conditional expectation is extremely high, which is why this artefact of finite sample may be ignored."
   ]
  },
  {
   "cell_type": "markdown",
   "metadata": {
    "slideshow": {
     "slide_type": "slide"
    }
   },
   "source": [
    "### Clustering tightness\n",
    "The average clustering coefficient of a graph $G=(V,E)$ is defined by the following formula :  \n",
    "\n",
    "$$\\bar{c} = \\frac{1}{n}\\sum_{x\\in V}c_x$$\n",
    "where $n=|V|$ and $c_x$ is the local clustering coefficient of vertex $x\\in V$ defined below.\n",
    "\n",
    "The local (trinagular) clustering coefficient of a node $x\\in V$ is defined as the ratio of the number of unique edge triangles containing $x$ to the number of unique triangles a vertex has in a complete graph of order $\\delta_x$ -- the degree of $x$ in $G$.\n",
    "\n",
    "The expression for $c_x$ is\n",
    "$$c_x = \\frac{1}{\\delta_x (\\delta_x-1)} \\sum_{u\\neq x} \\sum_{v\\neq x,u} 1_{xu} 1_{uv} 1_{vx} = \\frac{1}{\\delta_x (\\delta_x-1)} \\#_{x}$$  \n",
    "\n",
    "where $1_{ij}$ is the indicator equal to $1$ if the edge (undirected) $(i,j)\\in E$ and $0$ otherwise."
   ]
  },
  {
   "cell_type": "code",
   "execution_count": null,
   "metadata": {
    "collapsed": false
   },
   "outputs": [],
   "source": [
    "print \"This subgraph's clustering coefficient is %.3f.\" % nx.average_clustering( H )\n",
    "print \"This subgraph's average shortest path length is %.3f.\" % nx.average_shortest_path_length( H )\n",
    "print \"The radius (maximal distance) is %d.\" % nx.radius( H )"
   ]
  },
  {
   "cell_type": "markdown",
   "metadata": {},
   "source": [
    "The clustering coefficient is moderately high and any two members in this component are 2 hops away from each other on average. This means that this subgraph has a tightly knit cluster structure, almost a like small world, were it not for the light-tailed degreee distribution. "
   ]
  },
  {
   "cell_type": "markdown",
   "metadata": {
    "slideshow": {
     "slide_type": "slide"
    }
   },
   "source": [
    "## Structural analysis"
   ]
  },
  {
   "cell_type": "markdown",
   "metadata": {},
   "source": [
    "### Centrality measures\n",
    "#### Degree\n",
    "The degree centrality measure of a node $v\\in V$ in graph $G=\\big(V, E\\big)$ is the sum of all edges incident on it:\n",
    "\n",
    "$$C_v = \\sum_{u\\in V} 1_{(v,u)\\in E} = \\sum_{u\\in V} A_{vu} = \\delta_v$$\n",
    "\n",
    "In other words the more 1st-tier (nearest, reachable in one hop) negihbours a vertex has the higher its centrality is.\n",
    "\n",
    "#### Betweenness\n",
    "This measure assesses how important a node is in terms of the global graph connectivity:\n",
    "\n",
    "$$C_B(v) = \\sum_{s\\neq v\\neq t\\in V} \\frac{\\sigma_{st}(v)}{\\sigma_{st}}$$\n",
    "\n",
    "where $\\sigma_{st}(v)$ is the number of **shortest** paths from $s$ to $t$ passing through $v$, while $\\sigma_{st}$ is the total number of paths of least legnth connecting $s$ and $t$. \n",
    "\n",
    "High local centrality means that a node is in direct contact with many other nodes, whereas low centrality indicates a periphrial vertex. "
   ]
  },
  {
   "cell_type": "markdown",
   "metadata": {},
   "source": [
    "Alogn with these local measures, compute the centrality closeness and the PageRank ranking."
   ]
  },
  {
   "cell_type": "code",
   "execution_count": null,
   "metadata": {
    "collapsed": false,
    "slideshow": {
     "slide_type": "skip"
    }
   },
   "outputs": [],
   "source": [
    "pr = nx.pagerank_numpy( H, alpha = 0.85 )\n",
    "cb = nx.centrality.betweenness_centrality( H )\n",
    "cc = nx.centrality.closeness_centrality( H )\n",
    "cd = nx.centrality.degree_centrality( H )"
   ]
  },
  {
   "cell_type": "markdown",
   "metadata": {
    "slideshow": {
     "slide_type": "slide"
    }
   },
   "source": [
    "#### the Mixing coefficient\n",
    "\n",
    "The mixing coefficient for a numerical node attribute $X = \\big(x_i\\big)$ in an undirected graph $G$, with the adjacency matrix $A$, is defined as\n",
    "\n",
    "$$\\rho(x) = \\frac{\\text{cov}}{\\text{var}} = \\frac{\\sum_{ij}A_{ij}(x_i-\\bar{x})(x_j-\\bar{x})}{\\sum_{ij}A_{ij}(x_i-\\bar{x})^2} $$\n",
    "\n",
    "where $\\bar{x} = \\frac{1}{2m}\\sum_i \\delta_i x_i$ is the mean value of $X$ weighted by vertex degree. Note that $A$ is necessarily symmetric. This coefficient can be represented in the matrix notation as  \n",
    "\n",
    "$$\\rho(x) = \\frac{X'AX - 2m \\bar{x}^2}{X'\\text{diag}(D)X - 2m \\bar{x}^2} $$\n",
    "\n",
    "where the diagonal matrix $\\text{diag}(D)$ is the matrix of vertex degrees, and the value $\\bar{x}$ is the sample mean of the numerical node attribute $X$."
   ]
  },
  {
   "cell_type": "code",
   "execution_count": null,
   "metadata": {
    "collapsed": false,
    "slideshow": {
     "slide_type": "skip"
    }
   },
   "outputs": [],
   "source": [
    "def assortativity( G, X ) :\n",
    "## represent the graph in an adjacency matrix form\n",
    "    A = nx.to_numpy_matrix( G, dtype = np.float, nodelist = G.nodes( ) )\n",
    "## Convert x -- dictionary to a numpy vector\n",
    "    x = np.array( [ X[ n ] for n in G.nodes( ) ] , dtype = np.float )\n",
    "## Compute the x'Ax part\n",
    "    xAx = np.dot( x, np.array( A.dot( x ) ).flatten( ) )\n",
    "##  and the x'\\text{diag}(D)x part. Note that left-multiplying a vector\n",
    "##  by a diagonal matrix is equivalent to element-wise multiplication.\n",
    "    D = np.array( A.sum( axis = 1 ), dtype = np.float ).flatten( )\n",
    "    xDx = np.dot( x, np.multiply( D, x ) )\n",
    "## numpy.average( ) actually normalizes the weights.\n",
    "    x_bar = np.average( x, weights = D )\n",
    "    D_sum = np.sum( D, dtype = np.float )\n",
    "    return ( xAx - D_sum * x_bar * x_bar ) / ( xDx - D_sum * x_bar * x_bar )"
   ]
  },
  {
   "cell_type": "markdown",
   "metadata": {},
   "source": [
    "Let's compute the assortativity for the centralities, pagerank vector, vertex degrees and node attributes."
   ]
  },
  {
   "cell_type": "code",
   "execution_count": null,
   "metadata": {
    "collapsed": false,
    "slideshow": {
     "slide_type": "slide"
    }
   },
   "outputs": [],
   "source": [
    "print \"PageRank assortativity coefficient: %.3f\" % assortativity( H, nx.pagerank_numpy( H, alpha = 0.85 ) )\n",
    "print \"Betweenness centrality assortativity coefficient: %.3f\" % assortativity( H, nx.centrality.betweenness_centrality( H ) )\n",
    "print \"Closenesss centrality assortativity coefficient: %.3f\" % assortativity( H, nx.centrality.closeness_centrality( H ) )\n",
    "print \"Degree assortativity coefficient: %.3f\" % assortativity( H, nx.centrality.degree_centrality( H ) )"
   ]
  },
  {
   "cell_type": "code",
   "execution_count": null,
   "metadata": {
    "collapsed": false
   },
   "outputs": [],
   "source": [
    "print \"Gender assortativity coefficient: %.3f\" % nx.assortativity.attribute_assortativity_coefficient( H, 'sex' )\n",
    "print \"Agerank assortativity coefficient: %.3f\" % assortativity( H, nx.get_node_attributes( H, 'agerank') )\n",
    "print \"Language assortativity coefficient: %.3f\" % nx.assortativity.attribute_assortativity_coefficient( H, 'locale' )\n",
    "print \"Number of posts on the wall assortativity coefficient: %.3f\" % nx.assortativity.attribute_assortativity_coefficient( H, 'wallcount' )"
   ]
  },
  {
   "cell_type": "markdown",
   "metadata": {},
   "source": [
    "This component does not show segregation patterns in connectivity, as the computed coefficinets do indicate that neither that \"opposites\", nor that \"kindred spritis\" attach.  The noticably high values of degree centrality is probably due to the component already having a tight cluster structure."
   ]
  },
  {
   "cell_type": "markdown",
   "metadata": {
    "slideshow": {
     "slide_type": "slide"
    }
   },
   "source": [
    "### Node Rankings"
   ]
  },
  {
   "cell_type": "markdown",
   "metadata": {
    "slideshow": {
     "slide_type": "skip"
    }
   },
   "source": [
    "It is sometimes interesting to look at a table representation of a symmetric distance matrix. The procedure below prints a matrix in a more straightforward format."
   ]
  },
  {
   "cell_type": "code",
   "execution_count": null,
   "metadata": {
    "collapsed": false,
    "slideshow": {
     "slide_type": "skip"
    }
   },
   "outputs": [],
   "source": [
    "## Print the upper triangle of a symmetric matrix in reverse column order\n",
    "def show_symmetric_matrix( A, labels, diag = False ) :\n",
    "    d = 0 if diag else 1\n",
    "    c = len( labels ) - d\n",
    "    print \"\\t\", \"\\t\".join( c * [ \"%.3s\" ] ) % tuple( labels[ d: ][ ::-1 ] )\n",
    "    for i, l in enumerate( labels if diag else labels[ :-1 ] ) :\n",
    "        print ( ( \"%4s\\t\" % l ) + \"\\t\".join( ( c - i ) * [ \"%.3f\" ] ) %\n",
    "                tuple( rank_dist[ i,i+d: ][ ::-1 ] ) )"
   ]
  },
  {
   "cell_type": "markdown",
   "metadata": {},
   "source": [
    "It actually interesting, to compare the ordering produced by different vertex-ranking algorithms. The most direct way is to analyse pariwise Spearman's $\\rho$, since it compares the rank-transformation of one vector of observed data to another."
   ]
  },
  {
   "cell_type": "code",
   "execution_count": null,
   "metadata": {
    "collapsed": false,
    "slideshow": {
     "slide_type": "-"
    }
   },
   "outputs": [],
   "source": [
    "from scipy.spatial.distance import pdist, squareform\n",
    "from scipy.stats import spearmanr as rho\n",
    "labels = [ 'btw', 'deg', 'cls', 'prk' ]\n",
    "align = lambda dd : np.array( [ dd[ n ] for n in H.nodes( ) ], dtype = np.float )\n",
    "rank_dist = squareform( pdist(\n",
    "    [ align( cb ), align( cd ), align( cc ), align( pr ) ],\n",
    "        metric = lambda a, b : rho(a,b)[0] ) )\n",
    "show_symmetric_matrix( rank_dist, labels )"
   ]
  },
  {
   "cell_type": "markdown",
   "metadata": {},
   "source": [
    "The rankings match each other very closely!"
   ]
  },
  {
   "cell_type": "markdown",
   "metadata": {
    "slideshow": {
     "slide_type": "slide"
    }
   },
   "source": [
    "### Commutnity detection"
   ]
  },
  {
   "cell_type": "markdown",
   "metadata": {},
   "source": [
    "A $k$-clique commutniy detection method considers a set of nodes a community if its maximal clique is of order $k$, all nodes are parto of at least one $k$-clique and all $k$-cliques overlap by at least $k-1$ vertrices."
   ]
  },
  {
   "cell_type": "code",
   "execution_count": null,
   "metadata": {
    "collapsed": false,
    "slideshow": {
     "slide_type": "skip"
    }
   },
   "outputs": [],
   "source": [
    "kcq = list( nx.community.k_clique_communities( H, 3 ) )"
   ]
  },
  {
   "cell_type": "markdown",
   "metadata": {},
   "source": [
    "Label propagation algorithm, initially assigns unique labels to each node, and the relabels nodes in random order until stabilization.\n",
    "New label corresponds to the label, which the largest number of neighbours has.\n",
    "\n",
    "Code borrowed from **lpa.py** by **Tyler Rush**, which can be found at [networkx-devel](https://groups.google.com/forum/#!topic/networkx-devel/J1HCjv74RGE). The procedure is an implementation of the idea in:\n",
    "* **Cordasco, G., & Gargano, L. (2012)**. _Label propagation algorithm: a semi-synchronous approach_. International Journal of Social Network Mining, 1(1), 3-26.\n"
   ]
  },
  {
   "cell_type": "code",
   "execution_count": null,
   "metadata": {
    "collapsed": false,
    "slideshow": {
     "slide_type": "skip"
    }
   },
   "outputs": [],
   "source": [
    "import lpa\n",
    "lab = lpa.semisynchronous_prec_max( H )"
   ]
  },
  {
   "cell_type": "markdown",
   "metadata": {
    "slideshow": {
     "slide_type": "slide"
    }
   },
   "source": [
    "[Markov Cluster Algorithm](http://micans.org/mcl/) (MCL).\n",
    "**Input:** Transition matrix $T = D^{-1}A$  \n",
    "**Output:** Adjacency matrix $M^*$  \n",
    "1. Set $M = T$\n",
    "2. **repeat:**\n",
    "    3. *Expansion Step:* $M = M^p$ (usually $p=2$)\n",
    "    4. *Inflation Step:* Raise every entry of $M$ to the power $\\alpha$ (usualy $\\alpha=2$)\n",
    "    5. *Renormalize:* Normalize each row by its sum\n",
    "    6. *Prunning:* Replace entries that are close to $0$ by pure $0$\n",
    "7. **until** $M$ converges\n",
    "8. $M^* = M$"
   ]
  },
  {
   "cell_type": "code",
   "execution_count": null,
   "metadata": {
    "collapsed": false,
    "slideshow": {
     "slide_type": "skip"
    }
   },
   "outputs": [],
   "source": [
    "def mcl_iter( A, p = 2, alpha = 2, theta = 1e-8, rel_eps = 1e-4, niter = 10000 ) :\n",
    "## Convert A into a transition kernel: M_{ij} is the probability of making a transition from i to j.\n",
    "    M = np.multiply( 1.0 / A.sum( axis = 1, dtype = np.float64 ).reshape(-1,1), A )\n",
    "    i = 0 ; status = -1\n",
    "    while i < niter :\n",
    "        M_prime = M.copy( )\n",
    "## Expansion step: M_{ij} is the probability of reaching a vertex j from i in p hops.\n",
    "        M = np.linalg.matrix_power( M, p )\n",
    "## Pruning: make paths with low transition probability into almost surely unused.\n",
    "        M[ np.abs( M ) < theta ] = 0\n",
    "## Inflation step: dampen the probabilites\n",
    "        M = np.power( M, alpha )\n",
    "## Renormalisation step: make the matrix into a stochastic transition kernel\n",
    "        N = M.sum( axis = 1, dtype = np.float64 )\n",
    "## If a nan is encountered, then abort\n",
    "        if np.any( np.isnan( N ) ) :\n",
    "            status = -2\n",
    "            break\n",
    "        M = np.multiply( 1.0 / N.reshape(-1,1), M )\n",
    "## Convergence criterion is the L1 norm of relative divergence of transition probabilities\n",
    "        if np.sum( np.abs( M - M_prime ) / ( np.abs( M_prime ) + rel_eps ) ) < rel_eps :\n",
    "            status = 0\n",
    "            break\n",
    "## Advance to the next iteration\n",
    "        i += 1\n",
    "    return ( M, (status, i) )\n",
    "\n",
    "def extract_communities( M, lengths = True ) :\n",
    "## It is extected that the MCL matrix detects communities in columns\n",
    "    C = list( ) ; i0 = 0\n",
    "    if np.any( np.isnan( M ) ) :\n",
    "        return C\n",
    "## Find all indices of nonzero elements\n",
    "    r, c = np.where( np.array( M ) )\n",
    "## Sort them by the column index and find the community sizes\n",
    "    r = r[ np.argsort( c ) ]\n",
    "    u = np.unique( c, return_counts = True )\n",
    "    if np.sum( u[ 1 ] ) > M.shape[ 1 ] :\n",
    "        return C\n",
    "    if lengths :\n",
    "        return u[ 1 ]\n",
    "## Columns indices of nonzero entries are ordered, so we just need to\n",
    "##  sweep across the sizes\n",
    "    for s in u[ 1 ] :\n",
    "## Row indices for a column with a nonzero element are the indices of\n",
    "##  nodes in the community.\n",
    "        list.append( C, r[ i0:i0+s ] )\n",
    "        i0 += s\n",
    "    return C\n",
    "\n",
    "def make_labels( com, mapper = None ) :\n",
    "    dd = dict( )\n",
    "    for i, c in enumerate( com, 1 ) :\n",
    "        for k in c :\n",
    "            if mapper is not None :\n",
    "                dd[ mapper[ k ] ] = i\n",
    "            else :\n",
    "                dd[ k ] = i      \n",
    "    return dd"
   ]
  },
  {
   "cell_type": "markdown",
   "metadata": {
    "slideshow": {
     "slide_type": "slide"
    }
   },
   "source": [
    "Let's check how the Markov Clustering Algorithm fares against $k$-clique, and vertex labelling."
   ]
  },
  {
   "cell_type": "code",
   "execution_count": null,
   "metadata": {
    "collapsed": false,
    "slideshow": {
     "slide_type": "slide"
    }
   },
   "outputs": [],
   "source": [
    "fig = plt.figure( figsize = (12, 8) )\n",
    "axs = fig.add_subplot( 1,1,1, axisbg = 'black', title = \"Master cluster\", )\n",
    "A = nx.to_numpy_matrix( H, dtype = np.float, nodelist = nx.spectral_ordering( H ) )\n",
    "C, _ = mcl_iter( A )\n",
    "mcl = extract_communities( C, lengths = False)\n",
    "axs.spy( A, color = \"gold\", markersize = 15, marker = '.' )\n",
    "axs.spy( C, color = \"magenta\", markersize = 10, marker = '.' )\n",
    "for i, c in enumerate( kcq, 1 ):\n",
    "    row = \", \".join( [ G.node[ n ][ 'label' ] for n in c] )\n",
    "    print \"%#2d (%d)\\t\"%(i, len(c)), ( row )[:100].strip() + (\" ...\" if len( row ) > 100 else \"\" )"
   ]
  },
  {
   "cell_type": "code",
   "execution_count": null,
   "metadata": {
    "collapsed": false,
    "slideshow": {
     "slide_type": "slide"
    }
   },
   "outputs": [],
   "source": [
    "fig = plt.figure( figsize = (12, 8) )\n",
    "axs = fig.add_subplot( 1,1,1, axisbg = 'black', title = \"Master cluster: 5-clique community\", )\n",
    "\n",
    "kcq = list( nx.community.k_clique_communities( H, 5 ) )\n",
    "deg = make_labels( kcq )\n",
    "nx.draw_networkx( H, with_labels = False, ax = axs,\n",
    "     cmap = plt.cm.Reds, node_color = deg.values( ), edge_color = \"cyan\",\n",
    "     nodelist = deg.keys( ), node_size = 200, pos = pos )\n",
    "for i, c in enumerate( kcq, 1 ):\n",
    "    row = \", \".join( [ G.node[ n ][ 'label' ] for n in c] )\n",
    "    print \"%#2d (%d)\\t\"%(i, len(c)), ( row )[:100].strip() + (\" ...\" if len( row ) > 100 else \"\" )"
   ]
  },
  {
   "cell_type": "code",
   "execution_count": null,
   "metadata": {
    "collapsed": false,
    "slideshow": {
     "slide_type": "slide"
    }
   },
   "outputs": [],
   "source": [
    "fig = plt.figure( figsize = (12, 8) )\n",
    "axs = fig.add_subplot( 1,1,1, axisbg = 'black', title = \"Master cluster: 7-clique community\", )\n",
    "\n",
    "kcq = list( nx.community.k_clique_communities( H, 7 ) )\n",
    "deg = make_labels( kcq )\n",
    "nx.draw_networkx( H, with_labels = False, ax = axs,\n",
    "     cmap = plt.cm.Reds, node_color = deg.values( ), edge_color = \"cyan\",\n",
    "     nodelist = deg.keys( ), node_size = 200, pos = pos )\n",
    "for i, c in enumerate( kcq, 1 ):\n",
    "    row = \", \".join( [ G.node[ n ][ 'label' ] for n in c] )\n",
    "    print \"%#2d (%d)\\t\"%(i, len(c)), ( row )[:100].strip() + (\" ...\" if len( row ) > 100 else \"\" )"
   ]
  },
  {
   "cell_type": "code",
   "execution_count": null,
   "metadata": {
    "collapsed": false,
    "slideshow": {
     "slide_type": "slide"
    }
   },
   "outputs": [],
   "source": [
    "fig = plt.figure( figsize = (12, 8) )\n",
    "axs = fig.add_subplot( 1,1,1, axisbg = 'black', title = \"Master cluster: 4-clique communitites\", )\n",
    "\n",
    "kcq = list( nx.community.k_clique_communities( H, 4 ) )\n",
    "deg = make_labels( kcq )\n",
    "nx.draw_networkx( H, with_labels = False, ax = axs,\n",
    "     cmap = plt.cm.Reds, node_color = deg.values( ), edge_color = \"cyan\",\n",
    "     nodelist = deg.keys( ), node_size = 200, pos = pos )\n",
    "for i, c in enumerate( kcq, 1 ):\n",
    "    row = \", \".join( [ G.node[ n ][ 'label' ] for n in c] )\n",
    "    print \"%#2d (%d)\\t\"%(i, len(c)), ( row )[:100].strip() + (\" ...\" if len( row ) > 100 else \"\" )"
   ]
  },
  {
   "cell_type": "code",
   "execution_count": null,
   "metadata": {
    "collapsed": false,
    "slideshow": {
     "slide_type": "slide"
    }
   },
   "outputs": [],
   "source": [
    "fig = plt.figure( figsize = (12, 8) )\n",
    "axs = fig.add_subplot( 1,1,1, axisbg = 'black', title = \"Master cluster: label propagation\", )\n",
    "\n",
    "deg = make_labels( lab.values() )\n",
    "nx.draw_networkx( H, with_labels = False, ax = axs,\n",
    "     cmap = plt.cm.Reds, node_color = deg.values( ), edge_color = \"cyan\",\n",
    "     nodelist = deg.keys( ), node_size = 200, pos = pos )\n",
    "for i, c in enumerate( lab.values(), 1 ):\n",
    "    row = \", \".join( [ G.node[ n ][ 'label' ] for n in c] )\n",
    "    print \"%#2d (%d)\\t\"%(i, len(c)), ( row )[:100].strip() + (\" ...\" if len( row ) > 100 else \"\" )"
   ]
  },
  {
   "cell_type": "code",
   "execution_count": null,
   "metadata": {
    "collapsed": false,
    "slideshow": {
     "slide_type": "slide"
    }
   },
   "outputs": [],
   "source": [
    "fig = plt.figure( figsize = (12, 8) )\n",
    "axs = fig.add_subplot( 1,1,1, axisbg = 'black', title = \"Master cluster: Markov Clustering\", )\n",
    "\n",
    "mcl = extract_communities( mcl_iter( nx.to_numpy_matrix( H, dtype = np.float ), p = 2, alpha = 2 )[ 0 ], lengths = False)\n",
    "deg = make_labels( mcl, mapper = H.nodes() )\n",
    "nx.draw_networkx( H, with_labels = False, ax = axs,\n",
    "     cmap = plt.cm.Reds, node_color = deg.values( ), edge_color = \"cyan\",\n",
    "     nodelist = deg.keys( ), node_size = 200, pos = pos )\n",
    "for i, c in enumerate( mcl, 1 ):\n",
    "    row = \", \".join( [ G.node[ n ][ 'label' ] for n in c] )\n",
    "    print \"%#2d (%d)\\t\"%(i, len(c)), ( row )[:100].strip() + (\" ...\" if len( row ) > 100 else \"\" )"
   ]
  },
  {
   "cell_type": "markdown",
   "metadata": {
    "slideshow": {
     "slide_type": "slide"
    }
   },
   "source": [
    "# <center> Thank You!</center>"
   ]
  },
  {
   "cell_type": "code",
   "execution_count": null,
   "metadata": {
    "collapsed": false
   },
   "outputs": [],
   "source": []
  }
 ],
 "metadata": {
  "celltoolbar": "Slideshow",
  "kernelspec": {
   "display_name": "Python 2",
   "language": "python",
   "name": "python2"
  },
  "language_info": {
   "codemirror_mode": {
    "name": "ipython",
    "version": 2
   },
   "file_extension": ".py",
   "mimetype": "text/x-python",
   "name": "python",
   "nbconvert_exporter": "python",
   "pygments_lexer": "ipython2",
   "version": "2.7.9"
  }
 },
 "nbformat": 4,
 "nbformat_minor": 0
}
