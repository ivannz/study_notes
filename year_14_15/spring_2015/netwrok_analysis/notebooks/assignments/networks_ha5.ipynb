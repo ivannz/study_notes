{
 "cells": [
  {
   "cell_type": "markdown",
   "metadata": {},
   "source": [
    "# <center>Structural Analysis and Visualization of Networks</center>"
   ]
  },
  {
   "cell_type": "markdown",
   "metadata": {},
   "source": [
    "## <center>Final Mid-term Assignment</center>"
   ]
  },
  {
   "cell_type": "markdown",
   "metadata": {},
   "source": [
    "### <center>Student: *Nazarov Ivan*</center>"
   ]
  },
  {
   "cell_type": "markdown",
   "metadata": {},
   "source": [
    "<hr/>"
   ]
  },
  {
   "cell_type": "code",
   "execution_count": null,
   "metadata": {
    "collapsed": false
   },
   "outputs": [],
   "source": [
    "import numpy as np\n",
    "import networkx as nx\n",
    "from matplotlib import pyplot as plt\n",
    "%matplotlib inline\n",
    "import warnings\n",
    "warnings.filterwarnings( 'ignore' )"
   ]
  },
  {
   "cell_type": "code",
   "execution_count": null,
   "metadata": {
    "collapsed": false
   },
   "outputs": [],
   "source": [
    "def fw( A, pi = None ) :\n",
    "    if pi is None :\n",
    "        pi = A.copy( )\n",
    "        pi[ A == 0 ] = np.inf\n",
    "        np.fill_diagonal( pi, 0 )\n",
    "    for k in xrange( A.shape[ 0 ] ) : \n",
    "        pi = np.minimum( pi, pi[ :, k ] + pi[ k, : ] )\n",
    "    return pi"
   ]
  },
  {
   "cell_type": "markdown",
   "metadata": {},
   "source": [
    "<hr/>"
   ]
  },
  {
   "cell_type": "code",
   "execution_count": null,
   "metadata": {
    "collapsed": false
   },
   "outputs": [],
   "source": [
    "G = nx.gml.read_gml( './data/ha5/huge_100004196072232_2015_03_21_22_33_65c744356ffedcfa83bf49b64a76445a.gml' )"
   ]
  },
  {
   "cell_type": "code",
   "execution_count": null,
   "metadata": {
    "collapsed": false
   },
   "outputs": [],
   "source": [
    "fig = plt.figure( figsize = (16,12) )\n",
    "axs = fig.add_subplot( 1,1,1, axisbg = 'black' )\n",
    "nx.draw( G, pos = nx.spring_layout( G ), ax = axs, node)"
   ]
  },
  {
   "cell_type": "code",
   "execution_count": null,
   "metadata": {
    "collapsed": false
   },
   "outputs": [],
   "source": [
    "nx.is_connected(G)"
   ]
  },
  {
   "cell_type": "code",
   "execution_count": null,
   "metadata": {
    "collapsed": false
   },
   "outputs": [],
   "source": [
    "nx.to_numpy_matrix( G )"
   ]
  },
  {
   "cell_type": "code",
   "execution_count": null,
   "metadata": {
    "collapsed": false
   },
   "outputs": [],
   "source": [
    "A = nx.to_numpy_matrix( G )"
   ]
  },
  {
   "cell_type": "code",
   "execution_count": null,
   "metadata": {
    "collapsed": false
   },
   "outputs": [],
   "source": [
    "def spectral( A, T = 10, _index = None ) :\n",
    "    if _index is None :\n",
    "        _index = np.arange( A.shape[ 0 ], dtype = np.int )\n",
    "## Get the vertex degrees\n",
    "    deg = A.sum( axis = 1, dtype = np.float ).getA1( )\n",
    "## Check for isolated vertices\n",
    "    if np.any( deg == 0 ) :\n",
    "## Find nonisolated\n",
    "        nz = np.where( deg != 0 )[ 0 ]\n",
    "        return np.concatenate( ( np.where( deg == 0 )[ 0 ],\n",
    "            nz[ spectral( A[:,nz][nz,:], T = T, _index = _index[ nz ] ) ] ) )\n",
    "## Assume the matrix A has no isolated vertices\n",
    "    D = np.diag( 1.0 / deg )\n",
    "    L = np.eye( *A.shape, dtype = np.float ) - D.dot( A )\n",
    "    l, v = np.linalg.eig( L )\n",
    "    e = v[ :, np.argsort( l )[ 1 ] ].real.getA1()\n",
    "    n, p = np.where( e < 0 )[ 0 ], np.where( e >= 0 )[ 0 ]\n",
    "    if len( p ) > T :\n",
    "        p = p[ spectral( A[:,p][p,:], T = T, _index = _index[ p ] ) ]\n",
    "    if len( n ) > T :\n",
    "        n = n[ spectral( A[:,n][n,:], T = T, _index = _index[ n ] ) ]\n",
    "    if len( p ) > len( n ) :\n",
    "        p, n = n, p\n",
    "    return np.concatenate( ( n, p ) )"
   ]
  },
  {
   "cell_type": "code",
   "execution_count": null,
   "metadata": {
    "collapsed": false
   },
   "outputs": [],
   "source": [
    "pi = fw( A )\n",
    "I = nx.spectral_ordering( G )\n",
    "J = spectral( A )\n",
    "plt.subplot( 121 )\n",
    "plt.imshow( pi[:,I][I,:] )\n",
    "plt.subplot( 122 )\n",
    "plt.imshow( pi[:,J][J,:] )"
   ]
  },
  {
   "cell_type": "code",
   "execution_count": null,
   "metadata": {
    "collapsed": false
   },
   "outputs": [],
   "source": [
    "nx.spectral_ordering()"
   ]
  },
  {
   "cell_type": "code",
   "execution_count": null,
   "metadata": {
    "collapsed": false
   },
   "outputs": [],
   "source": [
    "plt.plot(e[n])\n",
    "plt.plot(e[p], '-r')"
   ]
  },
  {
   "cell_type": "code",
   "execution_count": null,
   "metadata": {
    "collapsed": false
   },
   "outputs": [],
   "source": [
    "i = np.argsort( l )[ :10 ]\n",
    "# print v[ :, i ].real\n",
    "print l[ i ]"
   ]
  },
  {
   "cell_type": "code",
   "execution_count": null,
   "metadata": {
    "collapsed": false
   },
   "outputs": [],
   "source": [
    "np.isclose( l[ i ], 0 )"
   ]
  },
  {
   "cell_type": "markdown",
   "metadata": {},
   "source": [
    "The mixing coefficient for a numerical node attribute $X = \\big(x_i\\big)$ in an undirected graph $G$, with the adjacency matrix $A$, is defined as\n",
    "\n",
    "$$\\rho(x) = \\frac{\\text{cov}}{\\text{var}} = \\frac{\\sum_{ij}A_{ij}(x_i-\\bar{x})(x_j-\\bar{x})}{\\sum_{ij}A_{ij}(x_i-\\bar{x})^2} $$\n",
    "\n",
    "where $\\bar{x} = \\frac{1}{2m}\\sum_i \\delta_i x_i$ is the mean value of $X$ weighted by vertex degree. Note that $A$ is necessarily symmetric. This coefficient can be represented in the matrix notation as  \n",
    "\n",
    "$$\\rho(x) = \\frac{X'AX - 2m \\bar{x}^2}{X'\\text{diag}(D)X - 2m \\bar{x}^2} $$\n",
    "\n",
    "where the diagonal matrix $\\text{diag}(D)$ is the matrix of vertex degrees, and the value $\\bar{x}$ is the sample mean of the numerical node attribute $X$."
   ]
  },
  {
   "cell_type": "code",
   "execution_count": null,
   "metadata": {
    "collapsed": false
   },
   "outputs": [],
   "source": [
    "def assortativity( G, X ) :\n",
    "## represent the graph in an adjacency matrix form\n",
    "    A = nx.to_numpy_matrix( G, dtype = np.float, nodelist = G.nodes( ) )\n",
    "## Convert x -- dictionary to a numpy vector\n",
    "    x = np.array( [ X[ n ] for n in G.nodes( ) ] , dtype = np.float )\n",
    "## Compute the x'Ax part\n",
    "    xAx = np.dot( x, np.array( A.dot( x ) ).flatten( ) )\n",
    "##  and the x'\\text{diag}(D)x part. Note that left-multiplying a vector\n",
    "##  by a diagonal matrix is equivalent to element-wise multiplication.\n",
    "    D = np.array( A.sum( axis = 1 ), dtype = np.float ).flatten( )\n",
    "    xDx = np.dot( x, np.multiply( D, x ) )\n",
    "## numpy.average( ) actually normalizes the weights.\n",
    "    x_bar = np.average( x, weights = D )\n",
    "    D_sum = np.sum( D, dtype = np.float )\n",
    "    return ( xAx - D_sum * x_bar * x_bar ) / ( xDx - D_sum * x_bar * x_bar )"
   ]
  }
 ],
 "metadata": {
  "kernelspec": {
   "display_name": "Python 2",
   "language": "python",
   "name": "python2"
  },
  "language_info": {
   "codemirror_mode": {
    "name": "ipython",
    "version": 2
   },
   "file_extension": ".py",
   "mimetype": "text/x-python",
   "name": "python",
   "nbconvert_exporter": "python",
   "pygments_lexer": "ipython2",
   "version": "2.7.9"
  }
 },
 "nbformat": 4,
 "nbformat_minor": 0
}
