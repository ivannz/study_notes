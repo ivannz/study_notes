{
 "metadata": {
  "name": "",
  "signature": "sha256:79e4643379428e41b4ae254d74267decd5a93e7c64fb2f846ab3b8f3465b771a"
 },
 "nbformat": 3,
 "nbformat_minor": 0,
 "worksheets": [
  {
   "cells": [
    {
     "cell_type": "heading",
     "level": 1,
     "metadata": {},
     "source": [
      "Structural Similarity"
     ]
    },
    {
     "cell_type": "markdown",
     "metadata": {},
     "source": [
      "During this seminar we will:\n",
      "1. Consider some node similarity measures, particularly *Euclidean Distance*, *Correlation Coefficient* and *Cosine Distance*\n",
      "2. Take a look at *[Cuthill-McKee](http://en.wikipedia.org/wiki/Cuthill%E2%80%93McKee_algorithm)* node reordering procedure\n",
      "3. Calculate *Assortative mixing coefficient* for some **[Game Of Thrones](http://cdn.meme.am/instances/55597956.jpg)** network"
     ]
    },
    {
     "cell_type": "code",
     "collapsed": false,
     "input": [
      "import numpy as np\n",
      "import pandas as pd\n",
      "import scipy.spatial as spt\n",
      "import matplotlib.pyplot as plt\n",
      "# plt.xkcd()\n",
      "import networkx as nx\n",
      "%matplotlib inline"
     ],
     "language": "python",
     "metadata": {},
     "outputs": []
    },
    {
     "cell_type": "heading",
     "level": 3,
     "metadata": {},
     "source": [
      "Task 1 - Similarities Calculation"
     ]
    },
    {
     "cell_type": "markdown",
     "metadata": {},
     "source": [
      "1. Calculate *Euclidean Distance*, *Correlation Coefficient* and *Cosine Distance* for some toy-network (Zachary again?) and for [Les Miserables](http://www-personal.umich.edu/~mejn/netdata/lesmis.zip) dataset\n",
      "2. Visualize them\n",
      "\n",
      "**HINT:**\n",
      "For correlation coeficient you can use *np.corrcoef()*, for the distances you may implement them on your own or use *scipy.spatial.distance.pdist()*"
     ]
    },
    {
     "cell_type": "code",
     "collapsed": false,
     "input": [
      "def pair_plot( G, order = None ) :\n",
      "## Get the adjacnecy matrix \n",
      "    A = nx.to_numpy_matrix( G )\n",
      "    if order is not None :\n",
      "        A = A[ np.ix_( order, order ) ]\n",
      "#     plt.figure( figsize = (12,12) )\n",
      "    plt.subplot( 221 )\n",
      "    plt.imshow( A, cmap='Greys' )\n",
      "    plt.title( 'Adjacency matrix' )\n",
      "## Correlation between \n",
      "    plt.subplot( 222 )\n",
      "    plt.imshow( np.corrcoef( A ), cmap = \"Greys\" )\n",
      "    plt.title( 'Correlation metric' )\n",
      "## Euclidean mteric\n",
      "    plt.subplot( 223 )\n",
      "    D = spt.distance.squareform( spt.distance.pdist( A, metric = 'Euclidean' ) )\n",
      "    plt.imshow( D, cmap=\"Greys\" )\n",
      "    plt.title( 'Euclidean distance' )\n",
      "## Cosine of the angle between djacency columns\n",
      "    plt.subplot( 224 )\n",
      "    D = spt.distance.squareform( spt.distance.pdist( A, metric = 'Cosine' ) )\n",
      "    plt.imshow( D, cmap=\"Greys\" )\n",
      "    plt.title( 'Cosine metric' )"
     ],
     "language": "python",
     "metadata": {},
     "outputs": []
    },
    {
     "cell_type": "code",
     "collapsed": false,
     "input": [
      "## Load Zachary's karate club and the coappearacnes of les Miserables characters.\n",
      "G_0 = nx.karate_club_graph()\n",
      "pair_plot( G_0 )"
     ],
     "language": "python",
     "metadata": {},
     "outputs": []
    },
    {
     "cell_type": "code",
     "collapsed": false,
     "input": [
      "G_1 = nx.read_gml( './data/lesmis/lesmis.gml' )\n",
      "pair_plot( G_1 )"
     ],
     "language": "python",
     "metadata": {},
     "outputs": []
    },
    {
     "cell_type": "heading",
     "level": 3,
     "metadata": {},
     "source": [
      "Task 2 - Node Reordering"
     ]
    },
    {
     "cell_type": "markdown",
     "metadata": {},
     "source": [
      "Without special preprocess procidures graph adjacency matrix can look very noisy and hide network's structure (just look at the matrices above). Offcourse usually you don't know the structure itself (communities, groups of closelly connected nodes, etc.) unless it is given, however there are some procedures of node reordering that provides a better view of the network's adjacency matrix.\n",
      "\n",
      "*[Recerse Cuthill-McKee](http://en.wikipedia.org/wiki/Cuthill%E2%80%93McKee_algorithm)* finds permutation of the nodes that minimizes the **bandwidth** of the matrix, which is calculated as:\n",
      "$$ \\theta = \\max_{a_{ij} > 0}|i-j|$$\n",
      "Unformally, this algorithm puts some *mass* on the diagonal of adjacency matrix.\n",
      "\n",
      "Run this reordering with *nx.utils.reverse_cuthill_mckee_ordering(G)* and compare with the results above"
     ]
    },
    {
     "cell_type": "code",
     "collapsed": false,
     "input": [
      "order = [ i for i in nx.utils.reverse_cuthill_mckee_ordering( G_0 ) ]\n",
      "pair_plot( G_0, order )"
     ],
     "language": "python",
     "metadata": {},
     "outputs": []
    },
    {
     "cell_type": "code",
     "collapsed": false,
     "input": [
      "order = [ i for i in nx.utils.reverse_cuthill_mckee_ordering( G_1 ) ]\n",
      "pair_plot( G_1, order )"
     ],
     "language": "python",
     "metadata": {},
     "outputs": []
    },
    {
     "cell_type": "heading",
     "level": 3,
     "metadata": {},
     "source": [
      "Task 3 - Assortative Mixing"
     ]
    },
    {
     "cell_type": "markdown",
     "metadata": {},
     "source": [
      "For this task you should download some data, convert it to network and calculate assortative mixing coefficient. Particularly, download [*characters*](https://www.dropbox.com/s/cmenu2mo20ow9ep/characters.csv?dl=0) and [*events*](https://www.dropbox.com/s/rgooboda819cvuk/events.csv?dl=0) datasets.\n",
      "\n",
      "The first dataset provides information on characters of the Game Of Thrones universe. The second one -- describes some events that have occured with them during the story. We are interested about **kill** events since they can be considered as binary relations and consequently -- graphs. \n",
      "The attribute wrt which we are going to compute assortative mixing is called \"Team\".\n",
      "\n",
      "We will explore datasets with *pandas* module. The list of usefull functions:\n",
      "* read_csv()\n",
      "* characters.head()\n",
      "* dropna\n",
      "* set_index('characterID')['Team'].to_dict()\n",
      "* events[events['event'] == 'killed']"
     ]
    },
    {
     "cell_type": "code",
     "collapsed": false,
     "input": [
      "# Put your code here\n",
      "#\n",
      "#\n",
      "events = pd.read_csv( './data/events.csv' )\n",
      "\n",
      "characters = pd.read_csv( './data/characters.csv' )\n",
      "characters.set_index('characterID')\n",
      "\n",
      "## Select the events with specific attribute: one kills another\n",
      "kills = pd.DataFrame( events[ events['event'] == 'killed' ], columns = ['characterID', 'withID'])\n",
      "kills = kills.dropna()"
     ],
     "language": "python",
     "metadata": {},
     "outputs": []
    },
    {
     "cell_type": "code",
     "collapsed": false,
     "input": [
      "## Create a graph of killer-victim relations\n",
      "G = nx.DiGraph( )\n",
      "G.add_edges_from( ( u, v ) for u,v in kills.itertuples( index = False ) )"
     ],
     "language": "python",
     "metadata": {},
     "outputs": []
    },
    {
     "cell_type": "code",
     "collapsed": false,
     "input": [
      "## Deduce the colouring of the graph\n",
      "allegiance = characters['Team'].to_dict()\n",
      "for k in allegiance.keys():\n",
      "    if k not in G :\n",
      "        del allegiance[ k ]"
     ],
     "language": "python",
     "metadata": {},
     "outputs": []
    },
    {
     "cell_type": "code",
     "collapsed": false,
     "input": [
      "G.nodes()\n",
      "# .set_attribute()"
     ],
     "language": "python",
     "metadata": {},
     "outputs": []
    },
    {
     "cell_type": "code",
     "collapsed": false,
     "input": [
      "nx.draw( G, node_size = 2 )"
     ],
     "language": "python",
     "metadata": {},
     "outputs": []
    },
    {
     "cell_type": "code",
     "collapsed": false,
     "input": [],
     "language": "python",
     "metadata": {},
     "outputs": []
    }
   ],
   "metadata": {}
  }
 ]
}