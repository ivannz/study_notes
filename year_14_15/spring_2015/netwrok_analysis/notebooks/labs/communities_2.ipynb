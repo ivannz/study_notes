{
 "metadata": {
  "name": "",
  "signature": "sha256:53ce88f6b201f1d91852d1e01dcf898aa9f3b5be13bdf87e5047a5d4455cac93"
 },
 "nbformat": 3,
 "nbformat_minor": 0,
 "worksheets": [
  {
   "cells": [
    {
     "cell_type": "heading",
     "level": 1,
     "metadata": {},
     "source": [
      "Community detection algorithms 2"
     ]
    },
    {
     "cell_type": "markdown",
     "metadata": {},
     "source": [
      "It turns out, that Networkx is weak in terms of community detection.. And since it is forbidden to install additional software on our department computers, we will use only what we have.\n",
      "\n",
      "And the only thing we have is **k-clique perlocation**."
     ]
    },
    {
     "cell_type": "code",
     "collapsed": false,
     "input": [
      "import numpy as np\n",
      "import sklearn.metrics as metrics\n",
      "import scipy.io\n",
      "from scipy.spatial.distance import pdist, squareform\n",
      "from scipy.cluster import hierarchy\n",
      "import matplotlib.pyplot as plt\n",
      "plt.xkcd()\n",
      "import networkx as nx\n",
      "%matplotlib inline"
     ],
     "language": "python",
     "metadata": {},
     "outputs": []
    },
    {
     "cell_type": "heading",
     "level": 2,
     "metadata": {},
     "source": [
      "k-clique perlocation"
     ]
    },
    {
     "cell_type": "markdown",
     "metadata": {},
     "source": [
      "Lets load our beloved Zackhary Karate Club and run 3-clique perlocations. Find 3-cliques communities and assign a cluster label to each node. Draw the graph with respect to the community assignment. Try to highligh intersected nodes."
     ]
    },
    {
     "cell_type": "code",
     "collapsed": false,
     "input": [
      "G = nx.karate_club_graph()\n",
      "cliqComm = nx.k_clique_communities(G, 3)\n",
      "cliqComm = list( cliqComm )"
     ],
     "language": "python",
     "metadata": {},
     "outputs": []
    },
    {
     "cell_type": "code",
     "collapsed": false,
     "input": [
      "colorList = np.ones( [ G.order(), ] )\n",
      "for c in xrange(len(cliqComm)):\n",
      "    colorList[ np.array( [ i for i in cliqComm[ c ] ] ) ] += 1\n",
      "    pass # Fill a few lines here\n",
      "print colorList    "
     ],
     "language": "python",
     "metadata": {},
     "outputs": []
    },
    {
     "cell_type": "code",
     "collapsed": false,
     "input": [
      "nx.draw(G, \n",
      "        cmap = plt.get_cmap('Reds'), \n",
      "        node_color=colorList, \n",
      "        node_size=500, \n",
      "        alpha=0.8, \n",
      "        with_labels=True)"
     ],
     "language": "python",
     "metadata": {},
     "outputs": []
    },
    {
     "cell_type": "heading",
     "level": 2,
     "metadata": {},
     "source": [
      "Partition similarity measures"
     ]
    },
    {
     "cell_type": "markdown",
     "metadata": {},
     "source": [
      "The following similarity measures are ofter used to evaluate the performance of community detection (clustering) algorithm in situation when a dataset has ground-truth partition (Generators, Real datasets)."
     ]
    },
    {
     "cell_type": "heading",
     "level": 3,
     "metadata": {},
     "source": [
      "Ratio of correctly clustered observations (Accuracy)"
     ]
    },
    {
     "cell_type": "markdown",
     "metadata": {},
     "source": [
      "Let's denote $\\hat{\\pi}$ as an outcome of community detection algorithm and $\\pi^*$ as a real partition. Ratio of correctly clustered observations is calculated as\n",
      "\n",
      "$$ Acc(\\hat{\\pi}, \\pi^*) = \\frac{\\text{# of correctly clustered obs}}{N} \\text{,}$$\n",
      "where observation is identified as \"correctly clustered\" if **at least half** its co-clustered observations in produced partition $\\hat{\\pi}$ belong to the same cluster in partition $\\pi^*$"
     ]
    },
    {
     "cell_type": "heading",
     "level": 3,
     "metadata": {},
     "source": [
      "Rand Index (Adjusted Rand Index)"
     ]
    },
    {
     "cell_type": "markdown",
     "metadata": {},
     "source": [
      "$$ \\text{Rand}(\\hat{\\pi},\\pi^*) = \\frac{a + d}{a + b + c + d} \\text{,}$$\n",
      "where \n",
      "* $a$ is number of pairs of vertices that are in the same communities in both partitions $\\hat{\\pi}$ and\n",
      "$\\pi^*$, \n",
      "* $b$ ($c$) is the number of pairs that are put in same community in partition  $\\hat{\\pi}$ ($\\pi^*$) and in different\n",
      "communities in  $\\pi^*$ ($\\hat{\\pi}$)\n",
      "* $d$ shows the number of pairs of vertices that are in different in both partitions.\n",
      "\n",
      "Adjusted Rand Index is a slightly corrected version of Rand index:\n",
      "\n",
      "$$\\text{ARI}(\\hat{\\pi},\\pi^*)   = \\frac{\\text{Rand}(\\hat{\\pi},\\pi^*) - \\text{Expected}}{\\text{Max} - \\text{Expected}}$$\n",
      "\n",
      "As \"alternaite\" there is also a measure called **[Normalized Mutual Information](http://en.wikipedia.org/wiki/Mutual_information)**. I call it alternative, because the results of NMI and ARI are quite similar."
     ]
    },
    {
     "cell_type": "heading",
     "level": 2,
     "metadata": {},
     "source": [
      "Partition quality measures"
     ]
    },
    {
     "cell_type": "heading",
     "level": 3,
     "metadata": {},
     "source": [
      "Modularity"
     ]
    },
    {
     "cell_type": "markdown",
     "metadata": {},
     "source": [
      "Yes, we have seen it before.\n",
      "\n",
      "Newman randomized version of the graph is obtained with rewinding of the edges under the constraint, that the expected degree of each vertex matches the degree of the vertex in the original graph. The expected number of edges between vertices $v_i$ and $v_j$ in given graph is $k_i k_j/2m$. Thus the modularity can be written as\n",
      "\n",
      "\\begin{equation}\n",
      "\tQ = \\frac{1}{2m} \\sum\\limits_{ij}\\left(a_{ij} - \\frac{k_i k_j}{2m}\\right)\\delta(\\mathcal{C}_i,\\mathcal{C}_j),\n",
      "\\end{equation}\n",
      "\n",
      "where $\\delta(\\cdot,\\cdot)$ is *Kronecker's delta* and $\\mathcal{C}_i$ is cluster label of vertex $v_i$. The more number of edges exceeds the expected number of connections the better community is defined. So, large values of modularity indicate good communities, however this is now always true. Moreover the maximum of graph's modularity generally grows if the size of the graph and/or the number of separated clusters increase."
     ]
    },
    {
     "cell_type": "heading",
     "level": 4,
     "metadata": {},
     "source": [
      "Task:"
     ]
    },
    {
     "cell_type": "markdown",
     "metadata": {},
     "source": [
      "1. Load networks [2](https://www.dropbox.com/s/xcswyhoeehq95v2/network2.mat?dl=0) and [3](https://www.dropbox.com/s/cwshsfr2d8fn470/network3.mat?dl=0) with ground truth partitions\n",
      "2. Run hierarchical clustering algorithm and retrive 4 clusters from it\n",
      "3. Calculate ARI\n",
      "\n",
      "*HINT:\n",
      "pdist, hierarchy.average(), hierarchy.dendrogram(), hierarchy.fcluster, metrics.adjusted_rand_score()*"
     ]
    },
    {
     "cell_type": "code",
     "collapsed": false,
     "input": [
      "data = scipy.io.loadmat('network2.mat')\n",
      "A = data['A'].astype('float')\n",
      "plt.spy(A)\n",
      "comm = data['Comm']\n",
      "\n",
      "G = nx.Graph(A)\n",
      "pos = nx.spring_layout(G, scale = 1, iterations=100)"
     ],
     "language": "python",
     "metadata": {},
     "outputs": []
    }
   ],
   "metadata": {}
  }
 ]
}