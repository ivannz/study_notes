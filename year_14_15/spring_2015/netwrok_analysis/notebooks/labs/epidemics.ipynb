{
 "cells": [
  {
   "cell_type": "markdown",
   "metadata": {},
   "source": [
    "# Epidemics"
   ]
  },
  {
   "cell_type": "markdown",
   "metadata": {},
   "source": [
    "During this seminar we will numerically solve systems of differential equations of SI, SIS and SIR models. <br\\> This experience is going to help us as we switch to network models. "
   ]
  },
  {
   "cell_type": "markdown",
   "metadata": {},
   "source": [
    "## SI model"
   ]
  },
  {
   "cell_type": "markdown",
   "metadata": {},
   "source": [
    "In this model a sustainable infection process is considered. Infected part of population has no chance to be healed..<br>\n",
    "In other words:\n",
    "\\begin{equation}\n",
    "   \\begin{cases}\n",
    "   \\cfrac{ds(t)}{dt} = -\\beta s(t)i(t)\\\\\n",
    "   \\cfrac{di(t)}{dt} = \\beta s(t)i(t)\n",
    "  \\end{cases}\n",
    "  \\\\\n",
    "  i(t) + s(t) = 1\n",
    "\\end{equation}"
   ]
  },
  {
   "cell_type": "code",
   "execution_count": null,
   "metadata": {
    "collapsed": false
   },
   "outputs": [],
   "source": [
    "import numpy as np\n",
    "import matplotlib.pyplot as plt\n",
    "from scipy.integrate import odeint\n",
    "%matplotlib inline"
   ]
  },
  {
   "cell_type": "code",
   "execution_count": null,
   "metadata": {
    "collapsed": false
   },
   "outputs": [],
   "source": [
    "def si_model( z0, T, **kwargs) :\n",
    "    beta = kwargs['beta']\n",
    "    t = np.arange( T, step = 0.1 )\n",
    "    si = lambda z ,t, beta : np.array([\n",
    "        -beta * z[0] * z[1],\n",
    "         beta * z[0] * z[1]])\n",
    "    return t, odeint(si, z0, t, (beta,))"
   ]
  },
  {
   "cell_type": "code",
   "execution_count": null,
   "metadata": {
    "collapsed": false
   },
   "outputs": [],
   "source": [
    "t, z = si_model( z0 = [0.9,0.1], T = 50, beta = 0.2 )"
   ]
  },
  {
   "cell_type": "code",
   "execution_count": null,
   "metadata": {
    "collapsed": false
   },
   "outputs": [],
   "source": [
    "# Lets plot our solution and phase-plot\n",
    "fig, ax = plt.subplots(1,2,figsize=(14,6))\n",
    "ax[0].plot(t, z[:,0], color='red')\n",
    "ax[0].plot(t, z[:,1], color='blue')\n",
    "ax[0].set_xlabel('$t$')\n",
    "ax[0].set_ylabel('proportion')\n",
    "ax[0].legend(['$S$','$I$'])\n",
    "ax[1].plot(z[:,1], z[:,0], color = 'blue')\n",
    "ax[1].set_xlabel('$I$')\n",
    "ax[1].set_ylabel('$S$')"
   ]
  },
  {
   "cell_type": "markdown",
   "metadata": {},
   "source": [
    "The cool thing is that we can set $\\beta$ and $\\gamma$ to be dependent on $t$, that is interpreted as some ''sessional'' profile of the desease. <br\\>\n",
    "Now, based on this code, implement SIS and SIR models:"
   ]
  },
  {
   "cell_type": "markdown",
   "metadata": {},
   "source": [
    "## SIS model"
   ]
  },
  {
   "cell_type": "markdown",
   "metadata": {},
   "source": [
    "SIS model allowes infected agents to be cured, but without any further immunity.\n",
    "\\begin{equation}\n",
    "   \\begin{cases}\n",
    "   \\cfrac{ds(t)}{dt} = -\\beta s(t)i(t) + \\gamma i(t)\\\\\n",
    "   \\cfrac{di(t)}{dt} = \\beta s(t)i(t) - \\gamma i(t)\n",
    "  \\end{cases}\n",
    "  \\\\\n",
    "  i(t) + s(t) = 1\n",
    "\\end{equation}\n",
    "Implement this model and check cases when $\\gamma \\lessgtr \\beta$"
   ]
  },
  {
   "cell_type": "code",
   "execution_count": null,
   "metadata": {
    "collapsed": false
   },
   "outputs": [],
   "source": [
    "def sis_model( z0, T, **kwargs) :\n",
    "    beta, gamma = kwargs['beta'], kwargs['gamma']\n",
    "    t = np.arange( T, step = 0.1 )\n",
    "    sis = lambda z ,t, beta, gamma : np.array([\n",
    "        -beta * z[0] * z[1] + gamma * z[1],\n",
    "         beta * z[0] * z[1] - gamma * z[1]])\n",
    "    return t, odeint(sis, z0, t, (beta,gamma,))"
   ]
  },
  {
   "cell_type": "code",
   "execution_count": null,
   "metadata": {
    "collapsed": false
   },
   "outputs": [],
   "source": [
    "t, z = si_model( z0 = [0.5,0.5], T = 50, beta = 0.5, gamma = 0.2 )"
   ]
  },
  {
   "cell_type": "code",
   "execution_count": null,
   "metadata": {
    "collapsed": false
   },
   "outputs": [],
   "source": [
    "# Lets plot our solution and phase-plot\n",
    "fig, ax = plt.subplots(1,2,figsize=(14,6))\n",
    "ax[0].plot(t, z[:,0], color='red')\n",
    "ax[0].plot(t, z[:,1], color='blue')\n",
    "ax[0].set_xlabel('$t$')\n",
    "ax[0].set_ylabel('proportion')\n",
    "ax[0].legend(['$S$','$I$'])\n",
    "ax[1].plot( z[:,1], z[:,0])\n",
    "ax[1].set_xlabel('$I$')\n",
    "ax[1].set_ylabel('$S$')"
   ]
  },
  {
   "cell_type": "markdown",
   "metadata": {},
   "source": [
    "## SIR model"
   ]
  },
  {
   "cell_type": "markdown",
   "metadata": {},
   "source": [
    "In SIR model healed population gain immunity to the infection\n",
    "\\begin{equation}\n",
    "   \\begin{cases}\n",
    "   \\cfrac{ds(t)}{dt} = -\\beta s(t)i(t)\\\\\n",
    "   \\cfrac{di(t)}{dt} = \\beta s(t)i(t) - \\gamma i(t)\\\\\n",
    "   \\cfrac{dr(t)}{dt} = \\gamma i(t)\n",
    "  \\end{cases}\n",
    "  \\\\\n",
    "  i(t) + s(t) + r(t) = 1\n",
    "\\end{equation}"
   ]
  },
  {
   "cell_type": "code",
   "execution_count": null,
   "metadata": {
    "collapsed": false
   },
   "outputs": [],
   "source": [
    "def sir_model( z0, T, **kwargs) :\n",
    "    beta, gamma = kwargs['beta'], kwargs['gamma']\n",
    "    t = np.arange( T, step = 0.1 )\n",
    "    sir = lambda z, t, beta, gamma : np.array([\n",
    "        -beta * z[0] * z[1],\n",
    "         beta * z[0] * z[1] - gamma * z[1],\n",
    "                              gamma * z[1]])\n",
    "    return t, odeint(sir, z0, t, (beta,gamma,))"
   ]
  },
  {
   "cell_type": "code",
   "execution_count": null,
   "metadata": {
    "collapsed": false
   },
   "outputs": [],
   "source": [
    "t, z = sir_model( z0 = [0.9,0.09,0.01], T = 50, beta = 0.5, gamma = 0.02 )"
   ]
  },
  {
   "cell_type": "code",
   "execution_count": null,
   "metadata": {
    "collapsed": false
   },
   "outputs": [],
   "source": [
    "# Lets plot our solution and phase-plot\n",
    "fig, ax = plt.subplots(1,2,figsize=(14,6))\n",
    "ax[0].plot(t, z[:,0], color='blue')\n",
    "ax[0].plot(t, z[:,1], color='red')\n",
    "ax[0].plot(t, z[:,2], color='orange')\n",
    "ax[0].set_xlabel('$t$')\n",
    "ax[0].set_ylabel('proportion')\n",
    "ax[0].legend(['$S$','$I$', '$R$'])\n",
    "ax[1].plot( z[:,0], z[:,2])\n",
    "ax[1].set_xlabel('$S$')\n",
    "ax[1].set_ylabel('$R$')"
   ]
  },
  {
   "cell_type": "code",
   "execution_count": null,
   "metadata": {
    "collapsed": false
   },
   "outputs": [],
   "source": []
  }
 ],
 "metadata": {
  "kernelspec": {
   "display_name": "Python 2",
   "language": "python",
   "name": "python2"
  },
  "language_info": {
   "codemirror_mode": {
    "name": "ipython",
    "version": 2
   },
   "file_extension": ".py",
   "mimetype": "text/x-python",
   "name": "python",
   "nbconvert_exporter": "python",
   "pygments_lexer": "ipython2",
   "version": "2.7.9"
  }
 },
 "nbformat": 4,
 "nbformat_minor": 0
}
