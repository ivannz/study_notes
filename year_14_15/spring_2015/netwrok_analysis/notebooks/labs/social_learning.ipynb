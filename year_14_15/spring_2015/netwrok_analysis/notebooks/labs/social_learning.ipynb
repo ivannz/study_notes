{
 "cells": [
  {
   "cell_type": "markdown",
   "metadata": {
    "collapsed": true
   },
   "source": [
    "# Social Learning"
   ]
  },
  {
   "cell_type": "markdown",
   "metadata": {},
   "source": [
    "## The Voter Model"
   ]
  },
  {
   "cell_type": "markdown",
   "metadata": {},
   "source": [
    "This model of social learning was independently introduced in Clifford and Sudbury (1973), Holley and Liggett (1975). The setting and dynamic process are the following:\n",
    "* Each agent has its own opinion\n",
    "* On each iteration an agent chooses its neighbour and adopts its side"
   ]
  },
  {
   "cell_type": "markdown",
   "metadata": {},
   "source": [
    "It was shown that agents' states reach a consensus over any connected graph $G$ (Coalescing Random Walks)."
   ]
  },
  {
   "cell_type": "code",
   "execution_count": null,
   "metadata": {
    "collapsed": true
   },
   "outputs": [],
   "source": [
    "import numpy as np\n",
    "import scipy as sp\n",
    "\n",
    "import networkx as nx\n",
    "\n",
    "import matplotlib.pyplot as plt\n",
    "\n",
    "from numpy.linalg import eig\n",
    "from scipy.integrate import odeint\n",
    "\n",
    "%matplotlib inline"
   ]
  },
  {
   "cell_type": "markdown",
   "metadata": {},
   "source": [
    "### Task 1"
   ]
  },
  {
   "cell_type": "markdown",
   "metadata": {},
   "source": [
    "Implement the Voter Model and check how the number of agents' states changes with time.\n",
    "Run it for Karate club and [Political Blogs](https://www.dropbox.com/s/fj70uuph47hoc3v/polblogs.gml?dl=0) networks."
   ]
  },
  {
   "cell_type": "code",
   "execution_count": null,
   "metadata": {
    "collapsed": true
   },
   "outputs": [],
   "source": [
    "G = nx.karate_club_graph()\n",
    "# Continue your code here\n",
    "#..\n",
    "opinions = np.random.uniform( size = G.number_of_nodes( ) )"
   ]
  },
  {
   "cell_type": "code",
   "execution_count": null,
   "metadata": {
    "collapsed": false
   },
   "outputs": [],
   "source": [
    "opinions = np.random.uniform( size = G.number_of_nodes( ) )"
   ]
  },
  {
   "cell_type": "code",
   "execution_count": null,
   "metadata": {
    "collapsed": false
   },
   "outputs": [],
   "source": [
    "def voter( G, O, niter = 10000 ) :\n",
    "    tick = np.full( G.number_of_nodes(), np.inf, np.float )\n",
    "    kiter = 0.0\n",
    "    while kiter < niter :\n",
    "## pick a random node\n",
    "        v = np.random.choice( G.nodes( ) )\n",
    "## pick a random neighbour\n",
    "        w = np.random.choice( G[ v ].keys( ), size = 1 )\n",
    "        if O[ v ] != O[ w ] :\n",
    "            O[ v ] = O[ w ]\n",
    "            if not np.isfinite( tick[ v ] ) :\n",
    "                tick[ v ] = kiter\n",
    "        kiter += 1\n",
    "    return O, tick\n"
   ]
  },
  {
   "cell_type": "code",
   "execution_count": null,
   "metadata": {
    "collapsed": false
   },
   "outputs": [],
   "source": [
    "voter( G, opinions )"
   ]
  },
  {
   "cell_type": "code",
   "execution_count": null,
   "metadata": {
    "collapsed": false
   },
   "outputs": [],
   "source": [
    "# Some preprocessing for polblogs\n",
    "A = nx.adj_matrix(nx.read_gml('./data/polblogs.gml'))\n",
    "G = nx.Graph( A )\n",
    "for n, d in G.degree_iter( ):\n",
    "    if d == 0: \n",
    "        G.remove_node( n )\n",
    "\n",
    "mapping = { }\n",
    "i = 0\n",
    "for n in G.nodes_iter():\n",
    "    mapping[ n ] = i\n",
    "    i += 1\n",
    "G = nx.relabel_nodes( G, mapping )"
   ]
  },
  {
   "cell_type": "markdown",
   "metadata": {},
   "source": [
    "### Task 2*"
   ]
  },
  {
   "cell_type": "markdown",
   "metadata": {},
   "source": [
    "Try to write a code that identifies the path of opinion adoption starting from a particular node "
   ]
  },
  {
   "cell_type": "code",
   "execution_count": null,
   "metadata": {
    "collapsed": true
   },
   "outputs": [],
   "source": [
    "# Continue your code here\n",
    "#..\n",
    "def voter( G, opinions ) :\n",
    "    kiter = 0.0\n",
    "    while kiter < niter :\n",
    "## pick a random node\n",
    "        v = np.random.choice( G.nodes( ) )\n",
    "## pick a random neighbour\n",
    "        w = np.random.choice( G[ v ].keys( ), size = 1 )\n",
    "        if O[ v ] != O[ w ] :\n",
    "            O[ v ] = O[ w ]\n",
    "            if not np.isfinite( tick[ v ] ) :\n",
    "                tick[ v ] = kiter\n",
    "        kiter += 1"
   ]
  },
  {
   "cell_type": "markdown",
   "metadata": {
    "collapsed": true
   },
   "source": [
    "## References"
   ]
  },
  {
   "cell_type": "markdown",
   "metadata": {},
   "source": [
    "1. Clifford, P., and A. Sudbury, \"A model for spatial conflict\", 1973.\n",
    "2. Holley R and Liggett T M, \"Ergodic Theorems for Weakly Interacting Infinite Systems and the Voter Model\", 1975.\n",
    "3. Ercan Yildiz , Daron Acemoglu , Asuman Ozdaglar , Amin Saberi , Anna Scaglione, \"Discrete Opinion Dynamics with Stubborn Agents\", 2011\n",
    "4. Abhimanyu Das, Sreenivas Gollapudi, and Kamesh Munagala, \"Modeling Opinion Dynamics in Social Networks\", 2014\n"
   ]
  }
 ],
 "metadata": {
  "kernelspec": {
   "display_name": "Python 2",
   "language": "python",
   "name": "python2"
  },
  "language_info": {
   "codemirror_mode": {
    "name": "ipython",
    "version": 2
   },
   "file_extension": ".py",
   "mimetype": "text/x-python",
   "name": "python",
   "nbconvert_exporter": "python",
   "pygments_lexer": "ipython2",
   "version": "2.7.9"
  }
 },
 "nbformat": 4,
 "nbformat_minor": 0
}
