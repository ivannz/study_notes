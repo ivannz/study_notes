{
 "metadata": {
  "name": "",
  "signature": "sha256:f9661fb6a6de3d2a2ae665afeda70470c5f53bda1798b57dbb5c6c371f7b085d"
 },
 "nbformat": 3,
 "nbformat_minor": 0,
 "worksheets": [
  {
   "cells": [
    {
     "cell_type": "heading",
     "level": 1,
     "metadata": {},
     "source": [
      "Community detection algorithms"
     ]
    },
    {
     "cell_type": "markdown",
     "metadata": {},
     "source": [
      "On this seminar your are asked to implement simple community detection algorightm. It is called [Markov Cluster Algorithm](http://micans.org/mcl/) (MCL).\n",
      "\n",
      "It consists of the following steps:\n",
      "<br\\>\n",
      "**Input:** Transfer matrix $T = D^{-1}A$\n",
      "<br\\>\n",
      "**Output:** Adjacency matrix $M^*$\n",
      "<br\\>\n",
      "<br\\>\n",
      "1. Set $M = T$\n",
      "2. **repeat:**\n",
      "    3. *Expansion Step:* $M = M^p$ (usually $p=2$)\n",
      "    4. *Inflation Step:* Raise every entry of $M$ to the power $\\alpha$ (usualy $\\alpha=2$)\n",
      "    5. *Renormalize:* Normalize each column by its sum\n",
      "    6. *Prunning:* Remove entries that are close to $0$\n",
      "7. **until** $M$ converges\n",
      "8. $M^* = M$\n",
      "<br\\>\n",
      "<br\\>\n",
      "\n",
      "As a result you should get a cluster matrix s.t. elements of the cluster correspont to nonzero elements of the rows of the matrix. \n",
      "<br\\>\n",
      "* What advantages and disadvantages does this method have?\n",
      "* Run this method for network [1](https://www.dropbox.com/s/so0ly2ozh2pzxp6/network1.mat?dl=0), [2](https://www.dropbox.com/s/xcswyhoeehq95v2/network2.mat?dl=0) and [3](https://www.dropbox.com/s/cwshsfr2d8fn470/network3.mat?dl=0).\n"
     ]
    },
    {
     "cell_type": "code",
     "collapsed": false,
     "input": [
      "import numpy as np\n",
      "import pandas as pd\n",
      "import matplotlib.pyplot as plt\n",
      "\n",
      "# plt.xkcd()\n",
      "\n",
      "import networkx as nx\n",
      "import scipy\n",
      "import scipy.io\n",
      "%matplotlib inline"
     ],
     "language": "python",
     "metadata": {},
     "outputs": []
    },
    {
     "cell_type": "code",
     "collapsed": false,
     "input": [
      "data = scipy.io.loadmat('./data/network1.mat')\n",
      "A = data['A'].astype( 'float' )\n",
      "plt.spy( A )\n",
      "comm = data[ 'Comm' ]\n",
      "# Continue here\n",
      "#"
     ],
     "language": "python",
     "metadata": {},
     "outputs": []
    },
    {
     "cell_type": "code",
     "collapsed": false,
     "input": [
      "def markov_clust( A, p = 2, alpha = 2, tol = 1e-8, rel_eps = 1e-4, niter = 1e3 ) :\n",
      "    i = 0\n",
      "## Convert into a transfer matrix\n",
      "    M = np.dot( np.diag( 1.0 / np.sum( A, axis = 1, dtype = np.float64 ) ), A )\n",
      "    while i < niter :\n",
      "## Remember the old matrix\n",
      "        M_prime = M\n",
      "## Expansion step\n",
      "        M = np.linalg.matrix_power( M, p )\n",
      "## Inflation step\n",
      "        M = np.power( M, alpha )\n",
      "## Renormalisation step\n",
      "        M = np.dot( np.diag( 1.0 / np.sum( M, axis = 1, dtype = np.float64 ) ), M )\n",
      "## Pruning \n",
      "        M[ np.abs( M ) < tol ] = 0\n",
      "        if np.sum( np.abs( M - M_prime ) / ( np.abs( M_prime ) + rel_eps ) ) < rel_eps :\n",
      "            break\n",
      "        i += 1\n",
      "    return (M, i)"
     ],
     "language": "python",
     "metadata": {},
     "outputs": []
    },
    {
     "cell_type": "code",
     "collapsed": false,
     "input": [
      "M, i = markov_clust( A )\n",
      "plt.spy( M )\n",
      "print i"
     ],
     "language": "python",
     "metadata": {},
     "outputs": []
    },
    {
     "cell_type": "markdown",
     "metadata": {},
     "source": [
      "1. Set $M = T$\n",
      "2. **repeat:**\n",
      "    3. *Expansion Step:* $M = M^p$ (usually $p=2$)\n",
      "    4. *Inflation Step:* Raise every entry of $M$ to the power $\\alpha$ (usualy $\\alpha=2$)\n",
      "    5. *Renormalize:* Normalize each column by its sum\n",
      "    6. *Prunning:* Remove entries that are close to $0$\n",
      "7. **until** $M$ converges\n",
      "8. $M^* = M$"
     ]
    }
   ],
   "metadata": {}
  }
 ]
}