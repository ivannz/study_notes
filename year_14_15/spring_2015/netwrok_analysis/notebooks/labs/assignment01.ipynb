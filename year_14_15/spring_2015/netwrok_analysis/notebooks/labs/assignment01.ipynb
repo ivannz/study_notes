{
 "metadata": {
  "name": "",
  "signature": "sha256:e893360e74cd5622937b8efecd009a767a63db1f26a9232ffc59b341c1fe8020"
 },
 "nbformat": 3,
 "nbformat_minor": 0,
 "worksheets": [
  {
   "cells": [
    {
     "cell_type": "heading",
     "level": 1,
     "metadata": {},
     "source": [
      "Setting Up Your Environment"
     ]
    },
    {
     "cell_type": "markdown",
     "metadata": {},
     "source": [
      "This notebook contains some guidelines for the students to prepare programming environments for the upcomming seminars and home assignments. During our seminars we will mostly work in IPython Notebook, however sometimes we may switch to MatLab. Homeworks also can be submitted only as IPython Notebooks or $\\LaTeX$ reports with Python source code.\n",
      "\n",
      "(We are using Python 2.7.8, not 3.x.x)"
     ]
    },
    {
     "cell_type": "heading",
     "level": 3,
     "metadata": {},
     "source": [
      "Step 1: Install IPython Notebook"
     ]
    },
    {
     "cell_type": "markdown",
     "metadata": {},
     "source": [
      "I suggest you to install free [Anaconda](https://store.continuum.io/cshop/anaconda/) Python distribution which already includes all necessary Python packages and modules - IPython, NumPy, SciPy, IPython, Matplotlib and **NetworkX**. Simply download appropriate installer for your OS and follow the proposed steps.\n",
      "\n",
      "A small tutorial for the NetworkX and other useful Python modules will be just in a minute.. Now let's deal with MatLab."
     ]
    },
    {
     "cell_type": "heading",
     "level": 3,
     "metadata": {},
     "source": [
      "Step 2*: Download Additional MatLab Packages"
     ]
    },
    {
     "cell_type": "markdown",
     "metadata": {},
     "source": [
      "MatLab is a great computational environment, however it does not poses good instruments to operate with networks and graphs. Fortunately you can download [MatLab Boost Graph Library](https://www.cs.purdue.edu/homes/dgleich/packages/matlab_bgl/) which contains almost all graph utilities that will help you with assignments. To start using MatLabBGL algorithms simply set path to the downloaded folder.\n",
      "\n",
      "Matlab is also sick in graph visualisation. To this purpose you can download [GraphViz](http://www.graphviz.org/) software and [Matlab interface](https://github.com/graphviz4matlab/graphviz4matlab/) for it. All install instructions are presented on the corresponding web-pages."
     ]
    },
    {
     "cell_type": "heading",
     "level": 1,
     "metadata": {},
     "source": [
      "Tutorial on NetworkX and more..."
     ]
    },
    {
     "cell_type": "markdown",
     "metadata": {},
     "source": [
      "During this course you will mostly operate with graph structures and matrices. Also you should be able to plot some figures and make conclusions based on them."
     ]
    },
    {
     "cell_type": "code",
     "collapsed": false,
     "input": [
      "import networkx as nx\n",
      "import matplotlib.pyplot as plt\n",
      "# plt.xkcd()\n",
      "import numpy as np\n",
      "%matplotlib inline"
     ],
     "language": "python",
     "metadata": {},
     "outputs": []
    },
    {
     "cell_type": "markdown",
     "metadata": {},
     "source": [
      "Networks can be described in several formats e.g. adjacency matrix, edge list, etc. One of the most complete graph representations is [GML](https://en.wikipedia.org/wiki/Graph_Modelling_Language) format which look more or less like XML. See an example:"
     ]
    },
    {
     "cell_type": "markdown",
     "metadata": {},
     "source": [
      "<pre><code>graph\n",
      "[\n",
      "  node\n",
      "  [\n",
      "   id A\n",
      "   label \"Node A\"\n",
      "  ]\n",
      "  node\n",
      "  [\n",
      "   id B\n",
      "   label \"Node B\"\n",
      "  ]\n",
      "  node\n",
      "  [\n",
      "   id C\n",
      "   label \"Node C\"\n",
      "  ]\n",
      "   edge\n",
      "  [\n",
      "   source B\n",
      "   target A\n",
      "   label \"Edge B to A\"\n",
      "  ]\n",
      "  edge\n",
      "  [\n",
      "   source C\n",
      "   target A\n",
      "   label \"Edge C to A\"\n",
      "  ]\n",
      "]\n",
      "</code></pre>"
     ]
    },
    {
     "cell_type": "markdown",
     "metadata": {},
     "source": [
      "Thankfully, NetworkX supports almost all of recent network representations. Let's load a very famous [_Zachary's Karate Club_](http://networkdata.ics.uci.edu/data/karate/) network. Nodes in this network represent members of the club and edges between them occur if two persons also frequently communicate outside club's activities. Sadly, the organisation has splitted out into two groups due to conflict and misunderstanding between its leaders."
     ]
    },
    {
     "cell_type": "code",
     "collapsed": false,
     "input": [
      "G = nx.read_gml(path = 'data/karate.gml')\n",
      "nx.draw_networkx(G)"
     ],
     "language": "python",
     "metadata": {},
     "outputs": []
    },
    {
     "cell_type": "markdown",
     "metadata": {},
     "source": [
      "*draw_network* command has several options to improve the view of the network. For instance, let's make nodes with greater degree bigger and more colorfull:"
     ]
    },
    {
     "cell_type": "code",
     "collapsed": false,
     "input": [
      "k = nx.degree(G)\n",
      "plt.figure(1, figsize=(10,7))\n",
      "coord = nx.spring_layout(G)\n",
      "nx.draw_networkx(G,\n",
      "                 pos=coord,\n",
      "                 nodelist=k.keys(),\n",
      "                 node_size = [d*100 for d in k.values()],\n",
      "                 node_color=k.values(),\n",
      "                 font_size=8,\n",
      "                 cmap=plt.cm.Reds,\n",
      "                 )"
     ],
     "language": "python",
     "metadata": {},
     "outputs": []
    },
    {
     "cell_type": "markdown",
     "metadata": {},
     "source": [
      "Now we can clearly observe two nodes with highest degree centrality: 1 and 34. Exactly these two most important club members are responsible for the breakdown.\n",
      "\n",
      "We also might be interested in node degree distribution and network's adjacency matrix:"
     ]
    },
    {
     "cell_type": "code",
     "collapsed": false,
     "input": [
      "# load adjacency matrix\n",
      "A = nx.to_numpy_matrix(G, dtype=np.bool) \n",
      "k = G.degree()\n",
      "# alternatevly you can find k as k = np.sum(A, axis=0)\n",
      "\n",
      "# sort nodes according to degree\n",
      "id_sort = np.array(sorted(k, key = k.get, reverse=True))\n",
      "k_sort = np.array(k.values())\n",
      "k_sort = k_sort[id_sort-1]\n",
      "\n",
      "# show adjacency matrix\n",
      "plt.figure(1, figsize=(6, 6))\n",
      "plt.imshow(A,\n",
      "           cmap=\"Greys\",\n",
      "           interpolation=\"none\"\n",
      "           )\n",
      "plt.title('Zachary\\'s club adjacency matrix', fontsize=14)"
     ],
     "language": "python",
     "metadata": {},
     "outputs": []
    },
    {
     "cell_type": "code",
     "collapsed": false,
     "input": [
      "# show node degrees\n",
      "plt.figure(1, figsize=(10, 5))\n",
      "plt.bar(np.arange(34), k_sort)\n",
      "plt.xticks(np.arange(34), id_sort)\n",
      "plt.margins(0.2)\n",
      "plt.ylabel('Degree')\n",
      "plt.xlabel('Node id')"
     ],
     "language": "python",
     "metadata": {},
     "outputs": []
    },
    {
     "cell_type": "markdown",
     "metadata": {},
     "source": [
      "Now we have meet some basics of plotting and data manipulations in *networkX*. For more details visit the following web-pages:\n",
      "\n",
      "* [NetworkX Documentation](http://networkx.github.io/documentation/latest/)\n",
      "* [PyPlot tutorial](http://matplotlib.org/users/pyplot_tutorial.html)\n",
      "* [Matrix manimulation cheat-sheet](http://sebastianraschka.com/Articles/2014_matrix_cheatsheet_table.html)"
     ]
    },
    {
     "cell_type": "heading",
     "level": 1,
     "metadata": {},
     "source": [
      "Exercises"
     ]
    },
    {
     "cell_type": "heading",
     "level": 3,
     "metadata": {},
     "source": [
      "Task 1. Linear regression with NumPy"
     ]
    },
    {
     "cell_type": "markdown",
     "metadata": {},
     "source": [
      "Download [dataset](https://www.dropbox.com/s/x90ub7r2x1dau89/bikinis.txt?dl=0) and import it with *NumPy*. There you will find a table **D** with 2901 rows and 5 columns. Set y = D[:,0] and X = D[:, 1:].\n",
      "\n",
      "For this task you have to fit a least-squares linear regression model $\\hat{y} = X\\hat{\\beta}$, where\n",
      "\n",
      "$$ \\hat{\\beta} = (X^T X)^{-1} X^T y $$\n",
      "The residuals of the model are agreed to be calculated as\n",
      "$$ \\text{res} = y - \\hat{y} $$\n",
      "\n",
      "    1. Download dataset\n",
      "    2. Fit the model\n",
      "    3. Make two plots: \n",
      "        3.1. Choose a feature of dataset and plot fitted line against it\n",
      "        3.2. Make residuals against prediction plot\n",
      "        \n",
      "__hint: DO NOT USE NUMPY's MATRICES. Use arrays and np.dot(A,B) instead of matrix multiplication A*B__"
     ]
    },
    {
     "cell_type": "code",
     "collapsed": false,
     "input": [
      "import numpy as np;\n",
      "import numpy.linalg as la;\n",
      "with file( \"data/bikinis.txt\", \"r\" ) as f:\n",
      "    data = np.loadtxt( f )\n",
      "\n",
      "## set the dependent variable and create the model design matrix\n",
      "Y = data[:,0 ]\n",
      "\n",
      "## Probably one should include the intercept...\n",
      "X = data[:,1:]\n",
      "\n",
      "## Using a weel-known result, compute the OLS estimates of the linear coefficients.\n",
      "beta = np.dot(\n",
      "## (X'X)^{-1} (X'Y)\n",
      "    la.inv(\n",
      "        np.dot( X.T, X ) ),\n",
      "    np.dot( X.T, Y ) )\n",
      "\n",
      "## Show everyone the triumph of math over the puny numbers!!\n",
      "beta\n",
      "\n",
      "## C ompute the fitted valeus of the dependent variable and the residuals\n",
      "yhat = X.dot( beta )\n",
      "resid = np.array( Y - yhat )"
     ],
     "language": "python",
     "metadata": {},
     "outputs": []
    },
    {
     "cell_type": "code",
     "collapsed": false,
     "input": [
      "## Import thr plotting library (once again)\n",
      "import matplotlib.pyplot as plt\n",
      "%matplotlib inline\n",
      "\n",
      "## Set the style. Yes, XKCD is great, but not one should\n",
      "##  be careful not to overuse it like Comic Sans.\n",
      "# plt.xkcd()\n",
      "print plt.style.available\n",
      "plt.style.use( \"ggplot\" )\n",
      "\n",
      "## Set the dimension of the plotting area and draw a scatter plot\n",
      "plt.figure( figsize = (10, 10) )\n",
      "plt.plot( yhat, resid, 'xb' )"
     ],
     "language": "python",
     "metadata": {},
     "outputs": []
    },
    {
     "cell_type": "heading",
     "level": 3,
     "metadata": {},
     "source": [
      "Task 2. Look at your Facebook Network"
     ]
    },
    {
     "cell_type": "markdown",
     "metadata": {},
     "source": [
      "To download .gml file with your facebook friend network you may use [getnet](http://snacourse.com/getnet) app.\n",
      "\n",
      "    1. Import your Facebook network\n",
      "    2. Now play with it!\n",
      "        2.1. Draw your network\n",
      "        2.2. Output your network's order and size\n",
      "        2.3. Draw the degree distribution (histogram)\n",
      "        2.4. Find nodes with the highest degrees. Who are these people?\n",
      "        2.5. Find connected components of your network. Interpret them."
     ]
    },
    {
     "cell_type": "code",
     "collapsed": false,
     "input": [
      "## Import our workhorse and call it \"nx\"!\n",
      "import networkx as nx;\n",
      "\n",
      "## Read the GML graph of facebook friends. Beware of the issues with UTF8\n",
      "##  The studid GML standard explicitly uses ASCII. This is just silly!\n",
      "##  UTF8 should be stored in HTM entitites &uXXXX;\n",
      "## Used the first hit in Google to conver the UTF8 into HTML enities:\n",
      "##    http://konieczny.be/unicode.html \n",
      "G = nx.read_gml( path = \"data/huge_100004196072232_2015_01_15_17_39_6242c23baf56ef9592db0b9453072491.gml\" )\n",
      "\n",
      "## Get the degrees: returns the degree of each vertex\n",
      "deg = G.degree( )\n",
      "\n",
      "## Setup the plotting area and draw the network\n",
      "plt.figure( figsize = (10, 10) )\n",
      "nx.draw_networkx( G,\n",
      "                 pos = nx.spring_layout( G ),\n",
      "                 nodelist = deg.keys(),\n",
      "                 node_size = [ d*100 for d in deg.values() ],\n",
      "                 node_color = deg.values(),\n",
      "                 font_size = 8,\n",
      "                 cmap = plt.cm.Reds,)"
     ],
     "language": "python",
     "metadata": {},
     "outputs": []
    },
    {
     "cell_type": "code",
     "collapsed": false,
     "input": [
      "## The order of a graph is $|V|$ and the size is $|E|$\n",
      "print \"The network G is of the order %d. Its size is %d.\" % ( G.order( ), G.size( ) )"
     ],
     "language": "python",
     "metadata": {},
     "outputs": []
    },
    {
     "cell_type": "code",
     "collapsed": false,
     "input": [
      "## Build a historgarm of the empirical distribution of vertex degrees.\n",
      "f, m, p = plt.hist( deg.values( ), bins = 12 ) # [x for k,v in deg.items() for x in v*[k]]"
     ],
     "language": "python",
     "metadata": {},
     "outputs": []
    },
    {
     "cell_type": "code",
     "collapsed": false,
     "input": [
      "## Get the TOP 10 vertices with the highest degree\n",
      "# top10 = sorted( deg.keys( ), key = lambda k: deg[k], reverse = True )[:10]\n",
      "top10_idx = sorted( deg, key = deg.get, reverse = True )[:10]\n",
      "\n",
      "## See who are the hubs. (Actually checking\n",
      "##  the existence of keys in unnecessary).\n",
      "nodes = [ G.node[k] for k in top10_idx ] # if k in deg ]\n",
      "\n",
      "## Get their degrees\n",
      "degrees = [ deg[k] for k in top10_idx ]\n",
      "\n",
      "## Transform\n",
      "text = [ \"-- \\\"%s\\\" befriended %d other people\" % (n['label'], v) for n, v in zip( nodes, degrees ) ]\n",
      "\n",
      "## Show the culprits\n",
      "print \"Top 10 most friendly peoply within my network:\"\n",
      "print \"\\n\".join( text )"
     ],
     "language": "python",
     "metadata": {},
     "outputs": []
    },
    {
     "cell_type": "code",
     "collapsed": false,
     "input": [
      "## Find the connected components using the BFS graph traversal\n",
      "CC = nx.connected_components( G )\n",
      "\n",
      "## Commected components are most likely the acquaintances i met in various communities\n",
      "## However a better community detection algorithm might consider the volume of paths\n",
      "##  through any particular node, with the view to not fusing weakly connected groups.\n",
      "communities = [ [G.node[ n ][ 'label' ] for n in c] for c in CC ]\n",
      "\n",
      "## Print each member of every community.\n",
      "print \"\\n\\n\".join( [ \", \".join( sorted( group ) ) for group in communities ] )"
     ],
     "language": "python",
     "metadata": {},
     "outputs": []
    },
    {
     "cell_type": "code",
     "collapsed": false,
     "input": [
      "## Study the largest connected component in the graph\n",
      "H = [ G.subgraph( c ) for c in nx.connected_components( G ) ]\n",
      "deg = H[ 0 ].degree( )\n",
      "\n",
      "## Show the radius of the component and plot it\n",
      "print \"The largest community has radius %d\" % nx.radius( H[ 0 ] )\n",
      "plt.figure( figsize = (10, 10) )\n",
      "nx.draw_networkx( H[ 0 ],\n",
      "                 pos = nx.spring_layout( H[ 0 ] ),\n",
      "                 nodelist = sorted( deg, key = deg.get ),\n",
      "                 # nodelist = deg.keys( ),\n",
      "                 # node_size = [ d * 10 for d in deg.values( ) ],\n",
      "                 node_color = deg.values( ),\n",
      "                 font_size = 8,\n",
      "                 cmap = plt.cm.Purples,)"
     ],
     "language": "python",
     "metadata": {},
     "outputs": []
    },
    {
     "cell_type": "code",
     "collapsed": false,
     "input": [],
     "language": "python",
     "metadata": {},
     "outputs": []
    }
   ],
   "metadata": {}
  }
 ]
}