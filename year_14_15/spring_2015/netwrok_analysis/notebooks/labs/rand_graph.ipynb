{
 "metadata": {
  "name": "",
  "signature": "sha256:dff478920944f9c37151f2e4b5d2d19a5e7208f3579ced51019f218cbbd73ae4"
 },
 "nbformat": 3,
 "nbformat_minor": 0,
 "worksheets": [
  {
   "cells": [
    {
     "cell_type": "heading",
     "level": 1,
     "metadata": {},
     "source": [
      "Network Models: Random Graphs"
     ]
    },
    {
     "cell_type": "code",
     "collapsed": false,
     "input": [
      "import numpy as np\n",
      "import matplotlib.pyplot as plt\n",
      "# plt.xkcd()\n",
      "import networkx as nx\n",
      "%matplotlib inline"
     ],
     "language": "python",
     "metadata": {},
     "outputs": []
    },
    {
     "cell_type": "heading",
     "level": 3,
     "metadata": {},
     "source": [
      "Clustering coefficient"
     ]
    },
    {
     "cell_type": "markdown",
     "metadata": {},
     "source": [
      "During the lecture we have understood, that the clustering coefficient of a random graph is equal to the probability $p$: $$\\text{Clustering coefficient} = \\frac{\\langle k \\rangle}{n} = p $$\n",
      "\n",
      "In this task you have to check it on generated data.\n",
      "Please, generate $100$ Random Graphs with $n = 1000$ and $p = 0.002$ (for saving computational time) and plot the box-plot of your computations."
     ]
    },
    {
     "cell_type": "code",
     "collapsed": false,
     "input": [
      "import networkx as nx\n",
      "N = 1000 ; prob = 0.002\n",
      "graphs = [ nx.gnp_random_graph(n = N, p = prob ) for i in range( 100 ) ] "
     ],
     "language": "python",
     "metadata": {},
     "outputs": []
    },
    {
     "cell_type": "code",
     "collapsed": false,
     "input": [
      "ccoef = [ nx.transitivity(G) for G in graphs ]"
     ],
     "language": "python",
     "metadata": {},
     "outputs": []
    },
    {
     "cell_type": "code",
     "collapsed": true,
     "input": [
      "plt.plot( ccoef, \"x\" )\n",
      "mean_cc = np.mean( ccoef )\n",
      "plt.plot( np.arange( len(ccoef) ), np.repeat( mean_cc, len( ccoef ) )   )"
     ],
     "language": "python",
     "metadata": {},
     "outputs": []
    },
    {
     "cell_type": "heading",
     "level": 3,
     "metadata": {},
     "source": [
      "Size of small components    "
     ]
    },
    {
     "cell_type": "markdown",
     "metadata": {},
     "source": [
      "In this task you are asked to calculate the average size of small components (small component = not a giant one) with regard to average degree of the network. To see the effect clearly, plot average size around $\\langle k \\rangle = 1$."
     ]
    },
    {
     "cell_type": "code",
     "collapsed": false,
     "input": [
      "# lcc = []\n",
      "# for G in graphs :\n",
      "#     deg = G.degree( )\n",
      "# ## Find all nodes with degree one\n",
      "#     nodes = [ v for v, d in deg.itmes() if d == 1 ]\n",
      "#     sc = [ len( nx.node_connected_components( G, v ) for v in nodes ]\n",
      "#     for cc in  :\n",
      "#         sc.add( cc )\n",
      "n = 1000\n",
      "prob = np.arange( .1/n, 3.0/n, .1/n )\n",
      "sz = []\n",
      "for p in prob :\n",
      "    lcc = []\n",
      "    for i in xrange( 50 ) :\n",
      "        G = nx.gnp_random_graph( n, p )\n",
      "        cc = sorted( nx.connected_components( G ), key = len, reverse = True )\n",
      "        lcc.extend( [ len( c ) for c in cc[1:] ] )\n",
      "    sz.append( np.mean( lcc ) )"
     ],
     "language": "python",
     "metadata": {},
     "outputs": []
    },
    {
     "cell_type": "code",
     "collapsed": false,
     "input": [
      "plt.plot(prob*n, sz, \"-r\")"
     ],
     "language": "python",
     "metadata": {},
     "outputs": []
    },
    {
     "cell_type": "code",
     "collapsed": false,
     "input": [],
     "language": "python",
     "metadata": {},
     "outputs": []
    }
   ],
   "metadata": {}
  }
 ]
}