{
 "metadata": {
  "name": "",
  "signature": "sha256:299f68f3564d8c4243618f2e4288827e483cf521bea593987d1768c8a03c1997"
 },
 "nbformat": 3,
 "nbformat_minor": 0,
 "worksheets": [
  {
   "cells": [
    {
     "cell_type": "heading",
     "level": 1,
     "metadata": {},
     "source": [
      "Random walk modelling"
     ]
    },
    {
     "cell_type": "code",
     "collapsed": false,
     "input": [
      "import numpy as np\n",
      "import matplotlib.pyplot as plt\n",
      "from numpy.random import choice, rand \n",
      "import networkx as nx\n",
      "%matplotlib inline"
     ],
     "language": "python",
     "metadata": {},
     "outputs": []
    },
    {
     "cell_type": "markdown",
     "metadata": {},
     "source": [
      "During this seminar we will immulate the random walk on knight's network, which you should build in the first place."
     ]
    },
    {
     "cell_type": "markdown",
     "metadata": {},
     "source": [
      "Consider $n \\times n$ chessboard with a single knight on it. \n",
      "<br\\>\n",
      "1. Construct a network with all knight's possible moves. In this network each node represents chessboard locations and an edge between two locations appears if knight is admitted to move from one to another.\n",
      "2. Implement simulation of knight random walk on chessboard\n",
      "\n",
      "    * Calculate average probability to visit chessboard locations\n",
      "    * Calculate average recurrence probability of a node"
     ]
    },
    {
     "cell_type": "heading",
     "level": 3,
     "metadata": {},
     "source": [
      "Knight's Network"
     ]
    },
    {
     "cell_type": "code",
     "collapsed": false,
     "input": [
      "def GenKnightNetwork( boardSize, spacing = 1 ) :\n",
      "    layers = np.arange( boardSize*boardSize, dtype = np.int ).reshape((boardSize,boardSize))\n",
      "    G = nx.Graph( )\n",
      "    pos = list( )\n",
      "## Start your code here\n",
      "    grid = np.arange( boardSize, dtype = np.float ) * spacing\n",
      "    X, Y = np.meshgrid( grid, grid )\n",
      "    for l in xrange( boardSize - 1 ) :\n",
      "        edge_list = list( )\n",
      "        l0 = layers[l+0,:]\n",
      "        l1 = layers[l+1,:]\n",
      "## Add the first layer nodes: RRD\n",
      "        edge_list.extend( [ ( l0[ i ], l1[ i+2 ] ) for i in xrange( boardSize - 2 ) ] )\n",
      "## Add the first layer nodes: LLD\n",
      "        edge_list.extend( [ ( l0[ i+2 ], l1[ i ] ) for i in xrange( boardSize - 2 ) ] )\n",
      "        if l < boardSize - 2 :\n",
      "            l2 = layers[l+2,:]\n",
      "## Add the first layer nodes: DDR\n",
      "            edge_list.extend( [ ( l0[ i ], l2[ i+1 ] ) for i in xrange( boardSize - 1 ) ] )\n",
      "## Add the first layer nodes: DDL\n",
      "            edge_list.extend( [ ( l0[ i+1 ], l2[ i ] ) for i in xrange( boardSize - 1 ) ] )\n",
      "        G.add_edges_from( edge_list )\n",
      "## Add position coordinates make the mesh into a dictionary\n",
      "        pos.extend( ( (X[l,i], Y[l,i]) for i in xrange( boardSize ) ) )\n",
      "    pos.extend( ( (X[l+1,i], Y[l+1,i]) for i in xrange( boardSize ) ) )\n",
      "    return G, {n: p for (n, p) in zip( layers.flatten(), pos )}"
     ],
     "language": "python",
     "metadata": {},
     "outputs": []
    },
    {
     "cell_type": "heading",
     "level": 3,
     "metadata": {},
     "source": [
      "Random Walk Process"
     ]
    },
    {
     "cell_type": "code",
     "collapsed": false,
     "input": [
      "def RandomWalk(G, xi, n = 100, till_first_return = False):\n",
      "## Your function should terminate after all iterations OR after you reach the initial node\n",
      "    Q = list( [ xi ] )\n",
      "    i = 0 ; xi = None\n",
      "    while i < n :\n",
      "## Choose a node at random from the neighbours\n",
      "        xi = np.random.choice( G[ Q[-1] ].keys( ), size = 1 )[ 0 ]\n",
      "        Q.append( xi )\n",
      "        if( till_first_return and xi == Q[ 0 ] ) :\n",
      "            break\n",
      "        i += 1\n",
      "    return Q"
     ],
     "language": "python",
     "metadata": {},
     "outputs": []
    },
    {
     "cell_type": "code",
     "collapsed": false,
     "input": [
      "boardSize = 16\n",
      "(G,pos) = GenKnightNetwork(boardSize)"
     ],
     "language": "python",
     "metadata": {},
     "outputs": []
    },
    {
     "cell_type": "code",
     "collapsed": false,
     "input": [
      "traj = list( )\n",
      "for xi in np.random.choice( G.nodes(), size = 10 ):\n",
      "## Pick a node at random\n",
      "    traj.append( RandomWalk( G, xi, 10, till_first_return = False ) )\n",
      "\n",
      "edgeSeq = list()\n",
      "for t in traj :\n",
      "    edgeSeq.extend( [ ( i, j ) for i,j in zip( t[:-1],t[1:] ) ] )"
     ],
     "language": "python",
     "metadata": {},
     "outputs": []
    },
    {
     "cell_type": "code",
     "collapsed": false,
     "input": [
      "fig = plt.figure( figsize = (16,16) )\n",
      "ax = fig.add_subplot( 1,1,1, axis_bgcolor = 'black' )\n",
      "nx.draw(G, pos, ax = ax, node_size = 1, edge_color = 'gray')\n",
      "nx.draw(G, pos, ax = ax, edgelist = edgeSeq, edge_color='blue', width=2, node_size = 1 )"
     ],
     "language": "python",
     "metadata": {},
     "outputs": []
    },
    {
     "cell_type": "code",
     "collapsed": false,
     "input": [
      "traj = list( )\n",
      "for xi in np.random.choice( G.nodes(), size = 100 ):\n",
      "## Pick a node at random\n",
      "    traj.append( RandomWalk( G, xi, 1000, till_first_return = False ) )\n"
     ],
     "language": "python",
     "metadata": {},
     "outputs": []
    },
    {
     "cell_type": "code",
     "collapsed": false,
     "input": [],
     "language": "python",
     "metadata": {},
     "outputs": []
    }
   ],
   "metadata": {}
  }
 ]
}