{
 "cells": [
  {
   "cell_type": "markdown",
   "metadata": {},
   "source": [
    "# Node Label Prediction \\ Link Prediction"
   ]
  },
  {
   "cell_type": "code",
   "execution_count": null,
   "metadata": {
    "collapsed": true
   },
   "outputs": [],
   "source": [
    "import numpy as np\n",
    "import matplotlib.pyplot as plt\n",
    "import scipy as sp\n",
    "import networkx as nx\n",
    "%matplotlib inline"
   ]
  },
  {
   "cell_type": "markdown",
   "metadata": {},
   "source": [
    "We will start by node label prediction. Download [this](https://www.dropbox.com/s/sta1krsbnnp7ju0/ppi.CC.gml?dl=0) network. It contains protein communications in Baker’s yeast. Each node (protein) has a special binary attribute *ICSC (intracellular signaling cascade)*."
   ]
  },
  {
   "cell_type": "code",
   "execution_count": null,
   "metadata": {
    "collapsed": false
   },
   "outputs": [],
   "source": [
    "g = nx.read_gml('./data/ppi.CC.gml.txt')\n",
    "cc = list(nx.connected_components(g))\n",
    "g = nx.subgraph(g,cc[0])\n",
    "g = nx.relabel.convert_node_labels_to_integers(g)"
   ]
  },
  {
   "cell_type": "code",
   "execution_count": null,
   "metadata": {
    "collapsed": false
   },
   "outputs": [],
   "source": [
    "labels = np.array(nx.get_node_attributes(g, 'ICSC').values(), dtype=float)"
   ]
  },
  {
   "cell_type": "code",
   "execution_count": null,
   "metadata": {
    "collapsed": false
   },
   "outputs": [],
   "source": [
    "nx.draw_spring(g, node_color = labels)"
   ]
  },
  {
   "cell_type": "markdown",
   "metadata": {},
   "source": [
    "It might not be clear from the picture above but the level of homogeneity is quite high. For each node we are able to compute the average value of label"
   ]
  },
  {
   "cell_type": "code",
   "execution_count": null,
   "metadata": {
    "collapsed": false
   },
   "outputs": [],
   "source": [
    "nnICSC = np.asarray(map(lambda(v): np.mean(labels[g.neighbors(v)]), g.nodes_iter()))\n",
    "nnICSC\n",
    "plt.figure(figsize=(10,5))\n",
    "plt.hist(nnICSC[np.where(labels == 1)], bins=6,)"
   ]
  },
  {
   "cell_type": "markdown",
   "metadata": {},
   "source": [
    "## Iterative Classification Method"
   ]
  },
  {
   "cell_type": "markdown",
   "metadata": {},
   "source": [
    "ICM is kind of NN-classifier. Our prediction is based on the largest ratio of nearest neighbours of unlabeled nodes."
   ]
  },
  {
   "cell_type": "markdown",
   "metadata": {},
   "source": [
    "#### Task 1"
   ]
  },
  {
   "cell_type": "markdown",
   "metadata": {},
   "source": [
    "* Randomly set unlabeled nodes. \n",
    "* Implement classification rule of ICM (HINT look at the code cell above)\n",
    "* Implement function for classification error and use it wisely"
   ]
  },
  {
   "cell_type": "code",
   "execution_count": null,
   "metadata": {
    "collapsed": false
   },
   "outputs": [],
   "source": [
    "lablNN = labels[:]\n",
    "idx = np.random.randint(0,len(lablNN), size=40)\n",
    "lablNN[idx] = np.nan"
   ]
  },
  {
   "cell_type": "code",
   "execution_count": null,
   "metadata": {
    "collapsed": false
   },
   "outputs": [],
   "source": [
    "# Your code here\n",
    "## Get the adjacency matrix\n",
    "A = nx.adjacency_matrix( g )\n",
    "## Find the unclassified nodes\n",
    "unlabelled = np.isnan( lablNN )\n",
    "## Slice the adjacency matrix\n",
    "# B = A[unlabelled].tocsc()[:,~unlabelled].tocsr()\n",
    "B = A.tocsc()[:,~unlabelled].tocsr()\n",
    "## Compute the mean label of the labelled neighbours of each unlabelled node.\n",
    "new_labels = B.dot( lablNN[~unlabelled] ) / B.sum( axis = 1 ).getA1( )\n",
    "## Update the labels\n",
    "lablNN[unlabelled] = new_labels[unlabelled]"
   ]
  },
  {
   "cell_type": "markdown",
   "metadata": {},
   "source": [
    "## Label Propagation"
   ]
  },
  {
   "cell_type": "markdown",
   "metadata": {},
   "source": [
    "Now instead of looking at neigbours we are switching random walks between all the nodes\n",
    "\n",
    "Just to recall the Label Propagation method:\n",
    "1. Compute $P = D^{-1}A$\n",
    "2. Set $Y^{(0)} = (Y_l,0)$ ($Y_l$ - labeled data)\n",
    "3. **repeat**\n",
    "    * $Y^{(t+1)} = PY^{(t)}$\n",
    "    * $Y_l^{(t+1)} = Y_l$\n",
    "4. **until** $Y^{(t)}$ converges"
   ]
  },
  {
   "cell_type": "code",
   "execution_count": null,
   "metadata": {
    "collapsed": false
   },
   "outputs": [],
   "source": [
    "# It is better to initialize like that\n",
    "fixedLabels = labels[:]+1\n",
    "curLabels = labels[:]+1\n",
    "\n",
    "# And indicate labeled nodes instead of unlabeled\n",
    "idxLabeled = np.zeros((g.number_of_nodes(),), dtype=bool)\n",
    "idxLabeled[np.random.randint(0,len(labels), size=90)] = True\n",
    "curLabels[~idxLabeled] = 0"
   ]
  },
  {
   "cell_type": "code",
   "execution_count": null,
   "metadata": {
    "collapsed": false,
    "scrolled": true
   },
   "outputs": [],
   "source": [
    "A = nx.adj_matrix( g )\n",
    "D = sp.sparse.diags( 1.0 / A.sum( axis = 1 ).getA1( ), offsets = 0 )\n",
    "P = D.dot( A )"
   ]
  },
  {
   "cell_type": "code",
   "execution_count": null,
   "metadata": {
    "collapsed": false
   },
   "outputs": [],
   "source": []
  },
  {
   "cell_type": "code",
   "execution_count": null,
   "metadata": {
    "collapsed": false
   },
   "outputs": [],
   "source": [
    "def LabelPropagation(G, idxLabeled, curLabels, fixedLabels, iters = 1000):\n",
    "    A = nx.adj_matrix( g )\n",
    "    D = sp.sparse.diags( 1.0 / A.sum( axis = 1 ).getA1( ), offsets = 0 )\n",
    "    P = D.dot( A )\n",
    "\n",
    "    # Your code here\n",
    "    return np.round(resultLabels)"
   ]
  },
  {
   "cell_type": "markdown",
   "metadata": {},
   "source": [
    "## Link Prediction - Scoring functions"
   ]
  },
  {
   "cell_type": "markdown",
   "metadata": {},
   "source": [
    "In this section we will implement some scoring functions for link prediction and compare the values for adjacent and non-adjacent nodes.\n",
    "\n",
    "Load [french blog network](https://www.dropbox.com/s/rn0y18a511vfx1t/fblog.gml?dl=0) and compute the following scores:"
   ]
  },
  {
   "cell_type": "code",
   "execution_count": null,
   "metadata": {
    "collapsed": false
   },
   "outputs": [],
   "source": [
    "g = nx.read_gml('./data/fblog.gml.txt')\n",
    "vNum = g.number_of_nodes()"
   ]
  },
  {
   "cell_type": "code",
   "execution_count": null,
   "metadata": {
    "collapsed": true
   },
   "outputs": [],
   "source": [
    "def matrixPlot(A):\n",
    "    plt.figure(1, figsize=(6, 6))\n",
    "    plt.imshow(A,\n",
    "           interpolation=\"none\"\n",
    "           )"
   ]
  },
  {
   "cell_type": "markdown",
   "metadata": {},
   "source": [
    "#### Shortest Path Length"
   ]
  },
  {
   "cell_type": "code",
   "execution_count": null,
   "metadata": {
    "collapsed": false
   },
   "outputs": [],
   "source": [
    "# Your code here\n",
    "spath = nx.floyd_warshall_numpy( g )\n",
    "matrixPlot( spath )"
   ]
  },
  {
   "cell_type": "markdown",
   "metadata": {},
   "source": [
    "#### Number of common neighbours"
   ]
  },
  {
   "cell_type": "code",
   "execution_count": null,
   "metadata": {
    "collapsed": false
   },
   "outputs": [],
   "source": [
    "# Your code here\n",
    "A = nx.adjacency_matrix( g )\n",
    "common_neighbour = A.dot( A ).todense()\n",
    "matrixPlot( common_neighbour )"
   ]
  },
  {
   "cell_type": "markdown",
   "metadata": {},
   "source": [
    "#### Jaccard Score"
   ]
  },
  {
   "cell_type": "code",
   "execution_count": null,
   "metadata": {
    "collapsed": false
   },
   "outputs": [],
   "source": [
    "# Your code here\n",
    "jaccard_score = np.asarray( [ ( len( np.intersect1d( g[v].keys(), g[u].keys() ) ) + 0.0 ) / len( np.union1d( g[v].keys(), g[u].keys() ) )\n",
    "    for v in g.nodes_iter( ) for u in g.nodes_iter( ) ], dtype = np.float ).reshape( 2*[g.number_of_nodes()] )"
   ]
  },
  {
   "cell_type": "code",
   "execution_count": null,
   "metadata": {
    "collapsed": false
   },
   "outputs": [],
   "source": [
    "matrixPlot( jaccard_score )"
   ]
  },
  {
   "cell_type": "markdown",
   "metadata": {},
   "source": [
    "#### Adamic/Adar Score"
   ]
  },
  {
   "cell_type": "markdown",
   "metadata": {},
   "source": [
    "$Score(a,b) = \\sum\\limits_{v \\in \\text{NN}(a) \\cap \\text{NN}(b)} \\frac{1}{\\log |\\text{NN}(v)|}$"
   ]
  },
  {
   "cell_type": "code",
   "execution_count": null,
   "metadata": {
    "collapsed": false
   },
   "outputs": [],
   "source": [
    "# Your code here\n",
    "adar_score = np.asarray( [ np.sum( [ 1.0 / np.log( len( g[w].keys() ) ) for w in np.intersect1d( g[v].keys(), g[u].keys() ) ] )\n",
    "    for v in g.nodes_iter( ) for u in g.nodes_iter( ) ], dtype = np.float ).reshape( 2*[g.number_of_nodes()] )"
   ]
  },
  {
   "cell_type": "code",
   "execution_count": null,
   "metadata": {
    "collapsed": false
   },
   "outputs": [],
   "source": [
    "matrixPlot( adar_score )"
   ]
  },
  {
   "cell_type": "markdown",
   "metadata": {},
   "source": [
    "#### Preferential Attachment score"
   ]
  },
  {
   "cell_type": "markdown",
   "metadata": {},
   "source": [
    "$Score(a,b) = |\\text{NN}(a)| \\times |\\text{NN}(b)|$"
   ]
  },
  {
   "cell_type": "code",
   "execution_count": null,
   "metadata": {
    "collapsed": false
   },
   "outputs": [],
   "source": [
    "# Your code here\n",
    "pref_score = np.asarray( [ len( g[v].keys() ) * len( g[u].keys() )\n",
    "    for v in g.nodes_iter( ) for u in g.nodes_iter( ) ], dtype = np.float ).reshape( 2*[g.number_of_nodes()] )"
   ]
  },
  {
   "cell_type": "code",
   "execution_count": null,
   "metadata": {
    "collapsed": false
   },
   "outputs": [],
   "source": [
    "matrixPlot( pref_score )"
   ]
  },
  {
   "cell_type": "markdown",
   "metadata": {},
   "source": [
    "#### Katz Score"
   ]
  },
  {
   "cell_type": "markdown",
   "metadata": {},
   "source": [
    "$Score(a,b) = \\sum\\limits_{\\text{Paths}_{x,y}} \\beta^{|p_{a,b}|}\\times|p_{a,b}|$"
   ]
  },
  {
   "cell_type": "code",
   "execution_count": null,
   "metadata": {
    "collapsed": false
   },
   "outputs": [],
   "source": [
    "# Your code here\n",
    "A = nx.adjacency_matrix( g ).tocsc()\n",
    "beta = 0.5"
   ]
  },
  {
   "cell_type": "code",
   "execution_count": null,
   "metadata": {
    "collapsed": false
   },
   "outputs": [],
   "source": [
    "I = sp.sparse.eye(*A.shape)\n",
    "katzScore = ( sp.sparse.linalg.inv( I - beta * A ) - I ).todense()\n",
    "matrixPlot( katzScore )"
   ]
  },
  {
   "cell_type": "markdown",
   "metadata": {},
   "source": [
    "Let's compare the scores behavious for pairs of nodes with or without edge in-between"
   ]
  },
  {
   "cell_type": "code",
   "execution_count": null,
   "metadata": {
    "collapsed": false
   },
   "outputs": [],
   "source": [
    "A = np.asarray(nx.adj_matrix(g).todense())\n",
    "xyTriu = np.vstack(np.triu_indices_from(A, k=1)).T\n",
    "wEdge = [katzScore[xy[0],xy[1]] for xy in xyTriu if A[xy[0],xy[1]]]\n",
    "woEdge = [katzScore[xy[0],xy[1]] for xy in xyTriu if ~A[xy[0],xy[1]]]\n",
    "data = [wEdge, woEdge]"
   ]
  },
  {
   "cell_type": "code",
   "execution_count": null,
   "metadata": {
    "collapsed": false
   },
   "outputs": [],
   "source": [
    "fig, axes = plt.subplots(nrows=1, ncols=1, figsize=(10,5))\n",
    "axes.violinplot(data, showmeans=True)\n",
    "axes.set_xticklabels(['', 'With Edges', '', 'W/o Edges'])"
   ]
  },
  {
   "cell_type": "code",
   "execution_count": null,
   "metadata": {
    "collapsed": true
   },
   "outputs": [],
   "source": []
  }
 ],
 "metadata": {
  "kernelspec": {
   "display_name": "Python 2",
   "language": "python",
   "name": "python2"
  },
  "language_info": {
   "codemirror_mode": {
    "name": "ipython",
    "version": 2
   },
   "file_extension": ".py",
   "mimetype": "text/x-python",
   "name": "python",
   "nbconvert_exporter": "python",
   "pygments_lexer": "ipython2",
   "version": "2.7.9"
  }
 },
 "nbformat": 4,
 "nbformat_minor": 0
}
