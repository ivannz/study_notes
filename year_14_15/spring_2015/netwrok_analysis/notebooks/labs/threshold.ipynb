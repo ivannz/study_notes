{
 "cells": [
  {
   "cell_type": "markdown",
   "metadata": {},
   "source": [
    "# Influence propagation. Threshold Models"
   ]
  },
  {
   "cell_type": "markdown",
   "metadata": {},
   "source": [
    "During this lab we will consider simulation of influence propagation through network and see what can thread its spread."
   ]
  },
  {
   "cell_type": "code",
   "execution_count": null,
   "metadata": {
    "collapsed": true
   },
   "outputs": [],
   "source": [
    "import numpy as np\n",
    "import scipy as sp\n",
    "import networkx as nx\n",
    "import matplotlib.pyplot as plt\n",
    "%matplotlib inline"
   ]
  },
  {
   "cell_type": "markdown",
   "metadata": {},
   "source": [
    "## Linear Threshold Model "
   ]
  },
  {
   "cell_type": "markdown",
   "metadata": {},
   "source": [
    "To recall the setting:\n",
    "* Influence spread iteratively given some initially activated nodes (adopters)\n",
    "* Each node $v_i$ have an activation threshold $\\theta_i \\in [0, 1]$\n",
    "* If fraction of \"activated\" neighbours is greater than $\\theta_i$, node $v_i$ also become activated\n",
    "\n",
    "This information (or behaviour) spreading process is also called cascade. If after some number of iterations the whole network became activated we have a **complete cascade**."
   ]
  },
  {
   "cell_type": "code",
   "execution_count": null,
   "metadata": {
    "collapsed": false
   },
   "outputs": [],
   "source": [
    "# Some initials\n",
    "G = nx.erdos_renyi_graph(10, 0.4)\n",
    "pos = nx.spring_layout(G)\n",
    "A = np.array(nx.adjacency_matrix(G).todense())\n",
    "n = A.shape[0]\n",
    "\n",
    "theta = 2.0/5\n",
    "\n",
    "\n",
    "idx = [0,1,2]\n",
    "initActive = np.zeros((n,), dtype=bool)\n",
    "initActive[idx] = 1"
   ]
  },
  {
   "cell_type": "code",
   "execution_count": null,
   "metadata": {
    "collapsed": false
   },
   "outputs": [],
   "source": [
    "# Influence propagation simulation\n",
    "def InfluenceProp(A, intiActive, theta, itersNum = np.inf):\n",
    "    deg = np.sum(A,axis=0, dtype=float)\n",
    "    i = 1 # iteration\n",
    "    resActive = initActive.copy()    \n",
    "    while i < itersNum:\n",
    "        i+=1\n",
    "\n",
    "        # currently inactive nodes\n",
    "        inactiveId = np.where(resActive == 0)[0]    \n",
    "        # activated nodes\n",
    "        idx = np.sum(A[np.ix_(resActive==1, resActive==0)], axis=0) / deg[resActive==0] > theta\n",
    "        if np.any(idx):\n",
    "            resActive[inactiveId[idx]] = 1\n",
    "        else:\n",
    "            break\n",
    "\n",
    "    return resActive\n",
    "\n",
    "# Demonstration\n",
    "def ShowIteration(G, initActive, resultActive, pos):\n",
    "    fig = plt.figure(figsize=(15,10))\n",
    "    plt.subplot(1,2,1)\n",
    "    nx.draw(G, pos=pos,\n",
    "            nodelist=np.where(initActive)[0].tolist(),\n",
    "            node_color = 'r')\n",
    "    nx.draw(G, pos=pos,\n",
    "            nodelist=np.where(1-initActive)[0].tolist(),\n",
    "            node_color = 'b')\n",
    "\n",
    "    plt.subplot(1,2,2)\n",
    "    nx.draw(G, pos=pos,\n",
    "            nodelist=np.where(resultActive)[0].tolist(),\n",
    "            node_color = 'r')\n",
    "    nx.draw(G, pos=pos,\n",
    "            nodelist=np.where(1-resultActive)[0].tolist(),\n",
    "            node_color = 'b')"
   ]
  },
  {
   "cell_type": "code",
   "execution_count": null,
   "metadata": {
    "collapsed": false
   },
   "outputs": [],
   "source": [
    "# Run\n",
    "resultActive = InfluenceProp(A, initActive, theta, itersNum = 3)\n",
    "\n",
    "# Look\n",
    "ShowIteration(G, initActive, resultActive, pos)"
   ]
  },
  {
   "cell_type": "markdown",
   "metadata": {},
   "source": [
    "## Clusters "
   ]
  },
  {
   "cell_type": "markdown",
   "metadata": {},
   "source": [
    "Lets call a cluster with density $p$ a set of nodes s.t. each node has at least $p$ fraction of its neighbours in the set. And it turn out that then only thing that can stop cascades are clusters, particularly:\n",
    "\n",
    "\n",
    "*Consider a network with a threshold of $\\theta$ a set of initialy activated nodes*\n",
    "1. *If the remaining network contains a cluster of density greater than $1 − \\theta$, then the set of initial adopters **will not** cause a complete cascade.*\n",
    "2. *Whenever a set of initial adopters does not cause a complete cascade with threshold $\\theta$, the remaining network must contain a cluster of density greater than $1 − \\theta$.*\n"
   ]
  },
  {
   "cell_type": "code",
   "execution_count": null,
   "metadata": {
    "collapsed": false
   },
   "outputs": [],
   "source": [
    "# Illustrative Example\n",
    "\n",
    "G = nx.cycle_graph(4)\n",
    "arrG = [G]*3\n",
    "G = reduce(lambda g1,g2: nx.disjoint_union(g1,g2), arrG)\n",
    "edList = [(0,2),(4,6),(9,11)] \n",
    "G.add_edges_from(edList)\n",
    "edList = [(3,5),(4,7),(7,11)]\n",
    "G.add_edges_from(edList)\n",
    "nx.draw_spring(G)"
   ]
  },
  {
   "cell_type": "code",
   "execution_count": null,
   "metadata": {
    "collapsed": true
   },
   "outputs": [],
   "source": [
    "# Randomized Option. (may not end well..)\n",
    "\n",
    "arrG = [nx.erdos_renyi_graph(10, 0.6)]* 2\n",
    "arrG.append(nx.erdos_renyi_graph(20, 0.6))\n",
    "G = reduce(lambda g1,g2: nx.disjoint_union(g1,g2), arrG)\n",
    "# nx.draw(G)\n",
    "edList = zip(np.random.randint(0,10,size=(5,)), np.random.randint(10,20,size=(5,)))\n",
    "G.add_edges_from(edList)\n",
    "edList = zip(np.random.randint(0,10,size=(5,)), np.random.randint(20,40,size=(5,)))\n",
    "G.add_edges_from(edList)\n",
    "edList = zip(np.random.randint(10,20,size=(5,)), np.random.randint(20,40,size=(5,)))\n",
    "G.add_edges_from(edList)\n",
    "pos = nx.spring_layout(G)"
   ]
  },
  {
   "cell_type": "code",
   "execution_count": null,
   "metadata": {
    "collapsed": false
   },
   "outputs": [],
   "source": [
    "A = np.array(nx.adjacency_matrix(G).todense())\n",
    "n = A.shape[0]\n",
    "\n",
    "theta = 1.0/4\n",
    "\n",
    "idx = range(20, 30)\n",
    "initActive = np.zeros((n,), dtype=bool)\n",
    "initActive[idx] = 1"
   ]
  },
  {
   "cell_type": "code",
   "execution_count": null,
   "metadata": {
    "collapsed": false
   },
   "outputs": [],
   "source": [
    "# Run\n",
    "resultActive = InfluenceProp(A, initActive, theta)\n",
    "\n",
    "# Look\n",
    "ShowIteration(G, initActive, resultActive, pos)"
   ]
  },
  {
   "cell_type": "markdown",
   "metadata": {},
   "source": [
    "## Note on Greedy Algorithm for Threshold Models"
   ]
  },
  {
   "cell_type": "markdown",
   "metadata": {},
   "source": [
    "Let $S$ be a target nodes (initally activated set of nodes). $f(S)$ is a number of activated nodes as propagation stops\n",
    "\n",
    "**Good news:** <br/>\n",
    "We have greedy algorithm for submodular functions that gives constant factor approximation of optimal solution: $$f(S) \\geq(1 - \\frac{1}{1-e})f(S^*)$$\n",
    "**Bad news:** <br/>\n",
    "1. Not clear how to compute $f(S)$ in threshold and cascade models\n",
    "2. Even if we know we need to speed-up the process"
   ]
  },
  {
   "cell_type": "markdown",
   "metadata": {},
   "source": [
    "**Solutions:**\n",
    "1. Instead of computing the exact value of f(S) we can estimate it via numerous simulation of Independent Cascade process (provides the same results)\n",
    "2. 'Lazy' greedy algorithm uses the fact that if $A \\subseteq B$ then:\n",
    "$$ f(\\{s\\} \\cup A) - f(A) \\geq f(\\{s\\} \\cup B) - f(B) $$\n",
    "In other words: as the set increases its marginal gain can only decrease. And in fact it won't decrease drammatically, so essentially we need to keep track of only top of the list.\n",
    "\n",
    "So the idea is\n",
    "* Keep ordered list of marginal gains from previous iterations\n",
    "* Re-evaluate marginal gains only for top of elements\n",
    "* Resort and pick $\\arg\\max$"
   ]
  },
  {
   "cell_type": "code",
   "execution_count": null,
   "metadata": {
    "collapsed": true
   },
   "outputs": [],
   "source": []
  }
 ],
 "metadata": {
  "kernelspec": {
   "display_name": "Python 2",
   "language": "python",
   "name": "python2"
  },
  "language_info": {
   "codemirror_mode": {
    "name": "ipython",
    "version": 2
   },
   "file_extension": ".py",
   "mimetype": "text/x-python",
   "name": "python",
   "nbconvert_exporter": "python",
   "pygments_lexer": "ipython2",
   "version": "2.7.9"
  }
 },
 "nbformat": 4,
 "nbformat_minor": 0
}
