{
 "metadata": {
  "name": "",
  "signature": "sha256:3e3e2987cff75c3e9f6191d096aed7976083c0918630dbdc722fffdb1d467380"
 },
 "nbformat": 3,
 "nbformat_minor": 0,
 "worksheets": [
  {
   "cells": [
    {
     "cell_type": "heading",
     "level": 1,
     "metadata": {},
     "source": [
      "Dense Subgroups in Networks, Communities and Motif counting"
     ]
    },
    {
     "cell_type": "markdown",
     "metadata": {},
     "source": [
      "At this time there is no rigorous and universally accepted definition of community in field of network\n",
      "analysis. However, one could formulate some properties that all communities are desired to exhibit, for example:\n",
      "* Low overlapping\n",
      "* Density\n",
      "* Low distance (diameter)\n",
      "* Connectivity"
     ]
    },
    {
     "cell_type": "code",
     "collapsed": false,
     "input": [
      "import networkx as nx\n",
      "import numpy as np\n",
      "import matplotlib.pyplot as plt\n",
      "from scipy.cluster import hierarchy\n",
      "from scipy.spatial.distance import pdist, squareform\n",
      "import itertools\n",
      "from itertools import starmap\n",
      "# plt.xkcd()\n",
      "%matplotlib inline"
     ],
     "language": "python",
     "metadata": {},
     "outputs": []
    },
    {
     "cell_type": "heading",
     "level": 3,
     "metadata": {},
     "source": [
      "Cliques"
     ]
    },
    {
     "cell_type": "markdown",
     "metadata": {},
     "source": [
      "Taking into account the requirements above, one of the suitable extreme cases is a **clique** (complete subgraph).\n",
      "\n",
      "However, if cliques with 3 nodes can be found in real networks with a very frequent rate, cliques of bigger size are rare. Besides, it does not worth to cross off from the list of potential communities a structure that lack of only one edge between vertices to be a clique. So...\n",
      "<br\\>\n",
      "**Pros:**\n",
      "+ Dense\n",
      "+ Low overlapping (as size increases)\n",
      "\n",
      "**Cons:**\n",
      "+ Very strict"
     ]
    },
    {
     "cell_type": "heading",
     "level": 3,
     "metadata": {},
     "source": [
      "k-clique, k-club, k-clan, k-plex"
     ]
    },
    {
     "cell_type": "markdown",
     "metadata": {},
     "source": [
      "The are several relaxations of the clique concept.\n",
      "\n",
      "Given a graph $G = (V,E)$ **k-clique** is a maximal subset $S \\subseteq V$ s.t.\n",
      "\n",
      "$$\\forall\\ u, v\\ \\in S,\\ d_G(u,v) <= k\\text{,}$$\n",
      "where $d_G(\\cdot, \\cdot)$ denotes the length of the shortest path between nodes in graph $G$.\n",
      "\n",
      "What about overlapping and cohesion here? <span style=\"color:white;\">Non-membership fail, overlapping</span>"
     ]
    },
    {
     "cell_type": "code",
     "collapsed": false,
     "input": [
      "G = nx.cycle_graph(5)\n",
      "G.add_node(5)\n",
      "G.add_edges_from([(4,5), (3, 5)])\n",
      "nx.draw_spectral( G )"
     ],
     "language": "python",
     "metadata": {},
     "outputs": []
    },
    {
     "cell_type": "code",
     "collapsed": false,
     "input": [
      "# Complete function that exhastively searches for k-cliques in the graph G\n",
      "# Use itertools.combinations to get combinations of nodes for subgraphs and node pairs\n",
      "def FindKCliques(G, k) :\n",
      "    D = nx.floyd_warshall_numpy( G )\n",
      "    n = G.number_of_nodes( )\n",
      "    kCliques = [ ]\n",
      "    # Iterate over sizes\n",
      "    for grSize in xrange( n, 1, -1 ) :\n",
      "        # Iterate over subgraphs\n",
      "        for subV in itertools.combinations( G, grSize ) :\n",
      "            if any( [ U.issuperset( subV ) for U in kCliques ] ) : continue\n",
      "            # Not included in maximal and all distances are <= k\n",
      "            if np.all( D[ np.ix_( subV, subV ) ] <= k ) :\n",
      "                kCliques.append( set( subV ) )\n",
      "    return kCliques"
     ],
     "language": "python",
     "metadata": {},
     "outputs": []
    },
    {
     "cell_type": "code",
     "collapsed": false,
     "input": [
      "G = nx.barabasi_albert_graph( 20, 2 )"
     ],
     "language": "python",
     "metadata": {},
     "outputs": []
    },
    {
     "cell_type": "code",
     "collapsed": false,
     "input": [
      "# %lprun -f FindKCliques FindKCliques(G, 1)"
     ],
     "language": "python",
     "metadata": {},
     "outputs": []
    },
    {
     "cell_type": "markdown",
     "metadata": {},
     "source": [
      "Let's move to k-clans: **k-clan** is a n-clique $S$ s.t. diameter of induced subgraph $G[S] <= k$\n",
      "\n",
      "What it gives us? <span style=\"color:white;\">More cohesion, non-membership fail fixed</span>\n",
      "______________________________"
     ]
    },
    {
     "cell_type": "markdown",
     "metadata": {},
     "source": [
      "As an analogy to k-cores and another relaxation of cliques **k-plex** comes on the scene. \n",
      "\n",
      "k-plex is a subset of vertices $S$ if the minimum degree in the induced subgraph $d_\\min(G[S]) >= |S| - k$.\n",
      "<br\\>\n",
      "In English: every node in k-plex is connected to every other node, except $k$ of them.\n",
      "\n",
      "k-pleces are harder to compute, however they posses some good properties. If $G_S$ is k-plex then:\n",
      "* Every subgraph of $G_S$ is a k-plex\n",
      "* If $k < \\frac{n+2}{2} \\rightarrow \\text{diameter}(G_S) \\leq 2$\n",
      "* $\\mathfrak{K}(G) > n - 2k +2$\n",
      "<br\\>\n",
      "where $\\mathfrak{K}(G)$ is the minimum number of vertices whose\n",
      "removal results in a disconnected or trivial graph"
     ]
    },
    {
     "cell_type": "heading",
     "level": 3,
     "metadata": {},
     "source": [
      "K-Cores"
     ]
    },
    {
     "cell_type": "markdown",
     "metadata": {},
     "source": [
      "Generate some graph and draw its core decomposition"
     ]
    },
    {
     "cell_type": "code",
     "collapsed": false,
     "input": [
      "# G = nx.barabasi_albert_graph( 40, 3 )\n",
      "G = nx.davis_southern_women_graph( )\n",
      "nx.draw_circular( G, node_size = 20 )"
     ],
     "language": "python",
     "metadata": {},
     "outputs": []
    },
    {
     "cell_type": "code",
     "collapsed": false,
     "input": [
      "n_core = nx.core_number( G )\n",
      "n_core"
     ],
     "language": "python",
     "metadata": {},
     "outputs": []
    },
    {
     "cell_type": "code",
     "collapsed": false,
     "input": [
      "pos = nx.spring_layout( G )\n",
      "nx.draw( G, pos = pos,\n",
      "    node_list = n_core.keys( ),\n",
      "    node_color = n_core.values( ),\n",
      "    cmap = plt.get_cmap( \"Blues\" ) )"
     ],
     "language": "python",
     "metadata": {},
     "outputs": []
    },
    {
     "cell_type": "heading",
     "level": 3,
     "metadata": {},
     "source": [
      "Motifs"
     ]
    },
    {
     "cell_type": "markdown",
     "metadata": {},
     "source": [
      "Generate directed scale free graph nx.scale_free_graph() and set some motif template. Write a function that check the presence of the motif in the graph."
     ]
    },
    {
     "cell_type": "code",
     "collapsed": false,
     "input": [
      "params = np.array([1.,5.,1.])\n",
      "params /= np.sum(params)\n",
      "G = nx.scale_free_graph(20, alpha=params[0], beta=params[1], gamma=params[2])\n",
      "plt.figure(figsize=(10,5))\n",
      "plt.subplot(121)\n",
      "nx.draw_spring(G)\n",
      "\n",
      "motif = nx.DiGraph([(1,2), (1,3), (2,3)])\n",
      "plt.subplot(122)\n",
      "nx.draw(motif)"
     ],
     "language": "python",
     "metadata": {},
     "outputs": []
    },
    {
     "cell_type": "code",
     "collapsed": false,
     "input": [
      "## Continue your code here\n",
      "result = list( )\n",
      "for S in itertools.combinations( G, motif.number_of_nodes( ) ) :\n",
      "    if nx.is_isomorphic( motif, G.subgraph( S ) ) :\n",
      "        result.append( S )"
     ],
     "language": "python",
     "metadata": {},
     "outputs": []
    },
    {
     "cell_type": "code",
     "collapsed": false,
     "input": [
      "result"
     ],
     "language": "python",
     "metadata": {},
     "outputs": []
    },
    {
     "cell_type": "heading",
     "level": 3,
     "metadata": {},
     "source": [
      "Hierarichal Clustering"
     ]
    },
    {
     "cell_type": "markdown",
     "metadata": {},
     "source": [
      "Take some toy-graph, compute any kind of similarity matrix and perform hierarichal clustering.\n",
      "\n",
      "Helpful functions: pdist(A,'cosine'), hierarchy.average(), hierarchy.dendrogram()"
     ]
    },
    {
     "cell_type": "code",
     "collapsed": false,
     "input": [
      "## Continue your code here\n",
      "G = nx.erdos_renyi_graph( 100, .65 )\n",
      "G = nx.karate_club_graph( )"
     ],
     "language": "python",
     "metadata": {},
     "outputs": []
    },
    {
     "cell_type": "code",
     "collapsed": false,
     "input": [
      "A = nx.to_numpy_matrix( G )\n",
      "A = np.minimum( A, A+A.T )\n",
      "plt.imshow( A )"
     ],
     "language": "python",
     "metadata": {},
     "outputs": []
    },
    {
     "cell_type": "code",
     "collapsed": false,
     "input": [
      "D = squareform( pdist( A, metric =  \"cosine\" ) )"
     ],
     "language": "python",
     "metadata": {},
     "outputs": []
    },
    {
     "cell_type": "code",
     "collapsed": false,
     "input": [
      "plt.figure( figsize = (16, 9))\n",
      "hier = hierarchy.dendrogram( hierarchy.average( D ) )"
     ],
     "language": "python",
     "metadata": {},
     "outputs": []
    },
    {
     "cell_type": "code",
     "collapsed": false,
     "input": [],
     "language": "python",
     "metadata": {},
     "outputs": []
    }
   ],
   "metadata": {}
  }
 ]
}