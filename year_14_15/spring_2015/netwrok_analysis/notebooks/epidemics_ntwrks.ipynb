{
 "cells": [
  {
   "cell_type": "markdown",
   "metadata": {},
   "source": [
    "# Epidemics on networks"
   ]
  },
  {
   "cell_type": "markdown",
   "metadata": {},
   "source": [
    "On this lab we will consider an implementation of disease spreading over a network. We will start from SIS model and slightly modify it to SIR model."
   ]
  },
  {
   "cell_type": "markdown",
   "metadata": {},
   "source": [
    "## SIS model"
   ]
  },
  {
   "cell_type": "markdown",
   "metadata": {},
   "source": [
    "Just to recall from the lecture how it looks like:<br\\>\n",
    "\\begin{equation}\n",
    "   \\begin{cases}\n",
    "   \\cfrac{ds_i(t)}{dt} = -\\beta s_i(t)\\sum\\limits_j A_{ij}x_j(t) + \\gamma x_i(t)\\\\\n",
    "   \\cfrac{dx_i(t)}{dt} = \\beta s_i(t)\\sum\\limits_j A_{ij}x_j(t) - \\gamma x_i(t)\n",
    "  \\end{cases}\n",
    "  \\\\\n",
    "  x_i(t) + s_i(t) = 1\n",
    "\\end{equation}\n",
    "where $x_i(t)$ and $s_i(t)$ are probabilities for a node $v_i$ to be infected or susceptable."
   ]
  },
  {
   "cell_type": "code",
   "execution_count": null,
   "metadata": {
    "collapsed": false
   },
   "outputs": [],
   "source": [
    "import numpy as np\n",
    "import networkx as nx\n",
    "import matplotlib.pyplot as plt\n",
    "from numpy.linalg import eig\n",
    "from scipy.integrate import odeint\n",
    "%matplotlib inline"
   ]
  },
  {
   "cell_type": "code",
   "execution_count": null,
   "metadata": {
    "collapsed": false
   },
   "outputs": [],
   "source": [
    "# Let's start from a complete graph\n",
    "n = 100\n",
    "G = nx.complete_graph(n)\n",
    "# G = nx.barabasi_albert_graph(n, 3)\n",
    "\n",
    "# Get adj. matrix\n",
    "A = np.array( nx.adjacency_matrix(G).todense() )"
   ]
  },
  {
   "cell_type": "code",
   "execution_count": null,
   "metadata": {
    "collapsed": false
   },
   "outputs": [],
   "source": [
    "# Spreading\\restoring coefficient\n",
    "beta, gamma = 1.3, 0.2\n",
    "\n",
    "# Time domain\n",
    "t = np.arange(0,5,0.05)\n",
    "\n",
    "# Initial state\n",
    "idx = np.random.choice(range(n), 5)\n",
    "i0 = np.zeros((n,))\n",
    "i0[idx] = 1\n",
    "# i0 = np.random.random_integers(0,1,[n,])\n",
    "z0 = np.concatenate((1-i0,i0))"
   ]
  },
  {
   "cell_type": "code",
   "execution_count": null,
   "metadata": {
    "collapsed": false
   },
   "outputs": [],
   "source": [
    "# System of differential equations..\n",
    "def sis(z, t, A, n, beta, gamma):\n",
    "    return np.concatenate((\n",
    "        -beta * z[0:n] * A.dot(z[n:2*n]) + gamma * z[n:2*n],\n",
    "         beta * z[0:n] * A.dot(z[n:2*n]) - gamma * z[n:2*n]))\n",
    "        \n",
    "\n",
    "# ..Solved\n",
    "z = odeint(sis, z0, t, (A, n, beta, gamma))"
   ]
  },
  {
   "cell_type": "code",
   "execution_count": null,
   "metadata": {
    "collapsed": false
   },
   "outputs": [],
   "source": [
    "# It's a bit messy, so let's see what we have got here\n",
    "z.shape"
   ]
  },
  {
   "cell_type": "code",
   "execution_count": null,
   "metadata": {
    "collapsed": false
   },
   "outputs": [],
   "source": [
    "# Plot probs for some node\n",
    "nId = 6\n",
    "s = z[:,0:n]\n",
    "x = z[:,n:2*n]\n",
    "\n",
    "\n",
    "fig, ax = plt.subplots(1,1,figsize=(14,6))\n",
    "ax.plot(s,color = 'blue')\n",
    "ax.plot(x,color = 'red')\n",
    "ax.set_xlabel('$t$')\n",
    "ax.set_ylabel('prob')\n",
    "ax.set_title('Probability for all nodes', fontsize = 15)"
   ]
  },
  {
   "cell_type": "markdown",
   "metadata": {},
   "source": [
    "Hope that you remember that stuff about the correspondence between largest eigenvalue and $\\frac{\\gamma}{\\beta}$ ratio:<br/>\n",
    "* if $\\lambda_1 > \\frac{\\gamma}{\\beta}$ - GROWTH\n",
    "* if $\\lambda_1 < \\frac{\\gamma}{\\beta}$ - NOPE <br/>\n",
    "Check it"
   ]
  },
  {
   "cell_type": "code",
   "execution_count": null,
   "metadata": {
    "collapsed": false
   },
   "outputs": [],
   "source": [
    "w,v = eig(A)\n",
    "print max(w), gamma/beta"
   ]
  },
  {
   "cell_type": "markdown",
   "metadata": {},
   "source": [
    "### Task"
   ]
  },
  {
   "cell_type": "markdown",
   "metadata": {},
   "source": [
    "1. Play with $\\gamma$, $\\beta$ parameters and try out SIS model for other graphs\n",
    "2. Does it matter how many nodes are initially infected?"
   ]
  },
  {
   "cell_type": "markdown",
   "metadata": {},
   "source": [
    "## SIR model"
   ]
  },
  {
   "cell_type": "markdown",
   "metadata": {},
   "source": [
    "In SIR model healed population gain immunity to the infection\n",
    "\\begin{equation}\n",
    "   \\begin{cases}\n",
    "   \\cfrac{ds_i(t)}{dt} = -\\beta s_i(t)\\sum\\limits_j A_{ij} x_j(t)\\\\\n",
    "   \\cfrac{dx_i(t)}{dt} = \\beta s_i(t)\\sum\\limits_j A_{ij} x_j(t) - \\gamma x_i(t)\\\\\n",
    "   \\cfrac{dr_i(t)}{dt} = \\gamma x_i(t)\n",
    "  \\end{cases}\n",
    "  \\\\\n",
    "  x_i(t) + s_i(t) + r+i(t) = 1\n",
    "\\end{equation}"
   ]
  },
  {
   "cell_type": "markdown",
   "metadata": {},
   "source": [
    "Adapt the code above to produce SIR model"
   ]
  },
  {
   "cell_type": "code",
   "execution_count": null,
   "metadata": {
    "collapsed": false
   },
   "outputs": [],
   "source": [
    "# Let's start from a complete graph\n",
    "n = 100\n",
    "# G = nx.complete_graph(n)\n",
    "G = nx.barabasi_albert_graph(n, 3)\n",
    "\n",
    "# Get adj. matrix\n",
    "A = np.array( nx.adjacency_matrix(G).todense( ) )\n",
    "\n",
    "# Spreading\\restoring coefficient\n",
    "beta, gamma = 1.3, 0.2\n",
    "\n",
    "# Time domain\n",
    "t = np.arange(0,1,0.05)\n",
    "\n",
    "# Initial state\n",
    "idx = np.random.choice(range(n), 5)\n",
    "i0 = np.zeros((n,), dtype = np.float )\n",
    "i0[idx] = 1\n",
    "# i0 = np.random.random_integers(0,1,[n,])\n",
    "z0 = np.concatenate((1-i0,i0,np.zeros((n,))))\n",
    "\n",
    "# System of differential equations..\n",
    "def sir(z, t, A, n, beta, gamma):\n",
    "    return np.concatenate((\n",
    "        - beta * z[0:n] * A.dot(z[n:2*n])                     ,\n",
    "          beta * z[0:n] * A.dot(z[n:2*n]) - gamma * z[n:2*n],\n",
    "                                            gamma * z[n:2*n]))\n",
    "# ..Solved\n",
    "z = odeint(sis, z0, t, (A, n, beta, gamma))"
   ]
  },
  {
   "cell_type": "code",
   "execution_count": null,
   "metadata": {
    "collapsed": false
   },
   "outputs": [],
   "source": [
    "# Plot probs for some node\n",
    "nId = 6\n",
    "s = z[:,0:n]\n",
    "x = z[:,n:2*n]\n",
    "r = z[:,2*n:3*n]\n",
    "\n",
    "\n",
    "fig, ax = plt.subplots(1,1,figsize=(14,6))\n",
    "ax.plot(s,color = 'blue')\n",
    "ax.plot(x,color = 'red')\n",
    "ax.plot(r,color = 'green')\n",
    "ax.set_xlabel('$t$')\n",
    "ax.set_ylabel('prob')\n",
    "ax.set_title('Probability for all nodes', fontsize = 15)"
   ]
  },
  {
   "cell_type": "markdown",
   "metadata": {},
   "source": [
    "## Stochastic Modelling"
   ]
  },
  {
   "cell_type": "markdown",
   "metadata": {},
   "source": [
    "The stuff that you will see below is kind of simulation model of infection spreading on graph. The description of the model is the following: <br/>\n",
    "\n",
    "* The infection has some vital period, the node is diseased for that period\n",
    "* At the end of this period node become susceptible without immunity system's reinforcement\n",
    "* Each infected node can spread disease within its neigbours with a sertain probability"
   ]
  },
  {
   "cell_type": "code",
   "execution_count": null,
   "metadata": {
    "collapsed": false
   },
   "outputs": [],
   "source": [
    "size = 10\n",
    "# Create Grid Graph\n",
    "G = nx.grid_2d_graph(size,size)\n",
    "\n",
    "# Make node relabelling\n",
    "f = {}\n",
    "for v in G.nodes_iter():\n",
    "    f[v] = v[0]*size+v[1]\n",
    "\n",
    "G = nx.relabel_nodes(G, f)\n",
    "nx.draw_spectral(G)"
   ]
  },
  {
   "cell_type": "code",
   "execution_count": null,
   "metadata": {
    "collapsed": false
   },
   "outputs": [],
   "source": [
    "def simulSIS(A, timePeriod, modelParams):\n",
    "    # init params\n",
    "    initInfected = modelParams.get('initInfected', None)\n",
    "    p = modelParams.get('probInfect', 0.5)\n",
    "    upd = modelParams.get('updateInfection', True)\n",
    "    maxRecTime = modelParams.get('t2Recover', 2)\n",
    "    \n",
    "    # init output\n",
    "    n = A.shape[0]\n",
    "    states = np.zeros([n, timePeriod+1]) # 1 = infected, 0 = susceptable\n",
    "    recTime = np.zeros(n,)\n",
    "    # set initially infected nodes\n",
    "    if initInfected is None:\n",
    "        initInfected = np.random.choice(range(n), n/2)\n",
    "        states[initInfected,0] = 1\n",
    "    else:\n",
    "        states[initInfected,0] = 1\n",
    "    recTime[initInfected] = maxRecTime + 1\n",
    "    \n",
    "    # Start simulation\n",
    "    for t in xrange(1, timePeriod+1):\n",
    "        recTime = np.maximum(recTime-1,0)\n",
    "        states[recTime>0, t] = 1\n",
    "        states[recTime==0, t] = 0\n",
    "        \n",
    "        curInf = np.nonzero(states[:,t])[0]\n",
    "        states[curInf, t] = 1\n",
    "        for i in curInf:\n",
    "            #NN = np.setdiff1d(np.nonzero(A[i,])[0], curInf)\n",
    "            NN = np.nonzero(A[i,])[0]\n",
    "            infNN = NN[np.random.rand(len(NN))<p]\n",
    "            states[infNN, t] = 1\n",
    "            recTime[infNN] = maxRecTime + 1\n",
    "            \n",
    "    return states\n",
    "    "
   ]
  },
  {
   "cell_type": "code",
   "execution_count": null,
   "metadata": {
    "collapsed": false
   },
   "outputs": [],
   "source": [
    "# Running model\n",
    "\n",
    "timePeriod = 11\n",
    "modelParams = {}\n",
    "modelParams['t2Recover'] = 3\n",
    "modelParams['initInfected'] = None\n",
    "modelParams['probInfect'] = 0.2\n",
    "modelParams['updateInfection'] = True\n",
    "\n",
    "A = np.array(nx.adj_matrix(G).todense())\n",
    "\n",
    "states = simulSIS(A, timePeriod, modelParams)"
   ]
  },
  {
   "cell_type": "code",
   "execution_count": null,
   "metadata": {
    "collapsed": false
   },
   "outputs": [],
   "source": [
    "states"
   ]
  },
  {
   "cell_type": "code",
   "execution_count": null,
   "metadata": {
    "collapsed": false
   },
   "outputs": [],
   "source": [
    "# Plotting inferction spread\n",
    "\n",
    "pos = nx.spectral_layout(G)\n",
    "fig = plt.figure(figsize=(15,10))\n",
    "for t in xrange(0,timePeriod+1):\n",
    "    plt.subplot(3,4,t+1)\n",
    "    nx.draw_spectral(G,\n",
    "        nodelist=np.nonzero(states[:,t])[0].tolist(),\n",
    "        node_color = 'r')\n",
    "    nx.draw_spectral(G,\n",
    "        nodelist=np.nonzero(1-states[:,t])[0].tolist(),\n",
    "        node_color = 'b')\n",
    "    plt.title('t = {0}'.format(t+1))"
   ]
  },
  {
   "cell_type": "markdown",
   "metadata": {},
   "source": [
    "## The bitchin' branchin' process"
   ]
  },
  {
   "cell_type": "markdown",
   "metadata": {},
   "source": [
    "In simple branchin process (tree of depth $h$ with $k$ leaths per each parent and probability $p$ to infect a neigbour) we are considerring $R_0=pk$ - the basic reproductive number of the infection. <br/>\n",
    "* If $R_0 < 1$ infection will stop without reaching the bottom of the tree\n",
    "* If $R_0 > 1$ infertion will corrupt all population"
   ]
  },
  {
   "cell_type": "code",
   "execution_count": null,
   "metadata": {
    "collapsed": false
   },
   "outputs": [],
   "source": [
    "## Checking of branching branching process\n",
    "\n",
    "G=nx.balanced_tree(3,7, create_using=nx.DiGraph())\n",
    "sp = nx.shortest_path_length(G,0)\n",
    "\n",
    "timePeriod = 10\n",
    "modelParams = {}\n",
    "modelParams['t2Recover'] = 1\n",
    "modelParams['initInfected'] = [0]\n",
    "modelParams['probInfect'] = 0.2\n",
    "modelParams['updateInfection'] = False\n",
    "\n",
    "A = np.array(nx.adj_matrix(G).todense())\n",
    "\n",
    "states = simulSIS(A, timePeriod, modelParams)\n",
    "sum(states)"
   ]
  },
  {
   "cell_type": "code",
   "execution_count": null,
   "metadata": {
    "collapsed": false
   },
   "outputs": [],
   "source": []
  }
 ],
 "metadata": {
  "kernelspec": {
   "display_name": "Python 2",
   "language": "python",
   "name": "python2"
  },
  "language_info": {
   "codemirror_mode": {
    "name": "ipython",
    "version": 2
   },
   "file_extension": ".py",
   "mimetype": "text/x-python",
   "name": "python",
   "nbconvert_exporter": "python",
   "pygments_lexer": "ipython2",
   "version": "2.7.9"
  }
 },
 "nbformat": 4,
 "nbformat_minor": 0
}
