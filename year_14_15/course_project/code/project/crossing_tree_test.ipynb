{
 "cells": [
  {
   "cell_type": "code",
   "execution_count": null,
   "metadata": {
    "collapsed": false
   },
   "outputs": [],
   "source": [
    "import numpy as np\n",
    "from fgn import fbm, fgn\n",
    "from hermite import hermite\n",
    "from main import path_analyse\n",
    "from crossing_tree import xtree_build"
   ]
  },
  {
   "cell_type": "code",
   "execution_count": null,
   "metadata": {
    "collapsed": true
   },
   "outputs": [],
   "source": [
    "import matplotlib.pyplot as plt\n",
    "%matplotlib inline"
   ]
  },
  {
   "cell_type": "code",
   "execution_count": null,
   "metadata": {
    "collapsed": false
   },
   "outputs": [],
   "source": [
    "# generator = fbm( N = 2**20+1, H = .75 )\n",
    "generator = hermite( N = 2**18+1, d = 2, H = .9, K = 2**4, time = True )\n",
    "generator.set_rnd( np.random.RandomState(  ) )"
   ]
  },
  {
   "cell_type": "code",
   "execution_count": null,
   "metadata": {
    "collapsed": true
   },
   "outputs": [],
   "source": [
    "# X = np.cumsum( np.random.randn( len( T ) ) )\n",
    "T, X = generator( )"
   ]
  },
  {
   "cell_type": "code",
   "execution_count": null,
   "metadata": {
    "collapsed": true
   },
   "outputs": [],
   "source": [
    "import numpy as np\n",
    "from main import path_analyse\n",
    "from crossing_tree import xtree_build\n",
    "import scipy.io as io\n",
    "import matplotlib.pyplot as plt\n",
    "%matplotlib inline"
   ]
  },
  {
   "cell_type": "code",
   "execution_count": null,
   "metadata": {
    "collapsed": false
   },
   "outputs": [],
   "source": [
    "mat = io.loadmat('./output/HRM_3_20-32_0.9000_20150525-144821_AC8A.mat')\n",
    "X = mat['X'][0]\n",
    "T = np.arange( len(X), dtype = np.float64 )/ (len(X)-1)"
   ]
  },
  {
   "cell_type": "code",
   "execution_count": null,
   "metadata": {
    "collapsed": true
   },
   "outputs": [],
   "source": [
    "from numpy.polynomial.hermite_e import hermeval"
   ]
  },
  {
   "cell_type": "code",
   "execution_count": null,
   "metadata": {
    "collapsed": true
   },
   "outputs": [],
   "source": [
    "gfgn = fgn( 2**18+1, H = (0.5+1)/2, sigma = 1.0 )\n",
    "gfgn.set_rnd( np.random.RandomState(  ) )"
   ]
  },
  {
   "cell_type": "code",
   "execution_count": null,
   "metadata": {
    "collapsed": false
   },
   "outputs": [],
   "source": [
    "gfgn.reset()\n",
    "Z = gfgn( )\n",
    "print Z.mean()\n",
    "X = np.cumsum( hermeval( Z, c = [0,0,1] ) )[ 15::16 ]\n",
    "T = np.arange( len(X), dtype = np.float64 )/ (len(X)-1)"
   ]
  },
  {
   "cell_type": "code",
   "execution_count": null,
   "metadata": {
    "collapsed": false
   },
   "outputs": [],
   "source": [
    "# T, X = generator( )\n",
    "print np.median( np.abs( np.diff( X ) ) )\n",
    "print np.std( np.diff( X ) )\n",
    "print np.subtract( *np.percentile( np.diff( X ), [75, 25] ) )"
   ]
  },
  {
   "cell_type": "code",
   "execution_count": null,
   "metadata": {
    "collapsed": false
   },
   "outputs": [],
   "source": [
    "delta = np.median( np.abs( np.diff( X ) ) )\n",
    "Tnk, Xnk, Znk, Vnde, Wnk = xtree_build( T, X, delta = delta )\n",
    "l = len( Tnk )-5\n",
    "plt.figure( figsize = ( 16, 9 ) )\n",
    "plt.plot( T, X/np.max(np.abs( X )), '-', color = 'lightgray' )\n",
    "# plt.plot( T[mask], X[mask], '-', color = 'orange', linewidth = 2 )\n",
    "plt.step( Tnk[l-3], Xnk[l-3]/np.max( np.abs( X ) ), '-y>', where = 'pre' )\n",
    "plt.step( Tnk[l-2], Xnk[l-2]/np.max( np.abs( X ) ), '-g>', where = 'pre' )\n",
    "plt.step( Tnk[l-1], Xnk[l-1]/np.max( np.abs( X ) ), '-b>', where = 'pre' )\n",
    "plt.step( Tnk[l-0], Xnk[l-0]/np.max( np.abs( X ) ), '-r>', where = 'pre' )\n",
    "# plt.yticks( np.arange( -512, 256+1, 64 ) )\n",
    "plt.grid( which = 'both' )\n",
    "\n"
   ]
  },
  {
   "cell_type": "code",
   "execution_count": null,
   "metadata": {
    "collapsed": true
   },
   "outputs": [],
   "source": [
    "Nn, Dnk, Vnde, _ = path_analyse( T, X, delta = delta, max_levels = 16, max_crossings = 18 )"
   ]
  },
  {
   "cell_type": "code",
   "execution_count": null,
   "metadata": {
    "collapsed": false
   },
   "outputs": [],
   "source": [
    "Dnk"
   ]
  },
  {
   "cell_type": "code",
   "execution_count": null,
   "metadata": {
    "collapsed": false
   },
   "outputs": [],
   "source": [
    "Djnk = np.reshape( Dnk, (1,)+Dnk.shape)\n",
    "Njn = np.reshape( Nn, (1,)+Nn.shape)\n",
    "import self_similarity as ss\n",
    "\n",
    "ss.pooled( Djnk, Njn, H = None, p = 6, q = 9, h = 4 )"
   ]
  },
  {
   "cell_type": "code",
   "execution_count": null,
   "metadata": {
    "collapsed": true
   },
   "outputs": [],
   "source": [
    "Z = X - X.mean( )\n",
    "G_s = np.correlate( Z, Z, mode = 'full' )[ -len( Z ): ] / len( Z )\n",
    "acf = G_s / G_s[0]\n",
    "plt.plot( acf )"
   ]
  },
  {
   "cell_type": "code",
   "execution_count": null,
   "metadata": {
    "collapsed": false
   },
   "outputs": [],
   "source": [
    "%lprun -f xtree_build for i in range( 10 ) : T1nk, X1nk, Z1nk, V1nde, W1nk = xtree_build( T, X, delta = delta )"
   ]
  },
  {
   "cell_type": "code",
   "execution_count": null,
   "metadata": {
    "collapsed": false
   },
   "outputs": [],
   "source": [
    "# %lprun -f xtree_build\n",
    "# %timeit -n10\n",
    "T2nk, X2nk, Z2nk, V2nde, W2nk = xtree_build( T, X, delta = delta )"
   ]
  },
  {
   "cell_type": "code",
   "execution_count": null,
   "metadata": {
    "collapsed": false
   },
   "outputs": [],
   "source": [
    "print [np.allclose( x1, x2 ) for x1, x2 in zip( T1nk, T2nk ) ]\n",
    "print [np.allclose( x1, x2 ) for x1, x2 in zip( X1nk, X2nk ) ]\n",
    "print [np.allclose( x1, x2 ) for x1, x2 in zip( Z1nk, Z2nk ) ]\n",
    "print [np.allclose( x1, x2 ) for x1, x2 in zip( V1nde, V2nde ) ]\n",
    "print [np.allclose( x1, x2 ) for x1, x2 in zip( W1nk, W2nk ) ]"
   ]
  },
  {
   "cell_type": "code",
   "execution_count": null,
   "metadata": {
    "collapsed": false
   },
   "outputs": [],
   "source": [
    "# mask = np.random.uniform( size = len( T ) ) > .99\n",
    "# mask &= ( ( T > .125 ) & ( T < .475 ) | ( T > .625 ) & ( T < .975 ) )\n",
    "mask = np.ones( len( T ), np.bool )"
   ]
  },
  {
   "cell_type": "code",
   "execution_count": null,
   "metadata": {
    "collapsed": false
   },
   "outputs": [],
   "source": [
    "# %timeit -n10 \n",
    "delta = np.median( np.abs( np.diff( X[mask] ) ) )\n",
    "T1nk, X1nk, Z1nk, V1nde, W1nk = xtree_build_new( T[mask], X[mask],\n",
    "    shift = .15, delta = delta )\n",
    "T2nk, X2nk, Z2nk, V2nde, W2nk = xtree_build_new( T[mask], X[mask],\n",
    "    shift = -.15, delta = delta )"
   ]
  },
  {
   "cell_type": "code",
   "execution_count": null,
   "metadata": {
    "collapsed": false
   },
   "outputs": [],
   "source": [
    "print np.unique( Z1nk[6], return_counts = True )\n",
    "print np.unique( Z2nk[6], return_counts = True )"
   ]
  },
  {
   "cell_type": "code",
   "execution_count": null,
   "metadata": {
    "collapsed": false
   },
   "outputs": [],
   "source": [
    "plt.figure( figsize = ( 16, 9 ) )\n",
    "plt.plot( T, X, '-', color = 'lightgray' )\n",
    "plt.plot( T[mask], X[mask], '-', color = 'orange', linewidth = 2 )\n",
    "plt.step( T1nk[10], X1nk[10], '-b', where = 'post' )\n",
    "plt.step( T1nk[12], X1nk[12], '-r', where = 'post' )\n",
    "plt.step( T2nk[10], X2nk[10], '-g', where = 'post' )\n",
    "plt.step( T2nk[12], X2nk[12], '-k', where = 'post' )\n",
    "# plt.yticks( np.arange( -512, 256+1, 64 ) )\n",
    "plt.grid( which = 'both' )\n"
   ]
  },
  {
   "cell_type": "code",
   "execution_count": null,
   "metadata": {
    "collapsed": false
   },
   "outputs": [],
   "source": [
    "max_levels, max_crossings = 7, 20"
   ]
  },
  {
   "cell_type": "code",
   "execution_count": null,
   "metadata": {
    "collapsed": false
   },
   "outputs": [],
   "source": [
    "T, X = generator( )\n",
    "# delta = np.std( np.diff( X ) )"
   ]
  },
  {
   "cell_type": "code",
   "execution_count": null,
   "metadata": {
    "collapsed": false
   },
   "outputs": [],
   "source": [
    "delta = np.subtract( *np.percentile( np.diff( X ), [ 75, 25 ] ) )\n",
    "%lprun -f xtree_integer_crossings for i in range( 10 ) : Tnk, XTnk, Znk, Vnk, Wnk = xtree_build( T, X, delta = delta )"
   ]
  },
  {
   "cell_type": "code",
   "execution_count": null,
   "metadata": {
    "collapsed": false
   },
   "outputs": [],
   "source": [
    "# Nn = np.array( [ len( Tk ) - 1 for Tk in Tnk ],\n",
    "#     dtype = np.float ).reshape( ( len( Tnk ), -1 ) )\n",
    "Nn = np.zeros( ( max_levels + 1, 1 ), dtype = np.int )\n",
    "for n, Tk in enumerate( Tnk, 0 ) :\n",
    "    n = max_levels if n > max_levels else n\n",
    "    Nn[ n ] += len( Tk ) - 1\n",
    "Dnk = np.zeros( ( max_levels + 1, max_crossings // 2 ), dtype = np.int )\n",
    "for n, Zk in enumerate( Znk[ 1: ], 0 ) :\n",
    "    n = max_levels if n > max_levels else n\n",
    "    Z_count, Z_freq = np.unique( Zk, return_counts = True )\n",
    "    Z_count = np.minimum( Z_count, max_crossings )\n",
    "    mask = ( Z_count < max_crossings )\n",
    "    Dnk[ n, Z_count[ mask ] // 2 - 1 ] += Z_freq[ mask ]\n",
    "    Dnk[ n, max_crossings // 2 - 1 ] += np.sum( Z_freq[ ~mask ] )\n",
    "Vnde = np.zeros( ( max_levels + 1, 2, 2 ), dtype = np.int )\n",
    "for n, Vk in enumerate( Vnk[ 1: ], 0 ) :\n",
    "    n = max_levels if n > max_levels else n\n",
    "    Vnde[ n, 0 ] += np.sum( Vk[ Vk[ :, 2 ] < 0 ], axis = 0 )[:2]\n",
    "    Vnde[ n, 1 ] += np.sum( Vk[ Vk[ :, 2 ] > 0 ], axis = 0 )[:2]\n",
    "\n",
    "## Reshape properly\n",
    "Djnk = np.reshape( Dnk, (1,)+Dnk.shape)\n",
    "Njn = np.reshape( Nn, (1,)+Nn.shape)"
   ]
  },
  {
   "cell_type": "code",
   "execution_count": null,
   "metadata": {
    "collapsed": false
   },
   "outputs": [],
   "source": [
    "Djnk"
   ]
  },
  {
   "cell_type": "code",
   "execution_count": null,
   "metadata": {
    "collapsed": false
   },
   "outputs": [],
   "source": [
    "print Njn[:2,1:,0]\n",
    "print np.sum( Djnk[:2], axis = 2 )"
   ]
  },
  {
   "cell_type": "code",
   "execution_count": null,
   "metadata": {
    "collapsed": false
   },
   "outputs": [],
   "source": [
    "import self_similarity as ss\n",
    "\n",
    "ss.pooled( Djnk, Njn, H = None, p = 4, q = 12, h = 5 )"
   ]
  },
  {
   "cell_type": "code",
   "execution_count": null,
   "metadata": {
    "collapsed": false
   },
   "outputs": [],
   "source": [
    "np.sum( Djnk, axis = ( 0, ) )"
   ]
  },
  {
   "cell_type": "code",
   "execution_count": null,
   "metadata": {
    "collapsed": false
   },
   "outputs": [],
   "source": [
    "print Dnk[0,:]#.dot( np.arange( 2, max_crossings+2, 2 ) )\n",
    "print Nn\n",
    "print Znk[1]"
   ]
  },
  {
   "cell_type": "code",
   "execution_count": null,
   "metadata": {
    "collapsed": false
   },
   "outputs": [],
   "source": [
    "Vnd = np.sum( Vnde, axis = 2, dtype = np.float ).reshape( VDn.shape[:2] + ( 1, ) )\n",
    "Dn = np.sum( Dnk, axis = 1, dtype = np.float ).reshape( Dnk.shape[:1] + ( 1, ) )\n",
    "\n",
    "EXnde = Vnde / Vnd\n",
    "CDnk = Dnk / Dn\n",
    "print CDnk\n",
    "print EXnde"
   ]
  },
  {
   "cell_type": "code",
   "execution_count": null,
   "metadata": {
    "collapsed": false,
    "scrolled": true
   },
   "outputs": [],
   "source": [
    "import numpy as np\n",
    "import matplotlib.pyplot as plt\n",
    "%matplotlib inline\n",
    "# dat = np.load( './output/fbm_iqr_20150429-072004_18_0.50_200.npz' )\n",
    "# dat = np.load( './output/fbm_iqr_20150429-072224_18_0.72_200.npz' )\n",
    "# dat = np.load( './output/fbm_iqr_20150429-072516_18_0.95_200.npz' )\n",
    "# dat = np.load( './output/fbm_iqr_20150429-083530_16_0.7250_200.npz' )\n",
    "# dat = np.load( './output/fbm_iqr_20150429-083459_16_0.5000_200.npz' )\n",
    "# dat = np.load( './output/fbm_iqr_20150429-090509_21_0.5000_1000.npz' )\n",
    "dat = np.load( './output/fbm_iqr_20150429-150719_21_0.6500_1000.npz' )\n",
    "\n",
    "Njn = dat['Njn']\n",
    "Djnk = dat['Djnk']\n",
    "Vjnde = dat['Vjnde']\n",
    "\n",
    "Djn = np.sum( Djnk, axis = 2, dtype = np.float ).reshape( Djnk.shape[:2] + ( 1, ) )\n",
    "Vjnd = np.sum( Vjnde, axis = 3, dtype = np.float ).reshape( Vjnde.shape[:3] + ( 1, ) )\n",
    "\n",
    "Phat_jnk = Djnk / Djn\n",
    "Qhat_jnde = Vjnde / Vjnd\n",
    "\n",
    "Phat_nk = Phat_jnk.mean( axis = 0, dtype = np.float64 )\n",
    "Qhat_nde = Qhat_jnde.mean( axis = 0, dtype = np.float64 )\n",
    "\n",
    "sdPhat_nk = Phat_jnk.std( axis = 0, dtype = np.float64 )\n",
    "sdQhat_nde = Qhat_jnde.std( axis = 0, dtype = np.float64 )"
   ]
  },
  {
   "cell_type": "code",
   "execution_count": null,
   "metadata": {
    "collapsed": false,
    "scrolled": false
   },
   "outputs": [],
   "source": [
    "# plt.figure( figsize = ( 16, 9 ) )\n",
    "# for Phat_k in Phat_nk[:5] :\n",
    "#     plt.plot( np.log( Phat_k ) )\n",
    "H = 0.65\n",
    "theta = 2**( 1 - 1/H )\n",
    "theoretical = [ theta*(1-theta)**k for k in range( 0, 10 ) ]\n",
    "level = 5\n",
    "plt.figure( figsize = ( 16, 9 ) )\n",
    "plt.subplot(221)\n",
    "plt.hist( Phat_jnk[:,level,0], color = 'gray' )\n",
    "plt.title( \"Simulated distribution: res. $\\\\delta 2^{%d}$\" % level )\n",
    "plt.xlabel( \"$\\\\hat{\\\\mathbb{P}}(Z = 2)$\" )\n",
    "plt.axvline(theoretical[0], color='y', linewidth=2)\n",
    "plt.axvline(Phat_nk[level,0], color='r', linewidth=2)\n",
    "plt.axvline(Phat_nk[level,0] - sdPhat_nk[level,0], color='pink', linestyle='dashed', linewidth=2)\n",
    "plt.axvline(Phat_nk[level,0] + sdPhat_nk[level,0], color='pink', linestyle='dashed', linewidth=2)\n",
    "\n",
    "plt.subplot(222)\n",
    "plt.hist( Phat_jnk[:,level,1], color = 'gray' )\n",
    "plt.title( \"Simulated distribution: res. $\\\\delta 2^{%d}$\" % level )\n",
    "plt.xlabel( \"$\\\\hat{\\\\mathbb{P}}(Z = 4)$\" )\n",
    "plt.axvline(theoretical[1], color='y', linewidth=2)\n",
    "plt.axvline(Phat_nk[level,1], color='r', linewidth=2)\n",
    "plt.axvline(Phat_nk[level,1] - sdPhat_nk[level,1], color='pink', linestyle='dashed', linewidth=2)\n",
    "plt.axvline(Phat_nk[level,1] + sdPhat_nk[level,1], color='pink', linestyle='dashed', linewidth=2)\n",
    "\n",
    "plt.subplot(223)\n",
    "plt.hist( Phat_jnk[:,level,2], color = 'gray' )\n",
    "plt.title( \"Simulated distribution: res. $\\\\delta 2^{%d}$\" % level )\n",
    "plt.xlabel( \"$\\\\hat{\\\\mathbb{P}}(Z = 6)$\" )\n",
    "plt.axvline(theoretical[2], color='y', linewidth=2)\n",
    "plt.axvline(Phat_nk[level,2], color='r', linewidth=2)\n",
    "plt.axvline(Phat_nk[level,2] - sdPhat_nk[level,2], color='pink', linestyle='dashed', linewidth=2)\n",
    "plt.axvline(Phat_nk[level,2] + sdPhat_nk[level,2], color='pink', linestyle='dashed', linewidth=2)\n",
    "\n",
    "plt.subplot(224)\n",
    "plt.hist( Phat_jnk[:,level,6], color = 'gray' )\n",
    "plt.title( \"Simulated distribution: res. $\\\\delta 2^{%d}$\" % level )\n",
    "plt.xlabel( \"$\\\\hat{\\\\mathbb{P}}(Z = 14)$\" )\n",
    "plt.axvline(theoretical[6], color='y', linewidth=2)\n",
    "plt.axvline(Phat_nk[level,6], color='r', linewidth=2)\n",
    "plt.axvline(Phat_nk[level,6] - sdPhat_nk[level,6], color='pink', linestyle='dashed', linewidth=2)\n",
    "plt.axvline(Phat_nk[level,6] + sdPhat_nk[level,6], color='pink', linestyle='dashed', linewidth=2)"
   ]
  },
  {
   "cell_type": "code",
   "execution_count": null,
   "metadata": {
    "collapsed": false
   },
   "outputs": [],
   "source": [
    "print Djnk.shape"
   ]
  },
  {
   "cell_type": "code",
   "execution_count": null,
   "metadata": {
    "collapsed": false,
    "scrolled": false
   },
   "outputs": [],
   "source": [
    "print Njn.mean( axis = 0, dtype = np.float64 )\n",
    "print Njn.std( axis = 0, dtype = np.float64 )\n",
    "\n",
    "print Phat_jnk.mean( axis = 0, dtype = np.float64 )\n",
    "print Phat_jnk.std( axis = 0, dtype = np.float64 )\n",
    "\n",
    "print Qhat_jnde.mean( axis = 0, dtype = np.float64 )\n",
    "print Qhat_jnde.std( axis = 0, dtype = np.float64 )"
   ]
  },
  {
   "cell_type": "code",
   "execution_count": null,
   "metadata": {
    "collapsed": false
   },
   "outputs": [],
   "source": [
    "theta = 2**(1-1/0.50)\n",
    "print theta\n",
    "print 1 / np.sqrt( 2 / (1-theta) )"
   ]
  },
  {
   "cell_type": "markdown",
   "metadata": {},
   "source": [
    "Here I confirm that my implementation is correct."
   ]
  },
  {
   "cell_type": "code",
   "execution_count": null,
   "metadata": {
    "collapsed": true
   },
   "outputs": [],
   "source": [
    "Z = ( X - X[ 0 ] ) / delta"
   ]
  },
  {
   "cell_type": "code",
   "execution_count": null,
   "metadata": {
    "collapsed": false
   },
   "outputs": [],
   "source": [
    "%lprun -f xtree_integer_crossings for i in range( 10 ) : lht0, lhp0 = xtree_integer_crossings( T, Z )\n",
    "# %timeit -n10 lht0, lhp0 = xtree_integer_crossings( T, Z )"
   ]
  },
  {
   "cell_type": "code",
   "execution_count": null,
   "metadata": {
    "collapsed": false
   },
   "outputs": [],
   "source": [
    "%lprun -f f_get_w_int for i in range( 1 ) : mht0, mhp0, _, _ = f_get_w_int( T, Z )\n",
    "# %timeit -n10 mht0, mhp0, _, _ = f_get_w_int( T, Z )"
   ]
  },
  {
   "cell_type": "code",
   "execution_count": null,
   "metadata": {
    "collapsed": false
   },
   "outputs": [],
   "source": [
    "print np.allclose( mht0, lht0 )\n",
    "print np.allclose( mhp0, lhp0 )"
   ]
  },
  {
   "cell_type": "markdown",
   "metadata": {},
   "source": [
    "The following section concerns the correctness of the FGN generator."
   ]
  },
  {
   "cell_type": "code",
   "execution_count": null,
   "metadata": {
    "collapsed": true
   },
   "outputs": [],
   "source": [
    "import numpy as np\n",
    "from numpy.fft import fft, fft\n",
    "rnd = np.random.RandomState( 123 )\n",
    "\n",
    "N = 2**16 + 1\n",
    "sigma = 1.0 ; H = (.99+1)/2"
   ]
  },
  {
   "cell_type": "code",
   "execution_count": null,
   "metadata": {
    "collapsed": false
   },
   "outputs": [],
   "source": [
    "R = np.arange( N, dtype = np.float )\n",
    "R = sigma * sigma * .5 * (\n",
    "      np.abs( R - 1 ) ** ( 2.0 * H )\n",
    "    + np.abs( R + 1 ) ** ( 2.0 * H )\n",
    "    - 2 * np.abs( R ) ** ( 2.0 * H ) )"
   ]
  },
  {
   "cell_type": "code",
   "execution_count": null,
   "metadata": {
    "collapsed": false
   },
   "outputs": [],
   "source": [
    "plt.plot( R )"
   ]
  },
  {
   "cell_type": "code",
   "execution_count": null,
   "metadata": {
    "collapsed": false
   },
   "outputs": [],
   "source": [
    "Z = np.real( fft( np.append( R, R[::-1][1:-1] ) ) )"
   ]
  },
  {
   "cell_type": "code",
   "execution_count": null,
   "metadata": {
    "collapsed": false
   },
   "outputs": [],
   "source": [
    "print len( R )\n",
    "print len( Z )\n",
    "print 2 * N - 2"
   ]
  },
  {
   "cell_type": "code",
   "execution_count": null,
   "metadata": {
    "collapsed": true
   },
   "outputs": [],
   "source": [
    "Z = np.sqrt( np.maximum( Z, 0.0 ) / ( 2 * N - 2 ) )"
   ]
  },
  {
   "cell_type": "code",
   "execution_count": null,
   "metadata": {
    "collapsed": false
   },
   "outputs": [],
   "source": [
    "W = rnd.randn( 2 * N - 2 ) + rnd.randn( 2 * N - 2 ) * 1j\n",
    "W *= Z\n",
    "C = fft( W )\n",
    "\n",
    "u, v = ( np.real( C[ :N ] ), np.imag( C[ :N ] ) )"
   ]
  },
  {
   "cell_type": "code",
   "execution_count": null,
   "metadata": {
    "collapsed": false
   },
   "outputs": [],
   "source": [
    "u,v"
   ]
  },
  {
   "cell_type": "code",
   "execution_count": null,
   "metadata": {
    "collapsed": false
   },
   "outputs": [],
   "source": [
    "plt.figure( figsize = (16,9) )\n",
    "plt.subplot(121)\n",
    "plt.plot( u )\n",
    "plt.subplot(122)\n",
    "plt.plot( v )"
   ]
  },
  {
   "cell_type": "code",
   "execution_count": null,
   "metadata": {
    "collapsed": false
   },
   "outputs": [],
   "source": [
    "z = v - v.mean()\n",
    "r = np.correlate( z,z, mode = 'full' )[-len(z):] / (len(z)*z.var())"
   ]
  },
  {
   "cell_type": "code",
   "execution_count": null,
   "metadata": {
    "collapsed": false
   },
   "outputs": [],
   "source": [
    "plt.plot( R, r )"
   ]
  },
  {
   "cell_type": "code",
   "execution_count": null,
   "metadata": {
    "collapsed": true
   },
   "outputs": [],
   "source": []
  }
 ],
 "metadata": {
  "kernelspec": {
   "display_name": "Python 2",
   "language": "python",
   "name": "python2"
  },
  "language_info": {
   "codemirror_mode": {
    "name": "ipython",
    "version": 2
   },
   "file_extension": ".py",
   "mimetype": "text/x-python",
   "name": "python",
   "nbconvert_exporter": "python",
   "pygments_lexer": "ipython2",
   "version": "2.7.9"
  }
 },
 "nbformat": 4,
 "nbformat_minor": 0
}
