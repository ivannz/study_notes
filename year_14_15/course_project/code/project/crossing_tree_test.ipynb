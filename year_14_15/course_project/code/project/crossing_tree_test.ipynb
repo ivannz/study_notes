{
 "cells": [
  {
   "cell_type": "code",
   "execution_count": 1,
   "metadata": {
    "collapsed": false
   },
   "outputs": [],
   "source": [
    "import numpy as np\n",
    "from fgn import fbm\n",
    "from crossing_tree import *"
   ]
  },
  {
   "cell_type": "code",
   "execution_count": 2,
   "metadata": {
    "collapsed": true
   },
   "outputs": [],
   "source": [
    "generator = fbm( N = 2**22+1, H = .50 )\n",
    "generator.set_rnd( np.random.RandomState( 123 ) )"
   ]
  },
  {
   "cell_type": "code",
   "execution_count": 15,
   "metadata": {
    "collapsed": false
   },
   "outputs": [],
   "source": [
    "max_levels, max_crossings = 7, 20"
   ]
  },
  {
   "cell_type": "code",
   "execution_count": 4,
   "metadata": {
    "collapsed": false
   },
   "outputs": [],
   "source": [
    "T, X = generator( )\n",
    "# delta = np.std( np.diff( X ) )\n",
    "delta = np.subtract( *np.percentile( np.diff( X ), [ 75, 25 ] ) )\n",
    "Tnk, XTnk, Znk, Vnk, Wnk = xtree_build( T, X, delta = delta )"
   ]
  },
  {
   "cell_type": "code",
   "execution_count": 16,
   "metadata": {
    "collapsed": false
   },
   "outputs": [],
   "source": [
    "# Nn = np.array( [ len( Tk ) - 1 for Tk in Tnk ],\n",
    "#     dtype = np.float ).reshape( ( len( Tnk ), -1 ) )\n",
    "Nn = np.zeros( ( max_levels + 1, 1 ), dtype = np.int )\n",
    "for n, Tk in enumerate( Tnk, 0 ) :\n",
    "    n = max_levels if n > max_levels else n\n",
    "    Nn[ n ] += len( Tk ) - 1\n",
    "Dnk = np.zeros( ( max_levels + 1, max_crossings // 2 ), dtype = np.int )\n",
    "for n, Zk in enumerate( Znk[ 1: ], 0 ) :\n",
    "    n = max_levels if n > max_levels else n\n",
    "    Z_count, Z_freq = np.unique( Zk, return_counts = True )\n",
    "    Z_count = np.minimum( Z_count, max_crossings )\n",
    "    mask = ( Z_count < max_crossings )\n",
    "    Dnk[ n, Z_count[ mask ] // 2 - 1 ] += Z_freq[ mask ]\n",
    "    Dnk[ n, max_crossings // 2 - 1 ] += np.sum( Z_freq[ ~mask ] )\n",
    "Vnde = np.zeros( ( max_levels + 1, 2, 2 ), dtype = np.int )\n",
    "for n, Vk in enumerate( Vnk[ 1: ], 0 ) :\n",
    "    n = max_levels if n > max_levels else n\n",
    "    Vnde[ n, 0 ] += np.sum( Vk[ Vk[ :, 2 ] < 0 ], axis = 0 )[:2]\n",
    "    Vnde[ n, 1 ] += np.sum( Vk[ Vk[ :, 2 ] > 0 ], axis = 0 )[:2]\n",
    "\n",
    "## Reshape properly\n",
    "Djnk = np.reshape( Dnk, (1,)+Dnk.shape)\n",
    "Njn = np.reshape( Nn, (1,)+Nn.shape)"
   ]
  },
  {
   "cell_type": "code",
   "execution_count": 18,
   "metadata": {
    "collapsed": false
   },
   "outputs": [
    {
     "data": {
      "text/plain": [
       "array([[[261660,  92202,  32019,  11260,   3865,   1322,    445,    187,\n",
       "             72,     29],\n",
       "        [ 70040,  29004,  11822,   4783,   1953,    786,    343,    124,\n",
       "             52,     50],\n",
       "        [ 17726,   8275,   3666,   1628,    739,    358,    117,     55,\n",
       "             35,     25],\n",
       "        [  4542,   2152,    966,    488,    240,     94,     55,     28,\n",
       "              6,     18],\n",
       "        [  1171,    575,    237,    106,     65,     32,     24,      6,\n",
       "              6,      5],\n",
       "        [   294,    131,     78,     28,     16,      9,      6,      3,\n",
       "              1,      0],\n",
       "        [    79,     45,     19,      3,      5,      2,      0,      1,\n",
       "              0,      0],\n",
       "        [    41,     12,      4,      3,      1,      2,      0,      0,\n",
       "              0,      0]]])"
      ]
     },
     "execution_count": 18,
     "metadata": {},
     "output_type": "execute_result"
    }
   ],
   "source": [
    "Djnk"
   ]
  },
  {
   "cell_type": "code",
   "execution_count": 20,
   "metadata": {
    "collapsed": false
   },
   "outputs": [
    {
     "name": "stdout",
     "output_type": "stream",
     "text": [
      "[[403061 118957  32624   8589   2227    566    217]]\n",
      "[[403061 118957  32624   8589   2227    566    154     63]]\n"
     ]
    }
   ],
   "source": [
    "print Njn[:2,1:,0]\n",
    "print np.sum( Djnk[:2], axis = 2 )"
   ]
  },
  {
   "cell_type": "code",
   "execution_count": 6,
   "metadata": {
    "collapsed": false
   },
   "outputs": [
    {
     "data": {
      "text/plain": [
       "(array([ 31.72441687]), array([32]), array([ 0.48047271]))"
      ]
     },
     "execution_count": 6,
     "metadata": {},
     "output_type": "execute_result"
    }
   ],
   "source": [
    "import self_similarity as ss\n",
    "\n",
    "ss.pooled( Djnk, Njn, H = None, p = 4, q = 12, h = 5 )"
   ]
  },
  {
   "cell_type": "code",
   "execution_count": 11,
   "metadata": {
    "collapsed": false
   },
   "outputs": [
    {
     "data": {
      "text/plain": [
       "array([[261660,  92202,  32019,  11260,   3865,   1322,    445,    187,\n",
       "            72,     29],\n",
       "       [ 70040,  29004,  11822,   4783,   1953,    786,    343,    124,\n",
       "            52,     50],\n",
       "       [ 17726,   8275,   3666,   1628,    739,    358,    117,     55,\n",
       "            35,     25],\n",
       "       [  4542,   2152,    966,    488,    240,     94,     55,     28,\n",
       "             6,     18],\n",
       "       [  1171,    575,    237,    106,     65,     32,     24,      6,\n",
       "             6,      5],\n",
       "       [   294,    131,     78,     28,     16,      9,      6,      3,\n",
       "             1,      0],\n",
       "       [    79,     45,     19,      3,      5,      2,      0,      1,\n",
       "             0,      0],\n",
       "       [    25,      9,      3,      2,      1,      2,      0,      0,\n",
       "             0,      0],\n",
       "       [    10,      3,      0,      1,      0,      0,      0,      0,\n",
       "             0,      0],\n",
       "       [     3,      0,      1,      0,      0,      0,      0,      0,\n",
       "             0,      0],\n",
       "       [     2,      0,      0,      0,      0,      0,      0,      0,\n",
       "             0,      0],\n",
       "       [     1,      0,      0,      0,      0,      0,      0,      0,\n",
       "             0,      0],\n",
       "       [     0,      0,      0,      0,      0,      0,      0,      0,\n",
       "             0,      0],\n",
       "       [     0,      0,      0,      0,      0,      0,      0,      0,\n",
       "             0,      0],\n",
       "       [     0,      0,      0,      0,      0,      0,      0,      0,\n",
       "             0,      0],\n",
       "       [     0,      0,      0,      0,      0,      0,      0,      0,\n",
       "             0,      0],\n",
       "       [     0,      0,      0,      0,      0,      0,      0,      0,\n",
       "             0,      0],\n",
       "       [     0,      0,      0,      0,      0,      0,      0,      0,\n",
       "             0,      0],\n",
       "       [     0,      0,      0,      0,      0,      0,      0,      0,\n",
       "             0,      0],\n",
       "       [     0,      0,      0,      0,      0,      0,      0,      0,\n",
       "             0,      0],\n",
       "       [     0,      0,      0,      0,      0,      0,      0,      0,\n",
       "             0,      0]])"
      ]
     },
     "execution_count": 11,
     "metadata": {},
     "output_type": "execute_result"
    }
   ],
   "source": [
    "np.sum( Djnk, axis = ( 0, ) )"
   ]
  },
  {
   "cell_type": "code",
   "execution_count": 7,
   "metadata": {
    "collapsed": false
   },
   "outputs": [
    {
     "name": "stdout",
     "output_type": "stream",
     "text": [
      "[261660  92202  32019  11260   3865   1322    445    187     72     29]\n",
      "[[1239973]\n",
      " [ 403061]\n",
      " [ 118957]\n",
      " [  32624]\n",
      " [   8589]\n",
      " [   2227]\n",
      " [    566]\n",
      " [    154]\n",
      " [     42]\n",
      " [     14]\n",
      " [      4]\n",
      " [      2]\n",
      " [      1]\n",
      " [      0]\n",
      " [      0]\n",
      " [      0]\n",
      " [      0]\n",
      " [      0]\n",
      " [      0]\n",
      " [      0]\n",
      " [      0]]\n",
      "[2 6 2 ..., 2 6 2]\n"
     ]
    }
   ],
   "source": [
    "print Dnk[0,:]#.dot( np.arange( 2, max_crossings+2, 2 ) )\n",
    "print Nn\n",
    "print Znk[1]"
   ]
  },
  {
   "cell_type": "code",
   "execution_count": null,
   "metadata": {
    "collapsed": false
   },
   "outputs": [],
   "source": [
    "Vnd = np.sum( Vnde, axis = 2, dtype = np.float ).reshape( VDn.shape[:2] + ( 1, ) )\n",
    "Dn = np.sum( Dnk, axis = 1, dtype = np.float ).reshape( Dnk.shape[:1] + ( 1, ) )\n",
    "\n",
    "EXnde = Vnde / Vnd\n",
    "CDnk = Dnk / Dn\n",
    "print CDnk\n",
    "print EXnde"
   ]
  },
  {
   "cell_type": "code",
   "execution_count": null,
   "metadata": {
    "collapsed": false,
    "scrolled": true
   },
   "outputs": [],
   "source": [
    "import numpy as np\n",
    "import matplotlib.pyplot as plt\n",
    "%matplotlib inline\n",
    "# dat = np.load( './output/fbm_iqr_20150429-072004_18_0.50_200.npz' )\n",
    "# dat = np.load( './output/fbm_iqr_20150429-072224_18_0.72_200.npz' )\n",
    "# dat = np.load( './output/fbm_iqr_20150429-072516_18_0.95_200.npz' )\n",
    "# dat = np.load( './output/fbm_iqr_20150429-083530_16_0.7250_200.npz' )\n",
    "# dat = np.load( './output/fbm_iqr_20150429-083459_16_0.5000_200.npz' )\n",
    "# dat = np.load( './output/fbm_iqr_20150429-090509_21_0.5000_1000.npz' )\n",
    "dat = np.load( './output/fbm_iqr_20150429-150719_21_0.6500_1000.npz' )\n",
    "\n",
    "Njn = dat['Njn']\n",
    "Djnk = dat['Djnk']\n",
    "Vjnde = dat['Vjnde']\n",
    "\n",
    "Djn = np.sum( Djnk, axis = 2, dtype = np.float ).reshape( Djnk.shape[:2] + ( 1, ) )\n",
    "Vjnd = np.sum( Vjnde, axis = 3, dtype = np.float ).reshape( Vjnde.shape[:3] + ( 1, ) )\n",
    "\n",
    "Phat_jnk = Djnk / Djn\n",
    "Qhat_jnde = Vjnde / Vjnd\n",
    "\n",
    "Phat_nk = Phat_jnk.mean( axis = 0, dtype = np.float64 )\n",
    "Qhat_nde = Qhat_jnde.mean( axis = 0, dtype = np.float64 )\n",
    "\n",
    "sdPhat_nk = Phat_jnk.std( axis = 0, dtype = np.float64 )\n",
    "sdQhat_nde = Qhat_jnde.std( axis = 0, dtype = np.float64 )"
   ]
  },
  {
   "cell_type": "code",
   "execution_count": null,
   "metadata": {
    "collapsed": false,
    "scrolled": false
   },
   "outputs": [],
   "source": [
    "# plt.figure( figsize = ( 16, 9 ) )\n",
    "# for Phat_k in Phat_nk[:5] :\n",
    "#     plt.plot( np.log( Phat_k ) )\n",
    "H = 0.65\n",
    "theta = 2**( 1 - 1/H )\n",
    "theoretical = [ theta*(1-theta)**k for k in range( 0, 10 ) ]\n",
    "level = 5\n",
    "plt.figure( figsize = ( 16, 9 ) )\n",
    "plt.subplot(221)\n",
    "plt.hist( Phat_jnk[:,level,0], color = 'gray' )\n",
    "plt.title( \"Simulated distribution: res. $\\\\delta 2^{%d}$\" % level )\n",
    "plt.xlabel( \"$\\\\hat{\\\\mathbb{P}}(Z = 2)$\" )\n",
    "plt.axvline(theoretical[0], color='y', linewidth=2)\n",
    "plt.axvline(Phat_nk[level,0], color='r', linewidth=2)\n",
    "plt.axvline(Phat_nk[level,0] - sdPhat_nk[level,0], color='pink', linestyle='dashed', linewidth=2)\n",
    "plt.axvline(Phat_nk[level,0] + sdPhat_nk[level,0], color='pink', linestyle='dashed', linewidth=2)\n",
    "\n",
    "plt.subplot(222)\n",
    "plt.hist( Phat_jnk[:,level,1], color = 'gray' )\n",
    "plt.title( \"Simulated distribution: res. $\\\\delta 2^{%d}$\" % level )\n",
    "plt.xlabel( \"$\\\\hat{\\\\mathbb{P}}(Z = 4)$\" )\n",
    "plt.axvline(theoretical[1], color='y', linewidth=2)\n",
    "plt.axvline(Phat_nk[level,1], color='r', linewidth=2)\n",
    "plt.axvline(Phat_nk[level,1] - sdPhat_nk[level,1], color='pink', linestyle='dashed', linewidth=2)\n",
    "plt.axvline(Phat_nk[level,1] + sdPhat_nk[level,1], color='pink', linestyle='dashed', linewidth=2)\n",
    "\n",
    "plt.subplot(223)\n",
    "plt.hist( Phat_jnk[:,level,2], color = 'gray' )\n",
    "plt.title( \"Simulated distribution: res. $\\\\delta 2^{%d}$\" % level )\n",
    "plt.xlabel( \"$\\\\hat{\\\\mathbb{P}}(Z = 6)$\" )\n",
    "plt.axvline(theoretical[2], color='y', linewidth=2)\n",
    "plt.axvline(Phat_nk[level,2], color='r', linewidth=2)\n",
    "plt.axvline(Phat_nk[level,2] - sdPhat_nk[level,2], color='pink', linestyle='dashed', linewidth=2)\n",
    "plt.axvline(Phat_nk[level,2] + sdPhat_nk[level,2], color='pink', linestyle='dashed', linewidth=2)\n",
    "\n",
    "plt.subplot(224)\n",
    "plt.hist( Phat_jnk[:,level,6], color = 'gray' )\n",
    "plt.title( \"Simulated distribution: res. $\\\\delta 2^{%d}$\" % level )\n",
    "plt.xlabel( \"$\\\\hat{\\\\mathbb{P}}(Z = 14)$\" )\n",
    "plt.axvline(theoretical[6], color='y', linewidth=2)\n",
    "plt.axvline(Phat_nk[level,6], color='r', linewidth=2)\n",
    "plt.axvline(Phat_nk[level,6] - sdPhat_nk[level,6], color='pink', linestyle='dashed', linewidth=2)\n",
    "plt.axvline(Phat_nk[level,6] + sdPhat_nk[level,6], color='pink', linestyle='dashed', linewidth=2)"
   ]
  },
  {
   "cell_type": "code",
   "execution_count": null,
   "metadata": {
    "collapsed": false
   },
   "outputs": [],
   "source": [
    "print Djnk.shape"
   ]
  },
  {
   "cell_type": "code",
   "execution_count": null,
   "metadata": {
    "collapsed": false,
    "scrolled": false
   },
   "outputs": [],
   "source": [
    "print Njn.mean( axis = 0, dtype = np.float64 )\n",
    "print Njn.std( axis = 0, dtype = np.float64 )\n",
    "\n",
    "print Phat_jnk.mean( axis = 0, dtype = np.float64 )\n",
    "print Phat_jnk.std( axis = 0, dtype = np.float64 )\n",
    "\n",
    "print Qhat_jnde.mean( axis = 0, dtype = np.float64 )\n",
    "print Qhat_jnde.std( axis = 0, dtype = np.float64 )"
   ]
  },
  {
   "cell_type": "code",
   "execution_count": null,
   "metadata": {
    "collapsed": false
   },
   "outputs": [],
   "source": [
    "theta = 2**(1-1/0.50)\n",
    "print theta\n",
    "print 1 / np.sqrt( 2 / (1-theta) )"
   ]
  },
  {
   "cell_type": "markdown",
   "metadata": {},
   "source": [
    "Here I confirm that my implementation is correct."
   ]
  },
  {
   "cell_type": "code",
   "execution_count": null,
   "metadata": {
    "collapsed": false
   },
   "outputs": [],
   "source": [
    "# %lprun -f xtree_integer_crossings\n",
    "# %timeit -n10\n",
    "lht0, lhp0 = xtree_integer_crossings( T, Z )"
   ]
  },
  {
   "cell_type": "code",
   "execution_count": null,
   "metadata": {
    "collapsed": false
   },
   "outputs": [],
   "source": [
    "# %lprun -f f_get_w_int\n",
    "# %timeit -n10\n",
    "mht0, mhp0, _, _ = f_get_w_int( T, Z )"
   ]
  },
  {
   "cell_type": "code",
   "execution_count": null,
   "metadata": {
    "collapsed": false
   },
   "outputs": [],
   "source": [
    "print np.allclose( mht0, lht0 )\n",
    "print np.allclose( mhp0, lhp0 )"
   ]
  },
  {
   "cell_type": "markdown",
   "metadata": {},
   "source": [
    "The following section concerns the correctness of the FGN generator."
   ]
  },
  {
   "cell_type": "code",
   "execution_count": null,
   "metadata": {
    "collapsed": true
   },
   "outputs": [],
   "source": [
    "import numpy as np\n",
    "from numpy.fft import rfft, fft\n",
    "rnd = np.random.RandomState( 123 )\n",
    "\n",
    "N = 2**15 + 1\n",
    "sigma = 1.0 ; H = 0.5"
   ]
  },
  {
   "cell_type": "code",
   "execution_count": null,
   "metadata": {
    "collapsed": false
   },
   "outputs": [],
   "source": [
    "R = np.arange( N, dtype = np.float64 )\n",
    "R = sigma * sigma * .5 * (\n",
    "      np.abs( R - 1 ) ** ( 2.0 * H )\n",
    "    + np.abs( R + 1 ) ** ( 2.0 * H )\n",
    "    - 2 * np.abs( R ) ** ( 2.0 * H ) )"
   ]
  },
  {
   "cell_type": "code",
   "execution_count": null,
   "metadata": {
    "collapsed": true
   },
   "outputs": [],
   "source": [
    "Z = np.real( rfft( np.append( R, R[::-1][1:-1] ) ) )\n",
    "Z = np.sqrt( np.maximum( Z, 0.0 ) / ( 2 * N - 2 ) )\n",
    "Z = np.append( Z, Z[::-1][1:-1] )"
   ]
  },
  {
   "cell_type": "code",
   "execution_count": null,
   "metadata": {
    "collapsed": false
   },
   "outputs": [],
   "source": [
    "W = rnd.randn( 2 * N - 2 ) + rnd.randn( 2 * N - 2 ) * 1j\n",
    "W = fft( Z * W )\n",
    "\n",
    "u,v = ( np.real( W[ :N ] ), np.imag( W[ :N ] ) )"
   ]
  },
  {
   "cell_type": "code",
   "execution_count": null,
   "metadata": {
    "collapsed": false
   },
   "outputs": [],
   "source": [
    "u,v"
   ]
  },
  {
   "cell_type": "code",
   "execution_count": null,
   "metadata": {
    "collapsed": true
   },
   "outputs": [],
   "source": []
  }
 ],
 "metadata": {
  "kernelspec": {
   "display_name": "Python 2",
   "language": "python",
   "name": "python2"
  },
  "language_info": {
   "codemirror_mode": {
    "name": "ipython",
    "version": 2
   },
   "file_extension": ".py",
   "mimetype": "text/x-python",
   "name": "python",
   "nbconvert_exporter": "python",
   "pygments_lexer": "ipython2",
   "version": "2.7.9"
  }
 },
 "nbformat": 4,
 "nbformat_minor": 0
}
