{
 "cells": [
  {
   "cell_type": "code",
   "execution_count": null,
   "metadata": {
    "collapsed": false
   },
   "outputs": [],
   "source": [
    "import numpy as np\n",
    "from fgn import fbm\n",
    "from crossing_tree import *"
   ]
  },
  {
   "cell_type": "code",
   "execution_count": null,
   "metadata": {
    "collapsed": false
   },
   "outputs": [],
   "source": [
    "generator = fbm( N = 2**21+1, H = .65 )\n",
    "generator.set_rnd( np.random.RandomState( 123 ) )\n",
    "max_levels, max_crossings = 7, 20"
   ]
  },
  {
   "cell_type": "code",
   "execution_count": null,
   "metadata": {
    "collapsed": false
   },
   "outputs": [],
   "source": [
    "T, X = generator( )\n",
    "# delta = np.std( np.diff( X ) )\n",
    "delta = np.subtract( *np.percentile( np.diff( X ), [ 75, 25 ] ) )\n",
    "Tnk, XTnk, Znk, Vnk, Wnk = xtree_build( T, X, delta = delta )"
   ]
  },
  {
   "cell_type": "code",
   "execution_count": null,
   "metadata": {
    "collapsed": false
   },
   "outputs": [],
   "source": [
    "# Nn = np.array( [ len( Tk ) - 1 for Tk in Tnk ],\n",
    "#     dtype = np.float ).reshape( ( len( Tnk ), -1 ) )\n",
    "Nn = np.zeros( ( max_levels + 1, 1 ), dtype = np.int )\n",
    "for n, Tk in enumerate( Tnk, 0 ) :\n",
    "    n = max_levels if n > max_levels else n\n",
    "    Nn[ n ] += len( Tk ) - 1\n",
    "Dnk = np.zeros( ( max_levels + 1, max_crossings // 2 ), dtype = np.int )\n",
    "for n, Zk in enumerate( Znk[ 1: ], 0 ) :\n",
    "    n = max_levels if n > max_levels else n\n",
    "    Z_count, Z_freq = np.unique( Zk, return_counts = True )\n",
    "    Z_count = np.minimum( Z_count, max_crossings )\n",
    "    mask = ( Z_count < max_crossings )\n",
    "    Dnk[ n, Z_count[ mask ] // 2 - 1 ] += Z_freq[ mask ]\n",
    "    Dnk[ n, max_crossings // 2 - 1 ] += np.sum( Z_freq[ ~mask ] )\n",
    "Vnde = np.zeros( ( max_levels + 1, 2, 2 ), dtype = np.int )\n",
    "for n, Vk in enumerate( Vnk[ 1: ], 0 ) :\n",
    "    n = max_levels if n > max_levels else n\n",
    "    Vnde[ n, 0 ] += np.sum( Vk[ Vk[ :, 2 ] < 0 ], axis = 0 )[:2]\n",
    "    Vnde[ n, 1 ] += np.sum( Vk[ Vk[ :, 2 ] > 0 ], axis = 0 )[:2]\n"
   ]
  },
  {
   "cell_type": "code",
   "execution_count": null,
   "metadata": {
    "collapsed": false
   },
   "outputs": [],
   "source": [
    "print Dnk[0,:]#.dot( np.arange( 2, max_crossings+2, 2 ) )\n",
    "print Nn\n",
    "print Znk[1]"
   ]
  },
  {
   "cell_type": "code",
   "execution_count": null,
   "metadata": {
    "collapsed": false
   },
   "outputs": [],
   "source": [
    "Vnd = np.sum( Vnde, axis = 2, dtype = np.float ).reshape( VDn.shape[:2] + ( 1, ) )\n",
    "Dn = np.sum( Dnk, axis = 1, dtype = np.float ).reshape( Dnk.shape[:1] + ( 1, ) )\n",
    "\n",
    "EXnde = Vnde / Vnd\n",
    "CDnk = Dnk / Dn\n",
    "print CDnk\n",
    "print EXnde"
   ]
  },
  {
   "cell_type": "code",
   "execution_count": null,
   "metadata": {
    "collapsed": false,
    "scrolled": true
   },
   "outputs": [],
   "source": [
    "# dat = np.load( './output/fbm_iqr_20150429-072004_18_0.50_200.npz' )\n",
    "# dat = np.load( './output/fbm_iqr_20150429-072224_18_0.72_200.npz' )\n",
    "# dat = np.load( './output/fbm_iqr_20150429-072516_18_0.95_200.npz' )\n",
    "# dat = np.load( './output/fbm_iqr_20150429-083530_16_0.7250_200.npz' )\n",
    "dat = np.load( './output/fbm_iqr_20150429-083459_16_0.5000_200.npz' )\n",
    "\n",
    "## Dirty hack\n",
    "Njn = np.array( [Nn[:10] for Nn in dat['Njn'] ])\n",
    "Djnk = dat['Djnk']\n",
    "Vjnde = dat['Vjnde']\n",
    "\n",
    "Djn = np.sum( Djnk, axis = 2, dtype = np.float ).reshape( Djnk.shape[:2] + ( 1, ) )\n",
    "Vjnd = np.sum( Vjnde, axis = 3, dtype = np.float ).reshape( Vjnde.shape[:3] + ( 1, ) )\n",
    "\n",
    "Phat_jnk = Djnk / Djn\n",
    "Qhat_jnde = Vjnde / Vjnd"
   ]
  },
  {
   "cell_type": "code",
   "execution_count": null,
   "metadata": {
    "collapsed": false,
    "scrolled": false
   },
   "outputs": [],
   "source": [
    "print Njn.mean( axis = 0, dtype = np.float64 )\n",
    "print Njn.std( axis = 0, dtype = np.float64 )\n",
    "\n",
    "print Phat_jnk.mean( axis = 0, dtype = np.float64 )\n",
    "print Phat_jnk.std( axis = 0, dtype = np.float64 )\n",
    "\n",
    "print Qhat_jnde.mean( axis = 0, dtype = np.float64 )\n",
    "print Qhat_jnde.std( axis = 0, dtype = np.float64 )"
   ]
  },
  {
   "cell_type": "code",
   "execution_count": null,
   "metadata": {
    "collapsed": false
   },
   "outputs": [],
   "source": [
    "theta = 2**(1-1/0.95)\n",
    "print theta\n",
    "print 1 / np.sqrt( 1 / (1-theta) )"
   ]
  },
  {
   "cell_type": "markdown",
   "metadata": {},
   "source": [
    "Here I confirm that my implementation is correct."
   ]
  },
  {
   "cell_type": "code",
   "execution_count": null,
   "metadata": {
    "collapsed": false
   },
   "outputs": [],
   "source": [
    "# %lprun -f xtree_integer_crossings\n",
    "# %timeit -n10\n",
    "lht0, lhp0 = xtree_integer_crossings( T, Z )"
   ]
  },
  {
   "cell_type": "code",
   "execution_count": null,
   "metadata": {
    "collapsed": false
   },
   "outputs": [],
   "source": [
    "# %lprun -f f_get_w_int\n",
    "# %timeit -n10\n",
    "mht0, mhp0, _, _ = f_get_w_int( T, Z )"
   ]
  },
  {
   "cell_type": "code",
   "execution_count": null,
   "metadata": {
    "collapsed": false
   },
   "outputs": [],
   "source": [
    "print np.allclose( mht0, lht0 )\n",
    "print np.allclose( mhp0, lhp0 )"
   ]
  },
  {
   "cell_type": "markdown",
   "metadata": {},
   "source": [
    "The following section concerns the correctness of the FGN generator."
   ]
  },
  {
   "cell_type": "code",
   "execution_count": null,
   "metadata": {
    "collapsed": true
   },
   "outputs": [],
   "source": [
    "import numpy as np\n",
    "from numpy.fft import rfft, fft\n",
    "rnd = np.random.RandomState( 123 )\n",
    "\n",
    "N = 2**15 + 1\n",
    "sigma = 1.0 ; H = 0.5"
   ]
  },
  {
   "cell_type": "code",
   "execution_count": null,
   "metadata": {
    "collapsed": false
   },
   "outputs": [],
   "source": [
    "R = np.arange( N, dtype = np.float64 )\n",
    "R = sigma * sigma * .5 * (\n",
    "      np.abs( R - 1 ) ** ( 2.0 * H )\n",
    "    + np.abs( R + 1 ) ** ( 2.0 * H )\n",
    "    - 2 * np.abs( R ) ** ( 2.0 * H ) )"
   ]
  },
  {
   "cell_type": "code",
   "execution_count": null,
   "metadata": {
    "collapsed": true
   },
   "outputs": [],
   "source": [
    "Z = np.real( rfft( np.append( R, R[::-1][1:-1] ) ) )\n",
    "Z = np.sqrt( np.maximum( Z, 0.0 ) / ( 2 * N - 2 ) )\n",
    "Z = np.append( Z, Z[::-1][1:-1] )"
   ]
  },
  {
   "cell_type": "code",
   "execution_count": null,
   "metadata": {
    "collapsed": false
   },
   "outputs": [],
   "source": [
    "W = rnd.randn( 2 * N - 2 ) + rnd.randn( 2 * N - 2 ) * 1j\n",
    "W = fft( Z * W )\n",
    "\n",
    "u,v = ( np.real( W[ :N ] ), np.imag( W[ :N ] ) )"
   ]
  },
  {
   "cell_type": "code",
   "execution_count": null,
   "metadata": {
    "collapsed": false
   },
   "outputs": [],
   "source": [
    "u,v"
   ]
  },
  {
   "cell_type": "code",
   "execution_count": null,
   "metadata": {
    "collapsed": true
   },
   "outputs": [],
   "source": []
  }
 ],
 "metadata": {
  "kernelspec": {
   "display_name": "Python 2",
   "language": "python",
   "name": "python2"
  },
  "language_info": {
   "codemirror_mode": {
    "name": "ipython",
    "version": 2
   },
   "file_extension": ".py",
   "mimetype": "text/x-python",
   "name": "python",
   "nbconvert_exporter": "python",
   "pygments_lexer": "ipython2",
   "version": "2.7.9"
  }
 },
 "nbformat": 4,
 "nbformat_minor": 0
}
