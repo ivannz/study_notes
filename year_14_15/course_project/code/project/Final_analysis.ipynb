{
 "cells": [
  {
   "cell_type": "markdown",
   "metadata": {},
   "source": [
    "Load the required modules"
   ]
  },
  {
   "cell_type": "code",
   "execution_count": null,
   "metadata": {
    "collapsed": false
   },
   "outputs": [],
   "source": [
    "import os, re\n",
    "import numpy as np\n",
    "import matplotlib.pyplot as plt\n",
    "%matplotlib inline\n",
    "\n",
    "import warnings\n",
    "warnings.filterwarnings(\"ignore\")\n",
    "\n",
    "import self_similarity as ss\n",
    "from main import sim_load, list_files"
   ]
  },
  {
   "cell_type": "markdown",
   "metadata": {},
   "source": [
    "Define a procedure for estimating the Hurst exponent."
   ]
  },
  {
   "cell_type": "code",
   "execution_count": null,
   "metadata": {
    "collapsed": true
   },
   "outputs": [],
   "source": [
    "def xing_hurst( file_name, p = 5, q = 7 ) :\n",
    "    levels = np.arange( p, q + 1 ) - 1\n",
    "    H, Njn, Djnk, Vjnde = sim_load( file_name )\n",
    "    Cjn = np.reshape( np.sum( Djnk, axis = ( 2, ), dtype = np.float ), Djnk.shape[ :-1 ] + ( 1, ) )\n",
    "    Zk = 2 * np.reshape( 1 + np.arange( Djnk.shape[ -1 ] ), ( 1, 1, Djnk.shape[ -1 ] ) )\n",
    "    Pjnk = np.where( Cjn > 0, Djnk / Cjn, 0 )\n",
    "    Mjn = np.reshape( np.sum( Pjnk * Zk, axis = ( 2, ) ), Cjn.shape )\n",
    "    Hjn = np.log( 2 ) / np.log( Mjn )\n",
    "    return ( ( 1 + np.arange( Djnk.shape[ -2 ] ) )[levels], H,\n",
    "        np.average( Hjn, axis = (0, ) ).flatten( )[levels],\n",
    "        np.std( Hjn, axis = (0, ) ).flatten( )[levels] )"
   ]
  },
  {
   "cell_type": "markdown",
   "metadata": {},
   "source": [
    "The procedure below loads data from the specified files and tests the pooled subcrossing size distribution against teh conjectured one."
   ]
  },
  {
   "cell_type": "code",
   "execution_count": null,
   "metadata": {
    "collapsed": true
   },
   "outputs": [],
   "source": [
    "def xing_probs( file_name, p = 5, q = 7 ) :\n",
    "    levels = np.arange( p, q + 1 ) - 1\n",
    "    H, Njn, Djnk, Vjnde = sim_load( file_name )\n",
    "    Cj = np.reshape( np.sum( Djnk[:, levels ], axis = ( 1, 2, ), dtype = np.float ), ( Djnk.shape[ 0 ], 1, ) )\n",
    "    Pjk = np.where( Cj > 0, np.sum( Djnk[:, levels ], axis = ( 1, ) ) / Cj, 0 )\n",
    "    Zk = np.reshape( 1 + np.arange( Pjk.shape[ -1 ] ), ( 1, Pjk.shape[ -1 ] ) )\n",
    "    theta = 2.0**( 1.0 - 1.0 / H )\n",
    "    Pk = theta * ( 1 - theta )**( Zk - 1 )\n",
    "    return H, 2*Zk, Pk, np.average( Pjk, axis = ( 0, ) ), np.std( Pjk, axis = ( 0, ) )"
   ]
  },
  {
   "cell_type": "markdown",
   "metadata": {},
   "source": [
    "Load the simulated reults."
   ]
  },
  {
   "cell_type": "code",
   "execution_count": null,
   "metadata": {
    "collapsed": false
   },
   "outputs": [],
   "source": [
    "# files = list_files( './output/25/std/', pattern = r'\\.npz$' )\n",
    "# files = list_files( '/Users/user/Dropbox/study_notes/year_14_15/course_project/code/output/HRM-2_19-32/med/', pattern = r'\\.npz$' )\n",
    "files = list_files( './output/HRM/local/HRM-4_18-16/med/', pattern = r'\\.npz$' )\n",
    "# files = list_files( './output/20150527/HRM-3_20-16/med/', pattern = r'\\.npz$' )"
   ]
  },
  {
   "cell_type": "markdown",
   "metadata": {},
   "source": [
    "Set the levels of the crossing tree where the self-similarity seems to kick in."
   ]
  },
  {
   "cell_type": "code",
   "execution_count": null,
   "metadata": {
    "collapsed": true
   },
   "outputs": [],
   "source": [
    "p, q = 5, 7"
   ]
  },
  {
   "cell_type": "markdown",
   "metadata": {},
   "source": [
    "Plot the estimated distribution"
   ]
  },
  {
   "cell_type": "code",
   "execution_count": null,
   "metadata": {
    "collapsed": false,
    "scrolled": false
   },
   "outputs": [],
   "source": [
    "def draw_probs( files, ax, theor_color = 'gray' ) :\n",
    "    ax.set_xticks( np.arange( 2, 42, 2) )\n",
    "    ax.grid()\n",
    "    ax.set_color_cycle( plt.cm.rainbow( np.linspace( 0, 1, max( len( files ), 10 ) )[::-1] ) )\n",
    "    for f in files[1:] :\n",
    "        H, Zk, Pk, Phat, Pstd = xing_probs( f, p = p, q = q )\n",
    "        ax.plot( Zk[0], Pk[0], linestyle = '-', color = theor_color )\n",
    "        mask = Phat > 0\n",
    "        lwr = np.where( Phat > Pstd, Pstd, 0 )\n",
    "        ax.errorbar( Zk[0][mask], Phat[mask], yerr = [lwr[mask], Pstd[mask]],\n",
    "            fmt = '-o', label = 'HRM-4 H=%.2f' % ( H, ) )\n",
    "\n",
    "## Create an appropriately sized figure\n",
    "plt.figure( figsize = ( 16, 9 ) )\n",
    "ax = plt.subplot( 111 )\n",
    "\n",
    "## Setup view of the polt's main area\n",
    "draw_probs( files, ax, theor_color = 'black' )\n",
    "ax.set_yscale( 'log' ) ; ax.set_ylim( 1e-8, 1 ) ; ax.set_xlim( 2, 40 )\n",
    "## Add legend\n",
    "legend = ax.legend( loc = 'lower right', frameon = 1 )\n",
    "frame = legend.get_frame( )\n",
    "frame.set_facecolor( 'whitesmoke' )\n",
    "legend.set_title( r'Empirical' )\n",
    "\n",
    "## Add proper labels and titles\n",
    "ax.set_title(r\"\"\"Subcrossing size distribution: empirical against conjectured $\\mathbb{P}(Z=2k) = \\theta \\cdot (1-\\theta)^{k-1}$ with $\\theta = 2^{1-H^{-1}}$\"\"\")\n",
    "ax.set_ylabel( r'Probability (log)' )\n",
    "ax.set_xlabel( r'Subcrossing size' )\n",
    "\n",
    "## Add a zoomed view of the small size subcrossings region\n",
    "ax2 = plt.axes( [.64, .54, .25, .35 ], axisbg = 'w' )\n",
    "draw_probs( files, ax2, theor_color = 'gray' )\n",
    "ax2.set_yscale( 'log' ) ; ax2.set_ylim( .25e-2, 1 ) ; ax2.set_xlim( 1, 7 )\n",
    "\n",
    "## Output\n",
    "plt.savefig('./output/HRM-4_18-16-log_probs.png')\n",
    "plt.show()"
   ]
  },
  {
   "cell_type": "markdown",
   "metadata": {},
   "source": [
    "Demonstrate that there are not that little crossings of sizes greater than 4."
   ]
  },
  {
   "cell_type": "code",
   "execution_count": null,
   "metadata": {
    "collapsed": false
   },
   "outputs": [],
   "source": [
    "# H, Njn, Djnk, Vjnde = sim_load( './output/25/std/fbm_std_20150517-075535_25_0.5000_10.npz' )\n",
    "H, Njn, Djnk, Vjnde = sim_load( '/Users/user/Dropbox/study_notes/year_14_15/course_project/code/output/HRM-4_19-32/med/HRM-4_med_20150526-073757_19-32_0.5000_1000.npz' )\n",
    "print \"Average number of observed subcrossings of specified size per each sample path replication\"\n",
    "print np.average( Djnk, axis = ( 0, ) )[p:q+1, np.arange( 6, 14, 2)//2-1]"
   ]
  },
  {
   "cell_type": "markdown",
   "metadata": {},
   "source": [
    "Show the estimated Hurst exponents "
   ]
  },
  {
   "cell_type": "code",
   "execution_count": null,
   "metadata": {
    "collapsed": false
   },
   "outputs": [],
   "source": [
    "p, q = 1, 19"
   ]
  },
  {
   "cell_type": "code",
   "execution_count": null,
   "metadata": {
    "collapsed": false
   },
   "outputs": [],
   "source": [
    "plt.figure( figsize = ( 16, 9 ) )\n",
    "ax = plt.subplot( 111 )\n",
    "ax.set_title('Crossing tree estimates of the Hurst exponent')\n",
    "ax.set_xlabel( 'Tree level' ) ; ax.set_ylabel( '$H$', rotation = 0 )\n",
    "ax.set_xlim( p, q ) ; ax.set_ylim( 0.45, 1.0 )\n",
    "ax.set_color_cycle( plt.cm.rainbow( np.linspace( 0, 1, max( len( files ), 10 ) )[::-1] ) )\n",
    "for f in files[1:] :\n",
    "    Ln, H, Hhat, Hstd = xing_hurst( f, p = p, q = q )\n",
    "    ax.axhline( y = H, color = 'black', linestyle = '-.' )\n",
    "    lwr = np.where( Hhat > Hstd, Hstd, 0 )\n",
    "    mask = Hhat > H*0.75\n",
    "    ax.errorbar( Ln[mask], Hhat[mask], yerr = [ lwr[mask], Hstd[mask] ],\n",
    "        fmt = '-o', label = 'fBM H=%.2f' % ( H, ) )\n",
    "\n",
    "## Add a legend with white opaque background.\n",
    "legend = ax.legend( loc = 'lower right', frameon = 1 )\n",
    "frame = legend.get_frame( )\n",
    "frame.set_facecolor( 'whitesmoke' )\n"
   ]
  },
  {
   "cell_type": "markdown",
   "metadata": {},
   "source": [
    "Test the self similarity hypothesis."
   ]
  },
  {
   "cell_type": "code",
   "execution_count": null,
   "metadata": {
    "collapsed": true
   },
   "outputs": [],
   "source": [
    "p, q, h = 7, 8, 5"
   ]
  },
  {
   "cell_type": "code",
   "execution_count": null,
   "metadata": {
    "collapsed": false
   },
   "outputs": [],
   "source": [
    "plt.figure( figsize = ( 16, 9 ) )\n",
    "ax = plt.subplot( 111 )\n",
    "prc = np.arange( 1, 100 )/100.0\n",
    "ax.set_color_cycle( plt.cm.rainbow( np.linspace( 0, 1, len( files ) ) ) )\n",
    "labels, data = [], []\n",
    "for f in files :\n",
    "    H, Njn, Djnk, Vjnde = sim_load( f, return_durations = False )\n",
    "    stat, dof, pv = ss.pooled( Djnk, Njn, p = p, q = q, h = h )\n",
    "    labels.append( 'fBM H=%.2f' % ( H, ) )\n",
    "    data.append( pv )\n",
    "    ax.hist( pv, bins = prc, label = 'fBM H=%.2f' % ( H, ), histtype = 'barstacked', stacked= True )\n",
    "# ax.hist( data, bins = 10, label = labels, histtype = 'bar', stacked = False )\n",
    "#     ax.plot( np.percentile( pv, prc ), prc, '-o', label = 'fBM H=%.2f' % ( H, ) )\n",
    "legend = ax.legend( loc = 'upper right', frameon = 1 )\n",
    "frame = legend.get_frame( )\n",
    "frame.set_facecolor( 'whitesmoke' )\n"
   ]
  },
  {
   "cell_type": "code",
   "execution_count": null,
   "metadata": {
    "collapsed": false
   },
   "outputs": [],
   "source": [
    "H, Njn, Djnk, Vjnde, Wjnp, Wbarjn, Wstdjn = sim_load(\n",
    "#     './output/25/std/fbm_std_20150517-075535_25_0.5000_10.npz', return_durations = True )\n",
    "    './output/HRM-2-15-4/med/HRM-2_med_20150525-144147_15-16_0.5000_100.npz', return_durations = True )"
   ]
  },
  {
   "cell_type": "code",
   "execution_count": null,
   "metadata": {
    "collapsed": false
   },
   "outputs": [],
   "source": [
    "plt.figure( figsize = ( 16, 9 ) )\n",
    "ax = plt.subplot( 111 )\n",
    "# ax.set_yscale( 'log' )\n",
    "# ax.errorbar( x = np.arange( Wbarjn.shape[1] ), y = np.average( Wjnp, axis = ( 0, ) ).T )\n",
    "plt.plot( np.log( np.average( Wjnp, axis = ( 0, ) ).T ) )"
   ]
  },
  {
   "cell_type": "code",
   "execution_count": null,
   "metadata": {
    "collapsed": false
   },
   "outputs": [],
   "source": [
    "ax = plt.subplot( 111 )\n",
    "ax.set_color_cycle( plt.cm.rainbow( np.linspace( 0, 1, Wjnp.shape[1] ) ) )\n",
    "prc = np.array( [ 0.5, 1.0, 2.5, 5.0, 10, 25, 50, 75, 90, 95, 97.5, 99, 99.5 ] )\n",
    "ax.plot( np.log( np.average( Wjnp, axis = ( 0, ) )[:14].T ), prc )"
   ]
  },
  {
   "cell_type": "code",
   "execution_count": null,
   "metadata": {
    "collapsed": true
   },
   "outputs": [],
   "source": [
    "# H, Njn, Djnk, Vjnde = sim_load( './output/25/std/fbm_std_20150517-080403_25_0.6500_10.npz' )\n",
    "basepath = '/Users/user/Dropbox/study_notes/year_14_15/course_project/code/output/HRM-3_19-32/med/'\n",
    "H, Njn, Djnk, Vjnde = sim_load( basepath+'HRM-3_med_20150526-042928_19-32_0.5000_1000.npz' )"
   ]
  },
  {
   "cell_type": "code",
   "execution_count": null,
   "metadata": {
    "collapsed": true
   },
   "outputs": [],
   "source": [
    "p, q = 6, 10"
   ]
  },
  {
   "cell_type": "code",
   "execution_count": null,
   "metadata": {
    "collapsed": true
   },
   "outputs": [],
   "source": [
    "levels = np.arange( p, 1 + q ) - 1\n",
    "Cjnd = np.reshape( np.sum( Vjnde, axis = ( 3, ), dtype = np.float ), ( Vjnde.shape[ :-1 ] + ( 1, ) ) )\n",
    "V_hat = Vjnde[:,levels] / Cjnd[:,levels]\n",
    "Vpool = np.sum( Vjnde[:,levels], axis = ( 1, ) ) / np.sum( Cjnd[:,levels], axis = ( 1, ) )"
   ]
  },
  {
   "cell_type": "code",
   "execution_count": null,
   "metadata": {
    "collapsed": false
   },
   "outputs": [],
   "source": [
    "print np.average( Vpool, axis = 0 )\n",
    "print np.std( Vpool, axis = 0 )"
   ]
  },
  {
   "cell_type": "code",
   "execution_count": null,
   "metadata": {
    "collapsed": false
   },
   "outputs": [],
   "source": [
    "theo = 2**(1-1.0/H)\n",
    "# print theo\n",
    "pv = 1.0 / np.sqrt( 2.0 / theo )\n",
    "print pv"
   ]
  },
  {
   "cell_type": "code",
   "execution_count": null,
   "metadata": {
    "collapsed": false
   },
   "outputs": [],
   "source": [
    "print np.array( np.sum( Djnk > 0, axis = ( 0, ) ) / 50, np.int )#[p:q+1,:]"
   ]
  },
  {
   "cell_type": "code",
   "execution_count": null,
   "metadata": {
    "collapsed": true
   },
   "outputs": [],
   "source": []
  }
 ],
 "metadata": {
  "kernelspec": {
   "display_name": "Python 2",
   "language": "python",
   "name": "python2"
  },
  "language_info": {
   "codemirror_mode": {
    "name": "ipython",
    "version": 2
   },
   "file_extension": ".py",
   "mimetype": "text/x-python",
   "name": "python",
   "nbconvert_exporter": "python",
   "pygments_lexer": "ipython2",
   "version": "2.7.9"
  }
 },
 "nbformat": 4,
 "nbformat_minor": 0
}
