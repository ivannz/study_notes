{
 "metadata": {
  "name": "",
  "signature": "sha256:ec2fd920175c8575fd6e96b9c4bf38e7e5b4bd4378677400df401a9ab991049a"
 },
 "nbformat": 3,
 "nbformat_minor": 0,
 "worksheets": [
  {
   "cells": [
    {
     "cell_type": "code",
     "collapsed": false,
     "input": [
      "import numpy as np\n",
      "from scipy.stats import chisqprob as cdchisq\n",
      "\n",
      "from fgn import fbm\n",
      "from xtree import *\n",
      "import matplotlib.pyplot as plt\n",
      "%matplotlib inline"
     ],
     "language": "python",
     "metadata": {},
     "outputs": [],
     "prompt_number": 1
    },
    {
     "cell_type": "code",
     "collapsed": false,
     "input": [
      "generator = fbm( N = 2**20+1, H = .65 )\n",
      "generator.set_rnd( np.random.RandomState( 123 ) )\n",
      "T, X = generator( )"
     ],
     "language": "python",
     "metadata": {},
     "outputs": [],
     "prompt_number": 2
    },
    {
     "cell_type": "code",
     "collapsed": false,
     "input": [
      "delta = np.std( np.diff( X ) )"
     ],
     "language": "python",
     "metadata": {},
     "outputs": [],
     "prompt_number": 3
    },
    {
     "cell_type": "code",
     "collapsed": false,
     "input": [
      "hp = list( ) ; ht = list( ); hx = list( ) ; ex = list( ) ; wt = list( )\n",
      "delta = np.std( np.diff( X ) ) if delta is None else delta\n",
      "Z = ( X - X[ 0 ] ) / delta\n",
      "lht0, lhp0, lhx0, lex0, lwt0 = xtree_integer_crossings( T, Z )\n",
      "height = 1 ; delta *= 2\n",
      "Z = ( X - X[ 0 ] ) / delta\n",
      "lht1, lhp1, lhx1, lex1, lwt1 = xtree_integer_crossings( T, Z )"
     ],
     "language": "python",
     "metadata": {},
     "outputs": [],
     "prompt_number": 4
    },
    {
     "cell_type": "code",
     "collapsed": false,
     "input": [
      "hits = np.searchsorted( lht0, lht1 )\n",
      "last_hit = hits // 2 - 1\n",
      "directions = np.sign( np.diff( lhp0 ) )[ 1::2 ]\n",
      "up_down_mask = directions < 0\n",
      "up_down_mask[ last_hit[ 1: ] ] = False\n",
      "up_down_total = np.cumsum( up_down_mask )[ last_hit ] ; up_down_total[ 0 ] = 0\n",
      "excursions = np.empty( ( len( hits ) - 1, 3 ), np.int )\n",
      "excursions[:,0] = np.diff( up_down_total )\n",
      "excursions[:,1] = np.diff( hits ) // 2 - excursions[:,0] - 1\n",
      "excursions[:,2] = directions[ last_hit[ 1: ] ]"
     ],
     "language": "python",
     "metadata": {},
     "outputs": [],
     "prompt_number": 51
    },
    {
     "cell_type": "code",
     "collapsed": false,
     "input": [
      "b = list( )\n",
      "ud = 0 ; du = 0\n",
      "directions = np.sign( np.diff( lhp0 ) )\n",
      "ds = \"\".join( \"-+\"[int(d+1)//2] for d in directions )\n",
      "for i in range( 0, len( ds ), 2 ) :\n",
      "    pp = ds[i:i+2]\n",
      "    if pp == '+-' :\n",
      "        ud += 1\n",
      "    elif pp == '-+' :\n",
      "        du += 1\n",
      "    else :\n",
      "        b.append( ( ud, du, pp ) )\n",
      "        ud = du = 0\n"
     ],
     "language": "python",
     "metadata": {},
     "outputs": [],
     "prompt_number": 60
    },
    {
     "cell_type": "code",
     "collapsed": false,
     "input": [
      "a = list( )\n",
      "ud = 0 ; du = 0\n",
      "directions = np.sign( np.diff( lhp0 ) )\n",
      "for f,s in zip( directions[0::2], directions[1::2] ) :\n",
      "    if f > 0 and s < 0 :\n",
      "        ud += 1\n",
      "    elif f < 0 and s > 0 :\n",
      "        du += 1\n",
      "    else :\n",
      "        a.append( ( ud, du, s ) )\n",
      "        ud = du = 0\n",
      "aa = np.array( a )"
     ],
     "language": "python",
     "metadata": {},
     "outputs": [],
     "prompt_number": 66
    },
    {
     "cell_type": "code",
     "collapsed": false,
     "input": [
      "print np.allclose( aa, excursions )"
     ],
     "language": "python",
     "metadata": {},
     "outputs": [
      {
       "output_type": "stream",
       "stream": "stdout",
       "text": [
        "True\n"
       ]
      }
     ],
     "prompt_number": 68
    },
    {
     "cell_type": "code",
     "collapsed": false,
     "input": [
      "print ds[:26]\n",
      "print b[:10], a[:10]\n",
      "print excursions[:10]\n",
      "print excursions.shape"
     ],
     "language": "python",
     "metadata": {},
     "outputs": [
      {
       "output_type": "stream",
       "stream": "stdout",
       "text": [
        "+---+++++--++++++-+-++++--\n",
        "[(1, 0, '--'), (0, 0, '++'), (0, 0, '++'), (1, 1, '++'), (0, 0, '++'), (2, 0, '++'), (0, 0, '++'), (0, 0, '--'), (0, 0, '--'), (0, 0, '--')] [(1, 0, -1.0), (0, 0, 1.0), (0, 0, 1.0), (1, 1, 1.0), (0, 0, 1.0), (2, 0, 1.0), (0, 0, 1.0), (0, 0, -1.0), (0, 0, -1.0), (0, 0, -1.0)]\n",
        "[[ 1  0 -1]\n",
        " [ 0  0  1]\n",
        " [ 0  0  1]\n",
        " [ 1  1  1]\n",
        " [ 0  0  1]\n",
        " [ 2  0  1]\n",
        " [ 0  0  1]\n",
        " [ 0  0 -1]\n",
        " [ 0  0 -1]\n",
        " [ 0  0 -1]]\n",
        "(217878, 3)\n"
       ]
      }
     ],
     "prompt_number": 63
    },
    {
     "cell_type": "code",
     "collapsed": false,
     "input": [
      "uu = np.sum( ( directions[1::2] > 0 ) & ( directions[0::2] > 0) )\n",
      "du = np.sum( ( directions[1::2] > 0 ) & ( directions[0::2] < 0) )\n",
      "ud = np.sum( ( directions[1::2] < 0 ) & ( directions[0::2] > 0) )\n",
      "dd = np.sum( ( directions[1::2] < 0 ) & ( directions[0::2] < 0) )"
     ],
     "language": "python",
     "metadata": {},
     "outputs": [],
     "prompt_number": 31
    },
    {
     "cell_type": "code",
     "collapsed": false,
     "input": [
      "print excursions.sum( axis = 0)"
     ],
     "language": "python",
     "metadata": {},
     "outputs": [
      {
       "output_type": "stream",
       "stream": "stdout",
       "text": [
        "[29856 29523  4412]\n"
       ]
      }
     ],
     "prompt_number": 33
    },
    {
     "cell_type": "code",
     "collapsed": false,
     "input": [
      "print uu, ud, du, dd\n",
      "print uu+ud, u_\n",
      "print uu+du, _u\n",
      "print du+dd, d_\n",
      "print ud+dd, _d"
     ],
     "language": "python",
     "metadata": {},
     "outputs": [
      {
       "output_type": "stream",
       "stream": "stdout",
       "text": [
        "48770 21588 21540 46731\n",
        "70358 70358\n",
        "70310 70310\n",
        "68271 68271\n",
        "68319 68319\n"
       ]
      }
     ],
     "prompt_number": 36
    },
    {
     "cell_type": "code",
     "collapsed": false,
     "input": [
      "print _d, _d-dd, d_, dd\n",
      "print _u, _u-uu, u_, uu"
     ],
     "language": "python",
     "metadata": {},
     "outputs": [
      {
       "output_type": "stream",
       "stream": "stdout",
       "text": [
        "68319 21588 68271 46731\n",
        "70310 21540 70358 48770\n"
       ]
      }
     ],
     "prompt_number": 30
    },
    {
     "cell_type": "code",
     "collapsed": false,
     "input": [
      "\n",
      "max_levels, max_crossings = 10, 10\n",
      "\n",
      "delta = np.std( np.diff( X ) )\n",
      "\n",
      "Tnk, hp, Znk, ex, Wt = xtree_build( T, X, delta = delta )\n",
      "# Tnk, hp, Znk, ex, Wt = xtree_build( T, X, delta = delta, max_height = max_levels + 1 )"
     ],
     "language": "python",
     "metadata": {},
     "outputs": []
    },
    {
     "cell_type": "code",
     "collapsed": false,
     "input": [],
     "language": "python",
     "metadata": {},
     "outputs": []
    },
    {
     "cell_type": "code",
     "collapsed": false,
     "input": [
      "counts = np.zeros( ( max_levels + 1, max_crossings // 2 ), dtype = np.float )\n",
      "for level, subcrossings in enumerate( Znk[ 1: ], 0 ) :\n",
      "\tsx_count, sx_freq = np.unique( subcrossings, return_counts = True )\n",
      "\tsx_count = np.minimum( sx_count, max_crossings )\n",
      "\tlevel = np.minimum( level, max_levels )\n",
      "\tcounts[ level, sx_count // 2 - 1 ] = sx_freq"
     ],
     "language": "python",
     "metadata": {},
     "outputs": []
    },
    {
     "cell_type": "code",
     "collapsed": false,
     "input": [
      "Nn = np.array( [len( Tk ) for Tk in Tnk ], dtype = np.int ).reshape( ( len( Tnk ), -1 ) )"
     ],
     "language": "python",
     "metadata": {},
     "outputs": []
    },
    {
     "cell_type": "code",
     "collapsed": false,
     "input": [
      "levels = range( 1, np.minimum( 4, len( Nn ) ) )\n",
      "p_count = np.sum( counts[ levels,: ], axis = 0 )\n",
      "p_distr = p_count / p_count.sum( )\n",
      "distr = counts / counts.sum( axis = 1 ).reshape( counts.shape[ 0 ], -1 )\n",
      "stat = np.sum( Nn[ levels ] * ( ( distr[ levels,: ] - p_distr )**2 / p_distr ) )\n",
      "dof = len( levels ) * ( distr.shape[ 1 ] - 1 )\n",
      "cdchisq( stat, dof )"
     ],
     "language": "python",
     "metadata": {},
     "outputs": []
    },
    {
     "cell_type": "code",
     "collapsed": false,
     "input": [
      "[ cdchisq( f/2.0, f ) for f in range( 1,10 )]"
     ],
     "language": "python",
     "metadata": {},
     "outputs": []
    },
    {
     "cell_type": "code",
     "collapsed": false,
     "input": [],
     "language": "python",
     "metadata": {},
     "outputs": []
    }
   ],
   "metadata": {}
  }
 ]
}