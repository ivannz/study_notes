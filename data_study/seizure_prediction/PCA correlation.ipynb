{
 "metadata": {
  "name": "",
  "signature": "sha256:65d9a23f89041d38f200e9e03e26d3a98535f728b65db63d2f51d8a5d0122ed8"
 },
 "nbformat": 3,
 "nbformat_minor": 0,
 "worksheets": [
  {
   "cells": [
    {
     "cell_type": "code",
     "collapsed": false,
     "input": [
      "#! /usr/bin/env python\n",
      "# -*- coding: UTF-8 -*-\n",
      "import numpy as np\n",
      "\n",
      "import scipy.io as io\n",
      "import scipy.stats as st\n",
      "import scipy.linalg as la\n",
      "\n",
      "import matplotlib.pyplot as plt\n",
      "%matplotlib inline"
     ],
     "language": "python",
     "metadata": {},
     "outputs": []
    },
    {
     "cell_type": "code",
     "collapsed": false,
     "input": [
      "mat = io.loadmat( \"./Dog_1_interictal_segment_0001.mat\" )\n",
      "ndat = mat[ \"interictal_segment_1\" ]\n",
      "\n",
      "l = ndat['data_length_sec'][0,0][0,0]\n",
      "f = ndat['sampling_frequency'][0,0][0,0]\n",
      "d = np.array( ndat.item(0)[0] )"
     ],
     "language": "python",
     "metadata": {},
     "outputs": []
    },
    {
     "cell_type": "code",
     "collapsed": false,
     "input": [
      "def prin1( d, l, f, M = 5, B = 2.5, N = 5 ) :\n",
      "    L = N // B\n",
      "## The time by which the directions are computed\n",
      "    time = np.arange( 0, l + 1, B )\n",
      "## The index in the original data (corrected for sampling frequency)\n",
      "    index = np.floor( f * time )\n",
      "## A 3D array to hold the principal directions\n",
      "    pcv = np.empty( ( len( index ) - L, M, d.shape[0] ), dtype = np.float )\n",
      "## A matrix of variances of the top M principal directions\n",
      "    lam = np.empty( ( len( index ) - L, M ), dtype = np.float )\n",
      "## A matrix of variances of the top M principal directions\n",
      "    var = np.empty( ( len( index ) - L, ), dtype = np.float )\n",
      "    for s,t,i in zip( index[:-L], index[L:], range( lam.shape[ 0  ] ) ) :\n",
      "## Compute the ususal correlation coefficient: its poor stabilty under outliers\n",
      "##  plays to our advantage, since we do want amplified correlation in case of\n",
      "##  extremely volatile event (or its onslaught).\n",
      "        rho = np.corrcoef( d[:,s:t] )\n",
      "        # rho, _ = st.spearmanr( d[:,s:t], axis = 1 )\n",
      "## Since the matrix is symmteric, ordinary EVD suffices\n",
      "        e, v = la.eig( rho, right = True, check_finite = False )\n",
      "## Since Numpy does not guarantee the descending order of the eigenvalues\n",
      "##  sort them manually\n",
      "        desc = np.argsort( e )[-M:][::-1]\n",
      "        lam[i] = e[desc]\n",
      "        var[i] = np.sum( e )\n",
      "## Keep the eigenvectors corresponding to the top eigenvalues \n",
      "        pcv[i] = np.transpose( v[ :, desc ] * np.sign( v[ 0, desc ] ) )\n",
      "## Compute the geometric persistence of each principal direction:\n",
      "##  the persistence is measured by the cosine between the previous\n",
      "##  and the current principal direction\n",
      "    align = [ np.diag( np.dot( pcv[:,k], pcv[:,k].T ), 1 )\n",
      "        for k in range( M ) ]\n",
      "## Return the whole bundle: time, eigen-vales and vectors\n",
      "    return time[L:], lam, pcv, align, var"
     ],
     "language": "python",
     "metadata": {},
     "outputs": []
    },
    {
     "cell_type": "code",
     "collapsed": false,
     "input": [
      "time, lam, pcv, per, var = prin1( d, l, f, M = 8, N = 20, B = 5.0 )\n",
      "\n",
      "align1 = np.diag( np.dot( pcv[:,0], pcv[:,0].T ), 1 )\n",
      "align2 = np.diag( np.dot( pcv[:,-1], pcv[:,-1].T ), 1 )"
     ],
     "language": "python",
     "metadata": {},
     "outputs": []
    },
    {
     "cell_type": "code",
     "collapsed": false,
     "input": [
      "import matplotlib.cm as cm\n",
      "## Plot the variances of the top directions\n",
      "plt.figure( figsize = (16,9))\n",
      "colors = cm.rainbow( np.linspace(0, 1, lam.shape[ 1 ] ) )\n",
      "for k in range( lam.shape[ 1 ] ):\n",
      "    plt.plot( time, lam[:,k]/var, '-', color = colors[k], linewidth = 1 )\n",
      "\n",
      "## Compare the largest and the tinyest directions and their geometric persistence\n",
      "plt.figure( figsize = (16,9))\n",
      "plt.subplot(211)\n",
      "plt.plot( time, lam[:,0], '-k' )\n",
      "plt.plot( time, lam[:,-1], '-r' )\n",
      "plt.subplot(212)\n",
      "plt.plot( time[1:], per[ 0 ], '-^k' )\n",
      "plt.plot( time[1:], per[ -1 ], '-^r' )\n",
      "\n",
      "## Show the directinaly uniformity factor (then more uniform the variance\n",
      "##  is spread among th principle directions, the less structure in the multivariate\n",
      "##  data there is).\n",
      "plt.figure( figsize = (16,9))\n",
      "plt.plot( time, lam[:,0] / lam[:,-1], '-k' )"
     ],
     "language": "python",
     "metadata": {},
     "outputs": []
    },
    {
     "cell_type": "code",
     "collapsed": false,
     "input": [],
     "language": "python",
     "metadata": {},
     "outputs": []
    }
   ],
   "metadata": {}
  }
 ]
}