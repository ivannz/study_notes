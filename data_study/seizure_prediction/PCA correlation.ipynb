{
 "cells": [
  {
   "cell_type": "code",
   "execution_count": null,
   "metadata": {
    "collapsed": false
   },
   "outputs": [],
   "source": [
    "#! /usr/bin/env python\n",
    "# -*- coding: UTF-8 -*-\n",
    "import numpy as np\n",
    "\n",
    "import scipy.io as io\n",
    "import scipy.stats as st\n",
    "import scipy.linalg as la\n",
    "\n",
    "import matplotlib.pyplot as plt\n",
    "%matplotlib inline\n",
    "\n",
    "import warnings\n",
    "warnings.filterwarnings(\"ignore\")"
   ]
  },
  {
   "cell_type": "code",
   "execution_count": null,
   "metadata": {
    "collapsed": false
   },
   "outputs": [],
   "source": [
    "mat = io.loadmat( \"./Dog_1_interictal_segment_0001.mat\" )\n",
    "ndat = mat[ \"interictal_segment_1\" ]\n",
    "\n",
    "l = ndat['data_length_sec'][0,0][0,0]\n",
    "f = ndat['sampling_frequency'][0,0][0,0]\n",
    "d = np.array( ndat.item(0)[0] )"
   ]
  },
  {
   "cell_type": "code",
   "execution_count": null,
   "metadata": {
    "collapsed": false
   },
   "outputs": [],
   "source": [
    "def prin1( d, l, f, M = 5, B = 2.5, N = 5 ) :\n",
    "    L = N // B\n",
    "## The time by which the directions are computed\n",
    "    time = np.arange( 0, l + 1, B )\n",
    "## The index in the original data (corrected for sampling frequency)\n",
    "    index = np.floor( f * time )\n",
    "## A 3D array to hold the principal directions\n",
    "    pcv = np.empty( ( len( index ) - L, M, d.shape[0] ), dtype = np.float )\n",
    "## A matrix of variances of the top M principal directions\n",
    "    lam = np.empty( ( len( index ) - L, M ), dtype = np.float )\n",
    "## A matrix of variances of the data\n",
    "    var = np.empty( ( len( index ) - L, ), dtype = np.float )\n",
    "    for s,t,i in zip( index[:-L], index[L:], range( lam.shape[ 0  ] ) ) :\n",
    "## Compute the ususal correlation coefficient: its poor stabilty under outliers\n",
    "##  plays to our advantage, since we do want amplified correlation in cases of\n",
    "##  extremely volatile events (or onslaught of such).\n",
    "        rho = np.corrcoef( d[:,s:t] )\n",
    "        # rho, _ = st.spearmanr( d[:,s:t], axis = 1 )\n",
    "## Since the matrix is symmteric, ordinary EVD suffices for the PCA\n",
    "        e, v = la.eig( rho, right = True, check_finite = False )\n",
    "## Since Numpy does not guarantee the descending order of the eigenvalues\n",
    "##  sort them manually\n",
    "        desc = np.argsort( e )[-M:][::-1]\n",
    "        lam[i] = e[desc]\n",
    "        var[i] = np.sum( e )\n",
    "## Keep the eigenvectors corresponding to top eigenvalues \n",
    "        pcv[i] = np.transpose( v[ :, desc ] * np.sign( v[ 0, desc ] ) )\n",
    "## Compute the geometric persistence of each principal direction:\n",
    "##  the persistence is measured by the cosine between the previous\n",
    "##  and the current principal direction\n",
    "    align = [ np.diag( np.dot( pcv[:,k], pcv[:,k].T ), 1 )\n",
    "        for k in range( M ) ]\n",
    "## Return the whole bundle: time, eigen-vales and -vectors. Also give the \n",
    "##  cosines and the total variance.\n",
    "    return time[L:], lam, pcv, align, var"
   ]
  },
  {
   "cell_type": "code",
   "execution_count": null,
   "metadata": {
    "collapsed": false
   },
   "outputs": [],
   "source": [
    "time, lam, pcv, per, var = prin1( d, l, f, M = 8, N = 20, B = 5.0 )\n",
    "\n",
    "align1 = np.diag( np.dot( pcv[:,0], pcv[:,0].T ), 1 )\n",
    "align2 = np.diag( np.dot( pcv[:,-1], pcv[:,-1].T ), 1 )"
   ]
  },
  {
   "cell_type": "code",
   "execution_count": null,
   "metadata": {
    "collapsed": false,
    "scrolled": false
   },
   "outputs": [],
   "source": [
    "import matplotlib.cm as cm\n",
    "## Plot the variances of the top directions\n",
    "plt.figure( figsize = (16,9))\n",
    "colors = cm.rainbow( np.linspace(0, 1, lam.shape[ 1 ] ) )\n",
    "for k in range( lam.shape[ 1 ] ):\n",
    "    plt.plot( time, lam[:,k] / var, '-', color = colors[k], linewidth = 1 )\n",
    "\n",
    "## Compare the largest and the tinyest directions and their geometric persistence\n",
    "plt.figure( figsize = (16,9))\n",
    "plt.subplot(211)\n",
    "plt.plot( time, lam[:,0], '-k' )\n",
    "plt.plot( time, lam[:,-1], '-r' )\n",
    "plt.subplot(212)\n",
    "plt.plot( time[1:], per[ 0 ], '-^k' )\n",
    "plt.plot( time[1:], per[ -1 ], '-^r' )\n",
    "\n",
    "## Show the directinal uniformity factor (the more uniformly the variance is\n",
    "##  spread among the principle directions, the less structure in the multivariate\n",
    "##  data there is).\n",
    "plt.figure( figsize = ( 16, 9 ) )\n",
    "plt.plot( time, lam[:,0] / lam[:,-1], '-k' )\n",
    "\n",
    "plt.figure( figsize = ( 16, 9 ) )\n",
    "ax = plt.subplot( 111 )\n",
    "ax.set_color_cycle( cm.rainbow( np.linspace(0, 1, d.shape[ 0 ] ) ) )\n",
    "original_time = np.arange( 0, d.shape[1] ) / f\n",
    "for i in range( d.shape[0] ):\n",
    "    ax.plot( original_time, d[i,:], '-' )"
   ]
  },
  {
   "cell_type": "markdown",
   "metadata": {},
   "source": [
    "Petty attmepts to apply Fourier Tranaform."
   ]
  },
  {
   "cell_type": "code",
   "execution_count": null,
   "metadata": {
    "collapsed": true
   },
   "outputs": [],
   "source": [
    "import numpy.fft as fft"
   ]
  },
  {
   "cell_type": "code",
   "execution_count": null,
   "metadata": {
    "collapsed": false
   },
   "outputs": [],
   "source": [
    "freq = fft.rfft( d[0:1], axis = 1 )"
   ]
  },
  {
   "cell_type": "code",
   "execution_count": null,
   "metadata": {
    "collapsed": false
   },
   "outputs": [],
   "source": [
    "freq[ 0,: ]"
   ]
  },
  {
   "cell_type": "code",
   "execution_count": null,
   "metadata": {
    "collapsed": false
   },
   "outputs": [],
   "source": [
    "plt.figure( figsize = ( 16, 9 ) )\n",
    "plt.plot( np.abs( freq[ 0,: ] ) )"
   ]
  },
  {
   "cell_type": "code",
   "execution_count": null,
   "metadata": {
    "collapsed": true
   },
   "outputs": [],
   "source": []
  }
 ],
 "metadata": {
  "kernelspec": {
   "display_name": "Python 2",
   "language": "python",
   "name": "python2"
  },
  "language_info": {
   "codemirror_mode": {
    "name": "ipython",
    "version": 2
   },
   "file_extension": ".py",
   "mimetype": "text/x-python",
   "name": "python",
   "nbconvert_exporter": "python",
   "pygments_lexer": "ipython2",
   "version": "2.7.9"
  }
 },
 "nbformat": 4,
 "nbformat_minor": 0
}
