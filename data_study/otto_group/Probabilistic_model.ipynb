{
 "cells": [
  {
   "cell_type": "code",
   "execution_count": null,
   "metadata": {
    "collapsed": true
   },
   "outputs": [],
   "source": [
    "from zipfile import ZipFile\n",
    "import numpy as np\n",
    "import pandas as pd"
   ]
  },
  {
   "cell_type": "code",
   "execution_count": null,
   "metadata": {
    "collapsed": false
   },
   "outputs": [],
   "source": [
    "## Initalize the ZIp Container and load the data into pandas\n",
    "zf = ZipFile( \"./train.csv.zip\" )\n",
    "train_csv = pd.read_csv( zf.open( 'train.csv' ) ) #, nrows = 1000 )"
   ]
  },
  {
   "cell_type": "code",
   "execution_count": null,
   "metadata": {
    "collapsed": false
   },
   "outputs": [],
   "source": [
    "## Extract the target from the dataset: skip the ID column.\n",
    "train_X, train_y = train_csv[ train_csv.columns[1:-1] ], train_csv[ train_csv.columns[ -1 ] ]"
   ]
  },
  {
   "cell_type": "code",
   "execution_count": null,
   "metadata": {
    "collapsed": false
   },
   "outputs": [],
   "source": [
    "## Load the test sample\n",
    "zf = ZipFile( './test.csv.zip' )\n",
    "df_test = pd.read_csv( zf.open( 'test.csv' ) ) #, nrows = 100 )\n",
    "\n",
    "## Get the independent variables\n",
    "X_test = df_test[df_test.columns[1:]]\n"
   ]
  },
  {
   "cell_type": "code",
   "execution_count": null,
   "metadata": {
    "collapsed": false
   },
   "outputs": [],
   "source": [
    "from sklearn.neighbors import KDTree"
   ]
  },
  {
   "cell_type": "code",
   "execution_count": null,
   "metadata": {
    "collapsed": false
   },
   "outputs": [],
   "source": [
    "kdt = KDTree( train_X, leaf_size = 30 )"
   ]
  },
  {
   "cell_type": "code",
   "execution_count": null,
   "metadata": {
    "collapsed": false
   },
   "outputs": [],
   "source": [
    "knn_index = kdt.query( X_test, k = 512, return_distance = False )"
   ]
  },
  {
   "cell_type": "markdown",
   "metadata": {},
   "source": [
    "The sample data is $(x_i, t_i)_{i=1}^n\\in\\mathbb{N}^d\\times \\{0,1\\}^K$, with $\\sum_{k=1}^K t_k = 1$.\n",
    "\n",
    "Let $\\theta_k = (\\theta_{kj})_{j=1}^d\\in [0,1]^d$ for $k=1,\\ldots, K$ with $\\sum_{j=1}^d \\theta_{kj} = 1$."
   ]
  },
  {
   "cell_type": "markdown",
   "metadata": {},
   "source": [
    "Suuppose each observation $(x,t)$ has the following joint distribution:\n",
    "$$p(x,t) = p(x|t) \\pi\\,,$$\n",
    "where $\\pi_t$ is the prior on the class $t$ and\n",
    "$$p(x | t) = \\frac{\\Gamma\\bigl(1+\\sum_{j=1}^d x_j\\bigr)}{\\prod_{j=1}^d \\Gamma\\bigl(1+x_j\\bigr)}\\prod_{j=1}^d \\theta_{tj}^{x_j}\\,.$$\n",
    "\n",
    "The log-likeligood of the model is :\n",
    "$$ l(x,t) = \\sum_{i=1}^n \\sum_{k=1}^K t_{ik} \\log \\pi_k \\frac{\\Gamma\\bigl(1+\\sum_{j=1}^d x_{ij}\\bigr)}{\\prod_{j=1}^d \\Gamma\\bigl(1+x_{ij}\\bigr)}\\prod_{j=1}^d \\theta_{tj}^{x_{ij}} \\,,$$\n",
    "whence\n",
    "$$ l(x,t) = \\sum_{i=1}^n \\log\\Gamma\\bigl(1+\\sum_{j=1}^d x_{ij}\\bigr)\n",
    "    - \\sum_{i=1}^n \\sum_{j=1}^d \\log\\Gamma\\bigl(1+x_{ij}\\bigr)\n",
    "    + \\sum_{i=1}^n \\sum_{k=1}^k t_{ik} \\sum_{j=1}^d x_{ij} \\log \\theta_{kj}\n",
    "    + \\sum_{i=1}^n \\sum_{k=1}^k t_{ik} \\log \\pi_k\\,. $$\n",
    "\n",
    "Note that tho $1$-of-$K$ coding notation for $t_i$ is used. The lagrangian of the maximization problem subject to the $\\sum_{j=1}^d \\theta_{kj}=1$ constraint (up to irrelevant terms):\n",
    "$$\\mathcal{L} = \\ldots\n",
    "    + \\sum_{j=1}^d \\sum_{k=1}^k (\\log \\theta_{kj}) \\sum_{i=1}^n t_{ik} x_{ij}\n",
    "    + \\sum_{k=1}^k (\\log \\pi_k) \\sum_{i=1}^n t_{ik}\n",
    "    + \\sum_{k=1}^K \\lambda_k \\bigl(1-\\sum_{j=1}^d\\theta_{kj}\\bigr) + \\mu \\bigl(1-\\sum_{k=1}^K\\pi_k\\bigr) \\,, $$\n",
    "whence\n",
    "$$\\hat{\\theta}_{kj} = \\frac{\\sum_{i=1}^n t_{ik} x_{ij}}{\\lambda_k}\\,\n",
    "    \\text{and}\\, \\hat{\\pi}_k = \\frac{\\sum_{i=1}^n t_{ik}}{\\mu} \\,,$$\n",
    "and\n",
    "$$ \\hat{\\theta}_{kj} = \\frac{\\sum_{i=1}^n t_{ik} x_{ij}}{\\sum_{j=1}^d \\sum_{i=1}^n t_{ik} x_{ij}}\\,\n",
    "    \\text{and}\\,\\hat{\\pi}_k = \\frac{\\sum_{i=1}^n t_{ik}}{n}\\,.$$\n",
    "    \n",
    "    \n",
    "Classificaiton is done by employing the max-aposteriori rule: for some $x=(x_j)_{j=1}^d \\in\\mathbb{N}$\n",
    "$$k_x=\\mathop{\\text{argmax}}_{k=1,\\ldots, K} p(x|t=k)\\pi_k \\,, $$\n",
    "given by \n",
    "$$ k_x=\\mathop{\\text{argmax}}_{k=1,\\ldots, K} \\sum_{j=1}^d x_{j} \\log \\hat{\\theta}_{kj} + \\log \\hat{\\pi}_k \\,.$$"
   ]
  },
  {
   "cell_type": "code",
   "execution_count": null,
   "metadata": {
    "collapsed": true
   },
   "outputs": [],
   "source": [
    "from sklearn.ensemble import RandomForestClassifier, AdaBoostClassifier"
   ]
  },
  {
   "cell_type": "code",
   "execution_count": null,
   "metadata": {
    "collapsed": true
   },
   "outputs": [],
   "source": [
    "from sklearn.grid_search import GridSearchCV"
   ]
  },
  {
   "cell_type": "code",
   "execution_count": null,
   "metadata": {
    "collapsed": true
   },
   "outputs": [],
   "source": [
    "import matplotlib.pyplot as plt\n",
    "%matplotlib inline"
   ]
  },
  {
   "cell_type": "code",
   "execution_count": null,
   "metadata": {
    "collapsed": false
   },
   "outputs": [],
   "source": [
    "from sklearn.cluster import KMeans"
   ]
  },
  {
   "cell_type": "code",
   "execution_count": null,
   "metadata": {
    "collapsed": false,
    "scrolled": true
   },
   "outputs": [],
   "source": [
    "kmc = KMeans( n_clusters = 9, verbose = 10, n_jobs = -1 ).fit( train_X )"
   ]
  },
  {
   "cell_type": "code",
   "execution_count": null,
   "metadata": {
    "collapsed": false
   },
   "outputs": [],
   "source": [
    "print kmc.predict( train_X )\n",
    "print train_y"
   ]
  },
  {
   "cell_type": "code",
   "execution_count": null,
   "metadata": {
    "collapsed": true
   },
   "outputs": [],
   "source": [
    "from sklearn.linear_model import LogisticRegression"
   ]
  },
  {
   "cell_type": "code",
   "execution_count": null,
   "metadata": {
    "collapsed": false
   },
   "outputs": [],
   "source": [
    "lr = LogisticRegression(  )"
   ]
  },
  {
   "cell_type": "code",
   "execution_count": null,
   "metadata": {
    "collapsed": true
   },
   "outputs": [],
   "source": [
    "lr.transform()"
   ]
  }
 ],
 "metadata": {
  "kernelspec": {
   "display_name": "Python 2",
   "language": "python",
   "name": "python2"
  },
  "language_info": {
   "codemirror_mode": {
    "name": "ipython",
    "version": 2
   },
   "file_extension": ".py",
   "mimetype": "text/x-python",
   "name": "python",
   "nbconvert_exporter": "python",
   "pygments_lexer": "ipython2",
   "version": "2.7.10"
  }
 },
 "nbformat": 4,
 "nbformat_minor": 0
}
