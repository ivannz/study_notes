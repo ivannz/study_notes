{
 "cells": [
  {
   "cell_type": "code",
   "execution_count": null,
   "metadata": {
    "collapsed": true
   },
   "outputs": [],
   "source": [
    "%matplotlib inline\n",
    "import matplotlib.pyplot as plt\n",
    "\n",
    "import numpy as np\n",
    "import pandas as pd"
   ]
  },
  {
   "cell_type": "code",
   "execution_count": null,
   "metadata": {
    "collapsed": true
   },
   "outputs": [],
   "source": [
    "from scipy.linalg import cholesky\n",
    "from sklearn.metrics import pairwise_kernels"
   ]
  },
  {
   "cell_type": "code",
   "execution_count": null,
   "metadata": {
    "collapsed": true
   },
   "outputs": [],
   "source": [
    "from utils.functions import gaussian"
   ]
  },
  {
   "cell_type": "code",
   "execution_count": null,
   "metadata": {
    "collapsed": true
   },
   "outputs": [],
   "source": [
    "from scipy.linalg import inv\n",
    "from joblib import Parallel, delayed"
   ]
  },
  {
   "cell_type": "code",
   "execution_count": null,
   "metadata": {
    "collapsed": true
   },
   "outputs": [],
   "source": [
    "import os, time"
   ]
  },
  {
   "cell_type": "code",
   "execution_count": null,
   "metadata": {
    "collapsed": true
   },
   "outputs": [],
   "source": [
    "def mkdirifnot(path):\n",
    "    if not os.path.exists(path):\n",
    "        os.mkdir(path)\n",
    "    return path"
   ]
  },
  {
   "cell_type": "code",
   "execution_count": null,
   "metadata": {
    "collapsed": false
   },
   "outputs": [],
   "source": [
    "BASE_PATH = \"./conf_prec_sel\"\n",
    "OUTPUT_PATH = mkdirifnot(os.path.join(BASE_PATH, \"output\"))"
   ]
  },
  {
   "cell_type": "code",
   "execution_count": null,
   "metadata": {
    "collapsed": true
   },
   "outputs": [],
   "source": [
    "levels = np.asanyarray([0.01, 0.05, 0.10, 0.25])[::-1]\n",
    "levels_ = pd.Index([\"%2.1f\"%(100*lvl,) for lvl in levels], name=\"alpha\")"
   ]
  },
  {
   "cell_type": "code",
   "execution_count": null,
   "metadata": {
    "collapsed": true
   },
   "outputs": [],
   "source": [
    "def loo_intervals(X, y, nugget=1.0, proc=None, levels=(0.05,), n_jobs=1, metric=None, **kwargs):\n",
    "    Kxx = np.asfortranarray(pairwise_kernels(X, metric=metric, **kwargs))\n",
    "    Kxx.flat[::Kxx.shape[0]+1] += nugget\n",
    "    inv(Kxx, overwrite_a=True, check_finite=False)\n",
    "## Get the loo-residuals A and B matrices\n",
    "    A, B = np.dot(Kxx, y) - Kxx * y.T, Kxx\n",
    "## Run the conformal procedure on each column of A-B\n",
    "    d_proc = delayed(proc)\n",
    "    parallel_ = Parallel(n_jobs=n_jobs, verbose=0)\n",
    "    results_ = parallel_(d_proc(A[:, n], B[:, n],\n",
    "                                levels=levels, n=n)\n",
    "                         for n in xrange(X.shape[0]))\n",
    "## Return the convex hull of each confidence region\n",
    "    return np.array([[(res_[0, 0], res_[-1, -1]) for res_ in result_]\n",
    "                     for result_ in results_])"
   ]
  },
  {
   "cell_type": "code",
   "execution_count": null,
   "metadata": {
    "collapsed": true
   },
   "outputs": [],
   "source": [
    "from sklearn.cross_validation import train_test_split\n",
    "random_state = np.random.RandomState(0x4A04B766)"
   ]
  },
  {
   "cell_type": "code",
   "execution_count": null,
   "metadata": {
    "collapsed": true
   },
   "outputs": [],
   "source": [
    "from utils.functions_1d import triangle"
   ]
  },
  {
   "cell_type": "code",
   "execution_count": null,
   "metadata": {
    "collapsed": false
   },
   "outputs": [],
   "source": [
    "theta0, noise, size = 100.0, 5e-1, 251\n",
    "metric = 'rbf' # 'laplacian'\n",
    "# X = np.linspace(-1, 1, num=size).reshape((-1, 1))\n",
    "# y = gaussian(X, random_state=random_state, metric=metric, nugget=noise, size=(1,), gamma=theta0)\n",
    "X = np.linspace(-.5, 1.5, num=size).reshape((-1, 1))\n",
    "y = triangle(X)\n",
    "y = y + random_state.normal(size=(y.shape[0], 5)) * noise"
   ]
  },
  {
   "cell_type": "markdown",
   "metadata": {},
   "source": [
    "Compute the GPR and conformal loo-interval widths"
   ]
  },
  {
   "cell_type": "code",
   "execution_count": null,
   "metadata": {
    "collapsed": false
   },
   "outputs": [],
   "source": [
    "np.allclose(Mi_.reshape((1, -1)), Mi_[np.newaxis])"
   ]
  },
  {
   "cell_type": "code",
   "execution_count": null,
   "metadata": {
    "collapsed": false
   },
   "outputs": [],
   "source": [
    "from utils.conformal import RRCM\n",
    "nugget_ = 1e-6\n",
    "theta_grid = np.logspace(-2.0, 5.0, num=71)\n",
    "# theta_grid = np.logspace(-5.0, 7.0, num=73)\n",
    "\n",
    "loo_sigma_, A, B, y_hat_ = list(), list(), list(), list()\n",
    "for theta_ in theta_grid:\n",
    "    Kxx_ = np.asfortranarray(pairwise_kernels(X, metric=metric, gamma=theta_))\n",
    "    Kxx_.flat[::Kxx_.shape[0] + 1] += nugget_\n",
    "    inv(Kxx_, overwrite_a=True, check_finite=False)\n",
    "\n",
    "    Mi_ = np.diag(Kxx_).reshape((1, -1))\n",
    "    if True:\n",
    "        yQM_ = np.dot(y.T, Kxx_) / Mi_\n",
    "        B_ = Kxx_ / Mi_\n",
    "        A_ = yQM_[:, np.newaxis] - B_[np.newaxis] * y[np.newaxis].T\n",
    "        hat_ = y.T - yQM_\n",
    "    else:\n",
    "        yQM_ = np.dot(y.T, Kxx_)\n",
    "        B_ = Kxx_\n",
    "        A_ = yQM_[:, np.newaxis] - B_[np.newaxis] * y[np.newaxis].T\n",
    "        hat_ = y.T - nugget_ * yQM_\n",
    "\n",
    "    sigma2_ = np.diag(np.dot(y.T, np.dot(Kxx_, y))) / Kxx_.shape[0]\n",
    "    loo_sigma_.append(sigma2_.reshape((-1, 1)) / Mi_)\n",
    "\n",
    "    A.append(A_)\n",
    "    B.append(B_)\n",
    "    y_hat_.append(hat_) # y_hat_.append(y.T - nugget_ * np.dot(y.T, Kxx_))\n",
    "A, B = np.stack(A, axis=1), np.stack(B, axis=0)\n",
    "loo_sigma_ = np.sqrt(np.stack(loo_sigma_, axis=1))\n",
    "y_hat_ = np.stack(y_hat_, axis=1)"
   ]
  },
  {
   "cell_type": "code",
   "execution_count": null,
   "metadata": {
    "collapsed": false
   },
   "outputs": [],
   "source": [
    "# plt.plot(y - nugget_ * np.dot(Kxx_, y))\n",
    "plt.plot(y_hat_[0, 69].T);"
   ]
  },
  {
   "cell_type": "code",
   "execution_count": null,
   "metadata": {
    "collapsed": false
   },
   "outputs": [],
   "source": [
    "for j in range(y.shape[1]):\n",
    "    MM_ = 1.0 / np.diag(Kxx_).reshape((-1, 1))\n",
    "    AA_ = MM_ * (np.dot(Kxx_, y[:, j, np.newaxis]) - Kxx_ * y[:, j, np.newaxis].T)\n",
    "    assert np.allclose(A[j, -1], AA_.T)"
   ]
  },
  {
   "cell_type": "code",
   "execution_count": null,
   "metadata": {
    "collapsed": true
   },
   "outputs": [],
   "source": [
    "## Run the conformal procedure on each column of A-B\n",
    "parallel_ = Parallel(n_jobs=-1, verbose=0)\n",
    "results_ = parallel_(delayed(RRCM)(A[r, t, n], B[t, n], levels=levels, n=n)\n",
    "                     for r in xrange(y.shape[1])\n",
    "                         for t in xrange(len(theta_grid))\n",
    "                             for n in xrange(X.shape[0]))"
   ]
  },
  {
   "cell_type": "code",
   "execution_count": null,
   "metadata": {
    "collapsed": true
   },
   "outputs": [],
   "source": [
    "intervals_ = np.reshape(np.array([(res_[0, 0], res_[-1, -1]) for result_ in results_ for res_ in result_]),\n",
    "                        (y.shape[1], len(theta_grid), X.shape[0], len(levels), 2))"
   ]
  },
  {
   "cell_type": "code",
   "execution_count": null,
   "metadata": {
    "collapsed": false
   },
   "outputs": [],
   "source": [
    "y_ = y.T.reshape(y.shape[1], 1, y.shape[0], 1)\n",
    "mask_ = (intervals_[..., 0] <= y_) & (y_ <= intervals_[..., 1])\n",
    "print np.max(np.abs(1 - np.mean(mask_, axis=-2) - levels), axis=1).max(axis=0)"
   ]
  },
  {
   "cell_type": "markdown",
   "metadata": {},
   "source": [
    "Create the color scheme"
   ]
  },
  {
   "cell_type": "code",
   "execution_count": null,
   "metadata": {
    "collapsed": false
   },
   "outputs": [],
   "source": [
    "points_ = [110, 125, 142, 189]\n",
    "# [90, 101, 123, 124, 126, 142, 159] # [180, 203, 246, 249, 252, 285, 318] #[50, 100, 150, 200]\n",
    "colors_ = plt.cm.rainbow(np.linspace(0, 1, num=len(points_)))\n",
    "\n",
    "filename_template_ = \"./tri_%d_%g_%g_%%s.pdf\"%(size, noise, nugget_,)"
   ]
  },
  {
   "cell_type": "markdown",
   "metadata": {},
   "source": [
    "Compare the summarized widths."
   ]
  },
  {
   "cell_type": "code",
   "execution_count": null,
   "metadata": {
    "collapsed": false
   },
   "outputs": [],
   "source": [
    "fig = plt.figure(figsize=(16, 9))\n",
    "ax = fig.add_subplot(111)\n",
    "ax.plot(X, y[:, 0], c=\"b\")\n",
    "for j, p in enumerate(points_):\n",
    "    ax.axvline(x=X[p], c=colors_[j], linestyle=\"-\", marker=\"o\")\n",
    "ax.set_title(\"Sample path of the studied function\")\n",
    "ax.set_xlabel(\"x\")\n",
    "ax.set_ylabel(\"$y_x$\")\n",
    "fig.savefig(filename_template_%(\"sample\",), dpi=120)\n",
    "plt.show()"
   ]
  },
  {
   "cell_type": "code",
   "execution_count": null,
   "metadata": {
    "collapsed": true
   },
   "outputs": [],
   "source": [
    "from scipy.stats import norm\n",
    "def demo_gpr(ax, a=-1, adaptive=True):\n",
    "    ax.set_xscale(\"log\")\n",
    "    for j, p in enumerate(points_):\n",
    "        z_a = norm.ppf(1 - .5 * levels)[a]\n",
    "        if adaptive:\n",
    "            ax.plot(theta_grid, loo_sigma_[0, :, p] * z_a,\n",
    "                    c=colors_[j], marker=\"v\", markersize=3)\n",
    "            ax.plot(theta_grid, -loo_sigma_[0, :, p] * z_a,\n",
    "                    c=colors_[j], marker=\"^\", markersize=3)\n",
    "            ax.plot(theta_grid, y[p, 0] - y_hat_[0, :, p], c=colors_[j],\n",
    "                    linestyle=\"-\", label=\"$y_{x_{%d}} - \\\\hat{y}_{\\\\theta}(x_{%d})$\"%(j, j,), alpha=0.5)\n",
    "        else:\n",
    "            ax.plot(theta_grid, loo_sigma_[0, :, p] * z_a + y_hat_[0, :, p],\n",
    "                    c=colors_[j], marker=\"v\", markersize=3)\n",
    "            ax.plot(theta_grid, -loo_sigma_[0, :, p] * z_a + y_hat_[0, :, p],\n",
    "                    c=colors_[j], marker=\"^\", markersize=3)\n",
    "            ax.axhline(y=y[p, 0], c=colors_[j], linestyle=\"-\", label=\"$y_{x_{%d}}$\"%(j,), alpha=0.5)\n",
    "    if adaptive:\n",
    "        ax.set_title(\"prediction-centered %s%% GPR LOO-intervals for %d arbitrary points\"%(levels_[a], len(points_)))\n",
    "    else:\n",
    "        ax.set_title(\"%s%% GPR LOO-intervals for %d arbitrary points\"%(levels_[a], len(points_)))\n",
    "    ax.set_xlabel(\"Gaussian kernel precision $\\\\theta$ : $K(x,x') = \\\\mathtt{exp}\\\\{-\\\\theta\\\\|x-x'\\\\|^2\\\\}$\")\n",
    "    ax.set_ylabel(\"Target $y_x$\")\n",
    "    ax.legend(loc=\"best\", ncol=2)\n",
    "    ax.grid()\n",
    "    return ax"
   ]
  },
  {
   "cell_type": "code",
   "execution_count": null,
   "metadata": {
    "collapsed": false
   },
   "outputs": [],
   "source": [
    "from scipy.stats import norm\n",
    "def demo_conf(ax, a=-1, adaptive=True, plot_gpr=True):\n",
    "    ax.set_xscale(\"log\")\n",
    "    for j, p in enumerate(points_):\n",
    "        if adaptive:\n",
    "            ax.plot(theta_grid, intervals_[0, :, p, a, 1] - y_hat_[0, :, p],\n",
    "                    c=colors_[j], marker=\"v\", markersize=3)\n",
    "            ax.plot(theta_grid, intervals_[0, :, p, a, 0] - y_hat_[0, :, p],\n",
    "                    c=colors_[j], marker=\"^\", markersize=3)\n",
    "            ax.plot(theta_grid, y[p, 0] - y_hat_[0, :, p], c=colors_[j],\n",
    "                    linestyle=\"-\", label=\"$y_{x_{%d}} - \\\\hat{y}_{\\\\theta}(x_{%d})$\"%(j, j,), alpha=0.5)\n",
    "        else:\n",
    "            ax.plot(theta_grid, intervals_[0, :, p, a, 1],\n",
    "                    c=colors_[j], marker=\"v\", markersize=3)\n",
    "            ax.plot(theta_grid, intervals_[0, :, p, a, 0],\n",
    "                    c=colors_[j], marker=\"^\", markersize=3)\n",
    "            ax.axhline(y=y[p, 0], c=colors_[j], linestyle=\"-\", label=\"$y_{x_{%d}}$\"%(j,), alpha=0.5)\n",
    "    if adaptive:\n",
    "        ax.set_title(\"prediction-centered %s%% RRCM LOO-intervals for %d arbitrary points\"%(levels_[a], len(points_)))\n",
    "    else:\n",
    "        ax.set_title(\"%s%% RRCM LOO-intervals for %d arbitrary points\"%(levels_[a], len(points_)))\n",
    "    ax.set_xlabel(\"Gaussian kernel precision $\\\\theta$ : $K(x,x') = \\\\mathtt{exp}\\\\{-\\\\theta\\\\|x-x'\\\\|^2\\\\}$\")\n",
    "    ax.set_ylabel(\"Target $y_x$\")\n",
    "    ax.legend(loc=\"best\", ncol=2)\n",
    "    ax.grid()\n",
    "    return ax"
   ]
  },
  {
   "cell_type": "code",
   "execution_count": null,
   "metadata": {
    "collapsed": false
   },
   "outputs": [],
   "source": [
    "a, adaptive = 2, False\n",
    "fig = plt.figure(figsize=(16, 9))\n",
    "ax = demo_conf(fig.add_subplot(121), a=a, adaptive=adaptive)\n",
    "ax = demo_gpr(fig.add_subplot(122, sharey=ax, sharex=ax), a=a, adaptive=adaptive)\n",
    "fig.savefig(filename_template_%(\"intervals\",), dpi=120)\n",
    "plt.show()"
   ]
  },
  {
   "cell_type": "markdown",
   "metadata": {},
   "source": [
    "<hr/>"
   ]
  },
  {
   "cell_type": "code",
   "execution_count": null,
   "metadata": {
    "collapsed": true
   },
   "outputs": [],
   "source": [
    "from utils.state import _load"
   ]
  },
  {
   "cell_type": "code",
   "execution_count": null,
   "metadata": {
    "collapsed": false
   },
   "outputs": [],
   "source": [
    "# exp_triangle = _load(\"./conf_prec_sel/exp_triangle_1d0001-20160531_124611.gz\")\n",
    "# exp_triangle = _load(\"./conf_prec_sel/exp_triangle_1d0001-20160531_160409.gz\")\n",
    "# exp_triangle = _load(\"./conf_prec_sel/exp_triangle_1d0001-20160531_170831.gz\")\n",
    "exp_triangle = list()\n",
    "for file_ in ['./conf_prec_sel/exp_triangle_1d0001-20160531_173311.gz', \n",
    "              './conf_prec_sel/exp_triangle_1d0002-20160531_173805.gz']:\n",
    "    exp_triangle.extend(_load(file_))"
   ]
  },
  {
   "cell_type": "code",
   "execution_count": null,
   "metadata": {
    "collapsed": true
   },
   "outputs": [],
   "source": [
    "def demo_int(intervals, y, y_hat, name, points, ax, a=-1, adaptive=True, plot_gpr=True):\n",
    "    colors_ = plt.cm.rainbow(np.linspace(0, 1, num=len(points)))\n",
    "    theta_grid = np.logspace(-2.0, 5.0, num=71)\n",
    "    ax.set_xscale(\"log\")\n",
    "    for j, p in enumerate(points):\n",
    "        if adaptive:\n",
    "            ax.plot(theta_grid, intervals[0, :, p, a, 1] - y_hat[0, :, p],\n",
    "                    c=colors_[j], marker=\"v\", markersize=3)\n",
    "            ax.plot(theta_grid, intervals[0, :, p, a, 0] - y_hat[0, :, p],\n",
    "                    c=colors_[j], marker=\"^\", markersize=3)\n",
    "            ax.plot(theta_grid, y[p, 0] - y_hat[0, :, p], c=colors_[j],\n",
    "                    linestyle=\"-\", label=\"$y_{x_{%d}} - \\\\hat{y}_{\\\\theta}(x_{%d})$\"%(j, j,), alpha=0.5)\n",
    "        else:\n",
    "            ax.plot(theta_grid, intervals[0, :, p, a, 1],\n",
    "                    c=colors_[j], marker=\"v\", markersize=3)\n",
    "            ax.plot(theta_grid, intervals[0, :, p, a, 0],\n",
    "                    c=colors_[j], marker=\"^\", markersize=3)\n",
    "            ax.axhline(y=y[p, 0], c=colors_[j], linestyle=\"-\", label=\"$y_{x_{%d}}$\"%(j,), alpha=0.5)\n",
    "    if adaptive:\n",
    "        ax.set_title(\"prediction-centered %s%% %sintervals for %d arbitrary points\"%(levels_[a], name, len(points)))\n",
    "    else:\n",
    "        ax.set_title(\"%s%% %sintervals for %d arbitrary points\"%(levels_[a], name, len(points)))\n",
    "    ax.set_xlabel(\"Gaussian kernel precision $\\\\theta$ : $K(x,x') = \\\\mathtt{exp}\\\\{-\\\\theta\\\\|x-x'\\\\|^2\\\\}$\")\n",
    "    ax.set_ylabel(\"Target $y_x$\")\n",
    "    ax.legend(loc=\"best\", ncol=2)\n",
    "    ax.grid()\n",
    "    return ax"
   ]
  },
  {
   "cell_type": "code",
   "execution_count": null,
   "metadata": {
    "collapsed": false
   },
   "outputs": [],
   "source": [
    "for noise_, size_, nugget_, loo_, result_ in exp_triangle:\n",
    "    X, y, y_hat_, gpr_intervals_, rrcm_intervals_ = result_\n",
    "    \n",
    "    filename_template_ = \"./tri_%d_%g_%g_%%s.pdf\"%(size_, noise_, nugget_,)\n",
    "    title_template_ = \"triangle ($n=%d$, $\\\\gamma=%g$): %%s\"%(size_, noise_,)\n",
    "\n",
    "    if size_ == 101:\n",
    "        points_ = [50, 37, 62,]\n",
    "    elif size_ == 251:\n",
    "        points_ = [110, 125, 142, 189]\n",
    "    else:\n",
    "        points_ = [190, 200, 249, 295, 318]\n",
    "\n",
    "    output_path_ = mkdirifnot(os.path.join(OUTPUT_PATH, \"%d\"%(size_,)))\n",
    "    output_path_ = mkdirifnot(os.path.join(output_path_, \"%g\"%(noise_,)))\n",
    "\n",
    "    colors_ = plt.cm.rainbow(np.linspace(0, 1, num=len(points_)))\n",
    "## Profile\n",
    "    fig = plt.figure(figsize=(16, 9))\n",
    "    ax = fig.add_subplot(111)\n",
    "    ax.plot(X, y[:, 0], c=\"b\")\n",
    "    for j, p in enumerate(points_):\n",
    "        ax.axvline(x=X[p], c=colors_[j], linestyle=\"-\", marker=\"o\")\n",
    "    ax.set_title(title_template_%(\"sample path\"))\n",
    "    ax.set_xlabel(\"x\")\n",
    "    ax.set_ylabel(\"$y_x$\")\n",
    "    filename_ = os.path.join(output_path_, filename_template_%(\"sample\",))\n",
    "    fig.savefig(filename_, dpi=120)\n",
    "    plt.close()\n",
    "\n",
    "## Intervals\n",
    "    a, adaptive = 2, False\n",
    "    fig = plt.figure(figsize=(16, 9))\n",
    "    ax = demo_int(rrcm_intervals_, y, y_hat_, \"RRCM \" + (\"loo-\" if loo_ else \"\"),\n",
    "                  points_, fig.add_subplot(121), a=a, adaptive=adaptive)\n",
    "    ax = demo_int(gpr_intervals_, y, y_hat_, \"GPR \" + (\"loo-\" if loo_ else \"\"),\n",
    "                  points_, fig.add_subplot(122, sharey=ax, sharex=ax), a=a, adaptive=adaptive)\n",
    "    filename_ = os.path.join(output_path_, filename_template_%((\"loo-\" if loo_ else \"\") + \"intervals\",))\n",
    "    fig.savefig(filename_, dpi=120)\n",
    "    plt.close()\n",
    "#     break"
   ]
  },
  {
   "cell_type": "markdown",
   "metadata": {},
   "source": [
    "<hr/>"
   ]
  },
  {
   "cell_type": "code",
   "execution_count": null,
   "metadata": {
    "collapsed": true
   },
   "outputs": [],
   "source": [
    "from scipy.stats import norm\n",
    "z_a = norm.ppf(1 - .5 * levels)\n",
    "loo_rrcm_width_ = intervals_[..., 1] - intervals_[..., 0]\n",
    "loo_gpr_width_ = 2 * np.sqrt(loo_sigma_)[..., np.newaxis] * z_a.reshape((1, 1, 1, -1))"
   ]
  },
  {
   "cell_type": "code",
   "execution_count": null,
   "metadata": {
    "collapsed": false
   },
   "outputs": [],
   "source": [
    "loo_rrcm_width_.shape"
   ]
  },
  {
   "cell_type": "code",
   "execution_count": null,
   "metadata": {
    "collapsed": false
   },
   "outputs": [],
   "source": [
    "fig = plt.figure(figsize=(16, 9))\n",
    "ax = fig.add_subplot(111)\n",
    "colors_conf_ = plt.cm.rainbow(np.linspace( 0, 1, 4 )[::-1])\n",
    "\n",
    "## Conformal and GPR: meadian width\n",
    "for j, lvl_ in enumerate(levels_):\n",
    "    ax.plot(theta_grid, np.median(np.median(loo_rrcm_width_[..., j], axis=-1), axis=0),\n",
    "            c=colors_conf_[j], zorder=99, label=\"RRCM %s%%\"%(lvl_,))\n",
    "\n",
    "# Gaussian widths\n",
    "for j, lvl_ in enumerate(levels_):\n",
    "    ax.plot(theta_grid, np.median(np.median(loo_gpr_width_[..., j], axis=-1), axis=0),\n",
    "            c=\"k\", linestyle=\"-\", zorder=-99, label=\"GPR %s%%\"%(levels_[j],))\n",
    "\n",
    "ax.set_xscale(\"log\") ; ax.set_xlabel(\"Isotropic Gaussian kernel precision ($\\\\theta$, log-scale)\")\n",
    "# ax.set_yscale(\"log\") ;\n",
    "ax.set_ylabel(\"Confidence reigion width (log)\")\n",
    "ax.legend(loc=\"best\", ncol=2)\n",
    "ax.set_title(\"Median width of predicitve regions across all sample points\")"
   ]
  },
  {
   "cell_type": "code",
   "execution_count": null,
   "metadata": {
    "collapsed": false
   },
   "outputs": [],
   "source": [
    "loo_rrcm_width_.shape"
   ]
  },
  {
   "cell_type": "code",
   "execution_count": null,
   "metadata": {
    "collapsed": false
   },
   "outputs": [],
   "source": [
    "loo_rrcm_width_[0, :, 100, j].shape"
   ]
  },
  {
   "cell_type": "code",
   "execution_count": null,
   "metadata": {
    "collapsed": false
   },
   "outputs": [],
   "source": [
    "fig = plt.figure(figsize=(16, 9))\n",
    "ax = fig.add_subplot(111)\n",
    "colors_conf_ = plt.cm.rainbow(np.linspace( 0, 1, 4 )[::-1])\n",
    "\n",
    "## Conformal and GPR: meadian width\n",
    "for j, lvl_ in enumerate(levels_):\n",
    "    ax.plot(theta_grid, loo_rrcm_width_[0, :, 100, j],\n",
    "            c=colors_conf_[j], zorder=99, label=\"RRCM %s%%\"%(lvl_,))\n",
    "\n",
    "# Gaussian widths\n",
    "for j, lvl_ in enumerate(levels_):\n",
    "    ax.plot(theta_grid, loo_gpr_width_[0, :, 100, j],\n",
    "            c=\"k\", linestyle=\"-\", zorder=-99, label=\"GPR %s%%\"%(levels_[j],))\n",
    "\n",
    "ax.set_xscale(\"log\") ; ax.set_xlabel(\"Isotropic Gaussian kernel precision ($\\\\theta$, log-scale)\")\n",
    "# ax.set_yscale(\"log\") ;\n",
    "ax.set_ylabel(\"Confidence reigion width (log)\")\n",
    "ax.legend(loc=\"best\", ncol=2)\n",
    "ax.set_title(\"Median width of predicitve regions across all sample points\")"
   ]
  },
  {
   "cell_type": "markdown",
   "metadata": {},
   "source": [
    "Inspect the leverage"
   ]
  },
  {
   "cell_type": "code",
   "execution_count": null,
   "metadata": {
    "collapsed": false
   },
   "outputs": [],
   "source": [
    "fig = plt.figure(figsize=(16, 9))\n",
    "ax = fig.add_subplot(111)\n",
    "\n",
    "ax.plot(theta_grid, np.mean(leverage_, axis=1),\n",
    "        c=\"k\", zorder=99, label=\"mean\")\n",
    "ax.plot(theta_grid, np.max(leverage_, axis=1),\n",
    "        c=\"k\", marker=\"v\", alpha=0.15, label=\"max\")\n",
    "ax.plot(theta_grid, np.min(leverage_, axis=1),\n",
    "        c=\"k\", marker=\"^\", alpha=0.15, label=\"min\")\n",
    "ax.set_xscale(\"log\")\n",
    "ax.set_title(\"Leverage of the KRR\")\n",
    "ax.legend(loc=\"best\")\n"
   ]
  },
  {
   "cell_type": "markdown",
   "metadata": {},
   "source": [
    "<hr/><hr/><hr/>"
   ]
  },
  {
   "cell_type": "markdown",
   "metadata": {},
   "source": [
    "## Nemirovsky procedure"
   ]
  },
  {
   "cell_type": "code",
   "execution_count": null,
   "metadata": {
    "collapsed": false
   },
   "outputs": [],
   "source": [
    "import os, time\n",
    "\n",
    "%matplotlib inline\n",
    "import matplotlib.pyplot as plt\n",
    "\n",
    "import numpy as np\n",
    "import pandas as pd\n",
    "\n",
    "from scipy.linalg import cholesky\n",
    "from sklearn.metrics import pairwise_kernels\n",
    "\n",
    "from scipy.linalg import inv\n",
    "from joblib import Parallel, delayed\n",
    "\n",
    "from utils.functions_1d import triangle\n",
    "from utils.functions import gaussian\n",
    "\n",
    "from utils.conformal import RRCM\n",
    "\n",
    "from scipy.stats import norm"
   ]
  },
  {
   "cell_type": "code",
   "execution_count": null,
   "metadata": {
    "collapsed": true
   },
   "outputs": [],
   "source": [
    "levels = np.asanyarray([0.01, 0.05, 0.10, 0.25])[::-1]\n",
    "levels_ = pd.Index([\"%2.1f\"%(100*lvl,) for lvl in levels], name=\"alpha\")"
   ]
  },
  {
   "cell_type": "code",
   "execution_count": null,
   "metadata": {
    "collapsed": true
   },
   "outputs": [],
   "source": [
    "random_state = np.random.RandomState(0x4A08F766)"
   ]
  },
  {
   "cell_type": "code",
   "execution_count": null,
   "metadata": {
    "collapsed": false
   },
   "outputs": [],
   "source": [
    "theta0, size = 100.0, 251\n",
    "metric = 'rbf' # 'laplacian'\n",
    "# X = np.linspace(-1, 1, num=size).reshape((-1, 1))\n",
    "X = np.linspace(-.5, 1.5, num=size).reshape((-1, 1))\n",
    "yy = list()\n",
    "for noise_ in [1e-6, 1e-2, 5e-2, 1e-1, 5e-1]:\n",
    "    y1 = gaussian(X, random_state=random_state, metric=metric, nugget=noise_, size=(2,), gamma=theta0)\n",
    "    y2 = triangle(X) + random_state.normal(size=(X.shape[0], 2)) * noise_\n",
    "    yy.append(np.concatenate([y1, y2], axis=-1))\n",
    "y = np.concatenate(yy, axis=-1)"
   ]
  },
  {
   "cell_type": "code",
   "execution_count": null,
   "metadata": {
    "collapsed": false
   },
   "outputs": [],
   "source": [
    "nugget_ = 1e-6\n",
    "theta_grid = np.logspace(-2.0, 5.0, num=211)\n",
    "\n",
    "loo_sigma_, A, B, y_hat_, y_hat_loo_ = list(), list(), list(), list(), list()\n",
    "for theta_ in theta_grid:\n",
    "    Kxx_ = np.asfortranarray(pairwise_kernels(X, metric=metric, gamma=theta_))\n",
    "    Kxx_.flat[::Kxx_.shape[0] + 1] += nugget_\n",
    "\n",
    "    inv(Kxx_, overwrite_a=True, check_finite=False)\n",
    "\n",
    "    Mi_ = np.diag(Kxx_).reshape((1, -1))\n",
    "    sigma2_ = np.diag(np.dot(y.T, np.dot(Kxx_, y))) / Kxx_.shape[0]\n",
    "    loo_sigma2_ = sigma2_.reshape((-1, 1)) / Mi_\n",
    "\n",
    "    yQM_ = np.dot(y.T, Kxx_)\n",
    "    hat_loo_ = y.T - yQM_ / Mi_\n",
    "    yQM_ *= nugget_\n",
    "    hat_ = y.T - yQM_\n",
    "    B_ = nugget_ * Kxx_\n",
    "\n",
    "    A.append(yQM_[:, np.newaxis] - B_[np.newaxis] * y[np.newaxis].T)\n",
    "    loo_sigma_.append(np.sqrt(loo_sigma2_))\n",
    "    y_hat_loo_.append(hat_loo_)\n",
    "    y_hat_.append(hat_)\n",
    "    B.append(B_)\n",
    "\n",
    "A, B = np.stack(A, axis=1), np.stack(B, axis=0)\n",
    "loo_sigma_ = np.stack(loo_sigma_, axis=1)\n",
    "y_hat_loo_ = np.stack(y_hat_loo_, axis=1)\n",
    "y_hat_ = np.stack(y_hat_, axis=1)"
   ]
  },
  {
   "cell_type": "code",
   "execution_count": null,
   "metadata": {
    "collapsed": true
   },
   "outputs": [],
   "source": [
    "## Run the conformal procedure on each column of A-B\n",
    "parallel_ = Parallel(n_jobs=-1, verbose=0)\n",
    "results_ = parallel_(delayed(RRCM)(A[r, t, n], B[t, n], levels=levels, n=n)\n",
    "                     for r in xrange(y.shape[1])\n",
    "                     for t in xrange(len(theta_grid))\n",
    "                     for n in xrange(X.shape[0]))\n",
    "\n",
    "rrcm_intervals_ = np.reshape(np.array([(res_[0, 0], res_[-1, -1])\n",
    "                                       for result_ in results_ for res_ in result_]),\n",
    "                             (y.shape[1], len(theta_grid), X.shape[0], len(levels), 2))"
   ]
  },
  {
   "cell_type": "code",
   "execution_count": null,
   "metadata": {
    "collapsed": false
   },
   "outputs": [],
   "source": [
    "z_a = norm.ppf(1 - .5 * levels)\n",
    "gpr_hwidth_ = loo_sigma_[..., np.newaxis] * z_a.reshape((1, 1, 1, -1))\n",
    "gpr_intervals_ = np.stack([y_hat_loo_[..., np.newaxis] - gpr_hwidth_,\n",
    "                           y_hat_loo_[..., np.newaxis] + gpr_hwidth_], axis=-1)"
   ]
  },
  {
   "cell_type": "code",
   "execution_count": null,
   "metadata": {
    "collapsed": true
   },
   "outputs": [],
   "source": [
    "def demo_int(intervals, y, y_hat, name, points, ax, a=-1, adaptive=True, plot_gpr=True):\n",
    "    colors_ = plt.cm.rainbow(np.linspace(0, 1, num=len(points)))\n",
    "    ax.set_xscale(\"log\")\n",
    "    for j, p in enumerate(points):\n",
    "        if adaptive:\n",
    "            ax.plot(theta_grid, intervals[:, p, a, 1] - y_hat[:, p],\n",
    "                    c=colors_[j], marker=\"v\", markersize=3)\n",
    "            ax.plot(theta_grid, intervals[:, p, a, 0] - y_hat[:, p],\n",
    "                    c=colors_[j], marker=\"^\", markersize=3)\n",
    "            ax.plot(theta_grid, y[p] - y_hat[:, p], c=colors_[j],\n",
    "                    linestyle=\"-\", label=\"$y_{x_{%d}} - \\\\hat{y}_{\\\\theta}(x_{%d})$\"%(j, j,), alpha=0.5)\n",
    "        else:\n",
    "            ax.plot(theta_grid, intervals[:, p, a, 1],\n",
    "                    c=colors_[j], marker=\"v\", markersize=3)\n",
    "            ax.plot(theta_grid, intervals[:, p, a, 0],\n",
    "                    c=colors_[j], marker=\"^\", markersize=3)\n",
    "            ax.plot(theta_grid, y_hat[:, p], c=colors_[j],\n",
    "                    linestyle=\"-\", alpha=0.75)\n",
    "            ax.axhline(y=y[p], c=colors_[j], linestyle=\"-\", label=\"$y_{x_{%d}}$\"%(j,), alpha=0.5)\n",
    "    if adaptive:\n",
    "        ax.set_title(\"loo-prediction centered %s%% %sintervals for %d arbitrary points\"%(levels_[a], name, len(points)))\n",
    "    else:\n",
    "        ax.set_title(\"%s%% %sintervals for %d arbitrary points\"%(levels_[a], name, len(points)))\n",
    "    ax.set_xlabel(\"Gaussian kernel precision $\\\\theta$ : $K(x,x') = \\\\mathtt{exp}\\\\{-\\\\theta\\\\|x-x'\\\\|^2\\\\}$\")\n",
    "    ax.set_ylabel(\"Target $y_x$\")\n",
    "    ax.legend(loc=\"best\", ncol=2)\n",
    "    ax.grid()\n",
    "    return ax"
   ]
  },
  {
   "cell_type": "code",
   "execution_count": null,
   "metadata": {
    "collapsed": false
   },
   "outputs": [],
   "source": [
    "## Intervals\n",
    "points_ = [110, 125, 142, 189]\n",
    "j, a, adaptive = 2, -1, False\n",
    "\n",
    "fig = plt.figure(figsize=(16, 9))\n",
    "ax = demo_int(rrcm_intervals_[j], y[:, j], y_hat_loo_[j], \"RRCM \",\n",
    "              points_, fig.add_subplot(121), a=a, adaptive=adaptive)\n",
    "ax = demo_int(gpr_intervals_[j], y[:, j], y_hat_loo_[j], \"GPR \",\n",
    "              points_, fig.add_subplot(122, sharey=ax, sharex=ax), a=a, adaptive=adaptive)\n",
    "plt.show()"
   ]
  },
  {
   "cell_type": "code",
   "execution_count": null,
   "metadata": {
    "collapsed": false
   },
   "outputs": [],
   "source": [
    "fig = plt.figure(figsize=(16, 9))\n",
    "ax = fig.add_subplot(111)\n",
    "ax.plot(X, y[:, j], c=\"b\")\n",
    "# ax.plot(X, y[:, j, np.newaxis] - y_hat_loo_[j, :].T)\n",
    "colors_ = plt.cm.rainbow(np.linspace(0, 1, num=len(points_)))\n",
    "for c, x in zip(colors_, X[points_]):\n",
    "    ax.axvline(x=x, c=c, linestyle=\"-\", marker=\"o\")\n",
    "ax.set_title(\"Sample path of the studied function\")\n",
    "ax.set_xlabel(\"x\")\n",
    "ax.set_ylabel(\"$y_x$\")"
   ]
  },
  {
   "cell_type": "code",
   "execution_count": null,
   "metadata": {
    "collapsed": true
   },
   "outputs": [],
   "source": [
    "## Compute the running intersection over the theta axis (1)\n",
    "reverse = False\n",
    "if not reverse:\n",
    "    top_ = np.minimum.accumulate(rrcm_intervals_[..., 1], axis=1)\n",
    "    bottom_ = np.maximum.accumulate(rrcm_intervals_[..., 0], axis=1)\n",
    "else:\n",
    "    top_ = np.minimum.accumulate(rrcm_intervals_[:, ::-1, ..., 1], axis=1)\n",
    "    bottom_ = np.maximum.accumulate(rrcm_intervals_[:, ::-1, ..., 0], axis=1)\n",
    "\n",
    "width_ = top_ - bottom_\n",
    "width_[width_ < 0] = -1\n",
    "\n",
    "## t - b is nonincreasing, that is why the argmin of |t-b| is either +\\infty\n",
    "## or the point of crossing the zero level (again over the theta axis(1)).\n",
    "theta_index_ = np.argmin(width_, axis=1)\n",
    "\n",
    "## Find the largest index (theta) below which all intervals of all sample\n",
    "##  points have nonempty intersection.\n",
    "theta_star = np.min(theta_index_, axis=1)\n",
    "if reverse:\n",
    "## Since we need the largest k, for which all intervals beyond it overlap\n",
    "##  tkae the `max`.\n",
    "    theta_star = theta_index_.shape[1] - theta_star"
   ]
  },
  {
   "cell_type": "code",
   "execution_count": null,
   "metadata": {
    "collapsed": false
   },
   "outputs": [],
   "source": [
    "if reverse:\n",
    "    plt.plot((width_[0, ::-1, 125]))\n",
    "else:\n",
    "    plt.plot((width_[0, :, 125]))"
   ]
  },
  {
   "cell_type": "code",
   "execution_count": null,
   "metadata": {
    "collapsed": false
   },
   "outputs": [],
   "source": [
    "## Just take the index (theta) which minimizes both effects: the \n",
    "theta_star = np.median(np.argmin(rrcm_intervals_[..., 1] - rrcm_intervals_[..., 0], axis=1), axis=1).astype(int)\n"
   ]
  },
  {
   "cell_type": "code",
   "execution_count": null,
   "metadata": {
    "collapsed": false,
    "scrolled": false
   },
   "outputs": [],
   "source": [
    "from sklearn.gaussian_process import GaussianProcess\n",
    "\n",
    "for j in range(y.shape[1]):\n",
    "    gp = GaussianProcess(thetaL=1e-5, thetaU=1e+7, theta0=100.0, nugget=nugget_, normalize=False,\n",
    "                         regr='constant', beta0=0, corr='squared_exponential').fit(X, y[:, j])\n",
    "    plt.plot(y[:, j], c=\"r\")\n",
    "    plt.plot(gp.predict(X), c=\"b\", label=\"MLE\")\n",
    "\n",
    "    theta_inx_ = theta_star[j, -1]\n",
    "    plt.plot(y_hat_[j, theta_inx_], c=\"g\", label=\"Nem\")\n",
    "\n",
    "#     gp_ = GaussianProcess(theta0=theta_, nugget=nugget_, normalize=False,\n",
    "#                           regr='constant', beta0=0, corr='squared_exponential').fit(X, y[:, j])\n",
    "#     plt.plot(gp_.predict(X), c=\"g\")\n",
    "    plt.legend(loc=\"best\")\n",
    "    plt.show()\n",
    "    plt.close()\n",
    "    print \"Nemirovsky:\\t%2.5g,\\nGP:\\t\\t%2.5g\\n\"%(theta_grid[theta_inx_], gp.theta_[0])"
   ]
  },
  {
   "cell_type": "code",
   "execution_count": null,
   "metadata": {
    "collapsed": true
   },
   "outputs": [],
   "source": []
  }
 ],
 "metadata": {
  "kernelspec": {
   "display_name": "Python 2",
   "language": "python",
   "name": "python2"
  },
  "language_info": {
   "codemirror_mode": {
    "name": "ipython",
    "version": 2
   },
   "file_extension": ".py",
   "mimetype": "text/x-python",
   "name": "python",
   "nbconvert_exporter": "python",
   "pygments_lexer": "ipython2",
   "version": "2.7.10"
  }
 },
 "nbformat": 4,
 "nbformat_minor": 0
}
