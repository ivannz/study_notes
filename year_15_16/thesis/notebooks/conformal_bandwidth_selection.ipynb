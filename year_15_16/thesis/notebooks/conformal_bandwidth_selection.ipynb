{
 "cells": [
  {
   "cell_type": "markdown",
   "metadata": {},
   "source": [
    "## Nemirovsky procedure"
   ]
  },
  {
   "cell_type": "code",
   "execution_count": null,
   "metadata": {
    "collapsed": false
   },
   "outputs": [],
   "source": [
    "import os, time\n",
    "\n",
    "%matplotlib inline\n",
    "import matplotlib.pyplot as plt\n",
    "\n",
    "import numpy as np\n",
    "import pandas as pd\n",
    "\n",
    "from scipy.linalg import cholesky\n",
    "from sklearn.metrics import pairwise_kernels\n",
    "\n",
    "from scipy.linalg import inv\n",
    "from joblib import Parallel, delayed\n",
    "\n",
    "from utils.functions_1d import triangle\n",
    "from utils.functions import gaussian\n",
    "\n",
    "from utils.conformal import RRCM\n",
    "\n",
    "from scipy.stats import norm"
   ]
  },
  {
   "cell_type": "code",
   "execution_count": null,
   "metadata": {
    "collapsed": true
   },
   "outputs": [],
   "source": [
    "levels = np.asanyarray([0.01, 0.05, 0.10, 0.25])[::-1]\n",
    "levels_ = pd.Index([\"%2.1f\"%(100*lvl,) for lvl in levels], name=\"alpha\")"
   ]
  },
  {
   "cell_type": "code",
   "execution_count": null,
   "metadata": {
    "collapsed": true
   },
   "outputs": [],
   "source": [
    "random_state = np.random.RandomState(0x4A08F766)"
   ]
  },
  {
   "cell_type": "code",
   "execution_count": null,
   "metadata": {
    "collapsed": false
   },
   "outputs": [],
   "source": [
    "theta0, size = 100.0, 251\n",
    "metric = 'rbf' # 'laplacian'\n",
    "# X = np.linspace(-1, 1, num=size).reshape((-1, 1))\n",
    "X = np.linspace(-.5, 1.5, num=size).reshape((-1, 1))\n",
    "yy, labels_, filenames_ = list(), list(), list()\n",
    "for noise_ in [1e-6, 1e-2, 5e-2, 1e-1, 5e-1]:\n",
    "    y1 = gaussian(X, random_state=random_state, metric=metric, nugget=noise_, size=(2,), gamma=theta0)\n",
    "    labels_.extend(y1.shape[1]*[\"gaussian ($\\\\theta=%g, \\\\gamma=%g$)\"%(theta0, noise_,)])\n",
    "    filenames_.extend(\"gaussian_%02d_%g_%g\"%(j, theta0, noise_,)\n",
    "                       for j in range(y1.shape[1]))\n",
    "    \n",
    "    y2 = triangle(X) + random_state.normal(size=(X.shape[0], 2)) * noise_\n",
    "    labels_.extend(y2.shape[1]*[\"triangle ($\\\\gamma=%g$)\"%(noise_,)])\n",
    "    filenames_.extend(\"triangle_%02d_%g\"%(j, noise_,)\n",
    "                       for j in range(y1.shape[1]))\n",
    "    \n",
    "    yy.append(np.concatenate([y1, y2], axis=-1))\n",
    "\n",
    "y = np.concatenate(yy, axis=-1)"
   ]
  },
  {
   "cell_type": "code",
   "execution_count": null,
   "metadata": {
    "collapsed": false
   },
   "outputs": [],
   "source": [
    "nugget_ = 1e-6\n",
    "theta_grid = np.logspace(-2.0, 5.0, num=211)\n",
    "\n",
    "loo_sigma_, A, B, y_hat_, y_hat_loo_ = list(), list(), list(), list(), list()\n",
    "for theta_ in theta_grid:\n",
    "    Kxx_ = np.asfortranarray(pairwise_kernels(X, metric=metric, gamma=theta_))\n",
    "    Kxx_.flat[::Kxx_.shape[0] + 1] += nugget_\n",
    "\n",
    "    inv(Kxx_, overwrite_a=True, check_finite=False)\n",
    "\n",
    "    Mi_ = np.diag(Kxx_).reshape((1, -1))\n",
    "    sigma2_ = np.diag(np.dot(y.T, np.dot(Kxx_, y))) / Kxx_.shape[0]\n",
    "    loo_sigma2_ = sigma2_.reshape((-1, 1)) / Mi_\n",
    "\n",
    "    yQM_ = np.dot(y.T, Kxx_)\n",
    "    hat_loo_ = y.T - yQM_ / Mi_\n",
    "    yQM_ *= nugget_\n",
    "    hat_ = y.T - yQM_\n",
    "    B_ = nugget_ * Kxx_\n",
    "\n",
    "    A.append(yQM_[:, np.newaxis] - B_[np.newaxis] * y[np.newaxis].T)\n",
    "    loo_sigma_.append(np.sqrt(loo_sigma2_))\n",
    "    y_hat_loo_.append(hat_loo_)\n",
    "    y_hat_.append(hat_)\n",
    "    B.append(B_)\n",
    "\n",
    "A, B = np.stack(A, axis=1), np.stack(B, axis=0)\n",
    "loo_sigma_ = np.stack(loo_sigma_, axis=1)\n",
    "y_hat_loo_ = np.stack(y_hat_loo_, axis=1)\n",
    "y_hat_ = np.stack(y_hat_, axis=1)"
   ]
  },
  {
   "cell_type": "code",
   "execution_count": null,
   "metadata": {
    "collapsed": true
   },
   "outputs": [],
   "source": [
    "## Run the conformal procedure on each column of A-B\n",
    "parallel_ = Parallel(n_jobs=-1, verbose=0)\n",
    "results_ = parallel_(delayed(RRCM)(A[r, t, n], B[t, n], levels=levels, n=n)\n",
    "                     for r in xrange(y.shape[1])\n",
    "                     for t in xrange(len(theta_grid))\n",
    "                     for n in xrange(X.shape[0]))\n",
    "\n",
    "rrcm_intervals_ = np.reshape(np.array([(res_[0, 0], res_[-1, -1])\n",
    "                                       for result_ in results_ for res_ in result_]),\n",
    "                             (y.shape[1], len(theta_grid), X.shape[0], len(levels), 2))"
   ]
  },
  {
   "cell_type": "code",
   "execution_count": null,
   "metadata": {
    "collapsed": false
   },
   "outputs": [],
   "source": [
    "z_a = norm.ppf(1 - .5 * levels)\n",
    "gpr_hwidth_ = loo_sigma_[..., np.newaxis] * z_a.reshape((1, 1, 1, -1))\n",
    "gpr_intervals_ = np.stack([y_hat_loo_[..., np.newaxis] - gpr_hwidth_,\n",
    "                           y_hat_loo_[..., np.newaxis] + gpr_hwidth_], axis=-1)"
   ]
  },
  {
   "cell_type": "code",
   "execution_count": null,
   "metadata": {
    "collapsed": true
   },
   "outputs": [],
   "source": [
    "def demo_int(intervals, y, y_hat, name, points, ax, a=-1, adaptive=True, plot_gpr=True):\n",
    "    colors_ = plt.cm.rainbow(np.linspace(0, 1, num=len(points)))\n",
    "    ax.set_xscale(\"log\")\n",
    "    for j, p in enumerate(points):\n",
    "        if adaptive:\n",
    "            ax.plot(theta_grid, intervals[:, p, a, 1] - y_hat[:, p],\n",
    "                    c=colors_[j], marker=\"v\", markersize=3)\n",
    "            ax.plot(theta_grid, intervals[:, p, a, 0] - y_hat[:, p],\n",
    "                    c=colors_[j], marker=\"^\", markersize=3)\n",
    "            ax.plot(theta_grid, y[p] - y_hat[:, p], c=colors_[j],\n",
    "                    linestyle=\"-\", label=\"$y_{x_{%d}} - \\\\hat{y}_{\\\\theta}(x_{%d})$\"%(j, j,), alpha=0.5)\n",
    "        else:\n",
    "            ax.plot(theta_grid, intervals[:, p, a, 1],\n",
    "                    c=colors_[j], marker=\"v\", markersize=3)\n",
    "            ax.plot(theta_grid, intervals[:, p, a, 0],\n",
    "                    c=colors_[j], marker=\"^\", markersize=3)\n",
    "            ax.plot(theta_grid, y_hat[:, p], c=colors_[j],\n",
    "                    linestyle=\"-\", alpha=0.75)\n",
    "            ax.axhline(y=y[p], c=colors_[j], linestyle=\"-\", label=\"$y_{x_{%d}}$\"%(j,), alpha=0.5)\n",
    "    if adaptive:\n",
    "        ax.set_title(\"loo-prediction centered %s%% %sintervals for %d arbitrary points\"%(levels_[a], name, len(points)))\n",
    "    else:\n",
    "        ax.set_title(\"%s%% %sintervals for %d arbitrary points\"%(levels_[a], name, len(points)))\n",
    "    ax.set_xlabel(\"Gaussian kernel precision $\\\\theta$ : $K(x,x') = \\\\mathtt{exp}\\\\{-\\\\theta\\\\|x-x'\\\\|^2\\\\}$\")\n",
    "    ax.set_ylabel(\"Target $y_x$\")\n",
    "    ax.legend(loc=\"best\", ncol=2)\n",
    "    ax.grid()\n",
    "    return ax"
   ]
  },
  {
   "cell_type": "code",
   "execution_count": null,
   "metadata": {
    "collapsed": false
   },
   "outputs": [],
   "source": [
    "## Intervals\n",
    "points_ = [110, 125, 142, 189]\n",
    "j, a, adaptive = 2, -1, False\n",
    "\n",
    "fig = plt.figure(figsize=(16, 9))\n",
    "ax = demo_int(rrcm_intervals_[j], y[:, j], y_hat_loo_[j], \"RRCM \",\n",
    "              points_, fig.add_subplot(121), a=a, adaptive=adaptive)\n",
    "ax = demo_int(gpr_intervals_[j], y[:, j], y_hat_loo_[j], \"GPR \",\n",
    "              points_, fig.add_subplot(122, sharey=ax, sharex=ax), a=a, adaptive=adaptive)\n",
    "plt.show()"
   ]
  },
  {
   "cell_type": "code",
   "execution_count": null,
   "metadata": {
    "collapsed": false
   },
   "outputs": [],
   "source": [
    "fig = plt.figure(figsize=(16, 9))\n",
    "ax = fig.add_subplot(111)\n",
    "ax.plot(X, y[:, j], c=\"b\")\n",
    "# ax.plot(X, y[:, j, np.newaxis] - y_hat_loo_[j, :].T)\n",
    "colors_ = plt.cm.rainbow(np.linspace(0, 1, num=len(points_)))\n",
    "for c, x in zip(colors_, X[points_]):\n",
    "    ax.axvline(x=x, c=c, linestyle=\"-\", marker=\"o\")\n",
    "ax.set_title(\"Sample path of the studied function\")\n",
    "ax.set_xlabel(\"x\")\n",
    "ax.set_ylabel(\"$y_x$\")"
   ]
  },
  {
   "cell_type": "code",
   "execution_count": null,
   "metadata": {
    "collapsed": true
   },
   "outputs": [],
   "source": [
    "## Compute the running intersection over the theta axis (1)\n",
    "reverse = False\n",
    "if not reverse:\n",
    "    top_ = np.minimum.accumulate(rrcm_intervals_[..., 1], axis=1)\n",
    "    bottom_ = np.maximum.accumulate(rrcm_intervals_[..., 0], axis=1)\n",
    "else:\n",
    "    top_ = np.minimum.accumulate(rrcm_intervals_[:, ::-1, ..., 1], axis=1)\n",
    "    bottom_ = np.maximum.accumulate(rrcm_intervals_[:, ::-1, ..., 0], axis=1)\n",
    "\n",
    "width_ = top_ - bottom_\n",
    "width_[width_ < 0] = -1\n",
    "\n",
    "## t - b is nonincreasing, that is why the argmin of |t-b| is either +\\infty\n",
    "## or the point of crossing the zero level (again over the theta axis(1)).\n",
    "theta_index_ = np.argmin(width_, axis=1)\n",
    "\n",
    "## Find the largest index (theta) below which all intervals of all sample\n",
    "##  points have nonempty intersection.\n",
    "theta_star = np.min(theta_index_, axis=1)\n",
    "if reverse:\n",
    "## Since we need the largest k, for which all intervals beyond it overlap\n",
    "##  tkae the `max`.\n",
    "    theta_star = theta_index_.shape[1] - theta_star"
   ]
  },
  {
   "cell_type": "code",
   "execution_count": null,
   "metadata": {
    "collapsed": false
   },
   "outputs": [],
   "source": [
    "if reverse:\n",
    "    plt.plot((width_[0, ::-1, 125]))\n",
    "else:\n",
    "    plt.plot((width_[0, :, 125]))"
   ]
  },
  {
   "cell_type": "code",
   "execution_count": null,
   "metadata": {
    "collapsed": false
   },
   "outputs": [],
   "source": [
    "## Just take the index (theta) which minimizes both effects: the \n",
    "widths_ = rrcm_intervals_[..., 1] - rrcm_intervals_[..., 0]\n",
    "theta_star = np.median(np.argmin(widths_, axis=1), axis=1).astype(int)\n",
    "theta_opt = np.median(theta_grid[np.argmin(widths_, axis=1)], axis=1)"
   ]
  },
  {
   "cell_type": "code",
   "execution_count": null,
   "metadata": {
    "collapsed": false,
    "scrolled": false
   },
   "outputs": [],
   "source": [
    "from sklearn.gaussian_process import GaussianProcess\n",
    "a = 1\n",
    "\n",
    "for j in range(y.shape[1]):\n",
    "    gp = GaussianProcess(thetaL=1e-5, thetaU=1e+7, theta0=100.0, nugget=nugget_, normalize=False,\n",
    "                         regr='constant', beta0=0, corr='squared_exponential').fit(X, y[:, j])\n",
    "    fig = plt.figure(figsize=(6, 4))\n",
    "    ax = fig.add_subplot(111)\n",
    "    ax.plot(X, y[:, j], c=\"r\")\n",
    "    ax.plot(X, gp.predict(X), c=\"b\",\n",
    "            label=\"MLE $\\\\hat{\\\\theta}=%2.5g$\"%(gp.theta_[0],))\n",
    "\n",
    "#     theta_inx_ = theta_star[j, a]\n",
    "    theta_inx_ = np.searchsorted(theta_grid, theta_opt[j, a])\n",
    "    ax.plot(X, y_hat_[j, theta_inx_], c=\"g\",\n",
    "            label=\"C-BS-%s%% $\\\\hat{\\\\theta}=%2.5g$\"%(levels_[a], theta_opt[j, a]))\n",
    "    \n",
    "    if labels_[j].startswith(\"triangle\"):\n",
    "        ax.plot(X, triangle(X), c=\"k\", zorder=-99)\n",
    "\n",
    "#     gp_ = GaussianProcess(theta0=theta_, nugget=nugget_, normalize=False,\n",
    "#                           regr='constant', beta0=0, corr='squared_exponential').fit(X, y[:, j])\n",
    "#     plt.plot(gp_.predict(X), c=\"g\")\n",
    "    ax.set_xlabel(\"$x$\")\n",
    "    ax.set_ylabel(\"$y_x$\")\n",
    "    ax.set_title(labels_[j])\n",
    "    ax.legend(loc=\"best\")\n",
    "    fig.savefig(os.path.join(\"..\", \"report\", \"defense\", \"cbs_images\",\n",
    "                             filenames_[j].replace(\".\", \",\") + \".pdf\"), dpi=120)\n",
    "#     plt.show()\n",
    "    plt.close()\n",
    "    print \"Nemirovsky:\\t%2.5g,\\nGP:\\t\\t%2.5g\\n\"%(theta_grid[theta_inx_], gp.theta_[0])"
   ]
  },
  {
   "cell_type": "code",
   "execution_count": null,
   "metadata": {
    "collapsed": true
   },
   "outputs": [],
   "source": []
  },
  {
   "cell_type": "code",
   "execution_count": null,
   "metadata": {
    "collapsed": true
   },
   "outputs": [],
   "source": []
  }
 ],
 "metadata": {
  "kernelspec": {
   "display_name": "Python 2",
   "language": "python",
   "name": "python2"
  },
  "language_info": {
   "codemirror_mode": {
    "name": "ipython",
    "version": 2
   },
   "file_extension": ".py",
   "mimetype": "text/x-python",
   "name": "python",
   "nbconvert_exporter": "python",
   "pygments_lexer": "ipython2",
   "version": "2.7.10"
  }
 },
 "nbformat": 4,
 "nbformat_minor": 0
}
