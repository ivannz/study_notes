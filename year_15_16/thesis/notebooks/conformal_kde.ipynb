{
 "cells": [
  {
   "cell_type": "markdown",
   "metadata": {},
   "source": [
    "# Conformal Kernel Distribution Embedding\n",
    "\n",
    "Conformal Anomaly Detector via RBF Kernel Embddeing"
   ]
  },
  {
   "cell_type": "markdown",
   "metadata": {},
   "source": [
    "> Below are shown sample results obtained in this project. On left are level sets of the nominal bivariate Gaussian mixture distribution used to illustrate the K-LPE algorithm. In the middle are results of K-LPE with K= 6 and Euclidean distance metric for $m = 150$ test points drawn from an equal mixture of 2D uniform and the (nominal) bivariate distributions. Scores for the test points are based on 200 nominal training samples. Scores falling below a threshold level 0.05 are declared as anomalies. The dotted contour corresponds to the exact bivariate Gaussian density level set at level alpha= 0.05. On right is the empirical distribution of the test point scores associated with the bivariate Gaussian that appears  to be uniform while scores for the test points drawn from 2D uniform distribution cluster around zero."
   ]
  },
  {
   "cell_type": "code",
   "execution_count": null,
   "metadata": {
    "collapsed": true
   },
   "outputs": [],
   "source": [
    "import time\n",
    "import os\n",
    "\n",
    "import numpy as np\n",
    "\n",
    "from sklearn.grid_search import ParameterGrid\n",
    "from sklearn.base import clone\n",
    "\n",
    "from sklearn.gaussian_process import GaussianProcess\n",
    "\n",
    "from scipy.stats import norm\n",
    "from joblib import Parallel, delayed\n",
    "\n",
    "from utils.state import _save\n",
    "from utils.functions_1d import f6, pressure2, heaviside\n",
    "from utils.functions import gaussian\n",
    "\n",
    "from utils.conformal import RRCM, CRR\n",
    "from utils.KRR import KRR_AB\n"
   ]
  },
  {
   "cell_type": "code",
   "execution_count": null,
   "metadata": {
    "collapsed": true
   },
   "outputs": [],
   "source": [
    "%matplotlib inline\n",
    "import matplotlib.pyplot as plt"
   ]
  },
  {
   "cell_type": "code",
   "execution_count": null,
   "metadata": {
    "collapsed": true
   },
   "outputs": [],
   "source": [
    "np.seterr(all=\"ignore\")\n",
    "random_state = np.random.RandomState(0x0B00B1E5)"
   ]
  },
  {
   "cell_type": "code",
   "execution_count": null,
   "metadata": {
    "collapsed": false
   },
   "outputs": [],
   "source": [
    "N, D, P = 1000, 2, 1\n",
    "X = np.concatenate([\n",
    "                    random_state.normal(size=(N//4, D))*1 + np.array([[2, 2]]),\n",
    "                    random_state.normal(size=(N//4, D))*.5 + np.array([[-2, 1]]),\n",
    "                    random_state.normal(size=(N//4, D))*.75 + np.array([[2, -2]]),\n",
    "                    random_state.normal(size=(N//4, D))*2 + np.array([[-1, -2]]),\n",
    "                   ], axis=0)\n",
    "X = X.reshape((-1, D))\n",
    "\n",
    "fig = plt.figure(figsize=(8, 8))\n",
    "ax = fig.add_subplot(111)\n",
    "ax.scatter(X[:, 0], X[:, 1], lw=0)\n",
    "ax.set_ylabel(\"$x_2$\")\n",
    "ax.set_xlabel(\"$x_1$\")"
   ]
  },
  {
   "cell_type": "markdown",
   "metadata": {},
   "source": [
    "train test splitting"
   ]
  },
  {
   "cell_type": "code",
   "execution_count": null,
   "metadata": {
    "collapsed": true
   },
   "outputs": [],
   "source": [
    "from sklearn.cross_validation import train_test_split\n",
    "X_train, X_test = train_test_split(X, test_size=0.25,  random_state=random_state)"
   ]
  },
  {
   "cell_type": "code",
   "execution_count": null,
   "metadata": {
    "collapsed": true
   },
   "outputs": [],
   "source": [
    "theta_ = 1"
   ]
  },
  {
   "cell_type": "code",
   "execution_count": null,
   "metadata": {
    "collapsed": false
   },
   "outputs": [],
   "source": [
    "from scipy.linalg import cholesky, solve_triangular\n",
    "from scipy.linalg.lapack import dtrtri\n",
    "from sklearn.metrics.pairwise import pairwise_kernels\n",
    "## Create the kernel matrix\n",
    "Kxx = pairwise_kernels(X_train, metric=\"rbf\", gamma=theta_)"
   ]
  },
  {
   "cell_type": "code",
   "execution_count": null,
   "metadata": {
    "collapsed": false
   },
   "outputs": [],
   "source": [
    "Kxz = pairwise_kernels(X_train, X_test, metric=\"rbf\", gamma=theta_)\n",
    "delta_ = 1 + Kxz.sum(axis=0, keepdims=True) - Kxx.sum(axis=1, keepdims=True) - Kxz\n",
    "pvalue_ = (np.sum(delta_ >= 0, axis=0) + 1) / (Kxx.shape[0] + 1.0)\n",
    "# delta_ = (Kxx.sum(axis=1, keepdims=True) + Kxz) - (1 + Kxz.sum(axis=0, keepdims=True))\n",
    "# pvalue_ = np.mean(delta_ >= 0, axis=0)"
   ]
  },
  {
   "cell_type": "code",
   "execution_count": null,
   "metadata": {
    "collapsed": false
   },
   "outputs": [],
   "source": [
    "np.mean(pvalue_ <= 0.25)"
   ]
  },
  {
   "cell_type": "code",
   "execution_count": null,
   "metadata": {
    "collapsed": false
   },
   "outputs": [],
   "source": [
    "plt.scatter(X_train[:, 0], X_train[:, 1], c=\"black\", alpha=0.5, lw=0,)\n",
    "plt.scatter(X_test[:, 0], X_test[:, 1], s=50*(1-pvalue_), lw=0)\n",
    "plt.scatter(X_test[pvalue_ < 0.05, 0], X_test[pvalue_ < 0.05, 1], s=100, c=\"m\", lw=0)"
   ]
  },
  {
   "cell_type": "code",
   "execution_count": null,
   "metadata": {
    "collapsed": false
   },
   "outputs": [],
   "source": [
    "plt.imshow(Kxx, interpolation=\"nearest\")"
   ]
  },
  {
   "cell_type": "markdown",
   "metadata": {},
   "source": [
    "## CKDE vs. ocSVM"
   ]
  },
  {
   "cell_type": "code",
   "execution_count": null,
   "metadata": {
    "collapsed": true
   },
   "outputs": [],
   "source": [
    "X_train, X_test = train_test_split(X, test_size=0.25,  random_state=random_state)"
   ]
  },
  {
   "cell_type": "code",
   "execution_count": null,
   "metadata": {
    "collapsed": true
   },
   "outputs": [],
   "source": [
    "theta_, kernel, alpha = 1.0, \"rbf\", 0.250\n",
    "kwargs = dict(gamma=theta_)\n",
    "\n",
    "Kxx = pairwise_kernels(X_train, metric=kernel, **kwargs)\n",
    "Kxz = pairwise_kernels(X_train, X_test, metric=kernel, **kwargs)\n",
    "delta_ = 1 + Kxz.sum(axis=0, keepdims=True) - Kxx.sum(axis=1, keepdims=True) - Kxz\n",
    "pvalue_ = (np.sum(delta_ >= 0, axis=0) + 1) / (Kxx.shape[0] + 1.0)"
   ]
  },
  {
   "cell_type": "code",
   "execution_count": null,
   "metadata": {
    "collapsed": false
   },
   "outputs": [],
   "source": [
    "from sklearn import svm\n",
    "clf = svm.OneClassSVM(nu=alpha, kernel=kernel, gamma=theta_).fit(X_train)\n",
    "ocsvm = clf.predict(X_test) # decision_function(X_test)[:,0]"
   ]
  },
  {
   "cell_type": "code",
   "execution_count": null,
   "metadata": {
    "collapsed": false
   },
   "outputs": [],
   "source": [
    "np.mean(ocsvm>0), np.mean(pvalue_<alpha)"
   ]
  },
  {
   "cell_type": "code",
   "execution_count": null,
   "metadata": {
    "collapsed": false
   },
   "outputs": [],
   "source": [
    "fig = plt.figure(figsize=(16, 8))\n",
    "ax = fig.add_subplot(121)\n",
    "ax.scatter(X_test[:,0], X_test[:,1], c=pvalue_>alpha, cmap=plt.cm.coolwarm_r, lw=0)\n",
    "ax.set_title(\"$\\\\alpha=%g$ Conformal KDE (%s, $\\\\theta=%g$)\"%(alpha, kernel, theta_,))\n",
    "\n",
    "ax = fig.add_subplot(122)\n",
    "ax.scatter(X_test[:,0], X_test[:,1], c=ocsvm, cmap=plt.cm.coolwarm_r, lw=0)\n",
    "ax.set_title(\"ocSVM (%s, $\\\\theta=%g, \\\\nu=%g$)\"%(kernel, theta_, alpha,))"
   ]
  },
  {
   "cell_type": "markdown",
   "metadata": {},
   "source": [
    "## Contour plot"
   ]
  },
  {
   "cell_type": "code",
   "execution_count": null,
   "metadata": {
    "collapsed": false
   },
   "outputs": [],
   "source": [
    "mesh_ = np.meshgrid(*(2*[np.linspace(-10, 10, num=151)]))\n",
    "X_test_ = np.stack(mesh_, axis=-1).reshape((-1, 2))"
   ]
  },
  {
   "cell_type": "code",
   "execution_count": null,
   "metadata": {
    "collapsed": false
   },
   "outputs": [],
   "source": [
    "theta_, kernel, alpha = 2.0, \"rbf\", 0.5\n",
    "kwargs = dict(gamma=theta_)\n",
    "\n",
    "Kxx = pairwise_kernels(X_train, metric=kernel, **kwargs)\n",
    "Kxz = pairwise_kernels(X_train, X_test_, metric=kernel, **kwargs)\n",
    "delta_ = 1 + Kxz.sum(axis=0, keepdims=True) - Kxx.sum(axis=1, keepdims=True) - Kxz\n",
    "pvalue_ = (np.sum(delta_ >= 0, axis=0) + 1) / (Kxx.shape[0] + 1.0)"
   ]
  },
  {
   "cell_type": "code",
   "execution_count": null,
   "metadata": {
    "collapsed": false
   },
   "outputs": [],
   "source": [
    "from sklearn import svm\n",
    "clf = svm.OneClassSVM(nu=alpha, kernel=kernel, gamma=theta_).fit(X_train)\n",
    "ocsvm = np.exp(np.minimum(clf.decision_function(X_test_), 0)).reshape(mesh_[0].shape)"
   ]
  },
  {
   "cell_type": "code",
   "execution_count": null,
   "metadata": {
    "collapsed": false
   },
   "outputs": [],
   "source": [
    "eta_ocsvm = np.zeros((X_train.shape[0], 1), dtype=float)\n",
    "eta_ocsvm[clf.support_, 0] = clf.dual_coef_"
   ]
  },
  {
   "cell_type": "code",
   "execution_count": null,
   "metadata": {
    "collapsed": false
   },
   "outputs": [],
   "source": [
    "svmcm = np.apply_along_axis(lambda z, Z: np.mean(Z>=z[np.newaxis], axis=0),\n",
    "                            1, eta_ocsvm, eta_ocsvm)\n",
    "plt.scatter(X_train[:, 0], X_train[:, 1], lw=0,\n",
    "            c=np.array([\"b\",\"r\"])[(svmcm[:,0]<alpha).astype(int)])"
   ]
  },
  {
   "cell_type": "code",
   "execution_count": null,
   "metadata": {
    "collapsed": false
   },
   "outputs": [],
   "source": [
    "ocsvm.shape"
   ]
  },
  {
   "cell_type": "code",
   "execution_count": null,
   "metadata": {
    "collapsed": false
   },
   "outputs": [],
   "source": [
    "plt.hist(np.exp(ocsvm.reshape(-1)))"
   ]
  },
  {
   "cell_type": "code",
   "execution_count": null,
   "metadata": {
    "collapsed": false
   },
   "outputs": [],
   "source": [
    "fig = plt.figure(figsize=(6, 6))\n",
    "ax = fig.add_subplot(111)\n",
    "ax.contourf(mesh_[0], mesh_[1], ocsvm.reshape(mesh_[0].shape),\n",
    "            levels=np.linspace(ocsvm.min(), ocsvm.max(), num=51), cmap=plt.cm.coolwarm_r)\n",
    "# ax.scatter(X_test_[:, 0], X_test_[:, 1], c=\"m\", s=20*(ocsvm < 0), lw=0)\n",
    "ax.scatter(X_train[:, 0], X_train[:, 1], c=\"k\", s=5, lw=0)\n",
    "ax.set_title(\"ocSVM (%s, $\\\\theta=%g, \\\\nu=%g$)\"%(kernel, theta_, alpha,))\n",
    "ax.set_ylabel(\"$x_2$\")\n",
    "ax.set_xlabel(\"$x_1$\")\n",
    "fig.savefig(\"../report/defense/ocSVM.pdf\", dpi=120)\n",
    "plt.close()"
   ]
  },
  {
   "cell_type": "code",
   "execution_count": null,
   "metadata": {
    "collapsed": false
   },
   "outputs": [],
   "source": [
    "fig = plt.figure(figsize=(6, 6))\n",
    "ax = fig.add_subplot(111)\n",
    "ax.contourf(mesh_[0], mesh_[1], pvalue_.reshape(mesh_[0].shape),\n",
    "            levels=np.linspace(0, 1, num=51), cmap=plt.cm.coolwarm_r)\n",
    "# ax.scatter(X_test_[:, 0], X_test_[:, 1], c=\"m\", s=20*(pvalue_ < alpha), lw=0)\n",
    "ax.scatter(X_train[:, 0], X_train[:, 1], c=\"k\", s=5, lw=0)\n",
    "ax.set_title(\"Conformal KDE (%s, $\\\\theta=%g$)\"%(kernel, theta_,))\n",
    "fig.savefig(\"../report/defense/ckde.pdf\", dpi=120)\n",
    "plt.close()"
   ]
  },
  {
   "cell_type": "code",
   "execution_count": null,
   "metadata": {
    "collapsed": true
   },
   "outputs": [],
   "source": [
    "theta_, kernel, alpha = 2.0, \"laplacian\", 0.5\n",
    "kwargs = dict(gamma=theta_)\n",
    "\n",
    "Kxx = pairwise_kernels(X_train, metric=kernel, **kwargs)\n",
    "Kxz = pairwise_kernels(X_train, X_test_, metric=kernel, **kwargs)\n",
    "delta_ = 1 + Kxz.sum(axis=0, keepdims=True) - Kxx.sum(axis=1, keepdims=True) - Kxz\n",
    "pvalue_ = (np.sum(delta_ >= 0, axis=0) + 1) / (Kxx.shape[0] + 1.0)\n",
    "fig = plt.figure(figsize=(6, 6))\n",
    "ax = fig.add_subplot(111)\n",
    "ax.contourf(mesh_[0], mesh_[1], pvalue_.reshape(mesh_[0].shape),\n",
    "            levels=np.linspace(0, 1, num=51), cmap=plt.cm.coolwarm_r)\n",
    "# ax.scatter(X_test_[:, 0], X_test_[:, 1], c=\"m\", s=20*(pvalue_ < alpha), lw=0)\n",
    "ax.scatter(X_train[:, 0], X_train[:, 1], c=\"k\", s=5, lw=0)\n",
    "ax.set_title(\"Conformal KDE (%s, $\\\\theta=%g$)\"%(kernel, theta_,))\n",
    "fig.savefig(\"../report/defense/ckde-lap.pdf\", dpi=120)\n",
    "plt.close()"
   ]
  },
  {
   "cell_type": "markdown",
   "metadata": {
    "collapsed": true
   },
   "source": [
    "## Kenrel embeddings of timeseries"
   ]
  },
  {
   "cell_type": "code",
   "execution_count": null,
   "metadata": {
    "collapsed": true
   },
   "outputs": [],
   "source": []
  }
 ],
 "metadata": {
  "kernelspec": {
   "display_name": "Python 2",
   "language": "python",
   "name": "python2"
  },
  "language_info": {
   "codemirror_mode": {
    "name": "ipython",
    "version": 2
   },
   "file_extension": ".py",
   "mimetype": "text/x-python",
   "name": "python",
   "nbconvert_exporter": "python",
   "pygments_lexer": "ipython2",
   "version": "2.7.10"
  }
 },
 "nbformat": 4,
 "nbformat_minor": 0
}
