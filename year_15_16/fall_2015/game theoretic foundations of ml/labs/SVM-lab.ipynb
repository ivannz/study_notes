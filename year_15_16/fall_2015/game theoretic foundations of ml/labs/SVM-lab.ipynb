{
 "cells": [
  {
   "cell_type": "markdown",
   "metadata": {},
   "source": [
    "## Применение машины опорных векторов к выявлению фальшивых купюр"
   ]
  },
  {
   "cell_type": "markdown",
   "metadata": {},
   "source": [
    "Подключим необходимые библиотеки."
   ]
  },
  {
   "cell_type": "code",
   "execution_count": null,
   "metadata": {
    "collapsed": true
   },
   "outputs": [],
   "source": [
    "import numpy as np, pandas as pd\n",
    "import matplotlib.pyplot as plt\n",
    "from sklearn import *\n",
    "%matplotlib inline\n",
    "\n",
    "random_state = np.random.RandomState( None )"
   ]
  },
  {
   "cell_type": "code",
   "execution_count": null,
   "metadata": {
    "collapsed": false
   },
   "outputs": [],
   "source": [
    "def collect_result( grid_, names = [ ] ) :\n",
    "    df = pd.DataFrame( { \"2-Отклонение\" : [ np.std(v_[ 2 ] ) for v_ in grid_.grid_scores_ ],\n",
    "                           \"1-Точность\" : [ v_[ 1 ] for v_ in grid_.grid_scores_ ], },\n",
    "                     index = pd.MultiIndex.from_tuples(\n",
    "                        [ v_[ 0 ].values() for v_ in grid_.grid_scores_ ],\n",
    "                        names = names ) )\n",
    "    df.sort_index( )\n",
    "    return df"
   ]
  },
  {
   "cell_type": "markdown",
   "metadata": {},
   "source": [
    "Данные были взяты из репозитория UCI Machine Learning Repository по адресу http://archive.ics.uci.edu/ml/datasets/banknote+authentication.\n",
    "\n",
    "Выборка сконструирована при помощи вейвлет преобразования избражений фальшивых и аутентичных банкнот в градациях серого."
   ]
  },
  {
   "cell_type": "code",
   "execution_count": null,
   "metadata": {
    "collapsed": false
   },
   "outputs": [],
   "source": [
    "df = pd.read_csv( 'data_banknote_authentication.txt', sep = \",\", decimal = \".\", header = None,\n",
    "                  names = [ \"variance\", \"skewness\", \"curtosis\", \"entropy\", \"class\" ] )\n",
    "\n",
    "y = df.xs( \"class\", axis = 1 )\n",
    "X = df.drop( \"class\", axis = 1 )"
   ]
  },
  {
   "cell_type": "markdown",
   "metadata": {},
   "source": [
    "В исследуемых данных мы имеем следующее число точек:"
   ]
  },
  {
   "cell_type": "code",
   "execution_count": null,
   "metadata": {
    "collapsed": false
   },
   "outputs": [],
   "source": [
    "print len( X )"
   ]
  },
  {
   "cell_type": "markdown",
   "metadata": {},
   "source": [
    "Загруженные данные разбиваем на две выборки: обучающую ($\\text{*_train}$) и тестовую. которая будет **не** будет использоваться при обучении ($\\text{*_test}$).\n",
    "\n",
    "Разобьём выборку на обучающую и тестовую в соотношении 2:3."
   ]
  },
  {
   "cell_type": "code",
   "execution_count": null,
   "metadata": {
    "collapsed": true
   },
   "outputs": [],
   "source": [
    "X_train, X_test, y_train, y_test = cross_validation.train_test_split( X, y, test_size = 0.60,\n",
    "                                                                      random_state = random_state )"
   ]
  },
  {
   "cell_type": "markdown",
   "metadata": {},
   "source": [
    "В обучающей выборке имеем столько наблюдений:"
   ]
  },
  {
   "cell_type": "code",
   "execution_count": null,
   "metadata": {
    "collapsed": false
   },
   "outputs": [],
   "source": [
    "print len( X_train )"
   ]
  },
  {
   "cell_type": "markdown",
   "metadata": {},
   "source": [
    "Рассмотрим SVM в линейно неразделимом случае с $L^1$ нормой на зазоры $(\\xi_i)_{i=1}^n$:\n",
    "$$ \\frac{1}{2} \\|\\beta\\|^2 + C \\sum_{i=1}^n \\xi_i \\to \\min_{\\beta, \\beta_0, (\\xi_i)_{i=1}^n} \\,, $$\n",
    "при условиях: для любого $i=1,\\ldots,n$ требуется $\\xi_i \\geq 0$  и \n",
    "$$ \\bigl( \\beta' \\phi(x_i) + \\beta_0 \\bigr) y_i \\geq 1 - \\xi_i \\,.$$\n"
   ]
  },
  {
   "cell_type": "code",
   "execution_count": null,
   "metadata": {
    "collapsed": true
   },
   "outputs": [],
   "source": [
    "svm_clf_ = svm.SVC( probability = True, max_iter = 100000 )"
   ]
  },
  {
   "cell_type": "markdown",
   "metadata": {},
   "source": [
    "Параметры вида ядра (и соответственно отображений признаков $\\phi:\\mathcal{X}\\to\\mathcal{H}$) и параметр регуляризации $C$ будем искать с помощью переборного поиска на сетке с $5$-fold кроссвалидацией на тренировочной выборке $\\text{X_train}$."
   ]
  },
  {
   "cell_type": "markdown",
   "metadata": {},
   "source": [
    "Рассмотрим три ядра: гауссовское\n",
    "$$ K( x, y ) = \\text{exp}\\bigl\\{ -\\frac{1}{2\\gamma^2} \\|x-y\\|^2 \\bigr\\} \\,,$$"
   ]
  },
  {
   "cell_type": "code",
   "execution_count": null,
   "metadata": {
    "collapsed": false
   },
   "outputs": [],
   "source": [
    "## Вид ядра : Гауссовское ядро\n",
    "grid_rbf_ = grid_search.GridSearchCV( svm_clf_, param_grid = {\n",
    "## Параметр регуляризции: C = 0.0001, 0.001, 0.01, 0.1, 1, 10.\n",
    "        \"C\" : np.logspace( -4, 1, num = 6 ),\n",
    "        \"kernel\" : [ \"rbf\" ],\n",
    "## Параметр \"концентрации\" Гауссовского ядра\n",
    "        \"gamma\" : np.logspace( -2, 2, num = 10 ),\n",
    "    }, cv = 5, n_jobs = -1, verbose = 0 ).fit( X_train, y_train )\n",
    "df_rbf_ = collect_result( grid_rbf_, names = [ \"Ядро\", \"C\", \"Параметр\" ] )"
   ]
  },
  {
   "cell_type": "markdown",
   "metadata": {},
   "source": [
    "полимониальное\n",
    "$$ K( x, y ) = \\bigl( 1 + \\langle x, y\\rangle\\bigr)^p \\,, $$"
   ]
  },
  {
   "cell_type": "code",
   "execution_count": null,
   "metadata": {
    "collapsed": false
   },
   "outputs": [],
   "source": [
    "## Вид ядра : Полиномиальное ядро\n",
    "grid_poly_ = grid_search.GridSearchCV( svm.SVC( probability = True, max_iter = 20000, kernel = \"poly\" ), param_grid = {\n",
    "## Параметр регуляризции: C = 0.0001, 0.001, 0.01, 0.1, 1, 10.\n",
    "        \"C\" : np.logspace( -4, 1, num = 6 ),\n",
    "        \"kernel\" : [ \"poly\" ], \n",
    "## Степень полиномиального ядра\n",
    "        \"degree\" : [ 2, 3, 5, 7 ],\n",
    "    }, cv = 5, n_jobs = -1, verbose = 0 ).fit( X_train, y_train )\n",
    "df_poly_ = collect_result( grid_poly_, names = [ \"Ядро\", \"C\", \"Параметр\" ] )"
   ]
  },
  {
   "cell_type": "markdown",
   "metadata": {},
   "source": [
    "и линейное (в $\\mathbb{R}^d$)\n",
    "$$ K( x, y ) = \\langle x, y\\rangle \\,,$$"
   ]
  },
  {
   "cell_type": "code",
   "execution_count": null,
   "metadata": {
    "collapsed": false,
    "scrolled": true
   },
   "outputs": [],
   "source": [
    "## Вид ядра : линейное ядро\n",
    "grid_linear_ = grid_search.GridSearchCV( svm_clf_, param_grid = {\n",
    "## Параметр регуляризции: C = 0.0001, 0.001, 0.01, 0.1, 1, 10.\n",
    "        \"C\" : np.logspace( -4, 1, num = 6 ),\n",
    "        \"kernel\" : [ \"linear\" ],\n",
    "        \"degree\" : [ 0 ]\n",
    "    }, cv = 5, n_jobs = -1, verbose = 0 ).fit( X_train, y_train )\n",
    "df_linear_ = collect_result( grid_linear_, names = [ \"Ядро\", \"C\", \"Параметр\" ] )"
   ]
  },
  {
   "cell_type": "markdown",
   "metadata": {},
   "source": [
    "Результаты поиска приведены ниже:"
   ]
  },
  {
   "cell_type": "code",
   "execution_count": null,
   "metadata": {
    "collapsed": false
   },
   "outputs": [],
   "source": [
    "pd.concat( [ df_linear_, df_poly_, df_rbf_ ], axis = 0 ).sort_index( )"
   ]
  },
  {
   "cell_type": "markdown",
   "metadata": {},
   "source": [
    "Посмотрим точность лучших моделей в каждом классе ядер на тестовтй выборке.\n",
    "\n",
    "Линейное ядро"
   ]
  },
  {
   "cell_type": "code",
   "execution_count": null,
   "metadata": {
    "collapsed": false
   },
   "outputs": [],
   "source": [
    "print grid_linear_.best_estimator_\n",
    "print \"Accuracy: %0.3f%%\" % ( grid_linear_.best_estimator_.score( X_test, y_test ) * 100, )"
   ]
  },
  {
   "cell_type": "markdown",
   "metadata": {},
   "source": [
    "Гауссовское ядро"
   ]
  },
  {
   "cell_type": "code",
   "execution_count": null,
   "metadata": {
    "collapsed": false
   },
   "outputs": [],
   "source": [
    "print grid_rbf_.best_estimator_\n",
    "print \"Accuracy: %0.3f%%\" % ( grid_rbf_.best_estimator_.score( X_test, y_test ) * 100, )"
   ]
  },
  {
   "cell_type": "markdown",
   "metadata": {},
   "source": [
    "Полимониальное ядро"
   ]
  },
  {
   "cell_type": "code",
   "execution_count": null,
   "metadata": {
    "collapsed": false
   },
   "outputs": [],
   "source": [
    "print grid_poly_.best_estimator_\n",
    "print \"Accuracy: %0.3f%%\" % ( grid_poly_.best_estimator_.score( X_test, y_test ) * 100, )"
   ]
  },
  {
   "cell_type": "markdown",
   "metadata": {},
   "source": [
    "Построим ROC-AUC кривую для лучшей моделей."
   ]
  },
  {
   "cell_type": "code",
   "execution_count": null,
   "metadata": {
    "collapsed": true
   },
   "outputs": [],
   "source": [
    "result_ = { name_: metrics.roc_curve( y_test, estimator_.predict_proba( X_test )[:,1] )\n",
    "            for name_, estimator_ in {\n",
    "                                \"Linear\": grid_linear_.best_estimator_,\n",
    "                                \"Polynomial\": grid_poly_.best_estimator_,\n",
    "                                \"RBF\": grid_rbf_.best_estimator_ }.iteritems( ) }"
   ]
  },
  {
   "cell_type": "code",
   "execution_count": null,
   "metadata": {
    "collapsed": false
   },
   "outputs": [],
   "source": [
    "fig = plt.figure( figsize = ( 16, 9 ) )\n",
    "ax = fig.add_subplot( 111 )\n",
    "ax.set_ylim( -0.1, 1.1 ) ; ax.set_xlim( -0.1, 1.1 )\n",
    "\n",
    "ax.set_xlabel( \"FPR\" ) ; ax.set_ylabel( u\"TPR\" )\n",
    "ax.set_title( u\"ROC-AUC\" )\n",
    "\n",
    "for name_, value_ in result_.iteritems( ) :\n",
    "    fpr, tpr, _ = value_\n",
    "    ax.plot( fpr, tpr, lw=2, label = name_ )\n",
    "\n",
    "ax.legend( loc = \"lower right\" )"
   ]
  },
  {
   "cell_type": "markdown",
   "metadata": {
    "collapsed": true
   },
   "source": [
    "Невероятный результат: на тестовой выборке достигается точность $\\geq 99\\%$. И SVM порождает почти идеальный классификатор! Так уж леги данные."
   ]
  }
 ],
 "metadata": {
  "kernelspec": {
   "display_name": "Python 2",
   "language": "python",
   "name": "python2"
  },
  "language_info": {
   "codemirror_mode": {
    "name": "ipython",
    "version": 2
   },
   "file_extension": ".py",
   "mimetype": "text/x-python",
   "name": "python",
   "nbconvert_exporter": "python",
   "pygments_lexer": "ipython2",
   "version": "2.7.10"
  }
 },
 "nbformat": 4,
 "nbformat_minor": 0
}
